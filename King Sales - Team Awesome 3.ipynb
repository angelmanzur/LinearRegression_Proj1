{
 "cells": [
  {
   "cell_type": "code",
   "execution_count": 401,
   "metadata": {},
   "outputs": [],
   "source": [
    "import pandas as pd\n",
    "import numpy as np\n",
    "import matplotlib.pyplot as plt\n",
    "import seaborn as sns\n",
    "%matplotlib inline\n",
    "import statsmodels.api as sm\n",
    "from datetime import datetime, timedelta\n",
    "\n",
    "from sklearn.model_selection import train_test_split, cross_val_score\n",
    "from sklearn.metrics import mean_squared_error\n",
    "from sklearn.linear_model import LinearRegression \n",
    "from sklearn.preprocessing import StandardScaler"
   ]
  },
  {
   "cell_type": "code",
   "execution_count": 402,
   "metadata": {},
   "outputs": [],
   "source": [
    "def r_adjusted(r_squared, X, y):\n",
    "    return 1 - (1-r_squared)*(len(y)-1)/(len(y)-X.shape[1]-1)"
   ]
  },
  {
   "cell_type": "markdown",
   "metadata": {},
   "source": [
    "# Initial Inspection"
   ]
  },
  {
   "cell_type": "code",
   "execution_count": 403,
   "metadata": {},
   "outputs": [],
   "source": [
    "# Read in the csv file which contains data\n",
    "df = pd.read_csv('kc_house_data.csv')"
   ]
  },
  {
   "cell_type": "code",
   "execution_count": 404,
   "metadata": {},
   "outputs": [
    {
     "data": {
      "text/html": [
       "<div>\n",
       "<style scoped>\n",
       "    .dataframe tbody tr th:only-of-type {\n",
       "        vertical-align: middle;\n",
       "    }\n",
       "\n",
       "    .dataframe tbody tr th {\n",
       "        vertical-align: top;\n",
       "    }\n",
       "\n",
       "    .dataframe thead th {\n",
       "        text-align: right;\n",
       "    }\n",
       "</style>\n",
       "<table border=\"1\" class=\"dataframe\">\n",
       "  <thead>\n",
       "    <tr style=\"text-align: right;\">\n",
       "      <th></th>\n",
       "      <th>id</th>\n",
       "      <th>date</th>\n",
       "      <th>price</th>\n",
       "      <th>bedrooms</th>\n",
       "      <th>bathrooms</th>\n",
       "      <th>sqft_living</th>\n",
       "      <th>sqft_lot</th>\n",
       "      <th>floors</th>\n",
       "      <th>waterfront</th>\n",
       "      <th>view</th>\n",
       "      <th>...</th>\n",
       "      <th>grade</th>\n",
       "      <th>sqft_above</th>\n",
       "      <th>sqft_basement</th>\n",
       "      <th>yr_built</th>\n",
       "      <th>yr_renovated</th>\n",
       "      <th>zipcode</th>\n",
       "      <th>lat</th>\n",
       "      <th>long</th>\n",
       "      <th>sqft_living15</th>\n",
       "      <th>sqft_lot15</th>\n",
       "    </tr>\n",
       "  </thead>\n",
       "  <tbody>\n",
       "    <tr>\n",
       "      <th>0</th>\n",
       "      <td>7129300520</td>\n",
       "      <td>10/13/2014</td>\n",
       "      <td>221900.0</td>\n",
       "      <td>3</td>\n",
       "      <td>1.00</td>\n",
       "      <td>1180</td>\n",
       "      <td>5650</td>\n",
       "      <td>1.0</td>\n",
       "      <td>NaN</td>\n",
       "      <td>0.0</td>\n",
       "      <td>...</td>\n",
       "      <td>7</td>\n",
       "      <td>1180</td>\n",
       "      <td>0.0</td>\n",
       "      <td>1955</td>\n",
       "      <td>0.0</td>\n",
       "      <td>98178</td>\n",
       "      <td>47.5112</td>\n",
       "      <td>-122.257</td>\n",
       "      <td>1340</td>\n",
       "      <td>5650</td>\n",
       "    </tr>\n",
       "    <tr>\n",
       "      <th>1</th>\n",
       "      <td>6414100192</td>\n",
       "      <td>12/9/2014</td>\n",
       "      <td>538000.0</td>\n",
       "      <td>3</td>\n",
       "      <td>2.25</td>\n",
       "      <td>2570</td>\n",
       "      <td>7242</td>\n",
       "      <td>2.0</td>\n",
       "      <td>0.0</td>\n",
       "      <td>0.0</td>\n",
       "      <td>...</td>\n",
       "      <td>7</td>\n",
       "      <td>2170</td>\n",
       "      <td>400.0</td>\n",
       "      <td>1951</td>\n",
       "      <td>1991.0</td>\n",
       "      <td>98125</td>\n",
       "      <td>47.7210</td>\n",
       "      <td>-122.319</td>\n",
       "      <td>1690</td>\n",
       "      <td>7639</td>\n",
       "    </tr>\n",
       "    <tr>\n",
       "      <th>2</th>\n",
       "      <td>5631500400</td>\n",
       "      <td>2/25/2015</td>\n",
       "      <td>180000.0</td>\n",
       "      <td>2</td>\n",
       "      <td>1.00</td>\n",
       "      <td>770</td>\n",
       "      <td>10000</td>\n",
       "      <td>1.0</td>\n",
       "      <td>0.0</td>\n",
       "      <td>0.0</td>\n",
       "      <td>...</td>\n",
       "      <td>6</td>\n",
       "      <td>770</td>\n",
       "      <td>0.0</td>\n",
       "      <td>1933</td>\n",
       "      <td>NaN</td>\n",
       "      <td>98028</td>\n",
       "      <td>47.7379</td>\n",
       "      <td>-122.233</td>\n",
       "      <td>2720</td>\n",
       "      <td>8062</td>\n",
       "    </tr>\n",
       "    <tr>\n",
       "      <th>3</th>\n",
       "      <td>2487200875</td>\n",
       "      <td>12/9/2014</td>\n",
       "      <td>604000.0</td>\n",
       "      <td>4</td>\n",
       "      <td>3.00</td>\n",
       "      <td>1960</td>\n",
       "      <td>5000</td>\n",
       "      <td>1.0</td>\n",
       "      <td>0.0</td>\n",
       "      <td>0.0</td>\n",
       "      <td>...</td>\n",
       "      <td>7</td>\n",
       "      <td>1050</td>\n",
       "      <td>910.0</td>\n",
       "      <td>1965</td>\n",
       "      <td>0.0</td>\n",
       "      <td>98136</td>\n",
       "      <td>47.5208</td>\n",
       "      <td>-122.393</td>\n",
       "      <td>1360</td>\n",
       "      <td>5000</td>\n",
       "    </tr>\n",
       "    <tr>\n",
       "      <th>4</th>\n",
       "      <td>1954400510</td>\n",
       "      <td>2/18/2015</td>\n",
       "      <td>510000.0</td>\n",
       "      <td>3</td>\n",
       "      <td>2.00</td>\n",
       "      <td>1680</td>\n",
       "      <td>8080</td>\n",
       "      <td>1.0</td>\n",
       "      <td>0.0</td>\n",
       "      <td>0.0</td>\n",
       "      <td>...</td>\n",
       "      <td>8</td>\n",
       "      <td>1680</td>\n",
       "      <td>0.0</td>\n",
       "      <td>1987</td>\n",
       "      <td>0.0</td>\n",
       "      <td>98074</td>\n",
       "      <td>47.6168</td>\n",
       "      <td>-122.045</td>\n",
       "      <td>1800</td>\n",
       "      <td>7503</td>\n",
       "    </tr>\n",
       "  </tbody>\n",
       "</table>\n",
       "<p>5 rows × 21 columns</p>\n",
       "</div>"
      ],
      "text/plain": [
       "           id        date     price  bedrooms  bathrooms  sqft_living  \\\n",
       "0  7129300520  10/13/2014  221900.0         3       1.00         1180   \n",
       "1  6414100192   12/9/2014  538000.0         3       2.25         2570   \n",
       "2  5631500400   2/25/2015  180000.0         2       1.00          770   \n",
       "3  2487200875   12/9/2014  604000.0         4       3.00         1960   \n",
       "4  1954400510   2/18/2015  510000.0         3       2.00         1680   \n",
       "\n",
       "   sqft_lot  floors  waterfront  view  ...  grade  sqft_above  sqft_basement  \\\n",
       "0      5650     1.0         NaN   0.0  ...      7        1180            0.0   \n",
       "1      7242     2.0         0.0   0.0  ...      7        2170          400.0   \n",
       "2     10000     1.0         0.0   0.0  ...      6         770            0.0   \n",
       "3      5000     1.0         0.0   0.0  ...      7        1050          910.0   \n",
       "4      8080     1.0         0.0   0.0  ...      8        1680            0.0   \n",
       "\n",
       "  yr_built  yr_renovated  zipcode      lat     long  sqft_living15  sqft_lot15  \n",
       "0     1955           0.0    98178  47.5112 -122.257           1340        5650  \n",
       "1     1951        1991.0    98125  47.7210 -122.319           1690        7639  \n",
       "2     1933           NaN    98028  47.7379 -122.233           2720        8062  \n",
       "3     1965           0.0    98136  47.5208 -122.393           1360        5000  \n",
       "4     1987           0.0    98074  47.6168 -122.045           1800        7503  \n",
       "\n",
       "[5 rows x 21 columns]"
      ]
     },
     "execution_count": 404,
     "metadata": {},
     "output_type": "execute_result"
    }
   ],
   "source": [
    "# Let's take a look at the first few columns\n",
    "df.head()"
   ]
  },
  {
   "cell_type": "code",
   "execution_count": 405,
   "metadata": {},
   "outputs": [
    {
     "name": "stdout",
     "output_type": "stream",
     "text": [
      "id                 int64\n",
      "date              object\n",
      "price            float64\n",
      "bedrooms           int64\n",
      "bathrooms        float64\n",
      "sqft_living        int64\n",
      "sqft_lot           int64\n",
      "floors           float64\n",
      "waterfront       float64\n",
      "view             float64\n",
      "condition          int64\n",
      "grade              int64\n",
      "sqft_above         int64\n",
      "sqft_basement     object\n",
      "yr_built           int64\n",
      "yr_renovated     float64\n",
      "zipcode            int64\n",
      "lat              float64\n",
      "long             float64\n",
      "sqft_living15      int64\n",
      "sqft_lot15         int64\n",
      "dtype: object\n",
      "Dataframe shape (21597, 21)\n"
     ]
    }
   ],
   "source": [
    "# Let's look at the data types. Note that date and sqft_basement are string object.\n",
    "print(df.dtypes)\n",
    "print('Dataframe shape',df.shape)"
   ]
  },
  {
   "cell_type": "code",
   "execution_count": 406,
   "metadata": {},
   "outputs": [
    {
     "name": "stdout",
     "output_type": "stream",
     "text": [
      "Found 2376 \t NAs in column \twaterfront (11.00% of the data)\n",
      "Found 63 \t NAs in column \tview (0.29% of the data)\n",
      "Found 3842 \t NAs in column \tyr_renovated (17.79% of the data)\n"
     ]
    }
   ],
   "source": [
    "'''\n",
    "Get the number of NAs for a DataFrame, and the percentage of NAs in the data\n",
    "'''\n",
    "\n",
    "def print_NAs(dataframe):\n",
    "    for column in dataframe:\n",
    "        num_nas = dataframe[column].isna().sum()\n",
    "        if num_nas > 0:\n",
    "            print('Found {0} \\t NAs in column \\t{1} ({2:0.2f}% of the data)'.format(num_nas, column, 100.*num_nas/len(df)))\n",
    "\n",
    "print_NAs(df)"
   ]
  },
  {
   "cell_type": "markdown",
   "metadata": {},
   "source": [
    "# Plot the waterfront locations on a graph\n",
    "Not shown here because of library issues but include in powerpoint"
   ]
  },
  {
   "cell_type": "code",
   "execution_count": 407,
   "metadata": {},
   "outputs": [],
   "source": [
    "# From looking at the map, we found some waterfont properties labeled as NAs that had a water front view.\n",
    "# Correctly assigning the NAs, requires a deeper analysis. \n",
    "# Se decided to drop this column\n",
    "#df = df.drop(columns=[\"waterfront\"])"
   ]
  },
  {
   "cell_type": "code",
   "execution_count": 408,
   "metadata": {},
   "outputs": [
    {
     "name": "stdout",
     "output_type": "stream",
     "text": [
      "0.0\n"
     ]
    }
   ],
   "source": [
    "# \"view\" column has empty values, will fill with mode\n",
    "view_mode = df['view'].mode()\n",
    "print(view_mode[0])\n",
    "df['view'].fillna(value=view_mode[0],inplace=True)"
   ]
  },
  {
   "cell_type": "code",
   "execution_count": 409,
   "metadata": {},
   "outputs": [],
   "source": [
    "# year renovated is ~18% of the data, \n",
    "#Convert year renovated to renovated or not variable\n",
    "df['is_renovated'] = df['yr_renovated'].apply(lambda x: 1 if x>0 else 0)"
   ]
  },
  {
   "cell_type": "code",
   "execution_count": 410,
   "metadata": {},
   "outputs": [
    {
     "data": {
      "text/plain": [
       "0       0.0\n",
       "1     400.0\n",
       "2       0.0\n",
       "3     910.0\n",
       "4       0.0\n",
       "5    1530.0\n",
       "6         ?\n",
       "Name: sqft_basement, dtype: object"
      ]
     },
     "execution_count": 410,
     "metadata": {},
     "output_type": "execute_result"
    }
   ],
   "source": [
    "#sqft basement is a string and some values are missing '?'\n",
    "df['sqft_basement'].head(7) "
   ]
  },
  {
   "cell_type": "code",
   "execution_count": 411,
   "metadata": {},
   "outputs": [],
   "source": [
    "# the basement sqft can be calculated as the difference \n",
    "# between the living area and the above area\n",
    "df['sqft_basement'] = df['sqft_living'] - df['sqft_above']\n",
    "#"
   ]
  },
  {
   "cell_type": "code",
   "execution_count": 412,
   "metadata": {},
   "outputs": [],
   "source": [
    "# but since sqft_basement is dependent on two other variables, lets remove it and\n",
    "# let's convert it into a has basement or not\n",
    "df['has_basement'] = df['sqft_basement'].apply(lambda x: 1 if x>0 else 0)\n"
   ]
  },
  {
   "cell_type": "code",
   "execution_count": 413,
   "metadata": {},
   "outputs": [],
   "source": [
    "# Looking for outliers"
   ]
  },
  {
   "cell_type": "code",
   "execution_count": 414,
   "metadata": {},
   "outputs": [
    {
     "data": {
      "text/plain": [
       "array([ 3,  2,  4,  5,  1,  6,  7,  8,  9, 11, 10, 33])"
      ]
     },
     "execution_count": 414,
     "metadata": {},
     "output_type": "execute_result"
    }
   ],
   "source": [
    "df.bedrooms.unique()"
   ]
  },
  {
   "cell_type": "code",
   "execution_count": 415,
   "metadata": {},
   "outputs": [
    {
     "data": {
      "text/html": [
       "<div>\n",
       "<style scoped>\n",
       "    .dataframe tbody tr th:only-of-type {\n",
       "        vertical-align: middle;\n",
       "    }\n",
       "\n",
       "    .dataframe tbody tr th {\n",
       "        vertical-align: top;\n",
       "    }\n",
       "\n",
       "    .dataframe thead th {\n",
       "        text-align: right;\n",
       "    }\n",
       "</style>\n",
       "<table border=\"1\" class=\"dataframe\">\n",
       "  <thead>\n",
       "    <tr style=\"text-align: right;\">\n",
       "      <th></th>\n",
       "      <th>id</th>\n",
       "      <th>date</th>\n",
       "      <th>price</th>\n",
       "      <th>bedrooms</th>\n",
       "      <th>bathrooms</th>\n",
       "      <th>sqft_living</th>\n",
       "      <th>sqft_lot</th>\n",
       "      <th>floors</th>\n",
       "      <th>waterfront</th>\n",
       "      <th>view</th>\n",
       "      <th>...</th>\n",
       "      <th>sqft_basement</th>\n",
       "      <th>yr_built</th>\n",
       "      <th>yr_renovated</th>\n",
       "      <th>zipcode</th>\n",
       "      <th>lat</th>\n",
       "      <th>long</th>\n",
       "      <th>sqft_living15</th>\n",
       "      <th>sqft_lot15</th>\n",
       "      <th>is_renovated</th>\n",
       "      <th>has_basement</th>\n",
       "    </tr>\n",
       "  </thead>\n",
       "  <tbody>\n",
       "    <tr>\n",
       "      <th>15856</th>\n",
       "      <td>2402100895</td>\n",
       "      <td>6/25/2014</td>\n",
       "      <td>640000.0</td>\n",
       "      <td>33</td>\n",
       "      <td>1.75</td>\n",
       "      <td>1620</td>\n",
       "      <td>6000</td>\n",
       "      <td>1.0</td>\n",
       "      <td>0.0</td>\n",
       "      <td>0.0</td>\n",
       "      <td>...</td>\n",
       "      <td>580</td>\n",
       "      <td>1947</td>\n",
       "      <td>0.0</td>\n",
       "      <td>98103</td>\n",
       "      <td>47.6878</td>\n",
       "      <td>-122.331</td>\n",
       "      <td>1330</td>\n",
       "      <td>4700</td>\n",
       "      <td>0</td>\n",
       "      <td>1</td>\n",
       "    </tr>\n",
       "  </tbody>\n",
       "</table>\n",
       "<p>1 rows × 23 columns</p>\n",
       "</div>"
      ],
      "text/plain": [
       "               id       date     price  bedrooms  bathrooms  sqft_living  \\\n",
       "15856  2402100895  6/25/2014  640000.0        33       1.75         1620   \n",
       "\n",
       "       sqft_lot  floors  waterfront  view  ...  sqft_basement  yr_built  \\\n",
       "15856      6000     1.0         0.0   0.0  ...            580      1947   \n",
       "\n",
       "       yr_renovated  zipcode      lat     long  sqft_living15  sqft_lot15  \\\n",
       "15856           0.0    98103  47.6878 -122.331           1330        4700   \n",
       "\n",
       "       is_renovated  has_basement  \n",
       "15856             0             1  \n",
       "\n",
       "[1 rows x 23 columns]"
      ]
     },
     "execution_count": 415,
     "metadata": {},
     "output_type": "execute_result"
    }
   ],
   "source": [
    "df[df.bedrooms>30]"
   ]
  },
  {
   "cell_type": "code",
   "execution_count": 416,
   "metadata": {},
   "outputs": [],
   "source": [
    "# The 33 bedroom house appears to be a typo as the property has only 1.75 bathrooms, removing..\n",
    "df = df[df.bedrooms<30]"
   ]
  },
  {
   "cell_type": "markdown",
   "metadata": {},
   "source": [
    "#### Most houses are sold on Tuesdays! Who is buying on a weekend?"
   ]
  },
  {
   "cell_type": "markdown",
   "metadata": {},
   "source": [
    "### New/Renovated Housing vs. Price\n",
    "Can how recently a house was built or renovated—it's \"newness\"—affect it's price per square foot?"
   ]
  },
  {
   "cell_type": "code",
   "execution_count": 417,
   "metadata": {},
   "outputs": [],
   "source": [
    "df[\"blt_or_renov\"] = df[\"yr_renovated\"]\n",
    "df.loc[df[df[\"blt_or_renov\"] == 0].index, \"blt_or_renov\"] = df[df[\"blt_or_renov\"] ==0][\"yr_built\"]\n",
    "df[\"blt_or_renov\"].fillna(value=df[\"yr_built\"], inplace=True)"
   ]
  },
  {
   "cell_type": "code",
   "execution_count": 418,
   "metadata": {},
   "outputs": [],
   "source": [
    "df[\"price_per_sqft\"] = df[\"price\"]/df[\"sqft_living\"]"
   ]
  },
  {
   "cell_type": "markdown",
   "metadata": {},
   "source": [
    "## Modelling whole data set"
   ]
  },
  {
   "cell_type": "code",
   "execution_count": 419,
   "metadata": {},
   "outputs": [],
   "source": [
    "columns_to_drop = ['id', 'date']\n",
    "#columns_to_drop = ['id', 'zipcode','lat','long',\\\n",
    "#                   'date', 'sqft_basement' , 'yr_renovated','price_per_sqft', 'blt_or_renov']\n",
    "# We are removing these columns as the seller is not is control of this variables\n"
   ]
  },
  {
   "cell_type": "code",
   "execution_count": 420,
   "metadata": {},
   "outputs": [],
   "source": [
    "df.drop(columns_to_drop, axis=1, inplace=True)"
   ]
  },
  {
   "cell_type": "code",
   "execution_count": 421,
   "metadata": {},
   "outputs": [
    {
     "data": {
      "text/html": [
       "<div>\n",
       "<style scoped>\n",
       "    .dataframe tbody tr th:only-of-type {\n",
       "        vertical-align: middle;\n",
       "    }\n",
       "\n",
       "    .dataframe tbody tr th {\n",
       "        vertical-align: top;\n",
       "    }\n",
       "\n",
       "    .dataframe thead th {\n",
       "        text-align: right;\n",
       "    }\n",
       "</style>\n",
       "<table border=\"1\" class=\"dataframe\">\n",
       "  <thead>\n",
       "    <tr style=\"text-align: right;\">\n",
       "      <th></th>\n",
       "      <th>price</th>\n",
       "      <th>bedrooms</th>\n",
       "      <th>bathrooms</th>\n",
       "      <th>sqft_living</th>\n",
       "      <th>sqft_lot</th>\n",
       "      <th>floors</th>\n",
       "      <th>waterfront</th>\n",
       "      <th>view</th>\n",
       "      <th>condition</th>\n",
       "      <th>grade</th>\n",
       "      <th>...</th>\n",
       "      <th>yr_renovated</th>\n",
       "      <th>zipcode</th>\n",
       "      <th>lat</th>\n",
       "      <th>long</th>\n",
       "      <th>sqft_living15</th>\n",
       "      <th>sqft_lot15</th>\n",
       "      <th>is_renovated</th>\n",
       "      <th>has_basement</th>\n",
       "      <th>blt_or_renov</th>\n",
       "      <th>price_per_sqft</th>\n",
       "    </tr>\n",
       "  </thead>\n",
       "  <tbody>\n",
       "    <tr>\n",
       "      <th>0</th>\n",
       "      <td>221900.0</td>\n",
       "      <td>3</td>\n",
       "      <td>1.00</td>\n",
       "      <td>1180</td>\n",
       "      <td>5650</td>\n",
       "      <td>1.0</td>\n",
       "      <td>NaN</td>\n",
       "      <td>0.0</td>\n",
       "      <td>3</td>\n",
       "      <td>7</td>\n",
       "      <td>...</td>\n",
       "      <td>0.0</td>\n",
       "      <td>98178</td>\n",
       "      <td>47.5112</td>\n",
       "      <td>-122.257</td>\n",
       "      <td>1340</td>\n",
       "      <td>5650</td>\n",
       "      <td>0</td>\n",
       "      <td>0</td>\n",
       "      <td>1955.0</td>\n",
       "      <td>188.050847</td>\n",
       "    </tr>\n",
       "    <tr>\n",
       "      <th>1</th>\n",
       "      <td>538000.0</td>\n",
       "      <td>3</td>\n",
       "      <td>2.25</td>\n",
       "      <td>2570</td>\n",
       "      <td>7242</td>\n",
       "      <td>2.0</td>\n",
       "      <td>0.0</td>\n",
       "      <td>0.0</td>\n",
       "      <td>3</td>\n",
       "      <td>7</td>\n",
       "      <td>...</td>\n",
       "      <td>1991.0</td>\n",
       "      <td>98125</td>\n",
       "      <td>47.7210</td>\n",
       "      <td>-122.319</td>\n",
       "      <td>1690</td>\n",
       "      <td>7639</td>\n",
       "      <td>1</td>\n",
       "      <td>1</td>\n",
       "      <td>1991.0</td>\n",
       "      <td>209.338521</td>\n",
       "    </tr>\n",
       "    <tr>\n",
       "      <th>2</th>\n",
       "      <td>180000.0</td>\n",
       "      <td>2</td>\n",
       "      <td>1.00</td>\n",
       "      <td>770</td>\n",
       "      <td>10000</td>\n",
       "      <td>1.0</td>\n",
       "      <td>0.0</td>\n",
       "      <td>0.0</td>\n",
       "      <td>3</td>\n",
       "      <td>6</td>\n",
       "      <td>...</td>\n",
       "      <td>NaN</td>\n",
       "      <td>98028</td>\n",
       "      <td>47.7379</td>\n",
       "      <td>-122.233</td>\n",
       "      <td>2720</td>\n",
       "      <td>8062</td>\n",
       "      <td>0</td>\n",
       "      <td>0</td>\n",
       "      <td>1933.0</td>\n",
       "      <td>233.766234</td>\n",
       "    </tr>\n",
       "    <tr>\n",
       "      <th>3</th>\n",
       "      <td>604000.0</td>\n",
       "      <td>4</td>\n",
       "      <td>3.00</td>\n",
       "      <td>1960</td>\n",
       "      <td>5000</td>\n",
       "      <td>1.0</td>\n",
       "      <td>0.0</td>\n",
       "      <td>0.0</td>\n",
       "      <td>5</td>\n",
       "      <td>7</td>\n",
       "      <td>...</td>\n",
       "      <td>0.0</td>\n",
       "      <td>98136</td>\n",
       "      <td>47.5208</td>\n",
       "      <td>-122.393</td>\n",
       "      <td>1360</td>\n",
       "      <td>5000</td>\n",
       "      <td>0</td>\n",
       "      <td>1</td>\n",
       "      <td>1965.0</td>\n",
       "      <td>308.163265</td>\n",
       "    </tr>\n",
       "    <tr>\n",
       "      <th>4</th>\n",
       "      <td>510000.0</td>\n",
       "      <td>3</td>\n",
       "      <td>2.00</td>\n",
       "      <td>1680</td>\n",
       "      <td>8080</td>\n",
       "      <td>1.0</td>\n",
       "      <td>0.0</td>\n",
       "      <td>0.0</td>\n",
       "      <td>3</td>\n",
       "      <td>8</td>\n",
       "      <td>...</td>\n",
       "      <td>0.0</td>\n",
       "      <td>98074</td>\n",
       "      <td>47.6168</td>\n",
       "      <td>-122.045</td>\n",
       "      <td>1800</td>\n",
       "      <td>7503</td>\n",
       "      <td>0</td>\n",
       "      <td>0</td>\n",
       "      <td>1987.0</td>\n",
       "      <td>303.571429</td>\n",
       "    </tr>\n",
       "  </tbody>\n",
       "</table>\n",
       "<p>5 rows × 23 columns</p>\n",
       "</div>"
      ],
      "text/plain": [
       "      price  bedrooms  bathrooms  sqft_living  sqft_lot  floors  waterfront  \\\n",
       "0  221900.0         3       1.00         1180      5650     1.0         NaN   \n",
       "1  538000.0         3       2.25         2570      7242     2.0         0.0   \n",
       "2  180000.0         2       1.00          770     10000     1.0         0.0   \n",
       "3  604000.0         4       3.00         1960      5000     1.0         0.0   \n",
       "4  510000.0         3       2.00         1680      8080     1.0         0.0   \n",
       "\n",
       "   view  condition  grade  ...  yr_renovated  zipcode      lat     long  \\\n",
       "0   0.0          3      7  ...           0.0    98178  47.5112 -122.257   \n",
       "1   0.0          3      7  ...        1991.0    98125  47.7210 -122.319   \n",
       "2   0.0          3      6  ...           NaN    98028  47.7379 -122.233   \n",
       "3   0.0          5      7  ...           0.0    98136  47.5208 -122.393   \n",
       "4   0.0          3      8  ...           0.0    98074  47.6168 -122.045   \n",
       "\n",
       "   sqft_living15  sqft_lot15  is_renovated  has_basement  blt_or_renov  \\\n",
       "0           1340        5650             0             0        1955.0   \n",
       "1           1690        7639             1             1        1991.0   \n",
       "2           2720        8062             0             0        1933.0   \n",
       "3           1360        5000             0             1        1965.0   \n",
       "4           1800        7503             0             0        1987.0   \n",
       "\n",
       "   price_per_sqft  \n",
       "0      188.050847  \n",
       "1      209.338521  \n",
       "2      233.766234  \n",
       "3      308.163265  \n",
       "4      303.571429  \n",
       "\n",
       "[5 rows x 23 columns]"
      ]
     },
     "execution_count": 421,
     "metadata": {},
     "output_type": "execute_result"
    }
   ],
   "source": [
    "df.head()"
   ]
  },
  {
   "cell_type": "code",
   "execution_count": 422,
   "metadata": {},
   "outputs": [],
   "source": [
    "# Dropping additional columns\n",
    "# year_bought is all effectively 2014 and 2015. \n",
    "# sqft_living15 and sqft_lot15 only has correlations to sqft, \n",
    "# which is a more representative variable\n",
    "#more_cols_to_drop = ['year_bought', 'sqft_lot15', 'sqft_living15']"
   ]
  },
  {
   "cell_type": "code",
   "execution_count": 423,
   "metadata": {},
   "outputs": [],
   "source": [
    "#df.drop(more_cols_to_drop, axis=1, inplace=True)"
   ]
  },
  {
   "cell_type": "markdown",
   "metadata": {},
   "source": [
    "# Standardize the data"
   ]
  },
  {
   "cell_type": "code",
   "execution_count": 424,
   "metadata": {},
   "outputs": [],
   "source": [
    "b = df['sqft_living']\n",
    "sqft_living_min = min(b)\n",
    "sqft_living_range = max(b)-min(b)\n",
    "df['sqft_living'] = (b-sqft_living_min)/sqft_living_range\n",
    "\n",
    "b = df['sqft_above']\n",
    "sqft_ab_min = min(b)\n",
    "sqft_ab_range = max(b)-min(b)\n",
    "df['sqft_above'] = (b-sqft_ab_min)/(sqft_ab_range)\n",
    "\n",
    "b = df['sqft_lot']\n",
    "sqft_lot_min = min(b)\n",
    "sqft_lot_range = max(b)-min(b)\n",
    "df['sqft_lot'] = (b-sqft_lot_min)/(sqft_lot_range)\n",
    "\n",
    "b = df['sqft_living15']\n",
    "sqft_living15_min = min(b)\n",
    "sqft_living15_range = max(b)-min(b)\n",
    "df['sqft_living15'] = (b-sqft_living15_min)/sqft_living15_range\n",
    "\n",
    "b = df['sqft_lot15']\n",
    "sqft_lot15_min = min(b)\n",
    "sqft_lot15_range = max(b)-min(b)\n",
    "df['sqft_lot15'] = (b-sqft_lot15_min)/sqft_lot15_range\n",
    "\n",
    "b = df['sqft_basement']\n",
    "sqft_basement_min = min(b)\n",
    "sqft_basement_range = max(b)-min(b)\n",
    "df['sqft_basement'] = (b-sqft_basement_min)/sqft_basement_range\n",
    "\n",
    "b = df['yr_built']                  \n",
    "yb_min = min(b)\n",
    "yb_range = max(b)-min(b)\n",
    "df['yr_built'] = (b-yb_min)/(yb_range)\n",
    "\n",
    "b = df['yr_renovated']                  \n",
    "yb_min = min(b)\n",
    "yb_range = max(b)-min(b)\n",
    "df['yr_renovated'] = (b-yb_min)/(yb_range)\n",
    "\n",
    "# standardization\n",
    "b = df['price']\n",
    "y = np.log(b)\n",
    "# price_mean = b.mean()\n",
    "# price_std = b.std()\n",
    "# y = (b-price_mean)/(price_std)\n"
   ]
  },
  {
   "cell_type": "code",
   "execution_count": 425,
   "metadata": {},
   "outputs": [],
   "source": [
    "zip_dummy = pd.get_dummies(df[\"zipcode\"], prefix=\"ZIP\")\n",
    "df = df.drop(columns=[\"zipcode\"],)\n",
    "df = pd.concat([df, zip_dummy], axis=1)\n",
    "df.drop(df.columns[-1], axis=1, inplace=True)"
   ]
  },
  {
   "cell_type": "code",
   "execution_count": 426,
   "metadata": {},
   "outputs": [],
   "source": [
    "wf_dummy = pd.get_dummies(df[\"waterfront\"], prefix=\"WF\")\n",
    "df = df.drop(columns=[\"waterfront\"],)\n",
    "df = pd.concat([df, wf_dummy], axis=1)"
   ]
  },
  {
   "cell_type": "code",
   "execution_count": 427,
   "metadata": {},
   "outputs": [],
   "source": [
    "view_dummy = pd.get_dummies(df[\"view\"], prefix=\"VIEW\")\n",
    "df = df.drop(columns=[\"view\"],)\n",
    "df = pd.concat([df, view_dummy], axis=1)\n",
    "df.drop(df.columns[-1], axis=1, inplace=True)"
   ]
  },
  {
   "cell_type": "code",
   "execution_count": 428,
   "metadata": {
    "scrolled": true
   },
   "outputs": [],
   "source": [
    "condition_dummy = pd.get_dummies(df[\"condition\"], prefix=\"COND\")\n",
    "df = df.drop(columns=[\"condition\"],)\n",
    "df = pd.concat([df, condition_dummy], axis=1)\n",
    "df.drop(df.columns[-1], axis=1, inplace=True)"
   ]
  },
  {
   "cell_type": "code",
   "execution_count": 429,
   "metadata": {},
   "outputs": [],
   "source": [
    "grade_dummy = pd.get_dummies(df[\"grade\"], prefix=\"GRADE\")\n",
    "df = df.drop(columns=[\"grade\"],)\n",
    "df = pd.concat([df, grade_dummy], axis=1)\n",
    "df.drop(df.columns[-1], axis=1, inplace=True)"
   ]
  },
  {
   "cell_type": "code",
   "execution_count": 430,
   "metadata": {},
   "outputs": [
    {
     "name": "stdout",
     "output_type": "stream",
     "text": [
      "Found 3842 \t NAs in column \tyr_renovated (17.79% of the data)\n"
     ]
    }
   ],
   "source": [
    "print_NAs(df)"
   ]
  },
  {
   "cell_type": "code",
   "execution_count": 431,
   "metadata": {},
   "outputs": [],
   "source": [
    "df.drop(\"yr_renovated\", axis=1, inplace=True)"
   ]
  },
  {
   "cell_type": "code",
   "execution_count": 432,
   "metadata": {},
   "outputs": [],
   "source": [
    "#from sklearn.cluster import SpectralClustering\n",
    "#model = SpectralClustering(n_clusters=10, affinity='nearest_neighbors',\n",
    "#                           assign_labels='kmeans')\n",
    "#labels = model.fit_predict(X)"
   ]
  },
  {
   "cell_type": "code",
   "execution_count": 433,
   "metadata": {},
   "outputs": [],
   "source": [
    "#Lets select our predictor data frame\n",
    "X = df.drop(columns=['price', \"price_per_sqft\"])"
   ]
  },
  {
   "cell_type": "code",
   "execution_count": 434,
   "metadata": {},
   "outputs": [
    {
     "name": "stdout",
     "output_type": "stream",
     "text": [
      "Train length  17276 17276\n",
      "Test length  4320 4320\n"
     ]
    }
   ],
   "source": [
    "# Let's split the data into train and test data sets\n",
    "X_train, X_test, y_train, y_test = train_test_split(X, y, test_size=0.20)\n",
    "print('Train length ',len(X_train), len(y_train))\n",
    "print('Test length ',len(X_test), len(y_test))"
   ]
  },
  {
   "cell_type": "code",
   "execution_count": 435,
   "metadata": {
    "scrolled": true
   },
   "outputs": [
    {
     "data": {
      "text/plain": [
       "Ridge(alpha=0.5, copy_X=True, fit_intercept=True, max_iter=None,\n",
       "   normalize=False, random_state=None, solver='auto', tol=0.001)"
      ]
     },
     "execution_count": 435,
     "metadata": {},
     "output_type": "execute_result"
    }
   ],
   "source": [
    "from sklearn.linear_model import Ridge\n",
    "linreg = Ridge(alpha=.5)\n",
    "linreg.fit(X_train, y_train)\n",
    "#model = sm.OLS(y_train, sm.add_constant(X_train[fields])).fit()\n",
    "#model = sm.OLS(y_train, sm.add_constant(X_train)).fit()"
   ]
  },
  {
   "cell_type": "code",
   "execution_count": 436,
   "metadata": {},
   "outputs": [
    {
     "data": {
      "text/plain": [
       "0.882710971175009"
      ]
     },
     "execution_count": 436,
     "metadata": {},
     "output_type": "execute_result"
    }
   ],
   "source": [
    "linreg.score(X_train, y_train)"
   ]
  },
  {
   "cell_type": "code",
   "execution_count": 437,
   "metadata": {},
   "outputs": [],
   "source": [
    "r_squared = linreg.score(X_train, y_train)\n",
    "\n",
    "adj = r_adjusted(r_squared, X, y)"
   ]
  },
  {
   "cell_type": "code",
   "execution_count": 438,
   "metadata": {
    "scrolled": true
   },
   "outputs": [
    {
     "data": {
      "text/plain": [
       "0.8821433819982466"
      ]
     },
     "execution_count": 438,
     "metadata": {},
     "output_type": "execute_result"
    }
   ],
   "source": [
    "adj"
   ]
  },
  {
   "cell_type": "code",
   "execution_count": 439,
   "metadata": {},
   "outputs": [],
   "source": [
    "from sklearn.metrics import r2_score\n",
    "y_predict = linreg.predict(X_test)"
   ]
  },
  {
   "cell_type": "code",
   "execution_count": 440,
   "metadata": {},
   "outputs": [
    {
     "data": {
      "text/plain": [
       "<matplotlib.axes._subplots.AxesSubplot at 0x1c250199b0>"
      ]
     },
     "execution_count": 440,
     "metadata": {},
     "output_type": "execute_result"
    },
    {
     "data": {
      "image/png": "[encoded data removed]",
      "text/plain": [
       "<Figure size 432x288 with 1 Axes>"
      ]
     },
     "metadata": {
      "needs_background": "light"
     },
     "output_type": "display_data"
    }
   ],
   "source": [
    "sns.regplot(y_test, y_predict)"
   ]
  },
  {
   "cell_type": "code",
   "execution_count": 441,
   "metadata": {},
   "outputs": [
    {
     "data": {
      "text/plain": [
       "0.8482164808614048"
      ]
     },
     "execution_count": 441,
     "metadata": {},
     "output_type": "execute_result"
    }
   ],
   "source": [
    "r2_score(y_predict, y_test)"
   ]
  },
  {
   "cell_type": "code",
   "execution_count": 442,
   "metadata": {},
   "outputs": [
    {
     "name": "stdout",
     "output_type": "stream",
     "text": [
      "0.866735328300192\n",
      "0.8482164808614048\n"
     ]
    }
   ],
   "source": [
    "y_predict_train = linreg.predict(X_train)\n",
    "print(r2_score(y_predict_train, y_train))\n",
    "print(r2_score(y_predict, y_test))"
   ]
  },
  {
   "cell_type": "code",
   "execution_count": 443,
   "metadata": {
    "scrolled": false
   },
   "outputs": [
    {
     "name": "stdout",
     "output_type": "stream",
     "text": [
      "Train Mean Squarred Error: 0.03284285996332593\n",
      "Test Mean Squarred Error: 0.03584491734512773\n",
      "1.0914066979901889\n"
     ]
    }
   ],
   "source": [
    "y_predict_train = linreg.predict(X_train)\n",
    "train_mse = mean_squared_error(y_train, y_predict_train)\n",
    "test_mse = mean_squared_error(y_test, y_predict)\n",
    "print('Train Mean Squarred Error:', train_mse)\n",
    "print('Test Mean Squarred Error:', test_mse)\n",
    "print(test_mse/train_mse)"
   ]
  },
  {
   "cell_type": "code",
   "execution_count": 444,
   "metadata": {},
   "outputs": [],
   "source": [
    "model_results = []\n",
    "model_results.append([\"Ridge - alpha .5\", linreg.score(X_train, y_train), adj, train_mse, test_mse])"
   ]
  },
  {
   "cell_type": "code",
   "execution_count": 445,
   "metadata": {},
   "outputs": [
    {
     "data": {
      "text/plain": [
       "Lasso(alpha=1, copy_X=True, fit_intercept=True, max_iter=1000,\n",
       "   normalize=False, positive=False, precompute=False, random_state=None,\n",
       "   selection='cyclic', tol=0.0001, warm_start=False)"
      ]
     },
     "execution_count": 445,
     "metadata": {},
     "output_type": "execute_result"
    }
   ],
   "source": [
    "from sklearn.linear_model import Lasso\n",
    "lasso = Lasso(alpha=1)\n",
    "lasso.fit(X_train, y_train)"
   ]
  },
  {
   "cell_type": "code",
   "execution_count": 446,
   "metadata": {
    "scrolled": false
   },
   "outputs": [
    {
     "data": {
      "text/plain": [
       "0.00859596158756648"
      ]
     },
     "execution_count": 446,
     "metadata": {},
     "output_type": "execute_result"
    }
   ],
   "source": [
    "lasso.score(X_train, y_train)"
   ]
  },
  {
   "cell_type": "code",
   "execution_count": 447,
   "metadata": {},
   "outputs": [
    {
     "name": "stdout",
     "output_type": "stream",
     "text": [
      "Train Mean Squarred Error: 0.2776094603804716\n",
      "Test Mean Squarred Error: 0.03584491734512773\n",
      "0.12911994171956986\n"
     ]
    }
   ],
   "source": [
    "y_predict_train = lasso.predict(X_train)\n",
    "train_mse = mean_squared_error(y_train, y_predict_train)\n",
    "test_mse = mean_squared_error(y_test, y_predict)\n",
    "print('Train Mean Squarred Error:', train_mse)\n",
    "print('Test Mean Squarred Error:', test_mse)\n",
    "print(test_mse/train_mse)"
   ]
  },
  {
   "cell_type": "code",
   "execution_count": 448,
   "metadata": {},
   "outputs": [],
   "source": [
    "#adj = r_adjusted(lasso.score(X_train, y_train), X, y)\n",
    "#model_results.append([\"Lasso - alpha 1\", lasso.score(X_train, y_train), adj, train_mse, test_mse])"
   ]
  },
  {
   "cell_type": "code",
   "execution_count": 449,
   "metadata": {},
   "outputs": [
    {
     "data": {
      "text/plain": [
       "Lasso(alpha=0.001, copy_X=True, fit_intercept=True, max_iter=1000,\n",
       "   normalize=False, positive=False, precompute=False, random_state=None,\n",
       "   selection='cyclic', tol=0.0001, warm_start=False)"
      ]
     },
     "execution_count": 449,
     "metadata": {},
     "output_type": "execute_result"
    }
   ],
   "source": [
    "lasso = Lasso(alpha=.001)\n",
    "lasso.fit(X_train, y_train)"
   ]
  },
  {
   "cell_type": "code",
   "execution_count": 450,
   "metadata": {},
   "outputs": [
    {
     "data": {
      "text/plain": [
       "0.8501491122356233"
      ]
     },
     "execution_count": 450,
     "metadata": {},
     "output_type": "execute_result"
    }
   ],
   "source": [
    "lasso.score(X_train, y_train)"
   ]
  },
  {
   "cell_type": "code",
   "execution_count": 451,
   "metadata": {},
   "outputs": [
    {
     "data": {
      "text/plain": [
       "0.8482164808614048"
      ]
     },
     "execution_count": 451,
     "metadata": {},
     "output_type": "execute_result"
    }
   ],
   "source": [
    "r2_score(y_predict, y_test)"
   ]
  },
  {
   "cell_type": "code",
   "execution_count": 452,
   "metadata": {},
   "outputs": [],
   "source": [
    "from sklearn.linear_model import LassoCV\n",
    "from sklearn.linear_model import Lasso\n",
    "from sklearn.model_selection import KFold\n",
    "from sklearn.model_selection import GridSearchCV"
   ]
  },
  {
   "cell_type": "code",
   "execution_count": 453,
   "metadata": {},
   "outputs": [],
   "source": [
    "alphas = np.logspace(-3, -1, 30)\n",
    "\n",
    "tuned_parameters = [{'alpha': alphas}]\n",
    "n_folds = 3\n",
    "\n",
    "clf = GridSearchCV(lasso, tuned_parameters, cv=n_folds, refit=False)"
   ]
  },
  {
   "cell_type": "code",
   "execution_count": 454,
   "metadata": {},
   "outputs": [
    {
     "data": {
      "text/plain": [
       "GridSearchCV(cv=3, error_score='raise-deprecating',\n",
       "       estimator=Lasso(alpha=0.001, copy_X=True, fit_intercept=True, max_iter=1000,\n",
       "   normalize=False, positive=False, precompute=False, random_state=None,\n",
       "   selection='cyclic', tol=0.0001, warm_start=False),\n",
       "       fit_params=None, iid='warn', n_jobs=None,\n",
       "       param_grid=[{'alpha': array([0.001  , 0.00117, 0.00137, 0.00161, 0.00189, 0.00221, 0.00259,\n",
       "       0.00304, 0.00356, 0.00418, 0.00489, 0.00574, 0.00672, 0.00788,\n",
       "       0.00924, 0.01083, 0.01269, 0.01487, 0.01743, 0.02043, 0.02395,\n",
       "       0.02807, 0.0329 , 0.03857, 0.0452 , 0.05298, 0.0621 , 0.07279,\n",
       "       0.08532, 0.1    ])}],\n",
       "       pre_dispatch='2*n_jobs', refit=False, return_train_score='warn',\n",
       "       scoring=None, verbose=0)"
      ]
     },
     "execution_count": 454,
     "metadata": {},
     "output_type": "execute_result"
    }
   ],
   "source": [
    "clf.fit(X_train, y_train)"
   ]
  },
  {
   "cell_type": "code",
   "execution_count": 455,
   "metadata": {},
   "outputs": [
    {
     "data": {
      "text/plain": [
       "Text(0, 0.5, 'Scores')"
      ]
     },
     "execution_count": 455,
     "metadata": {},
     "output_type": "execute_result"
    },
    {
     "data": {
      "image/png": "[encoded data removed]",
      "text/plain": [
       "<Figure size 432x288 with 1 Axes>"
      ]
     },
     "metadata": {
      "needs_background": "light"
     },
     "output_type": "display_data"
    }
   ],
   "source": [
    "scores = clf.cv_results_['mean_test_score']\n",
    "scores_std = clf.cv_results_['std_test_score']\n",
    "plt.semilogx(alphas, scores)\n",
    "plt.xlabel(\"Alphas\")\n",
    "plt.ylabel(\"Scores\")"
   ]
  },
  {
   "cell_type": "code",
   "execution_count": 456,
   "metadata": {},
   "outputs": [
    {
     "data": {
      "text/plain": [
       "0.8812582507500257"
      ]
     },
     "execution_count": 456,
     "metadata": {},
     "output_type": "execute_result"
    }
   ],
   "source": [
    "lasso = Lasso(alpha=.0001)\n",
    "lasso.fit(X_train, y_train)\n",
    "lasso.score(X_train, y_train)"
   ]
  },
  {
   "cell_type": "code",
   "execution_count": 457,
   "metadata": {
    "scrolled": true
   },
   "outputs": [
    {
     "name": "stdout",
     "output_type": "stream",
     "text": [
      "Train Mean Squarred Error: 0.033249645610385674\n",
      "Test Mean Squarred Error: 0.03584491734512773\n",
      "1.078054117182272\n"
     ]
    }
   ],
   "source": [
    "from sklearn.metrics import mean_squared_error\n",
    "y_predict_train = lasso.predict(X_train)\n",
    "train_mse = mean_squared_error(y_train, y_predict_train)\n",
    "test_mse = mean_squared_error(y_test, y_predict)\n",
    "print('Train Mean Squarred Error:', train_mse)\n",
    "print('Test Mean Squarred Error:', test_mse)\n",
    "print(test_mse/train_mse)"
   ]
  },
  {
   "cell_type": "code",
   "execution_count": 458,
   "metadata": {},
   "outputs": [],
   "source": [
    "adj = r_adjusted(lasso.score(X_train, y_train), X_train, y_train)\n",
    "model_results.append([\"Lasso - alpha .0001\", lasso.score(X_train, y_train), adj, train_mse, test_mse])"
   ]
  },
  {
   "cell_type": "code",
   "execution_count": 459,
   "metadata": {},
   "outputs": [],
   "source": [
    "from sklearn.linear_model import ElasticNet\n",
    "alphas = np.logspace(-3, -1, 30)\n",
    "\n",
    "tuned_parameters = [{'alpha': alphas}]\n",
    "n_folds = 3\n",
    "\n",
    "clf = GridSearchCV(elastic, tuned_parameters, cv=n_folds, refit=False)"
   ]
  },
  {
   "cell_type": "code",
   "execution_count": 460,
   "metadata": {},
   "outputs": [
    {
     "data": {
      "text/plain": [
       "GridSearchCV(cv=3, error_score='raise-deprecating',\n",
       "       estimator=ElasticNet(alpha=0.0001, copy_X=True, fit_intercept=True, l1_ratio=1e-05,\n",
       "      max_iter=1000, normalize=False, positive=False, precompute=False,\n",
       "      random_state=None, selection='cyclic', tol=0.0001, warm_start=False),\n",
       "       fit_params=None, iid='warn', n_jobs=None,\n",
       "       param_grid=[{'alpha': array([0.001  , 0.00117, 0.00137, 0.00161, 0.00189, 0.00221, 0.00259,\n",
       "       0.00304, 0.00356, 0.00418, 0.00489, 0.00574, 0.00672, 0.00788,\n",
       "       0.00924, 0.01083, 0.01269, 0.01487, 0.01743, 0.02043, 0.02395,\n",
       "       0.02807, 0.0329 , 0.03857, 0.0452 , 0.05298, 0.0621 , 0.07279,\n",
       "       0.08532, 0.1    ])}],\n",
       "       pre_dispatch='2*n_jobs', refit=False, return_train_score='warn',\n",
       "       scoring=None, verbose=0)"
      ]
     },
     "execution_count": 460,
     "metadata": {},
     "output_type": "execute_result"
    }
   ],
   "source": [
    "clf.fit(X_train, y_train)"
   ]
  },
  {
   "cell_type": "code",
   "execution_count": 461,
   "metadata": {},
   "outputs": [
    {
     "data": {
      "text/plain": [
       "Text(0, 0.5, 'Scores')"
      ]
     },
     "execution_count": 461,
     "metadata": {},
     "output_type": "execute_result"
    },
    {
     "data": {
      "image/png": "[encoded data removed]",
      "text/plain": [
       "<Figure size 432x288 with 1 Axes>"
      ]
     },
     "metadata": {
      "needs_background": "light"
     },
     "output_type": "display_data"
    }
   ],
   "source": [
    "scores = clf.cv_results_['mean_test_score']\n",
    "scores_std = clf.cv_results_['std_test_score']\n",
    "plt.semilogx(alphas, scores)\n",
    "plt.xlabel(\"Alphas\")\n",
    "plt.ylabel(\"Scores\")"
   ]
  },
  {
   "cell_type": "code",
   "execution_count": 462,
   "metadata": {},
   "outputs": [
    {
     "data": {
      "text/plain": [
       "ElasticNet(alpha=0.0001, copy_X=True, fit_intercept=True, l1_ratio=0.5,\n",
       "      max_iter=1000, normalize=False, positive=False, precompute=False,\n",
       "      random_state=None, selection='cyclic', tol=0.0001, warm_start=False)"
      ]
     },
     "execution_count": 462,
     "metadata": {},
     "output_type": "execute_result"
    }
   ],
   "source": [
    "from sklearn.linear_model import ElasticNet\n",
    "elastic = ElasticNet(alpha=.0001)\n",
    "elastic.fit(X_train, y_train)"
   ]
  },
  {
   "cell_type": "code",
   "execution_count": 463,
   "metadata": {},
   "outputs": [
    {
     "name": "stdout",
     "output_type": "stream",
     "text": [
      "Train Mean Squarred Error: 0.03308867004274689\n",
      "Test Mean Squarred Error: 0.03584491734512773\n",
      "1.0832988240029011\n"
     ]
    }
   ],
   "source": [
    "from sklearn.metrics import mean_squared_error\n",
    "y_predict_train = elastic.predict(X_train)\n",
    "train_mse = mean_squared_error(y_train, y_predict_train)\n",
    "test_mse = mean_squared_error(y_test, y_predict)\n",
    "print('Train Mean Squarred Error:', train_mse)\n",
    "print('Test Mean Squarred Error:', test_mse)\n",
    "print(test_mse/train_mse)"
   ]
  },
  {
   "cell_type": "code",
   "execution_count": 464,
   "metadata": {},
   "outputs": [
    {
     "data": {
      "text/plain": [
       "0.8818331296739071"
      ]
     },
     "execution_count": 464,
     "metadata": {},
     "output_type": "execute_result"
    }
   ],
   "source": [
    "elastic.score(X_train, y_train)"
   ]
  },
  {
   "cell_type": "code",
   "execution_count": 465,
   "metadata": {},
   "outputs": [],
   "source": [
    "L1_ratios = np.linspace(0, 1, 3)\n",
    "\n",
    "tuned_parameters = [{'l1_ratio': L1_ratios}]\n",
    "n_folds = 3\n",
    "\n",
    "clf = GridSearchCV(elastic, tuned_parameters, cv=n_folds, refit=False)"
   ]
  },
  {
   "cell_type": "code",
   "execution_count": 466,
   "metadata": {},
   "outputs": [
    {
     "name": "stderr",
     "output_type": "stream",
     "text": [
      "/Users/lhinkesjones/anaconda3/lib/python3.7/site-packages/sklearn/linear_model/coordinate_descent.py:492: ConvergenceWarning: Objective did not converge. You might want to increase the number of iterations. Fitting data with very small alpha may cause precision problems.\n",
      "  ConvergenceWarning)\n",
      "/Users/lhinkesjones/anaconda3/lib/python3.7/site-packages/sklearn/linear_model/coordinate_descent.py:492: ConvergenceWarning: Objective did not converge. You might want to increase the number of iterations. Fitting data with very small alpha may cause precision problems.\n",
      "  ConvergenceWarning)\n",
      "/Users/lhinkesjones/anaconda3/lib/python3.7/site-packages/sklearn/linear_model/coordinate_descent.py:492: ConvergenceWarning: Objective did not converge. You might want to increase the number of iterations. Fitting data with very small alpha may cause precision problems.\n",
      "  ConvergenceWarning)\n"
     ]
    },
    {
     "data": {
      "text/plain": [
       "GridSearchCV(cv=3, error_score='raise-deprecating',\n",
       "       estimator=ElasticNet(alpha=0.0001, copy_X=True, fit_intercept=True, l1_ratio=0.5,\n",
       "      max_iter=1000, normalize=False, positive=False, precompute=False,\n",
       "      random_state=None, selection='cyclic', tol=0.0001, warm_start=False),\n",
       "       fit_params=None, iid='warn', n_jobs=None,\n",
       "       param_grid=[{'l1_ratio': array([0. , 0.5, 1. ])}],\n",
       "       pre_dispatch='2*n_jobs', refit=False, return_train_score='warn',\n",
       "       scoring=None, verbose=0)"
      ]
     },
     "execution_count": 466,
     "metadata": {},
     "output_type": "execute_result"
    }
   ],
   "source": [
    "clf.fit(X_train, y_train)"
   ]
  },
  {
   "cell_type": "code",
   "execution_count": 467,
   "metadata": {},
   "outputs": [
    {
     "data": {
      "text/plain": [
       "Text(0, 0.5, 'Scores')"
      ]
     },
     "execution_count": 467,
     "metadata": {},
     "output_type": "execute_result"
    },
    {
     "data": {
      "image/png": "[encoded data removed]",
      "text/plain": [
       "<Figure size 432x288 with 1 Axes>"
      ]
     },
     "metadata": {
      "needs_background": "light"
     },
     "output_type": "display_data"
    }
   ],
   "source": [
    "scores = clf.cv_results_['mean_test_score']\n",
    "scores_std = clf.cv_results_['std_test_score']\n",
    "plt.semilogx(L1_ratios, scores)\n",
    "plt.xlabel(\"Alphas\")\n",
    "plt.ylabel(\"Scores\")"
   ]
  },
  {
   "cell_type": "code",
   "execution_count": 468,
   "metadata": {},
   "outputs": [
    {
     "name": "stderr",
     "output_type": "stream",
     "text": [
      "/Users/lhinkesjones/anaconda3/lib/python3.7/site-packages/sklearn/linear_model/coordinate_descent.py:492: ConvergenceWarning: Objective did not converge. You might want to increase the number of iterations. Fitting data with very small alpha may cause precision problems.\n",
      "  ConvergenceWarning)\n"
     ]
    },
    {
     "data": {
      "text/plain": [
       "ElasticNet(alpha=0.0001, copy_X=True, fit_intercept=True, l1_ratio=1e-05,\n",
       "      max_iter=1000, normalize=False, positive=False, precompute=False,\n",
       "      random_state=None, selection='cyclic', tol=0.0001, warm_start=False)"
      ]
     },
     "execution_count": 468,
     "metadata": {},
     "output_type": "execute_result"
    }
   ],
   "source": [
    "from sklearn.linear_model import ElasticNet\n",
    "elastic = ElasticNet(alpha=.0001, l1_ratio=.00001)\n",
    "elastic.fit(X_train, y_train)"
   ]
  },
  {
   "cell_type": "code",
   "execution_count": 469,
   "metadata": {},
   "outputs": [
    {
     "data": {
      "text/plain": [
       "0.8822741626603932"
      ]
     },
     "execution_count": 469,
     "metadata": {},
     "output_type": "execute_result"
    }
   ],
   "source": [
    "elastic.score(X_train, y_train)"
   ]
  },
  {
   "cell_type": "code",
   "execution_count": 470,
   "metadata": {},
   "outputs": [
    {
     "name": "stdout",
     "output_type": "stream",
     "text": [
      "Train Mean Squarred Error: 0.032965173542183486\n",
      "Test Mean Squarred Error: 0.03584491734512773\n",
      "1.087357155855989\n"
     ]
    }
   ],
   "source": [
    "from sklearn.metrics import mean_squared_error\n",
    "y_predict_train = elastic.predict(X_train)\n",
    "train_mse = mean_squared_error(y_train, y_predict_train)\n",
    "test_mse = mean_squared_error(y_test, y_predict)\n",
    "print('Train Mean Squarred Error:', train_mse)\n",
    "print('Test Mean Squarred Error:', test_mse)\n",
    "print(test_mse/train_mse)"
   ]
  },
  {
   "cell_type": "code",
   "execution_count": 471,
   "metadata": {},
   "outputs": [],
   "source": [
    "cvs = cross_val_score(lasso, X_train, y_train, cv=20, scoring=\"neg_mean_squared_error\")"
   ]
  },
  {
   "cell_type": "code",
   "execution_count": 472,
   "metadata": {},
   "outputs": [
    {
     "data": {
      "text/plain": [
       "array([-0.03211149, -0.0308572 , -0.03195582, -0.03224113, -0.03315372,\n",
       "       -0.02922012, -0.03358944, -0.03191999, -0.03336031, -0.03476823,\n",
       "       -0.03555982, -0.03452903, -0.03423847, -0.03485038, -0.03564086,\n",
       "       -0.03846914, -0.04136617, -0.03224612, -0.03350148, -0.03232661])"
      ]
     },
     "execution_count": 472,
     "metadata": {},
     "output_type": "execute_result"
    }
   ],
   "source": [
    "cvs"
   ]
  },
  {
   "cell_type": "code",
   "execution_count": 473,
   "metadata": {},
   "outputs": [],
   "source": [
    "cvs = cross_val_score(lasso, X_train, y_train, cv=20, scoring=\"r2\")"
   ]
  },
  {
   "cell_type": "code",
   "execution_count": 474,
   "metadata": {},
   "outputs": [
    {
     "data": {
      "text/plain": [
       "array([0.88687881, 0.89068454, 0.88778171, 0.88450118, 0.87901469,\n",
       "       0.89297816, 0.88198782, 0.88178738, 0.88006584, 0.88182092,\n",
       "       0.86954826, 0.88038761, 0.87859814, 0.87487708, 0.87775169,\n",
       "       0.85748341, 0.86101863, 0.88851221, 0.87314705, 0.87365046])"
      ]
     },
     "execution_count": 474,
     "metadata": {},
     "output_type": "execute_result"
    }
   ],
   "source": [
    "cvs"
   ]
  },
  {
   "cell_type": "code",
   "execution_count": 475,
   "metadata": {},
   "outputs": [
    {
     "data": {
      "text/plain": [
       "array([-2.16883186e-03,  4.55341810e-02,  1.16080430e+00,  8.06964156e-01,\n",
       "       -2.26357158e-02,  1.11248404e+00,  0.00000000e+00, -1.44886296e-01,\n",
       "        1.19311355e+00, -4.11942519e-01,  4.70482430e-01,  3.88163565e-02,\n",
       "        4.46369996e-02,  5.11023186e-02,  3.03190135e-04, -2.53714765e-01,\n",
       "       -2.60019125e-01, -2.84737487e-01,  4.76754638e-01,  1.12844065e-01,\n",
       "        9.03451427e-02,  3.79630696e-02,  5.22872059e-02,  6.21418572e-02,\n",
       "       -3.36054283e-01, -1.89390301e-01, -3.09860007e-01,  0.00000000e+00,\n",
       "       -3.46303385e-01, -0.00000000e+00,  5.40044499e-02, -3.72664121e-01,\n",
       "        1.12418043e-01, -2.51568888e-01, -2.69839070e-01, -3.77624688e-01,\n",
       "        7.53274873e-02, -2.12915315e-01, -7.53804661e-02,  5.37872348e-01,\n",
       "        2.81848762e-01, -2.16320509e-01,  6.24762494e-02, -3.78664816e-02,\n",
       "       -3.86837235e-02, -2.85375947e-01, -1.59023059e-01, -2.25445084e-01,\n",
       "       -1.03822770e-01,  4.72132652e-03, -1.30097578e-01, -2.52181697e-01,\n",
       "       -1.48378594e-02,  2.94040530e-02, -2.58335345e-01, -1.98256776e-01,\n",
       "        1.85138693e-01,  2.77561123e-02,  1.64938678e-01, -2.70724772e-01,\n",
       "        3.86050816e-02, -2.36550565e-01,  2.39030844e-01,  3.12784070e-01,\n",
       "        4.19259778e-02,  7.40298100e-02,  0.00000000e+00, -1.24403604e-01,\n",
       "        2.21026827e-01,  1.07683018e-01, -2.12662434e-01, -7.63418974e-02,\n",
       "       -3.62995182e-01,  3.44051382e-02,  5.06756150e-03, -2.72336485e-01,\n",
       "       -2.58621063e-01, -3.97492361e-01, -1.72995082e-01, -4.33379985e-01,\n",
       "       -2.58839171e-01, -3.51571216e-01, -3.09511718e-01, -3.34107617e-01,\n",
       "        0.00000000e+00,  4.24818997e-01, -2.66122501e-01, -1.40590319e-01,\n",
       "       -1.55123250e-01, -8.05720071e-02, -2.80522505e-01, -2.28688490e-01,\n",
       "       -1.04640796e-01, -5.79618289e-02,  0.00000000e+00, -3.64765491e-01,\n",
       "       -3.63255185e-01, -2.54330436e-01, -1.29570938e-01, -2.96531202e-02,\n",
       "        7.59181850e-02,  1.34485073e-01,  1.67454247e-01,  1.56220310e-01])"
      ]
     },
     "execution_count": 475,
     "metadata": {},
     "output_type": "execute_result"
    }
   ],
   "source": [
    "lasso.coef_"
   ]
  },
  {
   "cell_type": "code",
   "execution_count": 476,
   "metadata": {},
   "outputs": [
    {
     "data": {
      "text/plain": [
       "[(-0.0021688318631551714, 'bedrooms'),\n",
       " (0.04553418100933274, 'bathrooms'),\n",
       " (1.160804300571658, 'sqft_living'),\n",
       " (0.8069641560807768, 'sqft_lot'),\n",
       " (-0.022635715818865414, 'floors'),\n",
       " (1.1124840395081514, 'sqft_above'),\n",
       " (0.0, 'sqft_basement'),\n",
       " (-0.14488629555179255, 'yr_built'),\n",
       " (1.193113545063987, 'lat'),\n",
       " (-0.41194251915609525, 'long'),\n",
       " (0.4704824302975772, 'sqft_living15'),\n",
       " (0.038816356476321374, 'sqft_lot15'),\n",
       " (0.0446369996193739, 'is_renovated'),\n",
       " (0.05110231863925336, 'has_basement'),\n",
       " (0.0003031901350873151, 'blt_or_renov'),\n",
       " (-0.2537147654218826, 'ZIP_98001'),\n",
       " (-0.26001912541152916, 'ZIP_98002'),\n",
       " (-0.2847374866532254, 'ZIP_98003'),\n",
       " (0.4767546381776712, 'ZIP_98004'),\n",
       " (0.11284406504665477, 'ZIP_98005'),\n",
       " (0.09034514265238267, 'ZIP_98006'),\n",
       " (0.037963069621609474, 'ZIP_98007'),\n",
       " (0.05228720592106337, 'ZIP_98008'),\n",
       " (0.0621418572339145, 'ZIP_98010'),\n",
       " (-0.3360542831398879, 'ZIP_98011'),\n",
       " (-0.18939030100866294, 'ZIP_98014'),\n",
       " (-0.30986000693850474, 'ZIP_98019'),\n",
       " (0.0, 'ZIP_98022'),\n",
       " (-0.3463033854034708, 'ZIP_98023'),\n",
       " (-0.0, 'ZIP_98024'),\n",
       " (0.05400444992731018, 'ZIP_98027'),\n",
       " (-0.37266412102476865, 'ZIP_98028'),\n",
       " (0.1124180428477083, 'ZIP_98029'),\n",
       " (-0.25156888787809756, 'ZIP_98030'),\n",
       " (-0.2698390700853742, 'ZIP_98031'),\n",
       " (-0.37762468810516564, 'ZIP_98032'),\n",
       " (0.07532748731842114, 'ZIP_98033'),\n",
       " (-0.212915315014372, 'ZIP_98034'),\n",
       " (-0.0753804660769606, 'ZIP_98038'),\n",
       " (0.5378723479382443, 'ZIP_98039'),\n",
       " (0.28184876167028305, 'ZIP_98040'),\n",
       " (-0.21632050851543227, 'ZIP_98042'),\n",
       " (0.062476249351112255, 'ZIP_98045'),\n",
       " (-0.03786648159816063, 'ZIP_98052'),\n",
       " (-0.038683723479930016, 'ZIP_98053'),\n",
       " (-0.28537594703970565, 'ZIP_98055'),\n",
       " (-0.1590230591245128, 'ZIP_98056'),\n",
       " (-0.2254450835399198, 'ZIP_98058'),\n",
       " (-0.10382276952151048, 'ZIP_98059'),\n",
       " (0.004721326520072092, 'ZIP_98065'),\n",
       " (-0.13009757828299426, 'ZIP_98070'),\n",
       " (-0.25218169718187805, 'ZIP_98072'),\n",
       " (-0.014837859435914999, 'ZIP_98074'),\n",
       " (0.02940405296655583, 'ZIP_98075'),\n",
       " (-0.2583353454231138, 'ZIP_98077'),\n",
       " (-0.1982567757962043, 'ZIP_98092'),\n",
       " (0.18513869282971313, 'ZIP_98102'),\n",
       " (0.02775611234308397, 'ZIP_98103'),\n",
       " (0.16493867809256055, 'ZIP_98105'),\n",
       " (-0.2707247721706527, 'ZIP_98106'),\n",
       " (0.038605081555392, 'ZIP_98107'),\n",
       " (-0.23655056488032664, 'ZIP_98108'),\n",
       " (0.2390308443779859, 'ZIP_98109'),\n",
       " (0.3127840701669087, 'ZIP_98112'),\n",
       " (0.04192597779588819, 'ZIP_98115'),\n",
       " (0.07402980998721548, 'ZIP_98116'),\n",
       " (0.0, 'ZIP_98117'),\n",
       " (-0.12440360411079922, 'ZIP_98118'),\n",
       " (0.22102682724574854, 'ZIP_98119'),\n",
       " (0.10768301806618011, 'ZIP_98122'),\n",
       " (-0.21266243419451034, 'ZIP_98125'),\n",
       " (-0.07634189744548177, 'ZIP_98126'),\n",
       " (-0.3629951822421112, 'ZIP_98133'),\n",
       " (0.0344051382103685, 'ZIP_98136'),\n",
       " (0.0050675614969976635, 'ZIP_98144'),\n",
       " (-0.27233648466549476, 'ZIP_98146'),\n",
       " (-0.2586210627621662, 'ZIP_98148'),\n",
       " (-0.39749236080843964, 'ZIP_98155'),\n",
       " (-0.17299508220444648, 'ZIP_98166'),\n",
       " (-0.4333799846571415, 'ZIP_98168'),\n",
       " (-0.2588391714558301, 'ZIP_98177'),\n",
       " (-0.3515712158458973, 'ZIP_98178'),\n",
       " (-0.3095117180825598, 'ZIP_98188'),\n",
       " (-0.33410761689722435, 'ZIP_98198'),\n",
       " (0.0, 'WF_0.0'),\n",
       " (0.42481899699636944, 'WF_1.0'),\n",
       " (-0.2661225009422166, 'VIEW_0.0'),\n",
       " (-0.14059031941744146, 'VIEW_1.0'),\n",
       " (-0.15512325001745386, 'VIEW_2.0'),\n",
       " (-0.08057200712332513, 'VIEW_3.0'),\n",
       " (-0.280522504801148, 'COND_1'),\n",
       " (-0.22868849038151048, 'COND_2'),\n",
       " (-0.10464079612558032, 'COND_3'),\n",
       " (-0.05796182889363419, 'COND_4'),\n",
       " (0.0, 'GRADE_3'),\n",
       " (-0.3647654914232082, 'GRADE_4'),\n",
       " (-0.3632551854641342, 'GRADE_5'),\n",
       " (-0.2543304358157164, 'GRADE_6'),\n",
       " (-0.12957093811675552, 'GRADE_7'),\n",
       " (-0.02965312015806391, 'GRADE_8'),\n",
       " (0.07591818497793784, 'GRADE_9'),\n",
       " (0.13448507268539253, 'GRADE_10'),\n",
       " (0.16745424749275312, 'GRADE_11'),\n",
       " (0.15622031028051817, 'GRADE_12')]"
      ]
     },
     "execution_count": 476,
     "metadata": {},
     "output_type": "execute_result"
    }
   ],
   "source": [
    "list(zip(lasso.coef_, X_train.columns))"
   ]
  },
  {
   "cell_type": "code",
   "execution_count": 477,
   "metadata": {},
   "outputs": [],
   "source": [
    "coefs = list(zip(lasso.coef_, X_train.columns))"
   ]
  },
  {
   "cell_type": "code",
   "execution_count": 478,
   "metadata": {},
   "outputs": [],
   "source": [
    "coefs = [x for x in coefs if \"ZIP\" in x[1]]"
   ]
  },
  {
   "cell_type": "code",
   "execution_count": 479,
   "metadata": {},
   "outputs": [],
   "source": [
    "coefs.sort(key=lambda x: x[0])"
   ]
  },
  {
   "cell_type": "code",
   "execution_count": 480,
   "metadata": {},
   "outputs": [
    {
     "data": {
      "text/plain": [
       "[(-0.4333799846571415, 'ZIP_98168'),\n",
       " (-0.39749236080843964, 'ZIP_98155'),\n",
       " (-0.37762468810516564, 'ZIP_98032'),\n",
       " (-0.37266412102476865, 'ZIP_98028'),\n",
       " (-0.3629951822421112, 'ZIP_98133'),\n",
       " (-0.3515712158458973, 'ZIP_98178'),\n",
       " (-0.3463033854034708, 'ZIP_98023'),\n",
       " (-0.3360542831398879, 'ZIP_98011'),\n",
       " (-0.33410761689722435, 'ZIP_98198'),\n",
       " (-0.30986000693850474, 'ZIP_98019'),\n",
       " (-0.3095117180825598, 'ZIP_98188'),\n",
       " (-0.28537594703970565, 'ZIP_98055'),\n",
       " (-0.2847374866532254, 'ZIP_98003'),\n",
       " (-0.27233648466549476, 'ZIP_98146'),\n",
       " (-0.2707247721706527, 'ZIP_98106'),\n",
       " (-0.2698390700853742, 'ZIP_98031'),\n",
       " (-0.26001912541152916, 'ZIP_98002'),\n",
       " (-0.2588391714558301, 'ZIP_98177'),\n",
       " (-0.2586210627621662, 'ZIP_98148'),\n",
       " (-0.2583353454231138, 'ZIP_98077'),\n",
       " (-0.2537147654218826, 'ZIP_98001'),\n",
       " (-0.25218169718187805, 'ZIP_98072'),\n",
       " (-0.25156888787809756, 'ZIP_98030'),\n",
       " (-0.23655056488032664, 'ZIP_98108'),\n",
       " (-0.2254450835399198, 'ZIP_98058'),\n",
       " (-0.21632050851543227, 'ZIP_98042'),\n",
       " (-0.212915315014372, 'ZIP_98034'),\n",
       " (-0.21266243419451034, 'ZIP_98125'),\n",
       " (-0.1982567757962043, 'ZIP_98092'),\n",
       " (-0.18939030100866294, 'ZIP_98014'),\n",
       " (-0.17299508220444648, 'ZIP_98166'),\n",
       " (-0.1590230591245128, 'ZIP_98056'),\n",
       " (-0.13009757828299426, 'ZIP_98070'),\n",
       " (-0.12440360411079922, 'ZIP_98118'),\n",
       " (-0.10382276952151048, 'ZIP_98059'),\n",
       " (-0.07634189744548177, 'ZIP_98126'),\n",
       " (-0.0753804660769606, 'ZIP_98038'),\n",
       " (-0.038683723479930016, 'ZIP_98053'),\n",
       " (-0.03786648159816063, 'ZIP_98052'),\n",
       " (-0.014837859435914999, 'ZIP_98074'),\n",
       " (0.0, 'ZIP_98022'),\n",
       " (-0.0, 'ZIP_98024'),\n",
       " (0.0, 'ZIP_98117'),\n",
       " (0.004721326520072092, 'ZIP_98065'),\n",
       " (0.0050675614969976635, 'ZIP_98144'),\n",
       " (0.02775611234308397, 'ZIP_98103'),\n",
       " (0.02940405296655583, 'ZIP_98075'),\n",
       " (0.0344051382103685, 'ZIP_98136'),\n",
       " (0.037963069621609474, 'ZIP_98007'),\n",
       " (0.038605081555392, 'ZIP_98107'),\n",
       " (0.04192597779588819, 'ZIP_98115'),\n",
       " (0.05228720592106337, 'ZIP_98008'),\n",
       " (0.05400444992731018, 'ZIP_98027'),\n",
       " (0.0621418572339145, 'ZIP_98010'),\n",
       " (0.062476249351112255, 'ZIP_98045'),\n",
       " (0.07402980998721548, 'ZIP_98116'),\n",
       " (0.07532748731842114, 'ZIP_98033'),\n",
       " (0.09034514265238267, 'ZIP_98006'),\n",
       " (0.10768301806618011, 'ZIP_98122'),\n",
       " (0.1124180428477083, 'ZIP_98029'),\n",
       " (0.11284406504665477, 'ZIP_98005'),\n",
       " (0.16493867809256055, 'ZIP_98105'),\n",
       " (0.18513869282971313, 'ZIP_98102'),\n",
       " (0.22102682724574854, 'ZIP_98119'),\n",
       " (0.2390308443779859, 'ZIP_98109'),\n",
       " (0.28184876167028305, 'ZIP_98040'),\n",
       " (0.3127840701669087, 'ZIP_98112'),\n",
       " (0.4767546381776712, 'ZIP_98004'),\n",
       " (0.5378723479382443, 'ZIP_98039')]"
      ]
     },
     "execution_count": 480,
     "metadata": {},
     "output_type": "execute_result"
    }
   ],
   "source": [
    "coefs"
   ]
  },
  {
   "cell_type": "code",
   "execution_count": 481,
   "metadata": {},
   "outputs": [],
   "source": [
    "adj = r_adjusted(elastic.score(X_train, y_train), X_train, y_train)\n",
    "model_results.append([\"Elastic - alpha=.0001, l1_ratio=.00001\", elastic.score(X_train, y_train), adj, train_mse, test_mse])"
   ]
  },
  {
   "cell_type": "code",
   "execution_count": null,
   "metadata": {},
   "outputs": [],
   "source": []
  },
  {
   "cell_type": "code",
   "execution_count": 482,
   "metadata": {},
   "outputs": [
    {
     "data": {
      "text/plain": [
       "<matplotlib.axes._subplots.AxesSubplot at 0x1c27429f28>"
      ]
     },
     "execution_count": 482,
     "metadata": {},
     "output_type": "execute_result"
    },
    {
     "data": {
      "image/png": "[encoded data removed]",
      "text/plain": [
       "<Figure size 432x288 with 1 Axes>"
      ]
     },
     "metadata": {
      "needs_background": "light"
     },
     "output_type": "display_data"
    }
   ],
   "source": [
    "\n",
    "\n",
    "r2 = [x[1] for x in model_results]\n",
    "r2_adj = [x[2] for x in model_results]\n",
    "sns.scatterplot(r2, r2_adj)"
   ]
  },
  {
   "cell_type": "code",
   "execution_count": 483,
   "metadata": {},
   "outputs": [
    {
     "data": {
      "text/plain": [
       "LinearRegression(copy_X=True, fit_intercept=True, n_jobs=None,\n",
       "         normalize=False)"
      ]
     },
     "execution_count": 483,
     "metadata": {},
     "output_type": "execute_result"
    }
   ],
   "source": [
    "linreg = LinearRegression()\n",
    "linreg.fit(X_train, y_train)"
   ]
  },
  {
   "cell_type": "code",
   "execution_count": 484,
   "metadata": {},
   "outputs": [
    {
     "name": "stdout",
     "output_type": "stream",
     "text": [
      "Train Mean Squarred Error: 0.032965173542183486\n",
      "Test Mean Squarred Error: 0.03584491734512773\n",
      "1.087357155855989\n"
     ]
    }
   ],
   "source": [
    "y_predict_train = elastic.predict(X_train)\n",
    "train_mse = mean_squared_error(y_train, y_predict_train)\n",
    "test_mse = mean_squared_error(y_test, y_predict)\n",
    "print('Train Mean Squarred Error:', train_mse)\n",
    "print('Test Mean Squarred Error:', test_mse)\n",
    "print(test_mse/train_mse)"
   ]
  },
  {
   "cell_type": "code",
   "execution_count": 485,
   "metadata": {},
   "outputs": [
    {
     "data": {
      "text/plain": [
       "0.8828244101859866"
      ]
     },
     "execution_count": 485,
     "metadata": {},
     "output_type": "execute_result"
    }
   ],
   "source": [
    "linreg.score(X_train, y_train)"
   ]
  },
  {
   "cell_type": "code",
   "execution_count": 486,
   "metadata": {},
   "outputs": [],
   "source": [
    "adj = r_adjusted(linreg.score(X_train, y_train), X_train, y_train)"
   ]
  },
  {
   "cell_type": "code",
   "execution_count": 487,
   "metadata": {},
   "outputs": [],
   "source": [
    "model_results.append([\"Linear Regression\", linreg.score(X_train, y_train), adj, train_mse, test_mse])"
   ]
  },
  {
   "cell_type": "code",
   "execution_count": 495,
   "metadata": {},
   "outputs": [
    {
     "ename": "IndexError",
     "evalue": "invalid index to scalar variable.",
     "output_type": "error",
     "traceback": [
      "\u001b[0;31m---------------------------------------------------------------------------\u001b[0m",
      "\u001b[0;31mIndexError\u001b[0m                                Traceback (most recent call last)",
      "\u001b[0;32m<ipython-input-495-7bfab52a5c2c>\u001b[0m in \u001b[0;36m<module>\u001b[0;34m\u001b[0m\n\u001b[1;32m      1\u001b[0m \u001b[0;34m\u001b[0m\u001b[0m\n\u001b[1;32m      2\u001b[0m \u001b[0;34m\u001b[0m\u001b[0m\n\u001b[0;32m----> 3\u001b[0;31m \u001b[0mr2\u001b[0m \u001b[0;34m=\u001b[0m \u001b[0;34m[\u001b[0m\u001b[0mx\u001b[0m\u001b[0;34m[\u001b[0m\u001b[0;36m1\u001b[0m\u001b[0;34m]\u001b[0m \u001b[0;32mfor\u001b[0m \u001b[0mx\u001b[0m \u001b[0;32min\u001b[0m \u001b[0mmodel_results\u001b[0m\u001b[0;34m]\u001b[0m\u001b[0;34m\u001b[0m\u001b[0;34m\u001b[0m\u001b[0m\n\u001b[0m\u001b[1;32m      4\u001b[0m \u001b[0mr2_adj\u001b[0m \u001b[0;34m=\u001b[0m \u001b[0;34m[\u001b[0m\u001b[0mx\u001b[0m\u001b[0;34m[\u001b[0m\u001b[0;36m2\u001b[0m\u001b[0;34m]\u001b[0m \u001b[0;32mfor\u001b[0m \u001b[0mx\u001b[0m \u001b[0;32min\u001b[0m \u001b[0mmodel_results\u001b[0m\u001b[0;34m]\u001b[0m\u001b[0;34m\u001b[0m\u001b[0;34m\u001b[0m\u001b[0m\n\u001b[1;32m      5\u001b[0m \u001b[0mfig\u001b[0m\u001b[0;34m,\u001b[0m \u001b[0max\u001b[0m \u001b[0;34m=\u001b[0m \u001b[0mplt\u001b[0m\u001b[0;34m.\u001b[0m\u001b[0msubplots\u001b[0m\u001b[0;34m(\u001b[0m\u001b[0mfigsize\u001b[0m\u001b[0;34m=\u001b[0m\u001b[0;34m(\u001b[0m\u001b[0;36m12\u001b[0m\u001b[0;34m,\u001b[0m\u001b[0;36m12\u001b[0m\u001b[0;34m)\u001b[0m\u001b[0;34m)\u001b[0m\u001b[0;34m\u001b[0m\u001b[0;34m\u001b[0m\u001b[0m\n",
      "\u001b[0;32m<ipython-input-495-7bfab52a5c2c>\u001b[0m in \u001b[0;36m<listcomp>\u001b[0;34m(.0)\u001b[0m\n\u001b[1;32m      1\u001b[0m \u001b[0;34m\u001b[0m\u001b[0m\n\u001b[1;32m      2\u001b[0m \u001b[0;34m\u001b[0m\u001b[0m\n\u001b[0;32m----> 3\u001b[0;31m \u001b[0mr2\u001b[0m \u001b[0;34m=\u001b[0m \u001b[0;34m[\u001b[0m\u001b[0mx\u001b[0m\u001b[0;34m[\u001b[0m\u001b[0;36m1\u001b[0m\u001b[0;34m]\u001b[0m \u001b[0;32mfor\u001b[0m \u001b[0mx\u001b[0m \u001b[0;32min\u001b[0m \u001b[0mmodel_results\u001b[0m\u001b[0;34m]\u001b[0m\u001b[0;34m\u001b[0m\u001b[0;34m\u001b[0m\u001b[0m\n\u001b[0m\u001b[1;32m      4\u001b[0m \u001b[0mr2_adj\u001b[0m \u001b[0;34m=\u001b[0m \u001b[0;34m[\u001b[0m\u001b[0mx\u001b[0m\u001b[0;34m[\u001b[0m\u001b[0;36m2\u001b[0m\u001b[0;34m]\u001b[0m \u001b[0;32mfor\u001b[0m \u001b[0mx\u001b[0m \u001b[0;32min\u001b[0m \u001b[0mmodel_results\u001b[0m\u001b[0;34m]\u001b[0m\u001b[0;34m\u001b[0m\u001b[0;34m\u001b[0m\u001b[0m\n\u001b[1;32m      5\u001b[0m \u001b[0mfig\u001b[0m\u001b[0;34m,\u001b[0m \u001b[0max\u001b[0m \u001b[0;34m=\u001b[0m \u001b[0mplt\u001b[0m\u001b[0;34m.\u001b[0m\u001b[0msubplots\u001b[0m\u001b[0;34m(\u001b[0m\u001b[0mfigsize\u001b[0m\u001b[0;34m=\u001b[0m\u001b[0;34m(\u001b[0m\u001b[0;36m12\u001b[0m\u001b[0;34m,\u001b[0m\u001b[0;36m12\u001b[0m\u001b[0;34m)\u001b[0m\u001b[0;34m)\u001b[0m\u001b[0;34m\u001b[0m\u001b[0;34m\u001b[0m\u001b[0m\n",
      "\u001b[0;31mIndexError\u001b[0m: invalid index to scalar variable."
     ]
    }
   ],
   "source": [
    "\n",
    "\n",
    "r2 = [x[1] for x in model_results]\n",
    "r2_adj = [x[2] for x in model_results]\n",
    "fig, ax = plt.subplots(figsize=(12,12))\n",
    "ax.scatter(r2, r2_adj)\n",
    "\n",
    "for i, entry in enumerate(model_results):\n",
    "    ax.annotate(entry[0], (r2[i], r2_adj[i]))\n",
    "\n",
    "#ax.margins(x=0, y=-0.45)\n"
   ]
  },
  {
   "cell_type": "code",
   "execution_count": null,
   "metadata": {},
   "outputs": [],
   "source": []
  },
  {
   "cell_type": "code",
   "execution_count": 491,
   "metadata": {},
   "outputs": [
    {
     "data": {
      "text/plain": [
       "[['Ridge - alpha .5',\n",
       "  0.882710971175009,\n",
       "  0.8821433819982466,\n",
       "  0.03284285996332593,\n",
       "  0.03584491734512773],\n",
       " ['Lasso - alpha 1',\n",
       "  0.00859596158756648,\n",
       "  0.0037983244373690495,\n",
       "  0.2776094603804716,\n",
       "  0.03584491734512773],\n",
       " ['Lasso - alpha .0001',\n",
       "  0.8812582507500257,\n",
       "  0.880539064801508,\n",
       "  0.033249645610385674,\n",
       "  0.03584491734512773],\n",
       " ['Elastic - alpha=.0001, l1_ratio=.00001',\n",
       "  0.8822741626603932,\n",
       "  0.8815611298094631,\n",
       "  0.032965173542183486,\n",
       "  0.03584491734512773],\n",
       " ['Linear Regression',\n",
       "  0.8828244101859866,\n",
       "  0.8821147100322007,\n",
       "  0.032965173542183486,\n",
       "  0.03584491734512773]]"
      ]
     },
     "execution_count": 491,
     "metadata": {},
     "output_type": "execute_result"
    }
   ],
   "source": [
    "model_results"
   ]
  },
  {
   "cell_type": "code",
   "execution_count": 398,
   "metadata": {},
   "outputs": [
    {
     "name": "stdout",
     "output_type": "stream",
     "text": [
      "Ratio of MSEs\n"
     ]
    },
    {
     "data": {
      "text/plain": [
       "['Ridge - alpha .5 - 1.069537109697225',\n",
       " 'Lasso - alpha .0001 - 1.0819770506237878',\n",
       " 'Elastic - alpha=.0001, l1_ratio=.00001 - 1.0735039738476828',\n",
       " 'Linear Regression - 1.0218445083571395']"
      ]
     },
     "execution_count": 398,
     "metadata": {},
     "output_type": "execute_result"
    }
   ],
   "source": [
    "print(\"Ratio of MSEs\")\n",
    "[\"%s - %s\" % (x[0], x[3]/x[4]) for x in model_results]"
   ]
  },
  {
   "cell_type": "code",
   "execution_count": null,
   "metadata": {},
   "outputs": [],
   "source": []
  }
 ],
 "metadata": {
  "kernelspec": {
   "display_name": "Python 3",
   "language": "python",
   "name": "python3"
  },
  "language_info": {
   "codemirror_mode": {
    "name": "ipython",
    "version": 3
   },
   "file_extension": ".py",
   "mimetype": "text/x-python",
   "name": "python",
   "nbconvert_exporter": "python",
   "pygments_lexer": "ipython3",
   "version": "3.7.3"
  },
  "latex_envs": {
   "LaTeX_envs_menu_present": true,
   "autoclose": false,
   "autocomplete": true,
   "bibliofile": "biblio.bib",
   "cite_by": "apalike",
   "current_citInitial": 1,
   "eqLabelWithNumbers": true,
   "eqNumInitial": 1,
   "hotkeys": {
    "equation": "Ctrl-E",
    "itemize": "Ctrl-I"
   },
   "labels_anchors": false,
   "latex_user_defs": false,
   "report_style_numbering": false,
   "user_envs_cfg": false
  },
  "toc": {
   "base_numbering": 1,
   "nav_menu": {},
   "number_sections": true,
   "sideBar": true,
   "skip_h1_title": false,
   "title_cell": "Table of Contents",
   "title_sidebar": "Contents",
   "toc_cell": false,
   "toc_position": {},
   "toc_section_display": true,
   "toc_window_display": false
  }
 },
 "nbformat": 4,
 "nbformat_minor": 2
}
