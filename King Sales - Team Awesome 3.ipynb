{
 "cells": [
  {
   "cell_type": "code",
   "execution_count": 1,
   "metadata": {},
   "outputs": [],
   "source": [
    "import pandas as pd\n",
    "import numpy as np\n",
    "import matplotlib.pyplot as plt\n",
    "import seaborn as sns\n",
    "%matplotlib inline\n",
    "import statsmodels.api as sm\n",
    "from datetime import datetime, timedelta\n",
    "\n",
    "from sklearn.model_selection import train_test_split, cross_val_score\n",
    "from sklearn.metrics import mean_squared_error\n",
    "from sklearn.linear_model import LinearRegression \n",
    "from sklearn.preprocessing import StandardScaler"
   ]
  },
  {
   "cell_type": "code",
   "execution_count": 2,
   "metadata": {},
   "outputs": [],
   "source": [
    "def r_adjusted(r_squared, X, y):\n",
    "    return 1 - (1-r_squared)*(len(y)-1)/(len(y)-X.shape[1]-1)"
   ]
  },
  {
   "cell_type": "markdown",
   "metadata": {},
   "source": [
    "# Initial Inspection"
   ]
  },
  {
   "cell_type": "code",
   "execution_count": 3,
   "metadata": {},
   "outputs": [],
   "source": [
    "# Read in the csv file which contains data\n",
    "df = pd.read_csv('kc_house_data.csv')"
   ]
  },
  {
   "cell_type": "code",
   "execution_count": 4,
   "metadata": {},
   "outputs": [
    {
     "data": {
      "text/html": [
       "<div>\n",
       "<style scoped>\n",
       "    .dataframe tbody tr th:only-of-type {\n",
       "        vertical-align: middle;\n",
       "    }\n",
       "\n",
       "    .dataframe tbody tr th {\n",
       "        vertical-align: top;\n",
       "    }\n",
       "\n",
       "    .dataframe thead th {\n",
       "        text-align: right;\n",
       "    }\n",
       "</style>\n",
       "<table border=\"1\" class=\"dataframe\">\n",
       "  <thead>\n",
       "    <tr style=\"text-align: right;\">\n",
       "      <th></th>\n",
       "      <th>id</th>\n",
       "      <th>date</th>\n",
       "      <th>price</th>\n",
       "      <th>bedrooms</th>\n",
       "      <th>bathrooms</th>\n",
       "      <th>sqft_living</th>\n",
       "      <th>sqft_lot</th>\n",
       "      <th>floors</th>\n",
       "      <th>waterfront</th>\n",
       "      <th>view</th>\n",
       "      <th>...</th>\n",
       "      <th>grade</th>\n",
       "      <th>sqft_above</th>\n",
       "      <th>sqft_basement</th>\n",
       "      <th>yr_built</th>\n",
       "      <th>yr_renovated</th>\n",
       "      <th>zipcode</th>\n",
       "      <th>lat</th>\n",
       "      <th>long</th>\n",
       "      <th>sqft_living15</th>\n",
       "      <th>sqft_lot15</th>\n",
       "    </tr>\n",
       "  </thead>\n",
       "  <tbody>\n",
       "    <tr>\n",
       "      <th>0</th>\n",
       "      <td>7129300520</td>\n",
       "      <td>10/13/2014</td>\n",
       "      <td>221900.0</td>\n",
       "      <td>3</td>\n",
       "      <td>1.00</td>\n",
       "      <td>1180</td>\n",
       "      <td>5650</td>\n",
       "      <td>1.0</td>\n",
       "      <td>NaN</td>\n",
       "      <td>0.0</td>\n",
       "      <td>...</td>\n",
       "      <td>7</td>\n",
       "      <td>1180</td>\n",
       "      <td>0.0</td>\n",
       "      <td>1955</td>\n",
       "      <td>0.0</td>\n",
       "      <td>98178</td>\n",
       "      <td>47.5112</td>\n",
       "      <td>-122.257</td>\n",
       "      <td>1340</td>\n",
       "      <td>5650</td>\n",
       "    </tr>\n",
       "    <tr>\n",
       "      <th>1</th>\n",
       "      <td>6414100192</td>\n",
       "      <td>12/9/2014</td>\n",
       "      <td>538000.0</td>\n",
       "      <td>3</td>\n",
       "      <td>2.25</td>\n",
       "      <td>2570</td>\n",
       "      <td>7242</td>\n",
       "      <td>2.0</td>\n",
       "      <td>0.0</td>\n",
       "      <td>0.0</td>\n",
       "      <td>...</td>\n",
       "      <td>7</td>\n",
       "      <td>2170</td>\n",
       "      <td>400.0</td>\n",
       "      <td>1951</td>\n",
       "      <td>1991.0</td>\n",
       "      <td>98125</td>\n",
       "      <td>47.7210</td>\n",
       "      <td>-122.319</td>\n",
       "      <td>1690</td>\n",
       "      <td>7639</td>\n",
       "    </tr>\n",
       "    <tr>\n",
       "      <th>2</th>\n",
       "      <td>5631500400</td>\n",
       "      <td>2/25/2015</td>\n",
       "      <td>180000.0</td>\n",
       "      <td>2</td>\n",
       "      <td>1.00</td>\n",
       "      <td>770</td>\n",
       "      <td>10000</td>\n",
       "      <td>1.0</td>\n",
       "      <td>0.0</td>\n",
       "      <td>0.0</td>\n",
       "      <td>...</td>\n",
       "      <td>6</td>\n",
       "      <td>770</td>\n",
       "      <td>0.0</td>\n",
       "      <td>1933</td>\n",
       "      <td>NaN</td>\n",
       "      <td>98028</td>\n",
       "      <td>47.7379</td>\n",
       "      <td>-122.233</td>\n",
       "      <td>2720</td>\n",
       "      <td>8062</td>\n",
       "    </tr>\n",
       "    <tr>\n",
       "      <th>3</th>\n",
       "      <td>2487200875</td>\n",
       "      <td>12/9/2014</td>\n",
       "      <td>604000.0</td>\n",
       "      <td>4</td>\n",
       "      <td>3.00</td>\n",
       "      <td>1960</td>\n",
       "      <td>5000</td>\n",
       "      <td>1.0</td>\n",
       "      <td>0.0</td>\n",
       "      <td>0.0</td>\n",
       "      <td>...</td>\n",
       "      <td>7</td>\n",
       "      <td>1050</td>\n",
       "      <td>910.0</td>\n",
       "      <td>1965</td>\n",
       "      <td>0.0</td>\n",
       "      <td>98136</td>\n",
       "      <td>47.5208</td>\n",
       "      <td>-122.393</td>\n",
       "      <td>1360</td>\n",
       "      <td>5000</td>\n",
       "    </tr>\n",
       "    <tr>\n",
       "      <th>4</th>\n",
       "      <td>1954400510</td>\n",
       "      <td>2/18/2015</td>\n",
       "      <td>510000.0</td>\n",
       "      <td>3</td>\n",
       "      <td>2.00</td>\n",
       "      <td>1680</td>\n",
       "      <td>8080</td>\n",
       "      <td>1.0</td>\n",
       "      <td>0.0</td>\n",
       "      <td>0.0</td>\n",
       "      <td>...</td>\n",
       "      <td>8</td>\n",
       "      <td>1680</td>\n",
       "      <td>0.0</td>\n",
       "      <td>1987</td>\n",
       "      <td>0.0</td>\n",
       "      <td>98074</td>\n",
       "      <td>47.6168</td>\n",
       "      <td>-122.045</td>\n",
       "      <td>1800</td>\n",
       "      <td>7503</td>\n",
       "    </tr>\n",
       "  </tbody>\n",
       "</table>\n",
       "<p>5 rows × 21 columns</p>\n",
       "</div>"
      ],
      "text/plain": [
       "           id        date     price  bedrooms  bathrooms  sqft_living  \\\n",
       "0  7129300520  10/13/2014  221900.0         3       1.00         1180   \n",
       "1  6414100192   12/9/2014  538000.0         3       2.25         2570   \n",
       "2  5631500400   2/25/2015  180000.0         2       1.00          770   \n",
       "3  2487200875   12/9/2014  604000.0         4       3.00         1960   \n",
       "4  1954400510   2/18/2015  510000.0         3       2.00         1680   \n",
       "\n",
       "   sqft_lot  floors  waterfront  view     ...      grade  sqft_above  \\\n",
       "0      5650     1.0         NaN   0.0     ...          7        1180   \n",
       "1      7242     2.0         0.0   0.0     ...          7        2170   \n",
       "2     10000     1.0         0.0   0.0     ...          6         770   \n",
       "3      5000     1.0         0.0   0.0     ...          7        1050   \n",
       "4      8080     1.0         0.0   0.0     ...          8        1680   \n",
       "\n",
       "   sqft_basement yr_built  yr_renovated  zipcode      lat     long  \\\n",
       "0            0.0     1955           0.0    98178  47.5112 -122.257   \n",
       "1          400.0     1951        1991.0    98125  47.7210 -122.319   \n",
       "2            0.0     1933           NaN    98028  47.7379 -122.233   \n",
       "3          910.0     1965           0.0    98136  47.5208 -122.393   \n",
       "4            0.0     1987           0.0    98074  47.6168 -122.045   \n",
       "\n",
       "   sqft_living15  sqft_lot15  \n",
       "0           1340        5650  \n",
       "1           1690        7639  \n",
       "2           2720        8062  \n",
       "3           1360        5000  \n",
       "4           1800        7503  \n",
       "\n",
       "[5 rows x 21 columns]"
      ]
     },
     "execution_count": 4,
     "metadata": {},
     "output_type": "execute_result"
    }
   ],
   "source": [
    "# Let's take a look at the first few columns\n",
    "df.head()"
   ]
  },
  {
   "cell_type": "code",
   "execution_count": 5,
   "metadata": {},
   "outputs": [
    {
     "name": "stdout",
     "output_type": "stream",
     "text": [
      "id                 int64\n",
      "date              object\n",
      "price            float64\n",
      "bedrooms           int64\n",
      "bathrooms        float64\n",
      "sqft_living        int64\n",
      "sqft_lot           int64\n",
      "floors           float64\n",
      "waterfront       float64\n",
      "view             float64\n",
      "condition          int64\n",
      "grade              int64\n",
      "sqft_above         int64\n",
      "sqft_basement     object\n",
      "yr_built           int64\n",
      "yr_renovated     float64\n",
      "zipcode            int64\n",
      "lat              float64\n",
      "long             float64\n",
      "sqft_living15      int64\n",
      "sqft_lot15         int64\n",
      "dtype: object\n",
      "Dataframe shape (21597, 21)\n"
     ]
    }
   ],
   "source": [
    "# Let's look at the data types. Note that date and sqft_basement are string object.\n",
    "print(df.dtypes)\n",
    "print('Dataframe shape',df.shape)"
   ]
  },
  {
   "cell_type": "code",
   "execution_count": 6,
   "metadata": {},
   "outputs": [
    {
     "name": "stdout",
     "output_type": "stream",
     "text": [
      "Found 2376 \t NAs in column \twaterfront (11.00% of the data)\n",
      "Found 63 \t NAs in column \tview (0.29% of the data)\n",
      "Found 3842 \t NAs in column \tyr_renovated (17.79% of the data)\n"
     ]
    }
   ],
   "source": [
    "'''\n",
    "Get the number of NAs for a DataFrame, and the percentage of NAs in the data\n",
    "'''\n",
    "\n",
    "def print_NAs(dataframe):\n",
    "    for column in dataframe:\n",
    "        num_nas = dataframe[column].isna().sum()\n",
    "        if num_nas > 0:\n",
    "            print('Found {0} \\t NAs in column \\t{1} ({2:0.2f}% of the data)'.format(num_nas, column, 100.*num_nas/len(df)))\n",
    "\n",
    "print_NAs(df)"
   ]
  },
  {
   "cell_type": "markdown",
   "metadata": {},
   "source": [
    "# Plot the waterfront locations on a graph\n",
    "Not shown here because of library issues but include in powerpoint"
   ]
  },
  {
   "cell_type": "code",
   "execution_count": 8,
   "metadata": {},
   "outputs": [
    {
     "name": "stdout",
     "output_type": "stream",
     "text": [
      "0.0\n"
     ]
    }
   ],
   "source": [
    "# \"view\" column has empty values, will fill with mode\n",
    "view_mode = df['view'].mode()\n",
    "print(view_mode[0])\n",
    "df['view'].fillna(value=view_mode[0],inplace=True)"
   ]
  },
  {
   "cell_type": "code",
   "execution_count": 9,
   "metadata": {},
   "outputs": [],
   "source": [
    "# year renovated is ~18% of the data, \n",
    "#Convert year renovated to renovated or not variable\n",
    "df['is_renovated'] = df['yr_renovated'].apply(lambda x: 1 if x>0 else 0)"
   ]
  },
  {
   "cell_type": "code",
   "execution_count": 10,
   "metadata": {},
   "outputs": [
    {
     "data": {
      "text/plain": [
       "0       0.0\n",
       "1     400.0\n",
       "2       0.0\n",
       "3     910.0\n",
       "4       0.0\n",
       "5    1530.0\n",
       "6         ?\n",
       "Name: sqft_basement, dtype: object"
      ]
     },
     "execution_count": 10,
     "metadata": {},
     "output_type": "execute_result"
    }
   ],
   "source": [
    "#sqft basement is a string and some values are missing '?'\n",
    "df['sqft_basement'].head(7) "
   ]
  },
  {
   "cell_type": "code",
   "execution_count": 11,
   "metadata": {},
   "outputs": [],
   "source": [
    "# the basement sqft can be calculated as the difference \n",
    "# between the living area and the above area\n",
    "df['sqft_basement'] = df['sqft_living'] - df['sqft_above']\n",
    "#"
   ]
  },
  {
   "cell_type": "code",
   "execution_count": 12,
   "metadata": {},
   "outputs": [],
   "source": [
    "# but since sqft_basement is dependent on two other variables, lets remove it and\n",
    "# let's convert it into a has basement or not\n",
    "df['has_basement'] = df['sqft_basement'].apply(lambda x: 1 if x>0 else 0)\n"
   ]
  },
  {
   "cell_type": "markdown",
   "metadata": {},
   "source": [
    "# Looking for outliers"
   ]
  },
  {
   "cell_type": "code",
   "execution_count": 15,
   "metadata": {},
   "outputs": [
    {
     "data": {
      "text/plain": [
       "array([ 3,  2,  4,  5,  1,  6,  7,  8,  9, 11, 10, 33])"
      ]
     },
     "execution_count": 15,
     "metadata": {},
     "output_type": "execute_result"
    }
   ],
   "source": [
    "df.bedrooms.unique()"
   ]
  },
  {
   "cell_type": "code",
   "execution_count": 16,
   "metadata": {},
   "outputs": [
    {
     "data": {
      "text/html": [
       "<div>\n",
       "<style scoped>\n",
       "    .dataframe tbody tr th:only-of-type {\n",
       "        vertical-align: middle;\n",
       "    }\n",
       "\n",
       "    .dataframe tbody tr th {\n",
       "        vertical-align: top;\n",
       "    }\n",
       "\n",
       "    .dataframe thead th {\n",
       "        text-align: right;\n",
       "    }\n",
       "</style>\n",
       "<table border=\"1\" class=\"dataframe\">\n",
       "  <thead>\n",
       "    <tr style=\"text-align: right;\">\n",
       "      <th></th>\n",
       "      <th>id</th>\n",
       "      <th>date</th>\n",
       "      <th>price</th>\n",
       "      <th>bedrooms</th>\n",
       "      <th>bathrooms</th>\n",
       "      <th>sqft_living</th>\n",
       "      <th>sqft_lot</th>\n",
       "      <th>floors</th>\n",
       "      <th>waterfront</th>\n",
       "      <th>view</th>\n",
       "      <th>...</th>\n",
       "      <th>sqft_basement</th>\n",
       "      <th>yr_built</th>\n",
       "      <th>yr_renovated</th>\n",
       "      <th>zipcode</th>\n",
       "      <th>lat</th>\n",
       "      <th>long</th>\n",
       "      <th>sqft_living15</th>\n",
       "      <th>sqft_lot15</th>\n",
       "      <th>is_renovated</th>\n",
       "      <th>has_basement</th>\n",
       "    </tr>\n",
       "  </thead>\n",
       "  <tbody>\n",
       "    <tr>\n",
       "      <th>15856</th>\n",
       "      <td>2402100895</td>\n",
       "      <td>6/25/2014</td>\n",
       "      <td>640000.0</td>\n",
       "      <td>33</td>\n",
       "      <td>1.75</td>\n",
       "      <td>1620</td>\n",
       "      <td>6000</td>\n",
       "      <td>1.0</td>\n",
       "      <td>0.0</td>\n",
       "      <td>0.0</td>\n",
       "      <td>...</td>\n",
       "      <td>580</td>\n",
       "      <td>1947</td>\n",
       "      <td>0.0</td>\n",
       "      <td>98103</td>\n",
       "      <td>47.6878</td>\n",
       "      <td>-122.331</td>\n",
       "      <td>1330</td>\n",
       "      <td>4700</td>\n",
       "      <td>0</td>\n",
       "      <td>1</td>\n",
       "    </tr>\n",
       "  </tbody>\n",
       "</table>\n",
       "<p>1 rows × 23 columns</p>\n",
       "</div>"
      ],
      "text/plain": [
       "               id       date     price  bedrooms  bathrooms  sqft_living  \\\n",
       "15856  2402100895  6/25/2014  640000.0        33       1.75         1620   \n",
       "\n",
       "       sqft_lot  floors  waterfront  view      ...       sqft_basement  \\\n",
       "15856      6000     1.0         0.0   0.0      ...                 580   \n",
       "\n",
       "       yr_built  yr_renovated  zipcode      lat     long  sqft_living15  \\\n",
       "15856      1947           0.0    98103  47.6878 -122.331           1330   \n",
       "\n",
       "       sqft_lot15  is_renovated  has_basement  \n",
       "15856        4700             0             1  \n",
       "\n",
       "[1 rows x 23 columns]"
      ]
     },
     "execution_count": 16,
     "metadata": {},
     "output_type": "execute_result"
    }
   ],
   "source": [
    "df[df.bedrooms>30]"
   ]
  },
  {
   "cell_type": "code",
   "execution_count": 17,
   "metadata": {},
   "outputs": [],
   "source": [
    "# The 33 bedroom house appears to be a typo as the property has only 1.75 bathrooms, removing..\n",
    "df = df[df.bedrooms<30]"
   ]
  },
  {
   "cell_type": "markdown",
   "metadata": {},
   "source": [
    "#### Most houses are sold on Tuesdays! Who is buying on a weekend?"
   ]
  },
  {
   "cell_type": "markdown",
   "metadata": {},
   "source": [
    "### New/Renovated Housing vs. Price\n",
    "Can how recently a house was built or renovated—it's \"newness\"—affect it's price per square foot?"
   ]
  },
  {
   "cell_type": "code",
   "execution_count": 18,
   "metadata": {},
   "outputs": [],
   "source": [
    "df[\"blt_or_renov\"] = df[\"yr_renovated\"]\n",
    "df.loc[df[df[\"blt_or_renov\"] == 0].index, \"blt_or_renov\"] = df[df[\"blt_or_renov\"] ==0][\"yr_built\"]\n",
    "df[\"blt_or_renov\"].fillna(value=df[\"yr_built\"], inplace=True)"
   ]
  },
  {
   "cell_type": "code",
   "execution_count": 19,
   "metadata": {},
   "outputs": [],
   "source": [
    "df[\"price_per_sqft\"] = df[\"price\"]/df[\"sqft_living\"]"
   ]
  },
  {
   "cell_type": "markdown",
   "metadata": {},
   "source": [
    "## Modelling whole data set"
   ]
  },
  {
   "cell_type": "code",
   "execution_count": 20,
   "metadata": {},
   "outputs": [],
   "source": [
    "columns_to_drop = ['id', 'date']"
   ]
  },
  {
   "cell_type": "code",
   "execution_count": 21,
   "metadata": {},
   "outputs": [],
   "source": [
    "df.drop(columns_to_drop, axis=1, inplace=True)"
   ]
  },
  {
   "cell_type": "code",
   "execution_count": 22,
   "metadata": {},
   "outputs": [
    {
     "data": {
      "text/html": [
       "<div>\n",
       "<style scoped>\n",
       "    .dataframe tbody tr th:only-of-type {\n",
       "        vertical-align: middle;\n",
       "    }\n",
       "\n",
       "    .dataframe tbody tr th {\n",
       "        vertical-align: top;\n",
       "    }\n",
       "\n",
       "    .dataframe thead th {\n",
       "        text-align: right;\n",
       "    }\n",
       "</style>\n",
       "<table border=\"1\" class=\"dataframe\">\n",
       "  <thead>\n",
       "    <tr style=\"text-align: right;\">\n",
       "      <th></th>\n",
       "      <th>price</th>\n",
       "      <th>bedrooms</th>\n",
       "      <th>bathrooms</th>\n",
       "      <th>sqft_living</th>\n",
       "      <th>sqft_lot</th>\n",
       "      <th>floors</th>\n",
       "      <th>waterfront</th>\n",
       "      <th>view</th>\n",
       "      <th>condition</th>\n",
       "      <th>grade</th>\n",
       "      <th>...</th>\n",
       "      <th>yr_renovated</th>\n",
       "      <th>zipcode</th>\n",
       "      <th>lat</th>\n",
       "      <th>long</th>\n",
       "      <th>sqft_living15</th>\n",
       "      <th>sqft_lot15</th>\n",
       "      <th>is_renovated</th>\n",
       "      <th>has_basement</th>\n",
       "      <th>blt_or_renov</th>\n",
       "      <th>price_per_sqft</th>\n",
       "    </tr>\n",
       "  </thead>\n",
       "  <tbody>\n",
       "    <tr>\n",
       "      <th>0</th>\n",
       "      <td>221900.0</td>\n",
       "      <td>3</td>\n",
       "      <td>1.00</td>\n",
       "      <td>1180</td>\n",
       "      <td>5650</td>\n",
       "      <td>1.0</td>\n",
       "      <td>NaN</td>\n",
       "      <td>0.0</td>\n",
       "      <td>3</td>\n",
       "      <td>7</td>\n",
       "      <td>...</td>\n",
       "      <td>0.0</td>\n",
       "      <td>98178</td>\n",
       "      <td>47.5112</td>\n",
       "      <td>-122.257</td>\n",
       "      <td>1340</td>\n",
       "      <td>5650</td>\n",
       "      <td>0</td>\n",
       "      <td>0</td>\n",
       "      <td>1955.0</td>\n",
       "      <td>188.050847</td>\n",
       "    </tr>\n",
       "    <tr>\n",
       "      <th>1</th>\n",
       "      <td>538000.0</td>\n",
       "      <td>3</td>\n",
       "      <td>2.25</td>\n",
       "      <td>2570</td>\n",
       "      <td>7242</td>\n",
       "      <td>2.0</td>\n",
       "      <td>0.0</td>\n",
       "      <td>0.0</td>\n",
       "      <td>3</td>\n",
       "      <td>7</td>\n",
       "      <td>...</td>\n",
       "      <td>1991.0</td>\n",
       "      <td>98125</td>\n",
       "      <td>47.7210</td>\n",
       "      <td>-122.319</td>\n",
       "      <td>1690</td>\n",
       "      <td>7639</td>\n",
       "      <td>1</td>\n",
       "      <td>1</td>\n",
       "      <td>1991.0</td>\n",
       "      <td>209.338521</td>\n",
       "    </tr>\n",
       "    <tr>\n",
       "      <th>2</th>\n",
       "      <td>180000.0</td>\n",
       "      <td>2</td>\n",
       "      <td>1.00</td>\n",
       "      <td>770</td>\n",
       "      <td>10000</td>\n",
       "      <td>1.0</td>\n",
       "      <td>0.0</td>\n",
       "      <td>0.0</td>\n",
       "      <td>3</td>\n",
       "      <td>6</td>\n",
       "      <td>...</td>\n",
       "      <td>NaN</td>\n",
       "      <td>98028</td>\n",
       "      <td>47.7379</td>\n",
       "      <td>-122.233</td>\n",
       "      <td>2720</td>\n",
       "      <td>8062</td>\n",
       "      <td>0</td>\n",
       "      <td>0</td>\n",
       "      <td>1933.0</td>\n",
       "      <td>233.766234</td>\n",
       "    </tr>\n",
       "    <tr>\n",
       "      <th>3</th>\n",
       "      <td>604000.0</td>\n",
       "      <td>4</td>\n",
       "      <td>3.00</td>\n",
       "      <td>1960</td>\n",
       "      <td>5000</td>\n",
       "      <td>1.0</td>\n",
       "      <td>0.0</td>\n",
       "      <td>0.0</td>\n",
       "      <td>5</td>\n",
       "      <td>7</td>\n",
       "      <td>...</td>\n",
       "      <td>0.0</td>\n",
       "      <td>98136</td>\n",
       "      <td>47.5208</td>\n",
       "      <td>-122.393</td>\n",
       "      <td>1360</td>\n",
       "      <td>5000</td>\n",
       "      <td>0</td>\n",
       "      <td>1</td>\n",
       "      <td>1965.0</td>\n",
       "      <td>308.163265</td>\n",
       "    </tr>\n",
       "    <tr>\n",
       "      <th>4</th>\n",
       "      <td>510000.0</td>\n",
       "      <td>3</td>\n",
       "      <td>2.00</td>\n",
       "      <td>1680</td>\n",
       "      <td>8080</td>\n",
       "      <td>1.0</td>\n",
       "      <td>0.0</td>\n",
       "      <td>0.0</td>\n",
       "      <td>3</td>\n",
       "      <td>8</td>\n",
       "      <td>...</td>\n",
       "      <td>0.0</td>\n",
       "      <td>98074</td>\n",
       "      <td>47.6168</td>\n",
       "      <td>-122.045</td>\n",
       "      <td>1800</td>\n",
       "      <td>7503</td>\n",
       "      <td>0</td>\n",
       "      <td>0</td>\n",
       "      <td>1987.0</td>\n",
       "      <td>303.571429</td>\n",
       "    </tr>\n",
       "  </tbody>\n",
       "</table>\n",
       "<p>5 rows × 23 columns</p>\n",
       "</div>"
      ],
      "text/plain": [
       "      price  bedrooms  bathrooms  sqft_living  sqft_lot  floors  waterfront  \\\n",
       "0  221900.0         3       1.00         1180      5650     1.0         NaN   \n",
       "1  538000.0         3       2.25         2570      7242     2.0         0.0   \n",
       "2  180000.0         2       1.00          770     10000     1.0         0.0   \n",
       "3  604000.0         4       3.00         1960      5000     1.0         0.0   \n",
       "4  510000.0         3       2.00         1680      8080     1.0         0.0   \n",
       "\n",
       "   view  condition  grade       ...        yr_renovated  zipcode      lat  \\\n",
       "0   0.0          3      7       ...                 0.0    98178  47.5112   \n",
       "1   0.0          3      7       ...              1991.0    98125  47.7210   \n",
       "2   0.0          3      6       ...                 NaN    98028  47.7379   \n",
       "3   0.0          5      7       ...                 0.0    98136  47.5208   \n",
       "4   0.0          3      8       ...                 0.0    98074  47.6168   \n",
       "\n",
       "      long  sqft_living15  sqft_lot15  is_renovated  has_basement  \\\n",
       "0 -122.257           1340        5650             0             0   \n",
       "1 -122.319           1690        7639             1             1   \n",
       "2 -122.233           2720        8062             0             0   \n",
       "3 -122.393           1360        5000             0             1   \n",
       "4 -122.045           1800        7503             0             0   \n",
       "\n",
       "   blt_or_renov  price_per_sqft  \n",
       "0        1955.0      188.050847  \n",
       "1        1991.0      209.338521  \n",
       "2        1933.0      233.766234  \n",
       "3        1965.0      308.163265  \n",
       "4        1987.0      303.571429  \n",
       "\n",
       "[5 rows x 23 columns]"
      ]
     },
     "execution_count": 22,
     "metadata": {},
     "output_type": "execute_result"
    }
   ],
   "source": [
    "df.head()"
   ]
  },
  {
   "cell_type": "markdown",
   "metadata": {},
   "source": [
    "# Standardize the data"
   ]
  },
  {
   "cell_type": "code",
   "execution_count": 24,
   "metadata": {},
   "outputs": [],
   "source": [
    "b = df['sqft_living']\n",
    "sqft_living_min = min(b)\n",
    "sqft_living_range = max(b)-min(b)\n",
    "df['sqft_living'] = (b-sqft_living_min)/sqft_living_range\n",
    "\n",
    "b = df['sqft_above']\n",
    "sqft_ab_min = min(b)\n",
    "sqft_ab_range = max(b)-min(b)\n",
    "df['sqft_above'] = (b-sqft_ab_min)/(sqft_ab_range)\n",
    "\n",
    "b = df['sqft_lot']\n",
    "sqft_lot_min = min(b)\n",
    "sqft_lot_range = max(b)-min(b)\n",
    "df['sqft_lot'] = (b-sqft_lot_min)/(sqft_lot_range)\n",
    "\n",
    "b = df['sqft_living15']\n",
    "sqft_living15_min = min(b)\n",
    "sqft_living15_range = max(b)-min(b)\n",
    "df['sqft_living15'] = (b-sqft_living15_min)/sqft_living15_range\n",
    "\n",
    "b = df['sqft_lot15']\n",
    "sqft_lot15_min = min(b)\n",
    "sqft_lot15_range = max(b)-min(b)\n",
    "df['sqft_lot15'] = (b-sqft_lot15_min)/sqft_lot15_range\n",
    "\n",
    "b = df['sqft_basement']\n",
    "sqft_basement_min = min(b)\n",
    "sqft_basement_range = max(b)-min(b)\n",
    "df['sqft_basement'] = (b-sqft_basement_min)/sqft_basement_range\n",
    "\n",
    "b = df['yr_built']                  \n",
    "yb_min = min(b)\n",
    "yb_range = max(b)-min(b)\n",
    "df['yr_built'] = (b-yb_min)/(yb_range)\n",
    "\n",
    "b = df['yr_renovated']                  \n",
    "yb_min = min(b)\n",
    "yb_range = max(b)-min(b)\n",
    "df['yr_renovated'] = (b-yb_min)/(yb_range)\n",
    "\n",
    "# standardization\n",
    "b = df['price']\n",
    "y = np.log(b)\n",
    "# price_mean = b.mean()\n",
    "# price_std = b.std()\n",
    "# y = (b-price_mean)/(price_std)\n"
   ]
  },
  {
   "cell_type": "code",
   "execution_count": 25,
   "metadata": {},
   "outputs": [],
   "source": [
    "zip_dummy = pd.get_dummies(df[\"zipcode\"], prefix=\"ZIP\")\n",
    "df = df.drop(columns=[\"zipcode\"],)\n",
    "df = pd.concat([df, zip_dummy], axis=1)\n",
    "df.drop(df.columns[-1], axis=1, inplace=True)"
   ]
  },
  {
   "cell_type": "code",
   "execution_count": 26,
   "metadata": {},
   "outputs": [],
   "source": [
    "wf_dummy = pd.get_dummies(df[\"waterfront\"], prefix=\"WF\")\n",
    "df = df.drop(columns=[\"waterfront\"],)\n",
    "df = pd.concat([df, wf_dummy], axis=1)"
   ]
  },
  {
   "cell_type": "code",
   "execution_count": 27,
   "metadata": {},
   "outputs": [],
   "source": [
    "view_dummy = pd.get_dummies(df[\"view\"], prefix=\"VIEW\")\n",
    "df = df.drop(columns=[\"view\"],)\n",
    "df = pd.concat([df, view_dummy], axis=1)\n",
    "df.drop(df.columns[-1], axis=1, inplace=True)"
   ]
  },
  {
   "cell_type": "code",
   "execution_count": 28,
   "metadata": {
    "scrolled": true
   },
   "outputs": [],
   "source": [
    "condition_dummy = pd.get_dummies(df[\"condition\"], prefix=\"COND\")\n",
    "df = df.drop(columns=[\"condition\"],)\n",
    "df = pd.concat([df, condition_dummy], axis=1)\n",
    "df.drop(df.columns[-1], axis=1, inplace=True)"
   ]
  },
  {
   "cell_type": "code",
   "execution_count": 29,
   "metadata": {},
   "outputs": [],
   "source": [
    "grade_dummy = pd.get_dummies(df[\"grade\"], prefix=\"GRADE\")\n",
    "df = df.drop(columns=[\"grade\"],)\n",
    "df = pd.concat([df, grade_dummy], axis=1)\n",
    "df.drop(df.columns[-1], axis=1, inplace=True)"
   ]
  },
  {
   "cell_type": "code",
   "execution_count": 30,
   "metadata": {},
   "outputs": [
    {
     "name": "stdout",
     "output_type": "stream",
     "text": [
      "Found 3842 \t NAs in column \tyr_renovated (17.79% of the data)\n"
     ]
    }
   ],
   "source": [
    "print_NAs(df)"
   ]
  },
  {
   "cell_type": "code",
   "execution_count": 31,
   "metadata": {},
   "outputs": [],
   "source": [
    "df.drop(\"yr_renovated\", axis=1, inplace=True)"
   ]
  },
  {
   "cell_type": "code",
   "execution_count": 33,
   "metadata": {},
   "outputs": [],
   "source": [
    "#Lets select our predictor data frame\n",
    "X = df.drop(columns=['price', \"price_per_sqft\"])"
   ]
  },
  {
   "cell_type": "code",
   "execution_count": 34,
   "metadata": {},
   "outputs": [
    {
     "name": "stdout",
     "output_type": "stream",
     "text": [
      "Train length  17276 17276\n",
      "Test length  4320 4320\n"
     ]
    }
   ],
   "source": [
    "# Let's split the data into train and test data sets\n",
    "X_train, X_test, y_train, y_test = train_test_split(X, y, test_size=0.20)\n",
    "print('Train length ',len(X_train), len(y_train))\n",
    "print('Test length ',len(X_test), len(y_test))"
   ]
  },
  {
   "cell_type": "code",
   "execution_count": 35,
   "metadata": {
    "scrolled": true
   },
   "outputs": [
    {
     "data": {
      "text/plain": [
       "Ridge(alpha=0.5, copy_X=True, fit_intercept=True, max_iter=None,\n",
       "   normalize=False, random_state=None, solver='auto', tol=0.001)"
      ]
     },
     "execution_count": 35,
     "metadata": {},
     "output_type": "execute_result"
    }
   ],
   "source": [
    "from sklearn.linear_model import Ridge\n",
    "linreg = Ridge(alpha=.5)\n",
    "linreg.fit(X_train, y_train)\n",
    "#model = sm.OLS(y_train, sm.add_constant(X_train[fields])).fit()\n",
    "#model = sm.OLS(y_train, sm.add_constant(X_train)).fit()"
   ]
  },
  {
   "cell_type": "code",
   "execution_count": 36,
   "metadata": {},
   "outputs": [
    {
     "data": {
      "text/plain": [
       "0.8802807076599196"
      ]
     },
     "execution_count": 36,
     "metadata": {},
     "output_type": "execute_result"
    }
   ],
   "source": [
    "linreg.score(X_train, y_train)"
   ]
  },
  {
   "cell_type": "code",
   "execution_count": 37,
   "metadata": {},
   "outputs": [],
   "source": [
    "r_squared = linreg.score(X_train, y_train)\n",
    "\n",
    "adj = r_adjusted(r_squared, X, y)"
   ]
  },
  {
   "cell_type": "code",
   "execution_count": 38,
   "metadata": {
    "scrolled": true
   },
   "outputs": [
    {
     "data": {
      "text/plain": [
       "0.8797013578668262"
      ]
     },
     "execution_count": 38,
     "metadata": {},
     "output_type": "execute_result"
    }
   ],
   "source": [
    "adj"
   ]
  },
  {
   "cell_type": "code",
   "execution_count": 39,
   "metadata": {},
   "outputs": [],
   "source": [
    "from sklearn.metrics import r2_score\n",
    "y_predict = linreg.predict(X_test)"
   ]
  },
  {
   "cell_type": "code",
   "execution_count": 40,
   "metadata": {},
   "outputs": [
    {
     "name": "stderr",
     "output_type": "stream",
     "text": [
      "/Users/physics/anaconda/envs/learn-env/lib/python3.6/site-packages/scipy/stats/stats.py:1713: FutureWarning: Using a non-tuple sequence for multidimensional indexing is deprecated; use `arr[tuple(seq)]` instead of `arr[seq]`. In the future this will be interpreted as an array index, `arr[np.array(seq)]`, which will result either in an error or a different result.\n",
      "  return np.add.reduce(sorted[indexer] * weights, axis=axis) / sumval\n"
     ]
    },
    {
     "data": {
      "text/plain": [
       "<matplotlib.axes._subplots.AxesSubplot at 0x1c1f188978>"
      ]
     },
     "execution_count": 40,
     "metadata": {},
     "output_type": "execute_result"
    },
    {
     "data": {
      "image/png": "[encoded data removed]",
      "text/plain": [
       "<Figure size 432x288 with 1 Axes>"
      ]
     },
     "metadata": {
      "needs_background": "light"
     },
     "output_type": "display_data"
    }
   ],
   "source": [
    "sns.regplot(y_test, y_predict)"
   ]
  },
  {
   "cell_type": "code",
   "execution_count": 41,
   "metadata": {},
   "outputs": [
    {
     "data": {
      "text/plain": [
       "0.8589318540577108"
      ]
     },
     "execution_count": 41,
     "metadata": {},
     "output_type": "execute_result"
    }
   ],
   "source": [
    "r2_score(y_predict, y_test)"
   ]
  },
  {
   "cell_type": "code",
   "execution_count": 42,
   "metadata": {},
   "outputs": [
    {
     "name": "stdout",
     "output_type": "stream",
     "text": [
      "0.8635910675222145\n",
      "0.8589318540577108\n"
     ]
    }
   ],
   "source": [
    "y_predict_train = linreg.predict(X_train)\n",
    "print(r2_score(y_predict_train, y_train))\n",
    "print(r2_score(y_predict, y_test))"
   ]
  },
  {
   "cell_type": "code",
   "execution_count": 43,
   "metadata": {
    "scrolled": false
   },
   "outputs": [
    {
     "name": "stdout",
     "output_type": "stream",
     "text": [
      "Train Mean Squarred Error: 0.03326977471687509\n",
      "Test Mean Squarred Error: 0.03416285027737898\n",
      "1.0268434507929176\n"
     ]
    }
   ],
   "source": [
    "y_predict_train = linreg.predict(X_train)\n",
    "train_mse = mean_squared_error(y_train, y_predict_train)\n",
    "test_mse = mean_squared_error(y_test, y_predict)\n",
    "print('Train Mean Squarred Error:', train_mse)\n",
    "print('Test Mean Squarred Error:', test_mse)\n",
    "print(test_mse/train_mse)"
   ]
  },
  {
   "cell_type": "code",
   "execution_count": 44,
   "metadata": {},
   "outputs": [],
   "source": [
    "model_results = []\n",
    "model_results.append([\"Ridge - alpha .5\", linreg.score(X_train, y_train), adj, train_mse, test_mse])"
   ]
  },
  {
   "cell_type": "code",
   "execution_count": 45,
   "metadata": {},
   "outputs": [
    {
     "data": {
      "text/plain": [
       "Lasso(alpha=1, copy_X=True, fit_intercept=True, max_iter=1000,\n",
       "   normalize=False, positive=False, precompute=False, random_state=None,\n",
       "   selection='cyclic', tol=0.0001, warm_start=False)"
      ]
     },
     "execution_count": 45,
     "metadata": {},
     "output_type": "execute_result"
    }
   ],
   "source": [
    "from sklearn.linear_model import Lasso\n",
    "lasso = Lasso(alpha=1)\n",
    "lasso.fit(X_train, y_train)"
   ]
  },
  {
   "cell_type": "code",
   "execution_count": 46,
   "metadata": {
    "scrolled": false
   },
   "outputs": [
    {
     "data": {
      "text/plain": [
       "0.009518332321658218"
      ]
     },
     "execution_count": 46,
     "metadata": {},
     "output_type": "execute_result"
    }
   ],
   "source": [
    "lasso.score(X_train, y_train)"
   ]
  },
  {
   "cell_type": "code",
   "execution_count": 47,
   "metadata": {},
   "outputs": [
    {
     "name": "stdout",
     "output_type": "stream",
     "text": [
      "Train Mean Squarred Error: 0.27525306323432797\n",
      "Test Mean Squarred Error: 0.03416285027737898\n",
      "0.12411433273785412\n"
     ]
    }
   ],
   "source": [
    "y_predict_train = lasso.predict(X_train)\n",
    "train_mse = mean_squared_error(y_train, y_predict_train)\n",
    "test_mse = mean_squared_error(y_test, y_predict)\n",
    "print('Train Mean Squarred Error:', train_mse)\n",
    "print('Test Mean Squarred Error:', test_mse)\n",
    "print(test_mse/train_mse)"
   ]
  },
  {
   "cell_type": "code",
   "execution_count": 48,
   "metadata": {},
   "outputs": [
    {
     "data": {
      "text/plain": [
       "Lasso(alpha=0.001, copy_X=True, fit_intercept=True, max_iter=1000,\n",
       "   normalize=False, positive=False, precompute=False, random_state=None,\n",
       "   selection='cyclic', tol=0.0001, warm_start=False)"
      ]
     },
     "execution_count": 48,
     "metadata": {},
     "output_type": "execute_result"
    }
   ],
   "source": [
    "lasso = Lasso(alpha=.001)\n",
    "lasso.fit(X_train, y_train)"
   ]
  },
  {
   "cell_type": "code",
   "execution_count": 49,
   "metadata": {},
   "outputs": [
    {
     "data": {
      "text/plain": [
       "0.8482165350106045"
      ]
     },
     "execution_count": 49,
     "metadata": {},
     "output_type": "execute_result"
    }
   ],
   "source": [
    "lasso.score(X_train, y_train)"
   ]
  },
  {
   "cell_type": "code",
   "execution_count": 50,
   "metadata": {},
   "outputs": [
    {
     "data": {
      "text/plain": [
       "0.8589318540577108"
      ]
     },
     "execution_count": 50,
     "metadata": {},
     "output_type": "execute_result"
    }
   ],
   "source": [
    "r2_score(y_predict, y_test)"
   ]
  },
  {
   "cell_type": "code",
   "execution_count": 51,
   "metadata": {},
   "outputs": [],
   "source": [
    "from sklearn.linear_model import LassoCV\n",
    "from sklearn.linear_model import Lasso\n",
    "from sklearn.model_selection import KFold\n",
    "from sklearn.model_selection import GridSearchCV"
   ]
  },
  {
   "cell_type": "code",
   "execution_count": 52,
   "metadata": {},
   "outputs": [],
   "source": [
    "alphas = np.logspace(-3, -1, 30)\n",
    "\n",
    "tuned_parameters = [{'alpha': alphas}]\n",
    "n_folds = 3\n",
    "\n",
    "clf = GridSearchCV(lasso, tuned_parameters, cv=n_folds, refit=False)"
   ]
  },
  {
   "cell_type": "code",
   "execution_count": 56,
   "metadata": {},
   "outputs": [
    {
     "data": {
      "text/plain": [
       "GridSearchCV(cv=3, error_score='raise-deprecating',\n",
       "       estimator=Lasso(alpha=0.001, copy_X=True, fit_intercept=True, max_iter=1000,\n",
       "   normalize=False, positive=False, precompute=False, random_state=None,\n",
       "   selection='cyclic', tol=0.0001, warm_start=False),\n",
       "       fit_params=None, iid='warn', n_jobs=None,\n",
       "       param_grid=[{'alpha': array([0.001  , 0.00117, 0.00137, 0.00161, 0.00189, 0.00221, 0.00259,\n",
       "       0.00304, 0.00356, 0.00418, 0.00489, 0.00574, 0.00672, 0.00788,\n",
       "       0.00924, 0.01083, 0.01269, 0.01487, 0.01743, 0.02043, 0.02395,\n",
       "       0.02807, 0.0329 , 0.03857, 0.0452 , 0.05298, 0.0621 , 0.07279,\n",
       "       0.08532, 0.1    ])}],\n",
       "       pre_dispatch='2*n_jobs', refit=False, return_train_score='warn',\n",
       "       scoring=None, verbose=0)"
      ]
     },
     "execution_count": 56,
     "metadata": {},
     "output_type": "execute_result"
    }
   ],
   "source": [
    "clf.fit(X_train, y_train)"
   ]
  },
  {
   "cell_type": "code",
   "execution_count": 57,
   "metadata": {},
   "outputs": [
    {
     "data": {
      "text/plain": [
       "Text(0, 0.5, 'Scores')"
      ]
     },
     "execution_count": 57,
     "metadata": {},
     "output_type": "execute_result"
    },
    {
     "data": {
      "image/png": "[encoded data removed]",
      "text/plain": [
       "<Figure size 432x288 with 1 Axes>"
      ]
     },
     "metadata": {
      "needs_background": "light"
     },
     "output_type": "display_data"
    }
   ],
   "source": [
    "scores = clf.cv_results_['mean_test_score']\n",
    "scores_std = clf.cv_results_['std_test_score']\n",
    "plt.semilogx(alphas, scores)\n",
    "plt.xlabel(\"Alphas\")\n",
    "plt.ylabel(\"Scores\")"
   ]
  },
  {
   "cell_type": "code",
   "execution_count": 58,
   "metadata": {},
   "outputs": [
    {
     "data": {
      "text/plain": [
       "0.8787986185283209"
      ]
     },
     "execution_count": 58,
     "metadata": {},
     "output_type": "execute_result"
    }
   ],
   "source": [
    "lasso = Lasso(alpha=.0001)\n",
    "lasso.fit(X_train, y_train)\n",
    "lasso.score(X_train, y_train)"
   ]
  },
  {
   "cell_type": "code",
   "execution_count": 59,
   "metadata": {
    "scrolled": true
   },
   "outputs": [
    {
     "name": "stdout",
     "output_type": "stream",
     "text": [
      "Train Mean Squarred Error: 0.03368164460480046\n",
      "Test Mean Squarred Error: 0.03416285027737898\n",
      "1.0142868817192476\n"
     ]
    }
   ],
   "source": [
    "from sklearn.metrics import mean_squared_error\n",
    "y_predict_train = lasso.predict(X_train)\n",
    "train_mse = mean_squared_error(y_train, y_predict_train)\n",
    "test_mse = mean_squared_error(y_test, y_predict)\n",
    "print('Train Mean Squarred Error:', train_mse)\n",
    "print('Test Mean Squarred Error:', test_mse)\n",
    "print(test_mse/train_mse)"
   ]
  },
  {
   "cell_type": "code",
   "execution_count": 60,
   "metadata": {},
   "outputs": [],
   "source": [
    "adj = r_adjusted(lasso.score(X_train, y_train), X_train, y_train)\n",
    "model_results.append([\"Lasso - alpha .0001\", lasso.score(X_train, y_train), adj, train_mse, test_mse])"
   ]
  },
  {
   "cell_type": "code",
   "execution_count": 61,
   "metadata": {},
   "outputs": [
    {
     "name": "stderr",
     "output_type": "stream",
     "text": [
      "/Users/physics/anaconda/envs/learn-env/lib/python3.6/site-packages/sklearn/linear_model/coordinate_descent.py:492: ConvergenceWarning: Objective did not converge. You might want to increase the number of iterations. Fitting data with very small alpha may cause precision problems.\n",
      "  ConvergenceWarning)\n"
     ]
    },
    {
     "data": {
      "text/plain": [
       "ElasticNet(alpha=0.0001, copy_X=True, fit_intercept=True, l1_ratio=1e-05,\n",
       "      max_iter=1000, normalize=False, positive=False, precompute=False,\n",
       "      random_state=None, selection='cyclic', tol=0.0001, warm_start=False)"
      ]
     },
     "execution_count": 61,
     "metadata": {},
     "output_type": "execute_result"
    }
   ],
   "source": [
    "from sklearn.linear_model import ElasticNet\n",
    "elastic = ElasticNet(alpha=.0001, l1_ratio=.00001)\n",
    "elastic.fit(X_train, y_train)"
   ]
  },
  {
   "cell_type": "code",
   "execution_count": 62,
   "metadata": {},
   "outputs": [],
   "source": [
    "\n",
    "alphas = np.logspace(-3, -1, 30)\n",
    "\n",
    "tuned_parameters = [{'alpha': alphas}]\n",
    "n_folds = 3\n",
    "\n",
    "clf = GridSearchCV(elastic, tuned_parameters, cv=n_folds, refit=False)"
   ]
  },
  {
   "cell_type": "code",
   "execution_count": 63,
   "metadata": {},
   "outputs": [
    {
     "data": {
      "text/plain": [
       "GridSearchCV(cv=3, error_score='raise-deprecating',\n",
       "       estimator=ElasticNet(alpha=0.0001, copy_X=True, fit_intercept=True, l1_ratio=1e-05,\n",
       "      max_iter=1000, normalize=False, positive=False, precompute=False,\n",
       "      random_state=None, selection='cyclic', tol=0.0001, warm_start=False),\n",
       "       fit_params=None, iid='warn', n_jobs=None,\n",
       "       param_grid=[{'alpha': array([0.001  , 0.00117, 0.00137, 0.00161, 0.00189, 0.00221, 0.00259,\n",
       "       0.00304, 0.00356, 0.00418, 0.00489, 0.00574, 0.00672, 0.00788,\n",
       "       0.00924, 0.01083, 0.01269, 0.01487, 0.01743, 0.02043, 0.02395,\n",
       "       0.02807, 0.0329 , 0.03857, 0.0452 , 0.05298, 0.0621 , 0.07279,\n",
       "       0.08532, 0.1    ])}],\n",
       "       pre_dispatch='2*n_jobs', refit=False, return_train_score='warn',\n",
       "       scoring=None, verbose=0)"
      ]
     },
     "execution_count": 63,
     "metadata": {},
     "output_type": "execute_result"
    }
   ],
   "source": [
    "clf.fit(X_train, y_train)"
   ]
  },
  {
   "cell_type": "code",
   "execution_count": 64,
   "metadata": {},
   "outputs": [
    {
     "data": {
      "text/plain": [
       "Text(0, 0.5, 'Scores')"
      ]
     },
     "execution_count": 64,
     "metadata": {},
     "output_type": "execute_result"
    },
    {
     "data": {
      "image/png": "[encoded data removed]",
      "text/plain": [
       "<Figure size 432x288 with 1 Axes>"
      ]
     },
     "metadata": {
      "needs_background": "light"
     },
     "output_type": "display_data"
    }
   ],
   "source": [
    "scores = clf.cv_results_['mean_test_score']\n",
    "scores_std = clf.cv_results_['std_test_score']\n",
    "plt.semilogx(alphas, scores)\n",
    "plt.xlabel(\"Alphas\")\n",
    "plt.ylabel(\"Scores\")"
   ]
  },
  {
   "cell_type": "code",
   "execution_count": 65,
   "metadata": {},
   "outputs": [
    {
     "data": {
      "text/plain": [
       "ElasticNet(alpha=0.0001, copy_X=True, fit_intercept=True, l1_ratio=0.5,\n",
       "      max_iter=1000, normalize=False, positive=False, precompute=False,\n",
       "      random_state=None, selection='cyclic', tol=0.0001, warm_start=False)"
      ]
     },
     "execution_count": 65,
     "metadata": {},
     "output_type": "execute_result"
    }
   ],
   "source": [
    "from sklearn.linear_model import ElasticNet\n",
    "elastic = ElasticNet(alpha=.0001)\n",
    "elastic.fit(X_train, y_train)"
   ]
  },
  {
   "cell_type": "code",
   "execution_count": 66,
   "metadata": {},
   "outputs": [
    {
     "name": "stdout",
     "output_type": "stream",
     "text": [
      "Train Mean Squarred Error: 0.033516295615664854\n",
      "Test Mean Squarred Error: 0.03416285027737898\n",
      "1.0192907554321708\n"
     ]
    }
   ],
   "source": [
    "from sklearn.metrics import mean_squared_error\n",
    "y_predict_train = elastic.predict(X_train)\n",
    "train_mse = mean_squared_error(y_train, y_predict_train)\n",
    "test_mse = mean_squared_error(y_test, y_predict)\n",
    "print('Train Mean Squarred Error:', train_mse)\n",
    "print('Test Mean Squarred Error:', test_mse)\n",
    "print(test_mse/train_mse)"
   ]
  },
  {
   "cell_type": "code",
   "execution_count": 67,
   "metadata": {},
   "outputs": [
    {
     "data": {
      "text/plain": [
       "0.8793936169656992"
      ]
     },
     "execution_count": 67,
     "metadata": {},
     "output_type": "execute_result"
    }
   ],
   "source": [
    "elastic.score(X_train, y_train)"
   ]
  },
  {
   "cell_type": "code",
   "execution_count": 68,
   "metadata": {},
   "outputs": [],
   "source": [
    "L1_ratios = np.linspace(0, 1, 3)\n",
    "\n",
    "tuned_parameters = [{'l1_ratio': L1_ratios}]\n",
    "n_folds = 3\n",
    "\n",
    "clf = GridSearchCV(elastic, tuned_parameters, cv=n_folds, refit=False)"
   ]
  },
  {
   "cell_type": "code",
   "execution_count": 69,
   "metadata": {},
   "outputs": [
    {
     "name": "stderr",
     "output_type": "stream",
     "text": [
      "/Users/physics/anaconda/envs/learn-env/lib/python3.6/site-packages/sklearn/linear_model/coordinate_descent.py:492: ConvergenceWarning: Objective did not converge. You might want to increase the number of iterations. Fitting data with very small alpha may cause precision problems.\n",
      "  ConvergenceWarning)\n",
      "/Users/physics/anaconda/envs/learn-env/lib/python3.6/site-packages/sklearn/linear_model/coordinate_descent.py:492: ConvergenceWarning: Objective did not converge. You might want to increase the number of iterations. Fitting data with very small alpha may cause precision problems.\n",
      "  ConvergenceWarning)\n",
      "/Users/physics/anaconda/envs/learn-env/lib/python3.6/site-packages/sklearn/linear_model/coordinate_descent.py:492: ConvergenceWarning: Objective did not converge. You might want to increase the number of iterations. Fitting data with very small alpha may cause precision problems.\n",
      "  ConvergenceWarning)\n"
     ]
    },
    {
     "data": {
      "text/plain": [
       "GridSearchCV(cv=3, error_score='raise-deprecating',\n",
       "       estimator=ElasticNet(alpha=0.0001, copy_X=True, fit_intercept=True, l1_ratio=0.5,\n",
       "      max_iter=1000, normalize=False, positive=False, precompute=False,\n",
       "      random_state=None, selection='cyclic', tol=0.0001, warm_start=False),\n",
       "       fit_params=None, iid='warn', n_jobs=None,\n",
       "       param_grid=[{'l1_ratio': array([0. , 0.5, 1. ])}],\n",
       "       pre_dispatch='2*n_jobs', refit=False, return_train_score='warn',\n",
       "       scoring=None, verbose=0)"
      ]
     },
     "execution_count": 69,
     "metadata": {},
     "output_type": "execute_result"
    }
   ],
   "source": [
    "clf.fit(X_train, y_train)"
   ]
  },
  {
   "cell_type": "code",
   "execution_count": 70,
   "metadata": {},
   "outputs": [
    {
     "data": {
      "text/plain": [
       "Text(0, 0.5, 'Scores')"
      ]
     },
     "execution_count": 70,
     "metadata": {},
     "output_type": "execute_result"
    },
    {
     "data": {
      "image/png": "[encoded data removed]",
      "text/plain": [
       "<Figure size 432x288 with 1 Axes>"
      ]
     },
     "metadata": {
      "needs_background": "light"
     },
     "output_type": "display_data"
    }
   ],
   "source": [
    "scores = clf.cv_results_['mean_test_score']\n",
    "scores_std = clf.cv_results_['std_test_score']\n",
    "plt.semilogx(L1_ratios, scores)\n",
    "plt.xlabel(\"Alphas\")\n",
    "plt.ylabel(\"Scores\")"
   ]
  },
  {
   "cell_type": "code",
   "execution_count": 71,
   "metadata": {},
   "outputs": [
    {
     "name": "stderr",
     "output_type": "stream",
     "text": [
      "/Users/physics/anaconda/envs/learn-env/lib/python3.6/site-packages/sklearn/linear_model/coordinate_descent.py:492: ConvergenceWarning: Objective did not converge. You might want to increase the number of iterations. Fitting data with very small alpha may cause precision problems.\n",
      "  ConvergenceWarning)\n"
     ]
    },
    {
     "data": {
      "text/plain": [
       "ElasticNet(alpha=0.0001, copy_X=True, fit_intercept=True, l1_ratio=1e-05,\n",
       "      max_iter=1000, normalize=False, positive=False, precompute=False,\n",
       "      random_state=None, selection='cyclic', tol=0.0001, warm_start=False)"
      ]
     },
     "execution_count": 71,
     "metadata": {},
     "output_type": "execute_result"
    }
   ],
   "source": [
    "from sklearn.linear_model import ElasticNet\n",
    "elastic = ElasticNet(alpha=.0001, l1_ratio=.00001)\n",
    "elastic.fit(X_train, y_train)"
   ]
  },
  {
   "cell_type": "code",
   "execution_count": 72,
   "metadata": {},
   "outputs": [
    {
     "data": {
      "text/plain": [
       "0.8798319563598024"
      ]
     },
     "execution_count": 72,
     "metadata": {},
     "output_type": "execute_result"
    }
   ],
   "source": [
    "elastic.score(X_train, y_train)"
   ]
  },
  {
   "cell_type": "code",
   "execution_count": 73,
   "metadata": {},
   "outputs": [
    {
     "name": "stdout",
     "output_type": "stream",
     "text": [
      "Train Mean Squarred Error: 0.03339448189119078\n",
      "Test Mean Squarred Error: 0.03416285027737898\n",
      "1.0230088428588824\n"
     ]
    }
   ],
   "source": [
    "from sklearn.metrics import mean_squared_error\n",
    "y_predict_train = elastic.predict(X_train)\n",
    "train_mse = mean_squared_error(y_train, y_predict_train)\n",
    "test_mse = mean_squared_error(y_test, y_predict)\n",
    "print('Train Mean Squarred Error:', train_mse)\n",
    "print('Test Mean Squarred Error:', test_mse)\n",
    "print(test_mse/train_mse)"
   ]
  },
  {
   "cell_type": "code",
   "execution_count": 74,
   "metadata": {},
   "outputs": [],
   "source": [
    "cvs = cross_val_score(lasso, X_train, y_train, cv=20, scoring=\"neg_mean_squared_error\")"
   ]
  },
  {
   "cell_type": "code",
   "execution_count": 75,
   "metadata": {},
   "outputs": [
    {
     "data": {
      "text/plain": [
       "array([-0.03243468, -0.03838187, -0.03419271, -0.03568091, -0.03360669,\n",
       "       -0.03460706, -0.03099353, -0.03645084, -0.03171456, -0.03636653,\n",
       "       -0.02996863, -0.03820755, -0.03199006, -0.02909536, -0.03242644,\n",
       "       -0.03840192, -0.03510245, -0.03654677, -0.03394573, -0.03366513])"
      ]
     },
     "execution_count": 75,
     "metadata": {},
     "output_type": "execute_result"
    }
   ],
   "source": [
    "cvs"
   ]
  },
  {
   "cell_type": "code",
   "execution_count": 76,
   "metadata": {},
   "outputs": [],
   "source": [
    "cvs = cross_val_score(lasso, X_train, y_train, cv=20, scoring=\"r2\")"
   ]
  },
  {
   "cell_type": "code",
   "execution_count": 77,
   "metadata": {},
   "outputs": [
    {
     "data": {
      "text/plain": [
       "array([0.88813437, 0.8648245 , 0.86602451, 0.87703573, 0.88218383,\n",
       "       0.87902688, 0.89990129, 0.87085709, 0.88242715, 0.87079708,\n",
       "       0.89235344, 0.85699495, 0.88771556, 0.88771849, 0.87823874,\n",
       "       0.85275012, 0.8722634 , 0.85825601, 0.87695643, 0.88553963])"
      ]
     },
     "execution_count": 77,
     "metadata": {},
     "output_type": "execute_result"
    }
   ],
   "source": [
    "cvs"
   ]
  },
  {
   "cell_type": "code",
   "execution_count": 78,
   "metadata": {},
   "outputs": [
    {
     "data": {
      "text/plain": [
       "array([-5.39494586e-04,  4.06484805e-02,  1.14798505e+00,  7.94792004e-01,\n",
       "       -2.73885127e-02,  1.12674984e+00,  0.00000000e+00, -1.29472384e-01,\n",
       "        1.22563471e+00, -3.95847118e-01,  4.82499057e-01,  0.00000000e+00,\n",
       "        4.77585840e-02,  4.94456455e-02,  1.74146615e-04, -2.41788197e-01,\n",
       "       -2.46820849e-01, -2.67381752e-01,  4.73477171e-01,  1.13812166e-01,\n",
       "        9.54731012e-02,  4.22288021e-02,  4.91974370e-02,  3.72429350e-02,\n",
       "       -3.38104539e-01, -1.99521303e-01, -3.03635157e-01,  0.00000000e+00,\n",
       "       -3.32475673e-01,  0.00000000e+00,  6.10881105e-02, -3.75197891e-01,\n",
       "        1.21933055e-01, -2.43921935e-01, -2.68211542e-01, -3.71597073e-01,\n",
       "        9.17803538e-02, -2.06700857e-01, -6.51648962e-02,  5.75859651e-01,\n",
       "        2.81167242e-01, -2.00456837e-01,  6.19523604e-02, -3.89901783e-02,\n",
       "       -3.73103779e-02, -2.79981782e-01, -1.52242071e-01, -2.16274789e-01,\n",
       "       -9.89433188e-02,  8.19486343e-03, -1.09755700e-01, -2.54734934e-01,\n",
       "       -8.97153953e-03,  3.18954592e-02, -2.69909903e-01, -1.80475233e-01,\n",
       "        2.09345985e-01,  4.88457298e-02,  1.74318623e-01, -2.51279150e-01,\n",
       "        5.30751520e-02, -2.29474573e-01,  2.33248106e-01,  3.12342834e-01,\n",
       "        4.03906769e-02,  7.16842815e-02, -0.00000000e+00, -1.09446370e-01,\n",
       "        1.99810346e-01,  1.14892944e-01, -2.28068774e-01, -8.22952646e-02,\n",
       "       -3.70398313e-01,  3.49817643e-02,  4.93495638e-03, -2.53389329e-01,\n",
       "       -2.75930984e-01, -4.04602762e-01, -1.69216388e-01, -4.25540164e-01,\n",
       "       -2.55307545e-01, -3.51108918e-01, -3.35083014e-01, -3.21335064e-01,\n",
       "        3.46630473e-04,  4.66415656e-01, -2.67039241e-01, -1.41768387e-01,\n",
       "       -1.54626082e-01, -7.94807985e-02, -2.90226880e-01, -2.51078141e-01,\n",
       "       -1.01910773e-01, -5.50179583e-02,  0.00000000e+00, -2.88847946e-01,\n",
       "       -3.43438121e-01, -2.48559281e-01, -1.22271912e-01, -1.90628216e-02,\n",
       "        8.57196969e-02,  1.39695467e-01,  1.61842475e-01,  1.49972125e-01])"
      ]
     },
     "execution_count": 78,
     "metadata": {},
     "output_type": "execute_result"
    }
   ],
   "source": [
    "lasso.coef_"
   ]
  },
  {
   "cell_type": "code",
   "execution_count": 79,
   "metadata": {},
   "outputs": [
    {
     "data": {
      "text/plain": [
       "[(-0.0005394945856655398, 'bedrooms'),\n",
       " (0.04064848052118824, 'bathrooms'),\n",
       " (1.1479850453607163, 'sqft_living'),\n",
       " (0.7947920035965418, 'sqft_lot'),\n",
       " (-0.027388512707987728, 'floors'),\n",
       " (1.1267498422854996, 'sqft_above'),\n",
       " (0.0, 'sqft_basement'),\n",
       " (-0.1294723844965353, 'yr_built'),\n",
       " (1.2256347120752784, 'lat'),\n",
       " (-0.3958471178462016, 'long'),\n",
       " (0.4824990571050254, 'sqft_living15'),\n",
       " (0.0, 'sqft_lot15'),\n",
       " (0.04775858398269262, 'is_renovated'),\n",
       " (0.049445645484344936, 'has_basement'),\n",
       " (0.00017414661463618092, 'blt_or_renov'),\n",
       " (-0.24178819721051212, 'ZIP_98001'),\n",
       " (-0.24682084885905523, 'ZIP_98002'),\n",
       " (-0.2673817523879684, 'ZIP_98003'),\n",
       " (0.47347717112436216, 'ZIP_98004'),\n",
       " (0.11381216564301383, 'ZIP_98005'),\n",
       " (0.09547310120090227, 'ZIP_98006'),\n",
       " (0.04222880210430718, 'ZIP_98007'),\n",
       " (0.049197436991680915, 'ZIP_98008'),\n",
       " (0.037242934957682106, 'ZIP_98010'),\n",
       " (-0.3381045394641175, 'ZIP_98011'),\n",
       " (-0.19952130255797604, 'ZIP_98014'),\n",
       " (-0.30363515671374536, 'ZIP_98019'),\n",
       " (0.0, 'ZIP_98022'),\n",
       " (-0.332475673119107, 'ZIP_98023'),\n",
       " (0.0, 'ZIP_98024'),\n",
       " (0.06108811052549113, 'ZIP_98027'),\n",
       " (-0.375197891262582, 'ZIP_98028'),\n",
       " (0.12193305509335026, 'ZIP_98029'),\n",
       " (-0.2439219352088623, 'ZIP_98030'),\n",
       " (-0.2682115415228891, 'ZIP_98031'),\n",
       " (-0.37159707271223985, 'ZIP_98032'),\n",
       " (0.09178035377461106, 'ZIP_98033'),\n",
       " (-0.20670085677789074, 'ZIP_98034'),\n",
       " (-0.06516489618178681, 'ZIP_98038'),\n",
       " (0.575859650724235, 'ZIP_98039'),\n",
       " (0.2811672423260198, 'ZIP_98040'),\n",
       " (-0.20045683727391142, 'ZIP_98042'),\n",
       " (0.06195236043505656, 'ZIP_98045'),\n",
       " (-0.03899017827785288, 'ZIP_98052'),\n",
       " (-0.037310377915066216, 'ZIP_98053'),\n",
       " (-0.27998178212477426, 'ZIP_98055'),\n",
       " (-0.15224207055774794, 'ZIP_98056'),\n",
       " (-0.21627478903612002, 'ZIP_98058'),\n",
       " (-0.09894331883621897, 'ZIP_98059'),\n",
       " (0.008194863434302991, 'ZIP_98065'),\n",
       " (-0.10975570025725846, 'ZIP_98070'),\n",
       " (-0.2547349341389874, 'ZIP_98072'),\n",
       " (-0.008971539527883814, 'ZIP_98074'),\n",
       " (0.031895459210091445, 'ZIP_98075'),\n",
       " (-0.2699099029950779, 'ZIP_98077'),\n",
       " (-0.18047523317105874, 'ZIP_98092'),\n",
       " (0.20934598497771678, 'ZIP_98102'),\n",
       " (0.048845729834795494, 'ZIP_98103'),\n",
       " (0.17431862311982813, 'ZIP_98105'),\n",
       " (-0.25127915023501474, 'ZIP_98106'),\n",
       " (0.05307515197742298, 'ZIP_98107'),\n",
       " (-0.2294745726242739, 'ZIP_98108'),\n",
       " (0.23324810609827373, 'ZIP_98109'),\n",
       " (0.3123428341889464, 'ZIP_98112'),\n",
       " (0.04039067689695658, 'ZIP_98115'),\n",
       " (0.07168428150981926, 'ZIP_98116'),\n",
       " (-0.0, 'ZIP_98117'),\n",
       " (-0.10944636989636854, 'ZIP_98118'),\n",
       " (0.19981034574745724, 'ZIP_98119'),\n",
       " (0.11489294375918617, 'ZIP_98122'),\n",
       " (-0.22806877434403128, 'ZIP_98125'),\n",
       " (-0.08229526460171828, 'ZIP_98126'),\n",
       " (-0.37039831260469497, 'ZIP_98133'),\n",
       " (0.03498176430425129, 'ZIP_98136'),\n",
       " (0.004934956378012067, 'ZIP_98144'),\n",
       " (-0.25338932939479253, 'ZIP_98146'),\n",
       " (-0.2759309840096597, 'ZIP_98148'),\n",
       " (-0.40460276234763465, 'ZIP_98155'),\n",
       " (-0.1692163877848318, 'ZIP_98166'),\n",
       " (-0.4255401638423844, 'ZIP_98168'),\n",
       " (-0.2553075452232555, 'ZIP_98177'),\n",
       " (-0.35110891803918365, 'ZIP_98178'),\n",
       " (-0.33508301389248457, 'ZIP_98188'),\n",
       " (-0.3213350639634432, 'ZIP_98198'),\n",
       " (0.0003466304728827419, 'WF_0.0'),\n",
       " (0.46641565577543853, 'WF_1.0'),\n",
       " (-0.2670392413393552, 'VIEW_0.0'),\n",
       " (-0.14176838676958514, 'VIEW_1.0'),\n",
       " (-0.15462608177544523, 'VIEW_2.0'),\n",
       " (-0.07948079845171493, 'VIEW_3.0'),\n",
       " (-0.2902268802416323, 'COND_1'),\n",
       " (-0.2510781408206259, 'COND_2'),\n",
       " (-0.10191077333735377, 'COND_3'),\n",
       " (-0.0550179583337108, 'COND_4'),\n",
       " (0.0, 'GRADE_3'),\n",
       " (-0.28884794639613004, 'GRADE_4'),\n",
       " (-0.3434381207059156, 'GRADE_5'),\n",
       " (-0.24855928145000245, 'GRADE_6'),\n",
       " (-0.12227191228978423, 'GRADE_7'),\n",
       " (-0.019062821574935485, 'GRADE_8'),\n",
       " (0.08571969689904567, 'GRADE_9'),\n",
       " (0.13969546652987797, 'GRADE_10'),\n",
       " (0.1618424754312336, 'GRADE_11'),\n",
       " (0.14997212532207646, 'GRADE_12')]"
      ]
     },
     "execution_count": 79,
     "metadata": {},
     "output_type": "execute_result"
    }
   ],
   "source": [
    "list(zip(lasso.coef_, X_train.columns))"
   ]
  },
  {
   "cell_type": "code",
   "execution_count": 175,
   "metadata": {},
   "outputs": [],
   "source": [
    "coefs = list(zip(lasso.coef_, X_train.columns))"
   ]
  },
  {
   "cell_type": "code",
   "execution_count": 177,
   "metadata": {},
   "outputs": [
    {
     "data": {
      "text/plain": [
       "[(1.2256347120752784, 'lat'),\n",
       " (1.1479850453607163, 'sqft_living'),\n",
       " (1.1267498422854996, 'sqft_above'),\n",
       " (0.7947920035965418, 'sqft_lot'),\n",
       " (0.575859650724235, 'ZIP_98039'),\n",
       " (0.4824990571050254, 'sqft_living15'),\n",
       " (0.47347717112436216, 'ZIP_98004'),\n",
       " (0.46641565577543853, 'WF_1.0'),\n",
       " (0.3123428341889464, 'ZIP_98112'),\n",
       " (0.2811672423260198, 'ZIP_98040'),\n",
       " (0.23324810609827373, 'ZIP_98109'),\n",
       " (0.20934598497771678, 'ZIP_98102'),\n",
       " (0.19981034574745724, 'ZIP_98119'),\n",
       " (0.17431862311982813, 'ZIP_98105'),\n",
       " (0.1618424754312336, 'GRADE_11'),\n",
       " (0.14997212532207646, 'GRADE_12'),\n",
       " (0.13969546652987797, 'GRADE_10'),\n",
       " (0.12193305509335026, 'ZIP_98029'),\n",
       " (0.11489294375918617, 'ZIP_98122'),\n",
       " (0.11381216564301383, 'ZIP_98005'),\n",
       " (0.09547310120090227, 'ZIP_98006'),\n",
       " (0.09178035377461106, 'ZIP_98033'),\n",
       " (0.08571969689904567, 'GRADE_9'),\n",
       " (0.07168428150981926, 'ZIP_98116'),\n",
       " (0.06195236043505656, 'ZIP_98045'),\n",
       " (0.06108811052549113, 'ZIP_98027'),\n",
       " (0.05307515197742298, 'ZIP_98107'),\n",
       " (0.049445645484344936, 'has_basement'),\n",
       " (0.049197436991680915, 'ZIP_98008'),\n",
       " (0.048845729834795494, 'ZIP_98103'),\n",
       " (0.04775858398269262, 'is_renovated'),\n",
       " (0.04222880210430718, 'ZIP_98007'),\n",
       " (0.04064848052118824, 'bathrooms'),\n",
       " (0.04039067689695658, 'ZIP_98115'),\n",
       " (0.037242934957682106, 'ZIP_98010'),\n",
       " (0.03498176430425129, 'ZIP_98136'),\n",
       " (0.031895459210091445, 'ZIP_98075'),\n",
       " (0.008194863434302991, 'ZIP_98065'),\n",
       " (0.004934956378012067, 'ZIP_98144'),\n",
       " (0.0003466304728827419, 'WF_0.0'),\n",
       " (0.00017414661463618092, 'blt_or_renov'),\n",
       " (0.0, 'sqft_basement'),\n",
       " (0.0, 'sqft_lot15'),\n",
       " (0.0, 'ZIP_98022'),\n",
       " (0.0, 'ZIP_98024'),\n",
       " (-0.0, 'ZIP_98117'),\n",
       " (0.0, 'GRADE_3'),\n",
       " (-0.0005394945856655398, 'bedrooms'),\n",
       " (-0.008971539527883814, 'ZIP_98074'),\n",
       " (-0.019062821574935485, 'GRADE_8'),\n",
       " (-0.027388512707987728, 'floors'),\n",
       " (-0.037310377915066216, 'ZIP_98053'),\n",
       " (-0.03899017827785288, 'ZIP_98052'),\n",
       " (-0.0550179583337108, 'COND_4'),\n",
       " (-0.06516489618178681, 'ZIP_98038'),\n",
       " (-0.07948079845171493, 'VIEW_3.0'),\n",
       " (-0.08229526460171828, 'ZIP_98126'),\n",
       " (-0.09894331883621897, 'ZIP_98059'),\n",
       " (-0.10191077333735377, 'COND_3'),\n",
       " (-0.10944636989636854, 'ZIP_98118'),\n",
       " (-0.10975570025725846, 'ZIP_98070'),\n",
       " (-0.12227191228978423, 'GRADE_7'),\n",
       " (-0.1294723844965353, 'yr_built'),\n",
       " (-0.14176838676958514, 'VIEW_1.0'),\n",
       " (-0.15224207055774794, 'ZIP_98056'),\n",
       " (-0.15462608177544523, 'VIEW_2.0'),\n",
       " (-0.1692163877848318, 'ZIP_98166'),\n",
       " (-0.18047523317105874, 'ZIP_98092'),\n",
       " (-0.19952130255797604, 'ZIP_98014'),\n",
       " (-0.20045683727391142, 'ZIP_98042'),\n",
       " (-0.20670085677789074, 'ZIP_98034'),\n",
       " (-0.21627478903612002, 'ZIP_98058'),\n",
       " (-0.22806877434403128, 'ZIP_98125'),\n",
       " (-0.2294745726242739, 'ZIP_98108'),\n",
       " (-0.24178819721051212, 'ZIP_98001'),\n",
       " (-0.2439219352088623, 'ZIP_98030'),\n",
       " (-0.24682084885905523, 'ZIP_98002'),\n",
       " (-0.24855928145000245, 'GRADE_6'),\n",
       " (-0.2510781408206259, 'COND_2'),\n",
       " (-0.25127915023501474, 'ZIP_98106'),\n",
       " (-0.25338932939479253, 'ZIP_98146'),\n",
       " (-0.2547349341389874, 'ZIP_98072'),\n",
       " (-0.2553075452232555, 'ZIP_98177'),\n",
       " (-0.2670392413393552, 'VIEW_0.0'),\n",
       " (-0.2673817523879684, 'ZIP_98003'),\n",
       " (-0.2682115415228891, 'ZIP_98031'),\n",
       " (-0.2699099029950779, 'ZIP_98077'),\n",
       " (-0.2759309840096597, 'ZIP_98148'),\n",
       " (-0.27998178212477426, 'ZIP_98055'),\n",
       " (-0.28884794639613004, 'GRADE_4'),\n",
       " (-0.2902268802416323, 'COND_1'),\n",
       " (-0.30363515671374536, 'ZIP_98019'),\n",
       " (-0.3213350639634432, 'ZIP_98198'),\n",
       " (-0.332475673119107, 'ZIP_98023'),\n",
       " (-0.33508301389248457, 'ZIP_98188'),\n",
       " (-0.3381045394641175, 'ZIP_98011'),\n",
       " (-0.3434381207059156, 'GRADE_5'),\n",
       " (-0.35110891803918365, 'ZIP_98178'),\n",
       " (-0.37039831260469497, 'ZIP_98133'),\n",
       " (-0.37159707271223985, 'ZIP_98032'),\n",
       " (-0.375197891262582, 'ZIP_98028'),\n",
       " (-0.3958471178462016, 'long'),\n",
       " (-0.40460276234763465, 'ZIP_98155'),\n",
       " (-0.4255401638423844, 'ZIP_98168')]"
      ]
     },
     "execution_count": 177,
     "metadata": {},
     "output_type": "execute_result"
    }
   ],
   "source": [
    "coefs.sort(key=lambda x : x[0], reverse=True)\n",
    "coefs"
   ]
  },
  {
   "cell_type": "code",
   "execution_count": 81,
   "metadata": {},
   "outputs": [],
   "source": [
    "coefs = [x for x in coefs if \"ZIP\" in x[1]]"
   ]
  },
  {
   "cell_type": "code",
   "execution_count": 82,
   "metadata": {},
   "outputs": [],
   "source": [
    "coefs.sort(key=lambda x: x[0])"
   ]
  },
  {
   "cell_type": "code",
   "execution_count": 83,
   "metadata": {},
   "outputs": [
    {
     "data": {
      "text/plain": [
       "[(-0.4255401638423844, 'ZIP_98168'),\n",
       " (-0.40460276234763465, 'ZIP_98155'),\n",
       " (-0.375197891262582, 'ZIP_98028'),\n",
       " (-0.37159707271223985, 'ZIP_98032'),\n",
       " (-0.37039831260469497, 'ZIP_98133'),\n",
       " (-0.35110891803918365, 'ZIP_98178'),\n",
       " (-0.3381045394641175, 'ZIP_98011'),\n",
       " (-0.33508301389248457, 'ZIP_98188'),\n",
       " (-0.332475673119107, 'ZIP_98023'),\n",
       " (-0.3213350639634432, 'ZIP_98198'),\n",
       " (-0.30363515671374536, 'ZIP_98019'),\n",
       " (-0.27998178212477426, 'ZIP_98055'),\n",
       " (-0.2759309840096597, 'ZIP_98148'),\n",
       " (-0.2699099029950779, 'ZIP_98077'),\n",
       " (-0.2682115415228891, 'ZIP_98031'),\n",
       " (-0.2673817523879684, 'ZIP_98003'),\n",
       " (-0.2553075452232555, 'ZIP_98177'),\n",
       " (-0.2547349341389874, 'ZIP_98072'),\n",
       " (-0.25338932939479253, 'ZIP_98146'),\n",
       " (-0.25127915023501474, 'ZIP_98106'),\n",
       " (-0.24682084885905523, 'ZIP_98002'),\n",
       " (-0.2439219352088623, 'ZIP_98030'),\n",
       " (-0.24178819721051212, 'ZIP_98001'),\n",
       " (-0.2294745726242739, 'ZIP_98108'),\n",
       " (-0.22806877434403128, 'ZIP_98125'),\n",
       " (-0.21627478903612002, 'ZIP_98058'),\n",
       " (-0.20670085677789074, 'ZIP_98034'),\n",
       " (-0.20045683727391142, 'ZIP_98042'),\n",
       " (-0.19952130255797604, 'ZIP_98014'),\n",
       " (-0.18047523317105874, 'ZIP_98092'),\n",
       " (-0.1692163877848318, 'ZIP_98166'),\n",
       " (-0.15224207055774794, 'ZIP_98056'),\n",
       " (-0.10975570025725846, 'ZIP_98070'),\n",
       " (-0.10944636989636854, 'ZIP_98118'),\n",
       " (-0.09894331883621897, 'ZIP_98059'),\n",
       " (-0.08229526460171828, 'ZIP_98126'),\n",
       " (-0.06516489618178681, 'ZIP_98038'),\n",
       " (-0.03899017827785288, 'ZIP_98052'),\n",
       " (-0.037310377915066216, 'ZIP_98053'),\n",
       " (-0.008971539527883814, 'ZIP_98074'),\n",
       " (0.0, 'ZIP_98022'),\n",
       " (0.0, 'ZIP_98024'),\n",
       " (-0.0, 'ZIP_98117'),\n",
       " (0.004934956378012067, 'ZIP_98144'),\n",
       " (0.008194863434302991, 'ZIP_98065'),\n",
       " (0.031895459210091445, 'ZIP_98075'),\n",
       " (0.03498176430425129, 'ZIP_98136'),\n",
       " (0.037242934957682106, 'ZIP_98010'),\n",
       " (0.04039067689695658, 'ZIP_98115'),\n",
       " (0.04222880210430718, 'ZIP_98007'),\n",
       " (0.048845729834795494, 'ZIP_98103'),\n",
       " (0.049197436991680915, 'ZIP_98008'),\n",
       " (0.05307515197742298, 'ZIP_98107'),\n",
       " (0.06108811052549113, 'ZIP_98027'),\n",
       " (0.06195236043505656, 'ZIP_98045'),\n",
       " (0.07168428150981926, 'ZIP_98116'),\n",
       " (0.09178035377461106, 'ZIP_98033'),\n",
       " (0.09547310120090227, 'ZIP_98006'),\n",
       " (0.11381216564301383, 'ZIP_98005'),\n",
       " (0.11489294375918617, 'ZIP_98122'),\n",
       " (0.12193305509335026, 'ZIP_98029'),\n",
       " (0.17431862311982813, 'ZIP_98105'),\n",
       " (0.19981034574745724, 'ZIP_98119'),\n",
       " (0.20934598497771678, 'ZIP_98102'),\n",
       " (0.23324810609827373, 'ZIP_98109'),\n",
       " (0.2811672423260198, 'ZIP_98040'),\n",
       " (0.3123428341889464, 'ZIP_98112'),\n",
       " (0.47347717112436216, 'ZIP_98004'),\n",
       " (0.575859650724235, 'ZIP_98039')]"
      ]
     },
     "execution_count": 83,
     "metadata": {},
     "output_type": "execute_result"
    }
   ],
   "source": [
    "coefs"
   ]
  },
  {
   "cell_type": "code",
   "execution_count": 84,
   "metadata": {},
   "outputs": [],
   "source": [
    "adj = r_adjusted(elastic.score(X_train, y_train), X_train, y_train)\n",
    "model_results.append([\"Elastic - alpha=.0001, l1_ratio=.00001\", elastic.score(X_train, y_train), adj, train_mse, test_mse])"
   ]
  },
  {
   "cell_type": "code",
   "execution_count": 86,
   "metadata": {},
   "outputs": [
    {
     "data": {
      "text/plain": [
       "LinearRegression(copy_X=True, fit_intercept=True, n_jobs=None,\n",
       "         normalize=False)"
      ]
     },
     "execution_count": 86,
     "metadata": {},
     "output_type": "execute_result"
    }
   ],
   "source": [
    "linreg = LinearRegression()\n",
    "linreg.fit(X_train, y_train)"
   ]
  },
  {
   "cell_type": "code",
   "execution_count": 87,
   "metadata": {},
   "outputs": [
    {
     "name": "stdout",
     "output_type": "stream",
     "text": [
      "Train Mean Squarred Error: 0.03339448189119078\n",
      "Test Mean Squarred Error: 0.03416285027737898\n",
      "1.0230088428588824\n"
     ]
    }
   ],
   "source": [
    "y_predict_train = elastic.predict(X_train)\n",
    "train_mse = mean_squared_error(y_train, y_predict_train)\n",
    "test_mse = mean_squared_error(y_test, y_predict)\n",
    "print('Train Mean Squarred Error:', train_mse)\n",
    "print('Test Mean Squarred Error:', test_mse)\n",
    "print(test_mse/train_mse)"
   ]
  },
  {
   "cell_type": "code",
   "execution_count": 88,
   "metadata": {},
   "outputs": [
    {
     "data": {
      "text/plain": [
       "0.880394930520371"
      ]
     },
     "execution_count": 88,
     "metadata": {},
     "output_type": "execute_result"
    }
   ],
   "source": [
    "linreg.score(X_train, y_train)"
   ]
  },
  {
   "cell_type": "code",
   "execution_count": 94,
   "metadata": {},
   "outputs": [
    {
     "data": {
      "text/plain": [
       "0.879670515679891"
      ]
     },
     "execution_count": 94,
     "metadata": {},
     "output_type": "execute_result"
    }
   ],
   "source": [
    "adj = r_adjusted(linreg.score(X_train, y_train), X_train, y_train)\n",
    "adj"
   ]
  },
  {
   "cell_type": "code",
   "execution_count": 90,
   "metadata": {},
   "outputs": [],
   "source": [
    "model_results.append([\"Linear Regression\", linreg.score(X_train, y_train), adj, train_mse, test_mse])"
   ]
  },
  {
   "cell_type": "code",
   "execution_count": 92,
   "metadata": {},
   "outputs": [
    {
     "data": {
      "text/plain": [
       "[['Ridge - alpha .5',\n",
       "  0.8802807076599196,\n",
       "  0.8797013578668262,\n",
       "  0.03326977471687509,\n",
       "  0.03416285027737898],\n",
       " ['Lasso - alpha .0001',\n",
       "  0.8787986185283209,\n",
       "  0.8780645352674127,\n",
       "  0.03368164460480046,\n",
       "  0.03416285027737898],\n",
       " ['Elastic - alpha=.0001, l1_ratio=.00001',\n",
       "  0.8798319563598024,\n",
       "  0.8791041317404686,\n",
       "  0.03339448189119078,\n",
       "  0.03416285027737898],\n",
       " ['Linear Regression',\n",
       "  0.880394930520371,\n",
       "  0.879670515679891,\n",
       "  0.03339448189119078,\n",
       "  0.03416285027737898]]"
      ]
     },
     "execution_count": 92,
     "metadata": {},
     "output_type": "execute_result"
    }
   ],
   "source": [
    "model_results"
   ]
  },
  {
   "cell_type": "code",
   "execution_count": 93,
   "metadata": {},
   "outputs": [
    {
     "name": "stdout",
     "output_type": "stream",
     "text": [
      "Ratio of MSEs\n"
     ]
    },
    {
     "data": {
      "text/plain": [
       "['Ridge - alpha .5 - 0.9738582830983735',\n",
       " 'Lasso - alpha .0001 - 0.9859143581793832',\n",
       " 'Elastic - alpha=.0001, l1_ratio=.00001 - 0.9775086569197365',\n",
       " 'Linear Regression - 0.9775086569197365']"
      ]
     },
     "execution_count": 93,
     "metadata": {},
     "output_type": "execute_result"
    }
   ],
   "source": [
    "print(\"Ratio of MSEs\")\n",
    "[\"%s - %s\" % (x[0], x[3]/x[4]) for x in model_results]"
   ]
  },
  {
   "cell_type": "markdown",
   "metadata": {},
   "source": [
    "# Model Comparison Plot"
   ]
  },
  {
   "cell_type": "code",
   "execution_count": 172,
   "metadata": {},
   "outputs": [
    {
     "data": {
      "image/png": "[encoded data removed]",
      "text/plain": [
       "<Figure size 720x576 with 1 Axes>"
      ]
     },
     "metadata": {},
     "output_type": "display_data"
    }
   ],
   "source": [
    "plt.style.use('dark_background')\n",
    "plt.rc('text',usetex=False)\n",
    "plt.rcParams.update({'font.size':20})\n",
    "fig = plt.figure(figsize=(10,8))\n",
    "\n",
    "\n",
    "x = model_results[3][1]\n",
    "y = model_results[3][2]\n",
    "plt.scatter(x,y,marker = 'D', s=230, label = 'Linear')\n",
    "\n",
    "x = model_results[0][1]\n",
    "y = model_results[0][2]\n",
    "plt.scatter(x,y, marker = 'o', s=250, label = r'Ridge $\\alpha = 0.5$')\n",
    "\n",
    "x = model_results[1][1]\n",
    "y = model_results[1][2]\n",
    "plt.scatter(x,y,marker = 's',s=250, label = r'Lasso $\\alpha = 10^{-4}$')\n",
    "\n",
    "\n",
    "x = model_results[2][1]\n",
    "y = model_results[2][2]\n",
    "plt.scatter(x,y,marker = '^', s=250, label = r'Elastic $\\alpha = 10^{-4}$ $\\ell1_{ratio}=10^{-4}$')\n",
    "plt.legend(frameon=True)\n",
    "\n",
    "plt.xlim([0.878,0.881])\n",
    "plt.ylim([0.878,0.880])\n",
    "\n",
    "plt.xlabel(r'$R^{2}$', fontsize=18,labelpad=20)\n",
    "plt.ylabel(r'$R^{2}$ adjusted', fontsize=18,labelpad=20 )\n",
    "plt.tight_layout()\n",
    "plt.savefig('model-comparison.png')\n",
    "\n"
   ]
  },
  {
   "cell_type": "code",
   "execution_count": null,
   "metadata": {},
   "outputs": [],
   "source": []
  }
 ],
 "metadata": {
  "kernelspec": {
   "display_name": "Python 3",
   "language": "python",
   "name": "python3"
  },
  "language_info": {
   "codemirror_mode": {
    "name": "ipython",
    "version": 3
   },
   "file_extension": ".py",
   "mimetype": "text/x-python",
   "name": "python",
   "nbconvert_exporter": "python",
   "pygments_lexer": "ipython3",
   "version": "3.6.6"
  },
  "latex_envs": {
   "LaTeX_envs_menu_present": true,
   "autoclose": false,
   "autocomplete": true,
   "bibliofile": "biblio.bib",
   "cite_by": "apalike",
   "current_citInitial": 1,
   "eqLabelWithNumbers": true,
   "eqNumInitial": 1,
   "hotkeys": {
    "equation": "Ctrl-E",
    "itemize": "Ctrl-I"
   },
   "labels_anchors": false,
   "latex_user_defs": false,
   "report_style_numbering": false,
   "user_envs_cfg": false
  },
  "toc": {
   "base_numbering": 1,
   "nav_menu": {},
   "number_sections": true,
   "sideBar": true,
   "skip_h1_title": false,
   "title_cell": "Table of Contents",
   "title_sidebar": "Contents",
   "toc_cell": false,
   "toc_position": {},
   "toc_section_display": true,
   "toc_window_display": false
  }
 },
 "nbformat": 4,
 "nbformat_minor": 2
}
