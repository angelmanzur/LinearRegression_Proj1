{
 "cells": [
  {
   "cell_type": "markdown",
   "metadata": {},
   "source": [
    "# Project 1: Regression Modeling on King County Housing Data"
   ]
  },
  {
   "cell_type": "markdown",
   "metadata": {},
   "source": [
    "by: Angel Manzur, Llewellyn Jones, Filis Coba"
   ]
  },
  {
   "cell_type": "code",
   "execution_count": 52,
   "metadata": {},
   "outputs": [],
   "source": [
    "import pandas as pd\n",
    "import numpy as np\n",
    "import matplotlib.pyplot as plt\n",
    "import seaborn as sns\n",
    "%matplotlib inline\n",
    "import statsmodels.api as sm\n",
    "from datetime import datetime, timedelta\n",
    "\n",
    "from sklearn.model_selection import train_test_split, cross_val_score\n",
    "from sklearn.metrics import mean_squared_error\n",
    "from sklearn.linear_model import LinearRegression \n",
    "from sklearn.preprocessing import StandardScaler\n",
    "import warnings\n",
    "warnings.filterwarnings('ignore')"
   ]
  },
  {
   "cell_type": "code",
   "execution_count": 53,
   "metadata": {},
   "outputs": [],
   "source": [
    "def r_adjusted(r_squared, X, y):\n",
    "    return 1 - (1-r_squared)*(len(y)-1)/(len(y)-X.shape[1]-1)"
   ]
  },
  {
   "cell_type": "markdown",
   "metadata": {},
   "source": [
    "# Initial Inspection"
   ]
  },
  {
   "cell_type": "code",
   "execution_count": 54,
   "metadata": {},
   "outputs": [],
   "source": [
    "# Read in the csv file which contains data\n",
    "df = pd.read_csv('kc_house_data.csv')"
   ]
  },
  {
   "cell_type": "code",
   "execution_count": 55,
   "metadata": {},
   "outputs": [
    {
     "data": {
      "text/html": [
       "<div>\n",
       "<style scoped>\n",
       "    .dataframe tbody tr th:only-of-type {\n",
       "        vertical-align: middle;\n",
       "    }\n",
       "\n",
       "    .dataframe tbody tr th {\n",
       "        vertical-align: top;\n",
       "    }\n",
       "\n",
       "    .dataframe thead th {\n",
       "        text-align: right;\n",
       "    }\n",
       "</style>\n",
       "<table border=\"1\" class=\"dataframe\">\n",
       "  <thead>\n",
       "    <tr style=\"text-align: right;\">\n",
       "      <th></th>\n",
       "      <th>id</th>\n",
       "      <th>date</th>\n",
       "      <th>price</th>\n",
       "      <th>bedrooms</th>\n",
       "      <th>bathrooms</th>\n",
       "      <th>sqft_living</th>\n",
       "      <th>sqft_lot</th>\n",
       "      <th>floors</th>\n",
       "      <th>waterfront</th>\n",
       "      <th>view</th>\n",
       "      <th>...</th>\n",
       "      <th>grade</th>\n",
       "      <th>sqft_above</th>\n",
       "      <th>sqft_basement</th>\n",
       "      <th>yr_built</th>\n",
       "      <th>yr_renovated</th>\n",
       "      <th>zipcode</th>\n",
       "      <th>lat</th>\n",
       "      <th>long</th>\n",
       "      <th>sqft_living15</th>\n",
       "      <th>sqft_lot15</th>\n",
       "    </tr>\n",
       "  </thead>\n",
       "  <tbody>\n",
       "    <tr>\n",
       "      <th>0</th>\n",
       "      <td>7129300520</td>\n",
       "      <td>10/13/2014</td>\n",
       "      <td>221900.0</td>\n",
       "      <td>3</td>\n",
       "      <td>1.00</td>\n",
       "      <td>1180</td>\n",
       "      <td>5650</td>\n",
       "      <td>1.0</td>\n",
       "      <td>NaN</td>\n",
       "      <td>0.0</td>\n",
       "      <td>...</td>\n",
       "      <td>7</td>\n",
       "      <td>1180</td>\n",
       "      <td>0.0</td>\n",
       "      <td>1955</td>\n",
       "      <td>0.0</td>\n",
       "      <td>98178</td>\n",
       "      <td>47.5112</td>\n",
       "      <td>-122.257</td>\n",
       "      <td>1340</td>\n",
       "      <td>5650</td>\n",
       "    </tr>\n",
       "    <tr>\n",
       "      <th>1</th>\n",
       "      <td>6414100192</td>\n",
       "      <td>12/9/2014</td>\n",
       "      <td>538000.0</td>\n",
       "      <td>3</td>\n",
       "      <td>2.25</td>\n",
       "      <td>2570</td>\n",
       "      <td>7242</td>\n",
       "      <td>2.0</td>\n",
       "      <td>0.0</td>\n",
       "      <td>0.0</td>\n",
       "      <td>...</td>\n",
       "      <td>7</td>\n",
       "      <td>2170</td>\n",
       "      <td>400.0</td>\n",
       "      <td>1951</td>\n",
       "      <td>1991.0</td>\n",
       "      <td>98125</td>\n",
       "      <td>47.7210</td>\n",
       "      <td>-122.319</td>\n",
       "      <td>1690</td>\n",
       "      <td>7639</td>\n",
       "    </tr>\n",
       "    <tr>\n",
       "      <th>2</th>\n",
       "      <td>5631500400</td>\n",
       "      <td>2/25/2015</td>\n",
       "      <td>180000.0</td>\n",
       "      <td>2</td>\n",
       "      <td>1.00</td>\n",
       "      <td>770</td>\n",
       "      <td>10000</td>\n",
       "      <td>1.0</td>\n",
       "      <td>0.0</td>\n",
       "      <td>0.0</td>\n",
       "      <td>...</td>\n",
       "      <td>6</td>\n",
       "      <td>770</td>\n",
       "      <td>0.0</td>\n",
       "      <td>1933</td>\n",
       "      <td>NaN</td>\n",
       "      <td>98028</td>\n",
       "      <td>47.7379</td>\n",
       "      <td>-122.233</td>\n",
       "      <td>2720</td>\n",
       "      <td>8062</td>\n",
       "    </tr>\n",
       "    <tr>\n",
       "      <th>3</th>\n",
       "      <td>2487200875</td>\n",
       "      <td>12/9/2014</td>\n",
       "      <td>604000.0</td>\n",
       "      <td>4</td>\n",
       "      <td>3.00</td>\n",
       "      <td>1960</td>\n",
       "      <td>5000</td>\n",
       "      <td>1.0</td>\n",
       "      <td>0.0</td>\n",
       "      <td>0.0</td>\n",
       "      <td>...</td>\n",
       "      <td>7</td>\n",
       "      <td>1050</td>\n",
       "      <td>910.0</td>\n",
       "      <td>1965</td>\n",
       "      <td>0.0</td>\n",
       "      <td>98136</td>\n",
       "      <td>47.5208</td>\n",
       "      <td>-122.393</td>\n",
       "      <td>1360</td>\n",
       "      <td>5000</td>\n",
       "    </tr>\n",
       "    <tr>\n",
       "      <th>4</th>\n",
       "      <td>1954400510</td>\n",
       "      <td>2/18/2015</td>\n",
       "      <td>510000.0</td>\n",
       "      <td>3</td>\n",
       "      <td>2.00</td>\n",
       "      <td>1680</td>\n",
       "      <td>8080</td>\n",
       "      <td>1.0</td>\n",
       "      <td>0.0</td>\n",
       "      <td>0.0</td>\n",
       "      <td>...</td>\n",
       "      <td>8</td>\n",
       "      <td>1680</td>\n",
       "      <td>0.0</td>\n",
       "      <td>1987</td>\n",
       "      <td>0.0</td>\n",
       "      <td>98074</td>\n",
       "      <td>47.6168</td>\n",
       "      <td>-122.045</td>\n",
       "      <td>1800</td>\n",
       "      <td>7503</td>\n",
       "    </tr>\n",
       "  </tbody>\n",
       "</table>\n",
       "<p>5 rows × 21 columns</p>\n",
       "</div>"
      ],
      "text/plain": [
       "           id        date     price  bedrooms  bathrooms  sqft_living  \\\n",
       "0  7129300520  10/13/2014  221900.0         3       1.00         1180   \n",
       "1  6414100192   12/9/2014  538000.0         3       2.25         2570   \n",
       "2  5631500400   2/25/2015  180000.0         2       1.00          770   \n",
       "3  2487200875   12/9/2014  604000.0         4       3.00         1960   \n",
       "4  1954400510   2/18/2015  510000.0         3       2.00         1680   \n",
       "\n",
       "   sqft_lot  floors  waterfront  view     ...      grade  sqft_above  \\\n",
       "0      5650     1.0         NaN   0.0     ...          7        1180   \n",
       "1      7242     2.0         0.0   0.0     ...          7        2170   \n",
       "2     10000     1.0         0.0   0.0     ...          6         770   \n",
       "3      5000     1.0         0.0   0.0     ...          7        1050   \n",
       "4      8080     1.0         0.0   0.0     ...          8        1680   \n",
       "\n",
       "   sqft_basement yr_built  yr_renovated  zipcode      lat     long  \\\n",
       "0            0.0     1955           0.0    98178  47.5112 -122.257   \n",
       "1          400.0     1951        1991.0    98125  47.7210 -122.319   \n",
       "2            0.0     1933           NaN    98028  47.7379 -122.233   \n",
       "3          910.0     1965           0.0    98136  47.5208 -122.393   \n",
       "4            0.0     1987           0.0    98074  47.6168 -122.045   \n",
       "\n",
       "   sqft_living15  sqft_lot15  \n",
       "0           1340        5650  \n",
       "1           1690        7639  \n",
       "2           2720        8062  \n",
       "3           1360        5000  \n",
       "4           1800        7503  \n",
       "\n",
       "[5 rows x 21 columns]"
      ]
     },
     "execution_count": 55,
     "metadata": {},
     "output_type": "execute_result"
    }
   ],
   "source": [
    "# Let's take a look at the first few columns\n",
    "df.head()"
   ]
  },
  {
   "cell_type": "code",
   "execution_count": 56,
   "metadata": {},
   "outputs": [
    {
     "name": "stdout",
     "output_type": "stream",
     "text": [
      "id                 int64\n",
      "date              object\n",
      "price            float64\n",
      "bedrooms           int64\n",
      "bathrooms        float64\n",
      "sqft_living        int64\n",
      "sqft_lot           int64\n",
      "floors           float64\n",
      "waterfront       float64\n",
      "view             float64\n",
      "condition          int64\n",
      "grade              int64\n",
      "sqft_above         int64\n",
      "sqft_basement     object\n",
      "yr_built           int64\n",
      "yr_renovated     float64\n",
      "zipcode            int64\n",
      "lat              float64\n",
      "long             float64\n",
      "sqft_living15      int64\n",
      "sqft_lot15         int64\n",
      "dtype: object\n",
      "Dataframe shape (21597, 21)\n"
     ]
    }
   ],
   "source": [
    "# Let's look at the data types. Note that date and sqft_basement are string object.\n",
    "print(df.dtypes)\n",
    "print('Dataframe shape',df.shape)"
   ]
  },
  {
   "cell_type": "code",
   "execution_count": 57,
   "metadata": {},
   "outputs": [
    {
     "name": "stdout",
     "output_type": "stream",
     "text": [
      "Found 2376 \t NAs in column \twaterfront (11.00% of the data)\n",
      "Found 63 \t NAs in column \tview (0.29% of the data)\n",
      "Found 3842 \t NAs in column \tyr_renovated (17.79% of the data)\n"
     ]
    }
   ],
   "source": [
    "'''\n",
    "Get the number of NAs for a DataFrame, and the percentage of NAs in the data\n",
    "'''\n",
    "\n",
    "def print_NAs(dataframe):\n",
    "    for column in dataframe:\n",
    "        num_nas = dataframe[column].isna().sum()\n",
    "        if num_nas > 0:\n",
    "            print('Found {0} \\t NAs in column \\t{1} ({2:0.2f}% of the data)'.format(num_nas, column, 100.*num_nas/len(df)))\n",
    "\n",
    "print_NAs(df)"
   ]
  },
  {
   "cell_type": "markdown",
   "metadata": {},
   "source": [
    "# Plot the waterfront locations on a graph\n",
    "Not shown here because of library issues but include in powerpoint"
   ]
  },
  {
   "cell_type": "code",
   "execution_count": 58,
   "metadata": {},
   "outputs": [
    {
     "name": "stdout",
     "output_type": "stream",
     "text": [
      "0.0\n"
     ]
    }
   ],
   "source": [
    "# \"view\" column has empty values, will fill with mode\n",
    "view_mode = df['view'].mode()\n",
    "print(view_mode[0])\n",
    "df['view'].fillna(value=view_mode[0],inplace=True)"
   ]
  },
  {
   "cell_type": "code",
   "execution_count": 59,
   "metadata": {},
   "outputs": [],
   "source": [
    "# year renovated is ~18% of the data, \n",
    "#Convert year renovated to renovated or not variable\n",
    "df['is_renovated'] = df['yr_renovated'].apply(lambda x: 1 if x>0 else 0)"
   ]
  },
  {
   "cell_type": "code",
   "execution_count": 60,
   "metadata": {},
   "outputs": [
    {
     "data": {
      "text/plain": [
       "0       0.0\n",
       "1     400.0\n",
       "2       0.0\n",
       "3     910.0\n",
       "4       0.0\n",
       "5    1530.0\n",
       "6         ?\n",
       "Name: sqft_basement, dtype: object"
      ]
     },
     "execution_count": 60,
     "metadata": {},
     "output_type": "execute_result"
    }
   ],
   "source": [
    "#sqft basement is a string and some values are missing '?'\n",
    "df['sqft_basement'].head(7) "
   ]
  },
  {
   "cell_type": "code",
   "execution_count": 61,
   "metadata": {},
   "outputs": [],
   "source": [
    "# the basement sqft can be calculated as the difference \n",
    "# between the living area and the above area\n",
    "df['sqft_basement'] = df['sqft_living'] - df['sqft_above']\n",
    "#"
   ]
  },
  {
   "cell_type": "code",
   "execution_count": 62,
   "metadata": {},
   "outputs": [],
   "source": [
    "# but since sqft_basement is dependent on two other variables, lets remove it and\n",
    "# let's convert it into a has basement or not\n",
    "df['has_basement'] = df['sqft_basement'].apply(lambda x: 1 if x>0 else 0)\n"
   ]
  },
  {
   "cell_type": "markdown",
   "metadata": {},
   "source": [
    "# Looking for outliers"
   ]
  },
  {
   "cell_type": "code",
   "execution_count": 63,
   "metadata": {},
   "outputs": [
    {
     "data": {
      "text/plain": [
       "array([ 3,  2,  4,  5,  1,  6,  7,  8,  9, 11, 10, 33])"
      ]
     },
     "execution_count": 63,
     "metadata": {},
     "output_type": "execute_result"
    }
   ],
   "source": [
    "df.bedrooms.unique()"
   ]
  },
  {
   "cell_type": "code",
   "execution_count": 64,
   "metadata": {},
   "outputs": [
    {
     "data": {
      "text/html": [
       "<div>\n",
       "<style scoped>\n",
       "    .dataframe tbody tr th:only-of-type {\n",
       "        vertical-align: middle;\n",
       "    }\n",
       "\n",
       "    .dataframe tbody tr th {\n",
       "        vertical-align: top;\n",
       "    }\n",
       "\n",
       "    .dataframe thead th {\n",
       "        text-align: right;\n",
       "    }\n",
       "</style>\n",
       "<table border=\"1\" class=\"dataframe\">\n",
       "  <thead>\n",
       "    <tr style=\"text-align: right;\">\n",
       "      <th></th>\n",
       "      <th>id</th>\n",
       "      <th>date</th>\n",
       "      <th>price</th>\n",
       "      <th>bedrooms</th>\n",
       "      <th>bathrooms</th>\n",
       "      <th>sqft_living</th>\n",
       "      <th>sqft_lot</th>\n",
       "      <th>floors</th>\n",
       "      <th>waterfront</th>\n",
       "      <th>view</th>\n",
       "      <th>...</th>\n",
       "      <th>sqft_basement</th>\n",
       "      <th>yr_built</th>\n",
       "      <th>yr_renovated</th>\n",
       "      <th>zipcode</th>\n",
       "      <th>lat</th>\n",
       "      <th>long</th>\n",
       "      <th>sqft_living15</th>\n",
       "      <th>sqft_lot15</th>\n",
       "      <th>is_renovated</th>\n",
       "      <th>has_basement</th>\n",
       "    </tr>\n",
       "  </thead>\n",
       "  <tbody>\n",
       "    <tr>\n",
       "      <th>15856</th>\n",
       "      <td>2402100895</td>\n",
       "      <td>6/25/2014</td>\n",
       "      <td>640000.0</td>\n",
       "      <td>33</td>\n",
       "      <td>1.75</td>\n",
       "      <td>1620</td>\n",
       "      <td>6000</td>\n",
       "      <td>1.0</td>\n",
       "      <td>0.0</td>\n",
       "      <td>0.0</td>\n",
       "      <td>...</td>\n",
       "      <td>580</td>\n",
       "      <td>1947</td>\n",
       "      <td>0.0</td>\n",
       "      <td>98103</td>\n",
       "      <td>47.6878</td>\n",
       "      <td>-122.331</td>\n",
       "      <td>1330</td>\n",
       "      <td>4700</td>\n",
       "      <td>0</td>\n",
       "      <td>1</td>\n",
       "    </tr>\n",
       "  </tbody>\n",
       "</table>\n",
       "<p>1 rows × 23 columns</p>\n",
       "</div>"
      ],
      "text/plain": [
       "               id       date     price  bedrooms  bathrooms  sqft_living  \\\n",
       "15856  2402100895  6/25/2014  640000.0        33       1.75         1620   \n",
       "\n",
       "       sqft_lot  floors  waterfront  view      ...       sqft_basement  \\\n",
       "15856      6000     1.0         0.0   0.0      ...                 580   \n",
       "\n",
       "       yr_built  yr_renovated  zipcode      lat     long  sqft_living15  \\\n",
       "15856      1947           0.0    98103  47.6878 -122.331           1330   \n",
       "\n",
       "       sqft_lot15  is_renovated  has_basement  \n",
       "15856        4700             0             1  \n",
       "\n",
       "[1 rows x 23 columns]"
      ]
     },
     "execution_count": 64,
     "metadata": {},
     "output_type": "execute_result"
    }
   ],
   "source": [
    "df[df.bedrooms>30]"
   ]
  },
  {
   "cell_type": "code",
   "execution_count": 65,
   "metadata": {},
   "outputs": [],
   "source": [
    "# The 33 bedroom house appears to be a typo as the property has only 1.75 bathrooms, removing..\n",
    "df = df[df.bedrooms<30]"
   ]
  },
  {
   "cell_type": "markdown",
   "metadata": {},
   "source": [
    "## Modelling whole data set"
   ]
  },
  {
   "cell_type": "code",
   "execution_count": 66,
   "metadata": {},
   "outputs": [],
   "source": [
    "columns_to_drop = ['id', 'date']"
   ]
  },
  {
   "cell_type": "code",
   "execution_count": 67,
   "metadata": {},
   "outputs": [],
   "source": [
    "df.drop(columns_to_drop, axis=1, inplace=True)"
   ]
  },
  {
   "cell_type": "code",
   "execution_count": 68,
   "metadata": {},
   "outputs": [
    {
     "data": {
      "text/html": [
       "<div>\n",
       "<style scoped>\n",
       "    .dataframe tbody tr th:only-of-type {\n",
       "        vertical-align: middle;\n",
       "    }\n",
       "\n",
       "    .dataframe tbody tr th {\n",
       "        vertical-align: top;\n",
       "    }\n",
       "\n",
       "    .dataframe thead th {\n",
       "        text-align: right;\n",
       "    }\n",
       "</style>\n",
       "<table border=\"1\" class=\"dataframe\">\n",
       "  <thead>\n",
       "    <tr style=\"text-align: right;\">\n",
       "      <th></th>\n",
       "      <th>price</th>\n",
       "      <th>bedrooms</th>\n",
       "      <th>bathrooms</th>\n",
       "      <th>sqft_living</th>\n",
       "      <th>sqft_lot</th>\n",
       "      <th>floors</th>\n",
       "      <th>waterfront</th>\n",
       "      <th>view</th>\n",
       "      <th>condition</th>\n",
       "      <th>grade</th>\n",
       "      <th>...</th>\n",
       "      <th>sqft_basement</th>\n",
       "      <th>yr_built</th>\n",
       "      <th>yr_renovated</th>\n",
       "      <th>zipcode</th>\n",
       "      <th>lat</th>\n",
       "      <th>long</th>\n",
       "      <th>sqft_living15</th>\n",
       "      <th>sqft_lot15</th>\n",
       "      <th>is_renovated</th>\n",
       "      <th>has_basement</th>\n",
       "    </tr>\n",
       "  </thead>\n",
       "  <tbody>\n",
       "    <tr>\n",
       "      <th>0</th>\n",
       "      <td>221900.0</td>\n",
       "      <td>3</td>\n",
       "      <td>1.00</td>\n",
       "      <td>1180</td>\n",
       "      <td>5650</td>\n",
       "      <td>1.0</td>\n",
       "      <td>NaN</td>\n",
       "      <td>0.0</td>\n",
       "      <td>3</td>\n",
       "      <td>7</td>\n",
       "      <td>...</td>\n",
       "      <td>0</td>\n",
       "      <td>1955</td>\n",
       "      <td>0.0</td>\n",
       "      <td>98178</td>\n",
       "      <td>47.5112</td>\n",
       "      <td>-122.257</td>\n",
       "      <td>1340</td>\n",
       "      <td>5650</td>\n",
       "      <td>0</td>\n",
       "      <td>0</td>\n",
       "    </tr>\n",
       "    <tr>\n",
       "      <th>1</th>\n",
       "      <td>538000.0</td>\n",
       "      <td>3</td>\n",
       "      <td>2.25</td>\n",
       "      <td>2570</td>\n",
       "      <td>7242</td>\n",
       "      <td>2.0</td>\n",
       "      <td>0.0</td>\n",
       "      <td>0.0</td>\n",
       "      <td>3</td>\n",
       "      <td>7</td>\n",
       "      <td>...</td>\n",
       "      <td>400</td>\n",
       "      <td>1951</td>\n",
       "      <td>1991.0</td>\n",
       "      <td>98125</td>\n",
       "      <td>47.7210</td>\n",
       "      <td>-122.319</td>\n",
       "      <td>1690</td>\n",
       "      <td>7639</td>\n",
       "      <td>1</td>\n",
       "      <td>1</td>\n",
       "    </tr>\n",
       "    <tr>\n",
       "      <th>2</th>\n",
       "      <td>180000.0</td>\n",
       "      <td>2</td>\n",
       "      <td>1.00</td>\n",
       "      <td>770</td>\n",
       "      <td>10000</td>\n",
       "      <td>1.0</td>\n",
       "      <td>0.0</td>\n",
       "      <td>0.0</td>\n",
       "      <td>3</td>\n",
       "      <td>6</td>\n",
       "      <td>...</td>\n",
       "      <td>0</td>\n",
       "      <td>1933</td>\n",
       "      <td>NaN</td>\n",
       "      <td>98028</td>\n",
       "      <td>47.7379</td>\n",
       "      <td>-122.233</td>\n",
       "      <td>2720</td>\n",
       "      <td>8062</td>\n",
       "      <td>0</td>\n",
       "      <td>0</td>\n",
       "    </tr>\n",
       "    <tr>\n",
       "      <th>3</th>\n",
       "      <td>604000.0</td>\n",
       "      <td>4</td>\n",
       "      <td>3.00</td>\n",
       "      <td>1960</td>\n",
       "      <td>5000</td>\n",
       "      <td>1.0</td>\n",
       "      <td>0.0</td>\n",
       "      <td>0.0</td>\n",
       "      <td>5</td>\n",
       "      <td>7</td>\n",
       "      <td>...</td>\n",
       "      <td>910</td>\n",
       "      <td>1965</td>\n",
       "      <td>0.0</td>\n",
       "      <td>98136</td>\n",
       "      <td>47.5208</td>\n",
       "      <td>-122.393</td>\n",
       "      <td>1360</td>\n",
       "      <td>5000</td>\n",
       "      <td>0</td>\n",
       "      <td>1</td>\n",
       "    </tr>\n",
       "    <tr>\n",
       "      <th>4</th>\n",
       "      <td>510000.0</td>\n",
       "      <td>3</td>\n",
       "      <td>2.00</td>\n",
       "      <td>1680</td>\n",
       "      <td>8080</td>\n",
       "      <td>1.0</td>\n",
       "      <td>0.0</td>\n",
       "      <td>0.0</td>\n",
       "      <td>3</td>\n",
       "      <td>8</td>\n",
       "      <td>...</td>\n",
       "      <td>0</td>\n",
       "      <td>1987</td>\n",
       "      <td>0.0</td>\n",
       "      <td>98074</td>\n",
       "      <td>47.6168</td>\n",
       "      <td>-122.045</td>\n",
       "      <td>1800</td>\n",
       "      <td>7503</td>\n",
       "      <td>0</td>\n",
       "      <td>0</td>\n",
       "    </tr>\n",
       "  </tbody>\n",
       "</table>\n",
       "<p>5 rows × 21 columns</p>\n",
       "</div>"
      ],
      "text/plain": [
       "      price  bedrooms  bathrooms  sqft_living  sqft_lot  floors  waterfront  \\\n",
       "0  221900.0         3       1.00         1180      5650     1.0         NaN   \n",
       "1  538000.0         3       2.25         2570      7242     2.0         0.0   \n",
       "2  180000.0         2       1.00          770     10000     1.0         0.0   \n",
       "3  604000.0         4       3.00         1960      5000     1.0         0.0   \n",
       "4  510000.0         3       2.00         1680      8080     1.0         0.0   \n",
       "\n",
       "   view  condition  grade      ...       sqft_basement  yr_built  \\\n",
       "0   0.0          3      7      ...                   0      1955   \n",
       "1   0.0          3      7      ...                 400      1951   \n",
       "2   0.0          3      6      ...                   0      1933   \n",
       "3   0.0          5      7      ...                 910      1965   \n",
       "4   0.0          3      8      ...                   0      1987   \n",
       "\n",
       "   yr_renovated  zipcode      lat     long  sqft_living15  sqft_lot15  \\\n",
       "0           0.0    98178  47.5112 -122.257           1340        5650   \n",
       "1        1991.0    98125  47.7210 -122.319           1690        7639   \n",
       "2           NaN    98028  47.7379 -122.233           2720        8062   \n",
       "3           0.0    98136  47.5208 -122.393           1360        5000   \n",
       "4           0.0    98074  47.6168 -122.045           1800        7503   \n",
       "\n",
       "   is_renovated  has_basement  \n",
       "0             0             0  \n",
       "1             1             1  \n",
       "2             0             0  \n",
       "3             0             1  \n",
       "4             0             0  \n",
       "\n",
       "[5 rows x 21 columns]"
      ]
     },
     "execution_count": 68,
     "metadata": {},
     "output_type": "execute_result"
    }
   ],
   "source": [
    "df.head()"
   ]
  },
  {
   "cell_type": "markdown",
   "metadata": {},
   "source": [
    "# Standardize the data"
   ]
  },
  {
   "cell_type": "code",
   "execution_count": 69,
   "metadata": {},
   "outputs": [],
   "source": [
    "b = df['sqft_living']\n",
    "sqft_living_min = min(b)\n",
    "sqft_living_range = max(b)-min(b)\n",
    "df['sqft_living'] = (b-sqft_living_min)/sqft_living_range\n",
    "\n",
    "b = df['sqft_above']\n",
    "sqft_ab_min = min(b)\n",
    "sqft_ab_range = max(b)-min(b)\n",
    "df['sqft_above'] = (b-sqft_ab_min)/(sqft_ab_range)\n",
    "\n",
    "b = df['sqft_lot']\n",
    "sqft_lot_min = min(b)\n",
    "sqft_lot_range = max(b)-min(b)\n",
    "df['sqft_lot'] = (b-sqft_lot_min)/(sqft_lot_range)\n",
    "\n",
    "b = df['sqft_living15']\n",
    "sqft_living15_min = min(b)\n",
    "sqft_living15_range = max(b)-min(b)\n",
    "df['sqft_living15'] = (b-sqft_living15_min)/sqft_living15_range\n",
    "\n",
    "b = df['sqft_lot15']\n",
    "sqft_lot15_min = min(b)\n",
    "sqft_lot15_range = max(b)-min(b)\n",
    "df['sqft_lot15'] = (b-sqft_lot15_min)/sqft_lot15_range\n",
    "\n",
    "b = df['sqft_basement']\n",
    "sqft_basement_min = min(b)\n",
    "sqft_basement_range = max(b)-min(b)\n",
    "df['sqft_basement'] = (b-sqft_basement_min)/sqft_basement_range\n",
    "\n",
    "b = df['yr_built']                  \n",
    "yb_min = min(b)\n",
    "yb_range = max(b)-min(b)\n",
    "df['yr_built'] = (b-yb_min)/(yb_range)\n",
    "\n",
    "b = df['yr_renovated']                  \n",
    "yb_min = min(b)\n",
    "yb_range = max(b)-min(b)\n",
    "df['yr_renovated'] = (b-yb_min)/(yb_range)\n",
    "\n",
    "# standardization\n",
    "b = df['price']\n",
    "y = np.log(b)\n"
   ]
  },
  {
   "cell_type": "markdown",
   "metadata": {},
   "source": [
    "# Create some categorical variables\n",
    "For columns: zipcode, waterfront, view, condition, and grade"
   ]
  },
  {
   "cell_type": "code",
   "execution_count": 70,
   "metadata": {},
   "outputs": [],
   "source": [
    "zip_dummy = pd.get_dummies(df[\"zipcode\"], prefix=\"ZIP\")\n",
    "df = df.drop(columns=[\"zipcode\"],)\n",
    "df = pd.concat([df, zip_dummy], axis=1)\n",
    "df.drop(df.columns[-1], axis=1, inplace=True)"
   ]
  },
  {
   "cell_type": "code",
   "execution_count": 71,
   "metadata": {},
   "outputs": [],
   "source": [
    "wf_dummy = pd.get_dummies(df[\"waterfront\"], prefix=\"WF\")\n",
    "df = df.drop(columns=[\"waterfront\"],)\n",
    "df = pd.concat([df, wf_dummy], axis=1)"
   ]
  },
  {
   "cell_type": "code",
   "execution_count": 72,
   "metadata": {},
   "outputs": [],
   "source": [
    "view_dummy = pd.get_dummies(df[\"view\"], prefix=\"VIEW\")\n",
    "df = df.drop(columns=[\"view\"],)\n",
    "df = pd.concat([df, view_dummy], axis=1)\n",
    "df.drop(df.columns[-1], axis=1, inplace=True)"
   ]
  },
  {
   "cell_type": "code",
   "execution_count": 73,
   "metadata": {
    "scrolled": true
   },
   "outputs": [],
   "source": [
    "condition_dummy = pd.get_dummies(df[\"condition\"], prefix=\"COND\")\n",
    "df = df.drop(columns=[\"condition\"],)\n",
    "df = pd.concat([df, condition_dummy], axis=1)\n",
    "df.drop(df.columns[-1], axis=1, inplace=True)"
   ]
  },
  {
   "cell_type": "code",
   "execution_count": 74,
   "metadata": {},
   "outputs": [],
   "source": [
    "grade_dummy = pd.get_dummies(df[\"grade\"], prefix=\"GRADE\")\n",
    "df = df.drop(columns=[\"grade\"],)\n",
    "df = pd.concat([df, grade_dummy], axis=1)\n",
    "df.drop(df.columns[-1], axis=1, inplace=True)"
   ]
  },
  {
   "cell_type": "code",
   "execution_count": 75,
   "metadata": {},
   "outputs": [
    {
     "name": "stdout",
     "output_type": "stream",
     "text": [
      "Found 3842 \t NAs in column \tyr_renovated (17.79% of the data)\n"
     ]
    }
   ],
   "source": [
    "print_NAs(df)"
   ]
  },
  {
   "cell_type": "code",
   "execution_count": 76,
   "metadata": {},
   "outputs": [],
   "source": [
    "df.drop(\"yr_renovated\", axis=1, inplace=True)"
   ]
  },
  {
   "cell_type": "code",
   "execution_count": 77,
   "metadata": {},
   "outputs": [],
   "source": [
    "#Lets select our predictor data frame X\n",
    "X = df.drop(columns=['price'])"
   ]
  },
  {
   "cell_type": "markdown",
   "metadata": {},
   "source": [
    "## Split the data into train and test data sets"
   ]
  },
  {
   "cell_type": "code",
   "execution_count": 78,
   "metadata": {},
   "outputs": [
    {
     "name": "stdout",
     "output_type": "stream",
     "text": [
      "Train length  17276 17276\n",
      "Test length  4320 4320\n"
     ]
    }
   ],
   "source": [
    "# Let's split the data into train and test data sets\n",
    "X_train, X_test, y_train, y_test = train_test_split(X, y, test_size=0.20)\n",
    "print('Train length ',len(X_train), len(y_train))\n",
    "print('Test length ',len(X_test), len(y_test))"
   ]
  },
  {
   "cell_type": "markdown",
   "metadata": {},
   "source": [
    "# Try some linear regression models "
   ]
  },
  {
   "cell_type": "markdown",
   "metadata": {},
   "source": [
    "## Ridge Method"
   ]
  },
  {
   "cell_type": "code",
   "execution_count": 79,
   "metadata": {
    "scrolled": true
   },
   "outputs": [
    {
     "data": {
      "text/plain": [
       "Ridge(alpha=0.5, copy_X=True, fit_intercept=True, max_iter=None,\n",
       "   normalize=False, random_state=None, solver='auto', tol=0.001)"
      ]
     },
     "execution_count": 79,
     "metadata": {},
     "output_type": "execute_result"
    }
   ],
   "source": [
    "from sklearn.linear_model import Ridge\n",
    "linreg = Ridge(alpha=.5)\n",
    "linreg.fit(X_train, y_train)"
   ]
  },
  {
   "cell_type": "code",
   "execution_count": 80,
   "metadata": {},
   "outputs": [
    {
     "name": "stdout",
     "output_type": "stream",
     "text": [
      "R2 0.881830802685678 ; R2 adjusted 0.8812644790618471\n"
     ]
    }
   ],
   "source": [
    "r_squared = linreg.score(X_train, y_train)\n",
    "\n",
    "adj = r_adjusted(r_squared, X, y)\n",
    "print('R2',r_squared,'; R2 adjusted', adj)"
   ]
  },
  {
   "cell_type": "code",
   "execution_count": 81,
   "metadata": {},
   "outputs": [],
   "source": [
    "from sklearn.metrics import r2_score\n",
    "y_predict = linreg.predict(X_test)"
   ]
  },
  {
   "cell_type": "code",
   "execution_count": 82,
   "metadata": {},
   "outputs": [
    {
     "data": {
      "image/png": "[encoded data removed]",
      "text/plain": [
       "<Figure size 648x504 with 1 Axes>"
      ]
     },
     "metadata": {
      "needs_background": "light"
     },
     "output_type": "display_data"
    }
   ],
   "source": [
    "fig=plt.figure(figsize=(9,7))\n",
    "sns.regplot(np.exp(y_test), np.exp(y_predict))\n",
    "plt.xlabel('Known Price', fontsize=16)\n",
    "plt.ylabel('Predicted Price', fontsize=16)\n",
    "xlocs,xlabels=plt.xticks()\n",
    "ylocs,ylabels=plt.yticks()\n",
    "# plt.xticks(xlocs, ylabels)\n",
    "plt.savefig('Predicted Price vs. Known Price.png')"
   ]
  },
  {
   "cell_type": "code",
   "execution_count": 83,
   "metadata": {},
   "outputs": [
    {
     "name": "stdout",
     "output_type": "stream",
     "text": [
      "0.8655958688670478\n",
      "0.8514012448781296\n"
     ]
    }
   ],
   "source": [
    "y_predict_train = linreg.predict(X_train)\n",
    "print(r2_score(y_predict_train, y_train))\n",
    "print(r2_score(y_predict, y_test))"
   ]
  },
  {
   "cell_type": "code",
   "execution_count": 84,
   "metadata": {
    "scrolled": false
   },
   "outputs": [
    {
     "name": "stdout",
     "output_type": "stream",
     "text": [
      "Train Mean Squarred Error: 0.03279006206728613\n",
      "Test Mean Squarred Error: 0.036064339294716655\n",
      "1.0998557801053142\n"
     ]
    }
   ],
   "source": [
    "train_mse = mean_squared_error(y_train, y_predict_train)\n",
    "test_mse = mean_squared_error(y_test, y_predict)\n",
    "print('Train Mean Squarred Error:', train_mse)\n",
    "print('Test Mean Squarred Error:', test_mse)\n",
    "print(test_mse/train_mse)"
   ]
  },
  {
   "cell_type": "code",
   "execution_count": 85,
   "metadata": {},
   "outputs": [],
   "source": [
    "model_results = []\n",
    "model_results.append([\"Ridge - alpha .5\", linreg.score(X_train, y_train), adj, train_mse, test_mse])"
   ]
  },
  {
   "cell_type": "markdown",
   "metadata": {},
   "source": [
    "## Lasso "
   ]
  },
  {
   "cell_type": "code",
   "execution_count": 86,
   "metadata": {},
   "outputs": [
    {
     "data": {
      "text/plain": [
       "Lasso(alpha=1, copy_X=True, fit_intercept=True, max_iter=1000,\n",
       "   normalize=False, positive=False, precompute=False, random_state=None,\n",
       "   selection='cyclic', tol=0.0001, warm_start=False)"
      ]
     },
     "execution_count": 86,
     "metadata": {},
     "output_type": "execute_result"
    }
   ],
   "source": [
    "from sklearn.linear_model import Lasso\n",
    "lasso = Lasso(alpha=1)\n",
    "lasso.fit(X_train, y_train)"
   ]
  },
  {
   "cell_type": "code",
   "execution_count": 88,
   "metadata": {
    "scrolled": false
   },
   "outputs": [
    {
     "data": {
      "text/plain": [
       "0.0"
      ]
     },
     "execution_count": 88,
     "metadata": {},
     "output_type": "execute_result"
    }
   ],
   "source": [
    "lasso.score(X_train, y_train)"
   ]
  },
  {
   "cell_type": "code",
   "execution_count": 89,
   "metadata": {
    "scrolled": true
   },
   "outputs": [
    {
     "name": "stdout",
     "output_type": "stream",
     "text": [
      "Train Mean Squarred Error: 0.2774840043980903\n",
      "Test Mean Squarred Error: 0.036064339294716655\n",
      "0.12996907469656244\n"
     ]
    }
   ],
   "source": [
    "y_predict_train = lasso.predict(X_train)\n",
    "train_mse = mean_squared_error(y_train, y_predict_train)\n",
    "test_mse = mean_squared_error(y_test, y_predict)\n",
    "print('Train Mean Squarred Error:', train_mse)\n",
    "print('Test Mean Squarred Error:', test_mse)\n",
    "print(test_mse/train_mse)"
   ]
  },
  {
   "cell_type": "markdown",
   "metadata": {},
   "source": [
    "There is a big difference between train and test MSE, due to a poor choice in alpha, let's do a grid search to find a better value."
   ]
  },
  {
   "cell_type": "code",
   "execution_count": 90,
   "metadata": {},
   "outputs": [],
   "source": [
    "from sklearn.linear_model import LassoCV\n",
    "from sklearn.linear_model import Lasso\n",
    "from sklearn.model_selection import KFold\n",
    "from sklearn.model_selection import GridSearchCV"
   ]
  },
  {
   "cell_type": "code",
   "execution_count": 91,
   "metadata": {},
   "outputs": [],
   "source": [
    "alphas = np.logspace(-3, -1, 30)\n",
    "\n",
    "tuned_parameters = [{'alpha': alphas}]\n",
    "n_folds = 3\n",
    "\n",
    "clf = GridSearchCV(lasso, tuned_parameters, cv=n_folds, refit=False)"
   ]
  },
  {
   "cell_type": "code",
   "execution_count": 92,
   "metadata": {},
   "outputs": [
    {
     "data": {
      "text/plain": [
       "GridSearchCV(cv=3, error_score='raise-deprecating',\n",
       "       estimator=Lasso(alpha=1, copy_X=True, fit_intercept=True, max_iter=1000,\n",
       "   normalize=False, positive=False, precompute=False, random_state=None,\n",
       "   selection='cyclic', tol=0.0001, warm_start=False),\n",
       "       fit_params=None, iid='warn', n_jobs=None,\n",
       "       param_grid=[{'alpha': array([0.001  , 0.00117, 0.00137, 0.00161, 0.00189, 0.00221, 0.00259,\n",
       "       0.00304, 0.00356, 0.00418, 0.00489, 0.00574, 0.00672, 0.00788,\n",
       "       0.00924, 0.01083, 0.01269, 0.01487, 0.01743, 0.02043, 0.02395,\n",
       "       0.02807, 0.0329 , 0.03857, 0.0452 , 0.05298, 0.0621 , 0.07279,\n",
       "       0.08532, 0.1    ])}],\n",
       "       pre_dispatch='2*n_jobs', refit=False, return_train_score='warn',\n",
       "       scoring=None, verbose=0)"
      ]
     },
     "execution_count": 92,
     "metadata": {},
     "output_type": "execute_result"
    }
   ],
   "source": [
    "clf.fit(X_train, y_train)"
   ]
  },
  {
   "cell_type": "markdown",
   "metadata": {},
   "source": [
    "Let's plot the scores vs alphas, to pick a value"
   ]
  },
  {
   "cell_type": "code",
   "execution_count": 93,
   "metadata": {},
   "outputs": [
    {
     "data": {
      "text/plain": [
       "Text(0, 0.5, 'Scores')"
      ]
     },
     "execution_count": 93,
     "metadata": {},
     "output_type": "execute_result"
    },
    {
     "data": {
      "image/png": "[encoded data removed]",
      "text/plain": [
       "<Figure size 432x288 with 1 Axes>"
      ]
     },
     "metadata": {
      "needs_background": "light"
     },
     "output_type": "display_data"
    }
   ],
   "source": [
    "scores = clf.cv_results_['mean_test_score']\n",
    "scores_std = clf.cv_results_['std_test_score']\n",
    "plt.semilogx(alphas, scores)\n",
    "plt.xlabel(\"Alphas\")\n",
    "plt.ylabel(\"Scores\")"
   ]
  },
  {
   "cell_type": "code",
   "execution_count": 94,
   "metadata": {},
   "outputs": [
    {
     "data": {
      "text/plain": [
       "0.8804917723947389"
      ]
     },
     "execution_count": 94,
     "metadata": {},
     "output_type": "execute_result"
    }
   ],
   "source": [
    "# From the plot above, set alpha = 0.0001\n",
    "lasso = Lasso(alpha=.0001)\n",
    "lasso.fit(X_train, y_train)\n",
    "lasso.score(X_train, y_train)"
   ]
  },
  {
   "cell_type": "code",
   "execution_count": 96,
   "metadata": {
    "scrolled": true
   },
   "outputs": [
    {
     "name": "stdout",
     "output_type": "stream",
     "text": [
      "Train Mean Squarred Error: 0.033161621554426264\n",
      "Test Mean Squarred Error: 0.036064339294716655\n",
      "1.0875324427524247\n"
     ]
    }
   ],
   "source": [
    "\n",
    "y_predict_train = lasso.predict(X_train)\n",
    "train_mse = mean_squared_error(y_train, y_predict_train)\n",
    "test_mse = mean_squared_error(y_test, y_predict)\n",
    "print('Train Mean Squarred Error:', train_mse)\n",
    "print('Test Mean Squarred Error:', test_mse)\n",
    "print(test_mse/train_mse)"
   ]
  },
  {
   "cell_type": "markdown",
   "metadata": {},
   "source": [
    "Train and Test MSE are comparable, let's keep this model."
   ]
  },
  {
   "cell_type": "code",
   "execution_count": 97,
   "metadata": {},
   "outputs": [],
   "source": [
    "adj = r_adjusted(lasso.score(X_train, y_train), X_train, y_train)\n",
    "model_results.append([\"Lasso - alpha .0001\", lasso.score(X_train, y_train), adj, train_mse, test_mse])"
   ]
  },
  {
   "cell_type": "markdown",
   "metadata": {},
   "source": [
    "## Elastic Method (Lasso + Ridge)"
   ]
  },
  {
   "cell_type": "code",
   "execution_count": 98,
   "metadata": {},
   "outputs": [
    {
     "data": {
      "text/plain": [
       "ElasticNet(alpha=0.0001, copy_X=True, fit_intercept=True, l1_ratio=1e-05,\n",
       "      max_iter=1000, normalize=False, positive=False, precompute=False,\n",
       "      random_state=None, selection='cyclic', tol=0.0001, warm_start=False)"
      ]
     },
     "execution_count": 98,
     "metadata": {},
     "output_type": "execute_result"
    }
   ],
   "source": [
    "from sklearn.linear_model import ElasticNet\n",
    "elastic = ElasticNet(alpha=.0001, l1_ratio=.00001)\n",
    "elastic.fit(X_train, y_train)"
   ]
  },
  {
   "cell_type": "code",
   "execution_count": 100,
   "metadata": {},
   "outputs": [],
   "source": [
    "alphas = np.logspace(-3, -1, 30)\n",
    "\n",
    "tuned_parameters = [{'alpha': alphas}]\n",
    "n_folds = 3\n",
    "\n",
    "clf = GridSearchCV(elastic, tuned_parameters, cv=n_folds, refit=False)"
   ]
  },
  {
   "cell_type": "code",
   "execution_count": 101,
   "metadata": {},
   "outputs": [
    {
     "data": {
      "text/plain": [
       "GridSearchCV(cv=3, error_score='raise-deprecating',\n",
       "       estimator=ElasticNet(alpha=0.0001, copy_X=True, fit_intercept=True, l1_ratio=1e-05,\n",
       "      max_iter=1000, normalize=False, positive=False, precompute=False,\n",
       "      random_state=None, selection='cyclic', tol=0.0001, warm_start=False),\n",
       "       fit_params=None, iid='warn', n_jobs=None,\n",
       "       param_grid=[{'alpha': array([0.001  , 0.00117, 0.00137, 0.00161, 0.00189, 0.00221, 0.00259,\n",
       "       0.00304, 0.00356, 0.00418, 0.00489, 0.00574, 0.00672, 0.00788,\n",
       "       0.00924, 0.01083, 0.01269, 0.01487, 0.01743, 0.02043, 0.02395,\n",
       "       0.02807, 0.0329 , 0.03857, 0.0452 , 0.05298, 0.0621 , 0.07279,\n",
       "       0.08532, 0.1    ])}],\n",
       "       pre_dispatch='2*n_jobs', refit=False, return_train_score='warn',\n",
       "       scoring=None, verbose=0)"
      ]
     },
     "execution_count": 101,
     "metadata": {},
     "output_type": "execute_result"
    }
   ],
   "source": [
    "clf.fit(X_train, y_train)"
   ]
  },
  {
   "cell_type": "code",
   "execution_count": 102,
   "metadata": {},
   "outputs": [
    {
     "data": {
      "text/plain": [
       "Text(0, 0.5, 'Scores')"
      ]
     },
     "execution_count": 102,
     "metadata": {},
     "output_type": "execute_result"
    },
    {
     "data": {
      "image/png": "[encoded data removed]",
      "text/plain": [
       "<Figure size 432x288 with 1 Axes>"
      ]
     },
     "metadata": {
      "needs_background": "light"
     },
     "output_type": "display_data"
    }
   ],
   "source": [
    "scores = clf.cv_results_['mean_test_score']\n",
    "scores_std = clf.cv_results_['std_test_score']\n",
    "plt.semilogx(alphas, scores)\n",
    "plt.xlabel(\"Alphas\")\n",
    "plt.ylabel(\"Scores\")"
   ]
  },
  {
   "cell_type": "code",
   "execution_count": 104,
   "metadata": {},
   "outputs": [
    {
     "data": {
      "text/plain": [
       "ElasticNet(alpha=0.0001, copy_X=True, fit_intercept=True, l1_ratio=0.5,\n",
       "      max_iter=1000, normalize=False, positive=False, precompute=False,\n",
       "      random_state=None, selection='cyclic', tol=0.0001, warm_start=False)"
      ]
     },
     "execution_count": 104,
     "metadata": {},
     "output_type": "execute_result"
    }
   ],
   "source": [
    "from sklearn.linear_model import ElasticNet\n",
    "elastic = ElasticNet(alpha=.0001)\n",
    "elastic.fit(X_train, y_train)"
   ]
  },
  {
   "cell_type": "code",
   "execution_count": 105,
   "metadata": {},
   "outputs": [
    {
     "name": "stdout",
     "output_type": "stream",
     "text": [
      "Train Mean Squarred Error: 0.033014777538139306\n",
      "Test Mean Squarred Error: 0.036064339294716655\n",
      "1.092369598827508\n"
     ]
    }
   ],
   "source": [
    "\n",
    "y_predict_train = elastic.predict(X_train)\n",
    "train_mse = mean_squared_error(y_train, y_predict_train)\n",
    "test_mse = mean_squared_error(y_test, y_predict)\n",
    "print('Train Mean Squarred Error:', train_mse)\n",
    "print('Test Mean Squarred Error:', test_mse)\n",
    "print(test_mse/train_mse)"
   ]
  },
  {
   "cell_type": "code",
   "execution_count": 106,
   "metadata": {},
   "outputs": [
    {
     "data": {
      "text/plain": [
       "0.8810209705249356"
      ]
     },
     "execution_count": 106,
     "metadata": {},
     "output_type": "execute_result"
    }
   ],
   "source": [
    "elastic.score(X_train, y_train)"
   ]
  },
  {
   "cell_type": "code",
   "execution_count": 107,
   "metadata": {},
   "outputs": [],
   "source": [
    "# Let's loop over the L1_ratios\n",
    "L1_ratios = np.linspace(0, 1, 3)\n",
    "\n",
    "tuned_parameters = [{'l1_ratio': L1_ratios}]\n",
    "n_folds = 3\n",
    "\n",
    "clf = GridSearchCV(elastic, tuned_parameters, cv=n_folds, refit=False)"
   ]
  },
  {
   "cell_type": "code",
   "execution_count": 108,
   "metadata": {},
   "outputs": [
    {
     "data": {
      "text/plain": [
       "GridSearchCV(cv=3, error_score='raise-deprecating',\n",
       "       estimator=ElasticNet(alpha=0.0001, copy_X=True, fit_intercept=True, l1_ratio=0.5,\n",
       "      max_iter=1000, normalize=False, positive=False, precompute=False,\n",
       "      random_state=None, selection='cyclic', tol=0.0001, warm_start=False),\n",
       "       fit_params=None, iid='warn', n_jobs=None,\n",
       "       param_grid=[{'l1_ratio': array([0. , 0.5, 1. ])}],\n",
       "       pre_dispatch='2*n_jobs', refit=False, return_train_score='warn',\n",
       "       scoring=None, verbose=0)"
      ]
     },
     "execution_count": 108,
     "metadata": {},
     "output_type": "execute_result"
    }
   ],
   "source": [
    "clf.fit(X_train, y_train)"
   ]
  },
  {
   "cell_type": "code",
   "execution_count": 109,
   "metadata": {},
   "outputs": [
    {
     "data": {
      "text/plain": [
       "Text(0, 0.5, 'Scores')"
      ]
     },
     "execution_count": 109,
     "metadata": {},
     "output_type": "execute_result"
    },
    {
     "data": {
      "image/png": "[encoded data removed]",
      "text/plain": [
       "<Figure size 432x288 with 1 Axes>"
      ]
     },
     "metadata": {
      "needs_background": "light"
     },
     "output_type": "display_data"
    }
   ],
   "source": [
    "scores = clf.cv_results_['mean_test_score']\n",
    "scores_std = clf.cv_results_['std_test_score']\n",
    "plt.semilogx(L1_ratios, scores)\n",
    "plt.xlabel(\"L1_ratios\")\n",
    "plt.ylabel(\"Scores\")"
   ]
  },
  {
   "cell_type": "code",
   "execution_count": 110,
   "metadata": {},
   "outputs": [
    {
     "data": {
      "text/plain": [
       "ElasticNet(alpha=0.0001, copy_X=True, fit_intercept=True, l1_ratio=1e-05,\n",
       "      max_iter=1000, normalize=False, positive=False, precompute=False,\n",
       "      random_state=None, selection='cyclic', tol=0.0001, warm_start=False)"
      ]
     },
     "execution_count": 110,
     "metadata": {},
     "output_type": "execute_result"
    }
   ],
   "source": [
    "from sklearn.linear_model import ElasticNet\n",
    "elastic = ElasticNet(alpha=.0001, l1_ratio=.00001)\n",
    "elastic.fit(X_train, y_train)"
   ]
  },
  {
   "cell_type": "code",
   "execution_count": 111,
   "metadata": {},
   "outputs": [
    {
     "data": {
      "text/plain": [
       "0.8814050563426263"
      ]
     },
     "execution_count": 111,
     "metadata": {},
     "output_type": "execute_result"
    }
   ],
   "source": [
    "elastic.score(X_train, y_train)"
   ]
  },
  {
   "cell_type": "code",
   "execution_count": 112,
   "metadata": {},
   "outputs": [
    {
     "name": "stdout",
     "output_type": "stream",
     "text": [
      "Train Mean Squarred Error: 0.03290819986741395\n",
      "Test Mean Squarred Error: 0.036064339294716655\n",
      "1.0959073860016253\n"
     ]
    }
   ],
   "source": [
    "from sklearn.metrics import mean_squared_error\n",
    "y_predict_train = elastic.predict(X_train)\n",
    "train_mse = mean_squared_error(y_train, y_predict_train)\n",
    "test_mse = mean_squared_error(y_test, y_predict)\n",
    "print('Train Mean Squarred Error:', train_mse)\n",
    "print('Test Mean Squarred Error:', test_mse)\n",
    "print(test_mse/train_mse)"
   ]
  },
  {
   "cell_type": "code",
   "execution_count": 113,
   "metadata": {},
   "outputs": [],
   "source": [
    "cvs = cross_val_score(lasso, X_train, y_train, cv=20, scoring=\"r2\")"
   ]
  },
  {
   "cell_type": "code",
   "execution_count": 114,
   "metadata": {},
   "outputs": [
    {
     "name": "stdout",
     "output_type": "stream",
     "text": [
      "0.8782242237481521 0.00889517206970977\n"
     ]
    }
   ],
   "source": [
    "print(cvs.mean(),cvs.std())"
   ]
  },
  {
   "cell_type": "code",
   "execution_count": 62,
   "metadata": {},
   "outputs": [],
   "source": [
    "# lasso.coef_"
   ]
  },
  {
   "cell_type": "markdown",
   "metadata": {},
   "source": [
    "Printing out a list of the coefficients"
   ]
  },
  {
   "cell_type": "code",
   "execution_count": 63,
   "metadata": {},
   "outputs": [],
   "source": [
    "# list(zip(lasso.coef_, X_train.columns))"
   ]
  },
  {
   "cell_type": "code",
   "execution_count": 115,
   "metadata": {},
   "outputs": [],
   "source": [
    "coefs = list(zip(lasso.coef_, X_train.columns))"
   ]
  },
  {
   "cell_type": "code",
   "execution_count": 116,
   "metadata": {},
   "outputs": [
    {
     "data": {
      "text/plain": [
       "[(1.2277916096136035, 'lat'),\n",
       " (1.1774875782110958, 'sqft_living'),\n",
       " (1.0947124696423274, 'sqft_above'),\n",
       " (0.8946922547188395, 'sqft_lot'),\n",
       " (0.5452790512715415, 'ZIP_98039')]"
      ]
     },
     "execution_count": 116,
     "metadata": {},
     "output_type": "execute_result"
    }
   ],
   "source": [
    "coefs.sort(key=lambda x : x[0], reverse=True)\n",
    "coefs[0:5]"
   ]
  },
  {
   "cell_type": "code",
   "execution_count": 117,
   "metadata": {},
   "outputs": [],
   "source": [
    "coefs = [x for x in coefs if \"ZIP\" in x[1]]"
   ]
  },
  {
   "cell_type": "code",
   "execution_count": 67,
   "metadata": {},
   "outputs": [],
   "source": [
    "# coefs.sort(key=lambda x: x[0])"
   ]
  },
  {
   "cell_type": "code",
   "execution_count": 68,
   "metadata": {},
   "outputs": [],
   "source": [
    "# coefs"
   ]
  },
  {
   "cell_type": "code",
   "execution_count": 118,
   "metadata": {},
   "outputs": [],
   "source": [
    "adj = r_adjusted(elastic.score(X_train, y_train), X_train, y_train)\n",
    "model_results.append([\"Elastic - alpha=.0001, l1_ratio=.00001\", elastic.score(X_train, y_train), adj, train_mse, test_mse])"
   ]
  },
  {
   "cell_type": "markdown",
   "metadata": {},
   "source": [
    "## Finally, lets try a simple linear regression model"
   ]
  },
  {
   "cell_type": "code",
   "execution_count": 119,
   "metadata": {},
   "outputs": [
    {
     "data": {
      "text/plain": [
       "LinearRegression(copy_X=True, fit_intercept=True, n_jobs=None,\n",
       "         normalize=False)"
      ]
     },
     "execution_count": 119,
     "metadata": {},
     "output_type": "execute_result"
    }
   ],
   "source": [
    "linreg = LinearRegression()\n",
    "linreg.fit(X_train, y_train)"
   ]
  },
  {
   "cell_type": "code",
   "execution_count": 120,
   "metadata": {},
   "outputs": [
    {
     "name": "stdout",
     "output_type": "stream",
     "text": [
      "Train Mean Squarred Error: 0.03290819986741395\n",
      "Test Mean Squarred Error: 0.036064339294716655\n",
      "1.0959073860016253\n"
     ]
    }
   ],
   "source": [
    "y_predict_train = elastic.predict(X_train)\n",
    "train_mse = mean_squared_error(y_train, y_predict_train)\n",
    "test_mse = mean_squared_error(y_test, y_predict)\n",
    "print('Train Mean Squarred Error:', train_mse)\n",
    "print('Test Mean Squarred Error:', test_mse)\n",
    "print(test_mse/train_mse)"
   ]
  },
  {
   "cell_type": "code",
   "execution_count": 121,
   "metadata": {},
   "outputs": [
    {
     "data": {
      "text/plain": [
       "0.8819359754753858"
      ]
     },
     "execution_count": 121,
     "metadata": {},
     "output_type": "execute_result"
    }
   ],
   "source": [
    "linreg.score(X_train, y_train)"
   ]
  },
  {
   "cell_type": "code",
   "execution_count": 122,
   "metadata": {},
   "outputs": [
    {
     "data": {
      "text/plain": [
       "0.8812278113403966"
      ]
     },
     "execution_count": 122,
     "metadata": {},
     "output_type": "execute_result"
    }
   ],
   "source": [
    "adj = r_adjusted(linreg.score(X_train, y_train), X_train, y_train)\n",
    "adj"
   ]
  },
  {
   "cell_type": "code",
   "execution_count": 123,
   "metadata": {},
   "outputs": [],
   "source": [
    "model_results.append([\"Linear Regression\", linreg.score(X_train, y_train), adj, train_mse, test_mse])"
   ]
  },
  {
   "cell_type": "code",
   "execution_count": 124,
   "metadata": {},
   "outputs": [
    {
     "name": "stdout",
     "output_type": "stream",
     "text": [
      "Ratio of MSEs\n"
     ]
    },
    {
     "data": {
      "text/plain": [
       "['Ridge - alpha .5 - 0.9092101147154469',\n",
       " 'Lasso - alpha .0001 - 0.9195127985967115',\n",
       " 'Elastic - alpha=.0001, l1_ratio=.00001 - 0.9124858658435184',\n",
       " 'Linear Regression - 0.9124858658435184']"
      ]
     },
     "execution_count": 124,
     "metadata": {},
     "output_type": "execute_result"
    }
   ],
   "source": [
    "print(\"Ratio of MSEs\")\n",
    "[\"%s - %s\" % (x[0], x[3]/x[4]) for x in model_results]"
   ]
  },
  {
   "cell_type": "markdown",
   "metadata": {},
   "source": [
    "# Model Comparison Plot"
   ]
  },
  {
   "cell_type": "code",
   "execution_count": 125,
   "metadata": {},
   "outputs": [
    {
     "data": {
      "image/png": "[encoded data removed]",
      "text/plain": [
       "<Figure size 720x576 with 1 Axes>"
      ]
     },
     "metadata": {},
     "output_type": "display_data"
    }
   ],
   "source": [
    "plt.style.use('dark_background')\n",
    "plt.rc('text',usetex=False)\n",
    "plt.rcParams.update({'font.size':20})\n",
    "fig = plt.figure(figsize=(10,8))\n",
    "plt.grid(color='r', linestyle=':', linewidth=2)\n",
    "\n",
    "x = model_results[3][1]\n",
    "y = model_results[3][2]\n",
    "plt.scatter(x,y,marker = 'D', s=230, label = 'Linear')\n",
    "\n",
    "x = model_results[0][1]\n",
    "y = model_results[0][2]\n",
    "plt.scatter(x,y, marker = 'o', s=250, label = r'Ridge $\\alpha = 0.5$')\n",
    "\n",
    "x = model_results[1][1]\n",
    "y = model_results[1][2]\n",
    "plt.scatter(x,y,marker = 's',s=250, label = r'Lasso $\\alpha = 10^{-4}$')\n",
    "\n",
    "\n",
    "x = model_results[2][1]\n",
    "y = model_results[2][2]\n",
    "plt.scatter(x,y,marker = '^', s=250, label = r'Elastic $\\alpha = 10^{-4}$ $\\ell1_{ratio}=10^{-4}$')\n",
    "plt.legend(frameon=True)\n",
    "\n",
    "plt.xlim([0.875,0.885])\n",
    "plt.ylim([0.875,0.885])\n",
    "\n",
    "plt.xlabel(r'$R^{2}$', fontsize=18,labelpad=20)\n",
    "plt.ylabel(r'$R^{2}$ adjusted', fontsize=18,labelpad=20 )\n",
    "plt.tight_layout()\n",
    "plt.savefig('model-comparison.png')\n",
    "\n"
   ]
  },
  {
   "cell_type": "markdown",
   "metadata": {},
   "source": [
    "## Interpreting the Model"
   ]
  },
  {
   "cell_type": "markdown",
   "metadata": {},
   "source": [
    "Let's pick the Lasso model, and remove the predictors with a zero coefficient, and run the model one more time"
   ]
  },
  {
   "cell_type": "code",
   "execution_count": 126,
   "metadata": {},
   "outputs": [],
   "source": [
    "zero_coefs = [x for x in coefs if x[0]==0]"
   ]
  },
  {
   "cell_type": "code",
   "execution_count": 127,
   "metadata": {},
   "outputs": [
    {
     "name": "stdout",
     "output_type": "stream",
     "text": [
      "Dropping parameter ZIP_98022\n",
      "Dropping parameter ZIP_98024\n",
      "Dropping parameter ZIP_98117\n"
     ]
    }
   ],
   "source": [
    "for zero_coef in zero_coefs:\n",
    "    print('Dropping parameter ' + zero_coef[1])\n",
    "    X_train.drop(zero_coef[1], axis=1, inplace=True)\n",
    "    X_test.drop(zero_coef[1], axis=1, inplace=True)"
   ]
  },
  {
   "cell_type": "code",
   "execution_count": 128,
   "metadata": {},
   "outputs": [
    {
     "data": {
      "text/plain": [
       "0.8804917939965233"
      ]
     },
     "execution_count": 128,
     "metadata": {},
     "output_type": "execute_result"
    }
   ],
   "source": [
    "lasso_reduced = Lasso(alpha=.0001)\n",
    "lasso_reduced.fit(X_train, y_train)\n",
    "lasso_reduced.score(X_train, y_train)"
   ]
  },
  {
   "cell_type": "code",
   "execution_count": 129,
   "metadata": {},
   "outputs": [],
   "source": [
    "coefs_reduced = list(zip(lasso_reduced.coef_, X_train.columns))"
   ]
  },
  {
   "cell_type": "markdown",
   "metadata": {},
   "source": [
    "Find out how much a price will increase, if we increase the GRADE category"
   ]
  },
  {
   "cell_type": "code",
   "execution_count": 132,
   "metadata": {},
   "outputs": [
    {
     "name": "stdout",
     "output_type": "stream",
     "text": [
      "changing from  4  to  5 is 2.9%\n",
      "changing from  4  to  6 is 15.2%\n",
      "changing from  4  to  7 is 30.4%\n",
      "changing from  4  to  8 is 44.1%\n",
      "changing from  4  to  9 is 60.5%\n",
      "changing from  4  to  10 is 70.6%\n",
      "changing from  4  to  11 is 74.4%\n",
      "changing from  4  to  12 is 72.9%\n",
      "changing from  4  to 13 is 59.5%\n",
      "changing from  5  to  6 is 12.0%\n",
      "changing from  5  to  7 is 26.7%\n",
      "changing from  5  to  8 is 40.0%\n",
      "changing from  5  to  9 is 56.0%\n",
      "changing from  5  to  10 is 65.8%\n",
      "changing from  5  to  11 is 69.5%\n",
      "changing from  5  to  12 is 68.0%\n",
      "changing from  5  to 13 is 55.0%\n",
      "changing from  6  to  7 is 13.1%\n",
      "changing from  6  to  8 is 25.0%\n",
      "changing from  6  to  9 is 39.3%\n",
      "changing from  6  to  10 is 48.0%\n",
      "changing from  6  to  11 is 51.3%\n",
      "changing from  6  to  12 is 50.0%\n",
      "changing from  6  to 13 is 38.4%\n",
      "changing from  7  to  8 is 10.5%\n",
      "changing from  7  to  9 is 23.1%\n",
      "changing from  7  to  10 is 30.8%\n",
      "changing from  7  to  11 is 33.8%\n",
      "changing from  7  to  12 is 32.6%\n",
      "changing from  7  to 13 is 22.3%\n",
      "changing from  8  to  9 is 11.4%\n",
      "changing from  8  to  10 is 18.4%\n",
      "changing from  8  to  11 is 21.0%\n",
      "changing from  8  to  12 is 20.0%\n",
      "changing from  8  to 13 is 10.7%\n",
      "changing from  9  to  10 is 6.3%\n",
      "changing from  9  to  11 is 8.7%\n",
      "changing from  9  to  12 is 7.7%\n",
      "changing from  9  to 13 is -0.6%\n",
      "changing from  10  to  11 is 2.2%\n",
      "changing from  10  to  12 is 1.3%\n",
      "changing from  10  to 13 is -6.5%\n",
      "changing from  11  to  12 is -0.9%\n",
      "changing from  11  to 13 is -8.5%\n",
      "changing from  12  to 13 is -7.7%\n"
     ]
    }
   ],
   "source": [
    "for coef in coefs_reduced:\n",
    "     if 'GRADE' in coef[1]:\n",
    "        gnum1 = coef[1].split('_')[-1]\n",
    "        if int(gnum1)==3: continue\n",
    "#         print(gnum1)\n",
    "        \n",
    "        for coef2 in coefs_reduced:\n",
    "            if 'GRADE' in coef2[1] and coef[1] != coef2[1]:\n",
    "                gnum2 = coef2[1].split('_')[-1]\n",
    "#                 print(gnum2)\n",
    "#                 continue\n",
    "                if int(gnum2)>int(gnum1):\n",
    "                \n",
    "    #                 print(coef[1],'\\t',coef2[1])\n",
    "                    delta_y = -coef[0]+coef2[0]\n",
    "                    price_change = (np.exp(delta_y)-1.0)*100\n",
    "                    print('changing from ', gnum1, ' to ', gnum2,'is {0:0.1f}%'.format(price_change))\n",
    "        # going to grade 13\n",
    "        delta_y = -coef[0]\n",
    "        price_change = (np.exp(delta_y)-1.0)*100\n",
    "        print('changing from ', gnum1,' to 13 is {0:0.1f}%'.format(price_change))"
   ]
  },
  {
   "cell_type": "markdown",
   "metadata": {},
   "source": [
    "Find out how much a price will increase, if we increase the VIEW category"
   ]
  },
  {
   "cell_type": "code",
   "execution_count": 133,
   "metadata": {},
   "outputs": [
    {
     "name": "stdout",
     "output_type": "stream",
     "text": [
      "changing from  0.0  to  1.0 is 13.2%\n",
      "changing from  0.0  to  2.0 is 12.1%\n",
      "changing from  0.0  to  3.0 is 21.4%\n",
      "changing from  0.0  to  4.0 is 29.4%\n",
      "changing from  1.0  to  2.0 is -1.0%\n",
      "changing from  1.0  to  3.0 is 7.2%\n",
      "changing from  1.0  to  4.0 is 14.3%\n",
      "changing from  2.0  to  3.0 is 8.4%\n",
      "changing from  2.0  to  4.0 is 15.5%\n",
      "changing from  3.0  to  4.0 is 6.6%\n"
     ]
    }
   ],
   "source": [
    "for coef in coefs_reduced:\n",
    "     if 'VIEW' in coef[1]:\n",
    "        gnum1 = coef[1].split('_')[-1]\n",
    "#         print(gnum1)\n",
    "        \n",
    "        for coef2 in coefs_reduced:\n",
    "            if 'VIEW' in coef2[1] and coef[1] != coef2[1]:\n",
    "                gnum2 = coef2[1].split('_')[-1]\n",
    "#                 print(gnum2)\n",
    "#                 continue\n",
    "                if float(gnum2)>float(gnum1):\n",
    "                \n",
    "    #                 print(coef[1],'\\t',coef2[1])\n",
    "                    delta_y = -coef[0]+coef2[0]\n",
    "                    price_change = (np.exp(delta_y)-1.0)*100\n",
    "                    print('changing from ', gnum1, ' to ', gnum2,'is {0:0.1f}%'.format(price_change))\n",
    "     # going to VIEW 4\n",
    "        delta_y = -coef[0]\n",
    "        price_change = (np.exp(delta_y)-1.0)*100\n",
    "        print('changing from ', gnum1,' to ','4.0 is {0:0.1f}%'.format(price_change))\n"
   ]
  },
  {
   "cell_type": "code",
   "execution_count": 134,
   "metadata": {},
   "outputs": [
    {
     "ename": "SyntaxError",
     "evalue": "invalid syntax (<ipython-input-134-b1cb1450c9fd>, line 1)",
     "output_type": "error",
     "traceback": [
      "\u001b[0;36m  File \u001b[0;32m\"<ipython-input-134-b1cb1450c9fd>\"\u001b[0;36m, line \u001b[0;32m1\u001b[0m\n\u001b[0;31m    Find out how much a price will increase, if we increase the CONDITION category\u001b[0m\n\u001b[0m           ^\u001b[0m\n\u001b[0;31mSyntaxError\u001b[0m\u001b[0;31m:\u001b[0m invalid syntax\n"
     ]
    }
   ],
   "source": [
    "Find out how much a price will increase, if we increase the CONDITION category"
   ]
  },
  {
   "cell_type": "code",
   "execution_count": 135,
   "metadata": {},
   "outputs": [
    {
     "name": "stdout",
     "output_type": "stream",
     "text": [
      "changing from  1  to  2 is 13.5%\n",
      "changing from  1  to  3 is 26.9%\n",
      "changing from  1  to  4 is 33.0%\n",
      "changing from  1  to  5 is 41.3%\n",
      "changing from  2  to  3 is 11.8%\n",
      "changing from  2  to  4 is 17.2%\n",
      "changing from  2  to  5 is 24.5%\n",
      "changing from  3  to  4 is 4.8%\n",
      "changing from  3  to  5 is 11.3%\n",
      "changing from  4  to  5 is 6.2%\n"
     ]
    }
   ],
   "source": [
    "for coef in coefs_reduced:\n",
    "     if 'COND' in coef[1]:\n",
    "        gnum1 = coef[1].split('_')[-1]\n",
    "#         print(gnum1)\n",
    "        \n",
    "        for coef2 in coefs_reduced:\n",
    "            if 'COND' in coef2[1] and coef[1] != coef2[1]:\n",
    "                gnum2 = coef2[1].split('_')[-1]\n",
    "                if float(gnum2)>float(gnum1):\n",
    "                \n",
    "                    delta_y = -coef[0]+coef2[0]\n",
    "                    price_change = (np.exp(delta_y)-1.0)*100\n",
    "                    print('changing from ', gnum1, ' to ', gnum2,'is {0:0.1f}%'.format(price_change))\n",
    "#      going to COND 5\n",
    "        delta_y = -coef[0]\n",
    "        price_change = (np.exp(delta_y)-1.0)*100\n",
    "        print('changing from ', gnum1,' to ','5 is {0:0.1f}%'.format(price_change))\n"
   ]
  },
  {
   "cell_type": "markdown",
   "metadata": {},
   "source": [
    "Find out how much a price will increase, if the unit was renovated"
   ]
  },
  {
   "cell_type": "code",
   "execution_count": 136,
   "metadata": {},
   "outputs": [
    {
     "name": "stdout",
     "output_type": "stream",
     "text": [
      "Added price after renovating 5.7%\n"
     ]
    }
   ],
   "source": [
    "# addet price if it has been renovated\n",
    "for coef in coefs_reduced:\n",
    "    if 'is_renovated' in coef[1]:\n",
    "#         print(coef[0])\n",
    "        delta_y = coef[0]\n",
    "        price_change = (np.exp(delta_y)-1.0)*100\n",
    "        print('Added price after renovating {0:0.1f}%'.format(price_change))"
   ]
  },
  {
   "cell_type": "markdown",
   "metadata": {},
   "source": [
    "Finally, let's look at how the price increases as we add living area to the unit."
   ]
  },
  {
   "cell_type": "code",
   "execution_count": null,
   "metadata": {},
   "outputs": [],
   "source": []
  },
  {
   "cell_type": "code",
   "execution_count": 140,
   "metadata": {},
   "outputs": [
    {
     "name": "stdout",
     "output_type": "stream",
     "text": [
      "For every 100 Sq. ft. added, the price goes up by 1.7%\n"
     ]
    },
    {
     "data": {
      "image/png": "[encoded data removed]",
      "text/plain": [
       "<Figure size 432x288 with 1 Axes>"
      ]
     },
     "metadata": {},
     "output_type": "display_data"
    }
   ],
   "source": [
    "price_change = []\n",
    "sqft = []\n",
    "for i in range(370,sqft_living_range+sqft_living_min):\n",
    "    sqft.append(i-370)\n",
    "    convert_one_sqft = (i-sqft_living_min)/sqft_living_range\n",
    "    delta_per_price = (np.exp(coefs_reduced[2][0]*convert_one_sqft) - 1)\n",
    "    price_change.append(delta_per_price*100)\n",
    "    convert_one_sqft = (i-sqft_living_min)/sqft_living_range\n",
    "#     price_change.append(convert_one_sqft)\n",
    "plt.plot(sqft, price_change)\n",
    "plt.xlabel(\"added sq ft to living area\",fontsize=16)\n",
    "plt.ylabel('Change in price [%]',fontsize=16)\n",
    "plt.title('Price Change vs adding sq.ft. living area')\n",
    "sqft_living_range-sqft_living_min\n",
    "\n",
    "slope = (price_change[-1]-price_change[0])/(sqft[-1]-sqft[0])\n",
    "print('For every 100 Sq. ft. added, the price goes up by {0:0.1f}%'.format(slope*100))\n",
    "\n",
    "plt.savefig('Price Increase per Sq.ft.')\n"
   ]
  },
  {
   "cell_type": "markdown",
   "metadata": {},
   "source": [
    "### One last double check, get the p-values for each coefficient and find the ones with a value higher than 5%"
   ]
  },
  {
   "cell_type": "code",
   "execution_count": 141,
   "metadata": {},
   "outputs": [],
   "source": [
    "from sklearn.feature_selection import f_regression"
   ]
  },
  {
   "cell_type": "code",
   "execution_count": 142,
   "metadata": {},
   "outputs": [],
   "source": [
    "freq = f_regression(X_train, y_train)"
   ]
  },
  {
   "cell_type": "code",
   "execution_count": 143,
   "metadata": {},
   "outputs": [
    {
     "name": "stdout",
     "output_type": "stream",
     "text": [
      "ZIP_98011 0.5141961858905891 (-0.3345190732430115, 'ZIP_98011')\n",
      "ZIP_98028 0.2459754795864414 (-0.37866957507527477, 'ZIP_98028')\n",
      "ZIP_98034 0.38783446560959844 (-0.20724618647198817, 'ZIP_98034')\n",
      "ZIP_98059 0.32452371052479645 (-0.10261831265793962, 'ZIP_98059')\n",
      "ZIP_98070 0.6470772042129542 (-0.11408619843945918, 'ZIP_98070')\n",
      "ZIP_98125 0.052063979629561316 (-0.22332978930337638, 'ZIP_98125')\n"
     ]
    }
   ],
   "source": [
    "for i, value in enumerate(freq[1]): \n",
    "    if value > 0.05:\n",
    "        print(X_train.columns[i],value, coefs_reduced[i]) \n",
    "    "
   ]
  },
  {
   "cell_type": "markdown",
   "metadata": {},
   "source": [
    "These cariabls were not used in the predicting how the final price will change."
   ]
  },
  {
   "cell_type": "markdown",
   "metadata": {},
   "source": [
    "# Next Steps"
   ]
  },
  {
   "cell_type": "markdown",
   "metadata": {},
   "source": [
    "- Remove outliers (high priced properties could be affecting the price of lower priced units).\n",
    "- Explore the parameter space for Ridge and Elastic Net models.\n",
    "- Look into other linear regression models.\n",
    "- Compare the model to data from other years (our data is only for 2014-2015)"
   ]
  },
  {
   "cell_type": "code",
   "execution_count": null,
   "metadata": {},
   "outputs": [],
   "source": []
  }
 ],
 "metadata": {
  "kernelspec": {
   "display_name": "Python 3",
   "language": "python",
   "name": "python3"
  },
  "language_info": {
   "codemirror_mode": {
    "name": "ipython",
    "version": 3
   },
   "file_extension": ".py",
   "mimetype": "text/x-python",
   "name": "python",
   "nbconvert_exporter": "python",
   "pygments_lexer": "ipython3",
   "version": "3.6.8"
  },
  "latex_envs": {
   "LaTeX_envs_menu_present": true,
   "autoclose": false,
   "autocomplete": true,
   "bibliofile": "biblio.bib",
   "cite_by": "apalike",
   "current_citInitial": 1,
   "eqLabelWithNumbers": true,
   "eqNumInitial": 1,
   "hotkeys": {
    "equation": "Ctrl-E",
    "itemize": "Ctrl-I"
   },
   "labels_anchors": false,
   "latex_user_defs": false,
   "report_style_numbering": false,
   "user_envs_cfg": false
  },
  "toc": {
   "base_numbering": 1,
   "nav_menu": {},
   "number_sections": true,
   "sideBar": true,
   "skip_h1_title": false,
   "title_cell": "Table of Contents",
   "title_sidebar": "Contents",
   "toc_cell": false,
   "toc_position": {},
   "toc_section_display": true,
   "toc_window_display": false
  }
 },
 "nbformat": 4,
 "nbformat_minor": 2
}
