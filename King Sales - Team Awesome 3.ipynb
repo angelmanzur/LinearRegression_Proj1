{
 "cells": [
  {
   "cell_type": "code",
   "execution_count": 191,
   "metadata": {},
   "outputs": [],
   "source": [
    "import pandas as pd\n",
    "import numpy as np\n",
    "import matplotlib.pyplot as plt\n",
    "import seaborn as sns\n",
    "%matplotlib inline\n",
    "import statsmodels.api as sm\n",
    "from datetime import datetime, timedelta\n",
    "\n",
    "from sklearn.model_selection import train_test_split, cross_val_score\n",
    "from sklearn.metrics import mean_squared_error\n",
    "from sklearn.linear_model import LinearRegression \n",
    "from sklearn.preprocessing import StandardScaler"
   ]
  },
  {
   "cell_type": "code",
   "execution_count": 192,
   "metadata": {},
   "outputs": [],
   "source": [
    "def r_adjusted(r_squared, X, y):\n",
    "    return 1 - (1-r_squared)*(len(y)-1)/(len(y)-X.shape[1]-1)"
   ]
  },
  {
   "cell_type": "markdown",
   "metadata": {},
   "source": [
    "# Initial Inspection"
   ]
  },
  {
   "cell_type": "code",
   "execution_count": 193,
   "metadata": {},
   "outputs": [],
   "source": [
    "# Read in the csv file which contains data\n",
    "df = pd.read_csv('kc_house_data.csv')"
   ]
  },
  {
   "cell_type": "code",
   "execution_count": 194,
   "metadata": {},
   "outputs": [
    {
     "data": {
      "text/html": [
       "<div>\n",
       "<style scoped>\n",
       "    .dataframe tbody tr th:only-of-type {\n",
       "        vertical-align: middle;\n",
       "    }\n",
       "\n",
       "    .dataframe tbody tr th {\n",
       "        vertical-align: top;\n",
       "    }\n",
       "\n",
       "    .dataframe thead th {\n",
       "        text-align: right;\n",
       "    }\n",
       "</style>\n",
       "<table border=\"1\" class=\"dataframe\">\n",
       "  <thead>\n",
       "    <tr style=\"text-align: right;\">\n",
       "      <th></th>\n",
       "      <th>id</th>\n",
       "      <th>date</th>\n",
       "      <th>price</th>\n",
       "      <th>bedrooms</th>\n",
       "      <th>bathrooms</th>\n",
       "      <th>sqft_living</th>\n",
       "      <th>sqft_lot</th>\n",
       "      <th>floors</th>\n",
       "      <th>waterfront</th>\n",
       "      <th>view</th>\n",
       "      <th>...</th>\n",
       "      <th>grade</th>\n",
       "      <th>sqft_above</th>\n",
       "      <th>sqft_basement</th>\n",
       "      <th>yr_built</th>\n",
       "      <th>yr_renovated</th>\n",
       "      <th>zipcode</th>\n",
       "      <th>lat</th>\n",
       "      <th>long</th>\n",
       "      <th>sqft_living15</th>\n",
       "      <th>sqft_lot15</th>\n",
       "    </tr>\n",
       "  </thead>\n",
       "  <tbody>\n",
       "    <tr>\n",
       "      <th>0</th>\n",
       "      <td>7129300520</td>\n",
       "      <td>10/13/2014</td>\n",
       "      <td>221900.0</td>\n",
       "      <td>3</td>\n",
       "      <td>1.00</td>\n",
       "      <td>1180</td>\n",
       "      <td>5650</td>\n",
       "      <td>1.0</td>\n",
       "      <td>NaN</td>\n",
       "      <td>0.0</td>\n",
       "      <td>...</td>\n",
       "      <td>7</td>\n",
       "      <td>1180</td>\n",
       "      <td>0.0</td>\n",
       "      <td>1955</td>\n",
       "      <td>0.0</td>\n",
       "      <td>98178</td>\n",
       "      <td>47.5112</td>\n",
       "      <td>-122.257</td>\n",
       "      <td>1340</td>\n",
       "      <td>5650</td>\n",
       "    </tr>\n",
       "    <tr>\n",
       "      <th>1</th>\n",
       "      <td>6414100192</td>\n",
       "      <td>12/9/2014</td>\n",
       "      <td>538000.0</td>\n",
       "      <td>3</td>\n",
       "      <td>2.25</td>\n",
       "      <td>2570</td>\n",
       "      <td>7242</td>\n",
       "      <td>2.0</td>\n",
       "      <td>0.0</td>\n",
       "      <td>0.0</td>\n",
       "      <td>...</td>\n",
       "      <td>7</td>\n",
       "      <td>2170</td>\n",
       "      <td>400.0</td>\n",
       "      <td>1951</td>\n",
       "      <td>1991.0</td>\n",
       "      <td>98125</td>\n",
       "      <td>47.7210</td>\n",
       "      <td>-122.319</td>\n",
       "      <td>1690</td>\n",
       "      <td>7639</td>\n",
       "    </tr>\n",
       "    <tr>\n",
       "      <th>2</th>\n",
       "      <td>5631500400</td>\n",
       "      <td>2/25/2015</td>\n",
       "      <td>180000.0</td>\n",
       "      <td>2</td>\n",
       "      <td>1.00</td>\n",
       "      <td>770</td>\n",
       "      <td>10000</td>\n",
       "      <td>1.0</td>\n",
       "      <td>0.0</td>\n",
       "      <td>0.0</td>\n",
       "      <td>...</td>\n",
       "      <td>6</td>\n",
       "      <td>770</td>\n",
       "      <td>0.0</td>\n",
       "      <td>1933</td>\n",
       "      <td>NaN</td>\n",
       "      <td>98028</td>\n",
       "      <td>47.7379</td>\n",
       "      <td>-122.233</td>\n",
       "      <td>2720</td>\n",
       "      <td>8062</td>\n",
       "    </tr>\n",
       "    <tr>\n",
       "      <th>3</th>\n",
       "      <td>2487200875</td>\n",
       "      <td>12/9/2014</td>\n",
       "      <td>604000.0</td>\n",
       "      <td>4</td>\n",
       "      <td>3.00</td>\n",
       "      <td>1960</td>\n",
       "      <td>5000</td>\n",
       "      <td>1.0</td>\n",
       "      <td>0.0</td>\n",
       "      <td>0.0</td>\n",
       "      <td>...</td>\n",
       "      <td>7</td>\n",
       "      <td>1050</td>\n",
       "      <td>910.0</td>\n",
       "      <td>1965</td>\n",
       "      <td>0.0</td>\n",
       "      <td>98136</td>\n",
       "      <td>47.5208</td>\n",
       "      <td>-122.393</td>\n",
       "      <td>1360</td>\n",
       "      <td>5000</td>\n",
       "    </tr>\n",
       "    <tr>\n",
       "      <th>4</th>\n",
       "      <td>1954400510</td>\n",
       "      <td>2/18/2015</td>\n",
       "      <td>510000.0</td>\n",
       "      <td>3</td>\n",
       "      <td>2.00</td>\n",
       "      <td>1680</td>\n",
       "      <td>8080</td>\n",
       "      <td>1.0</td>\n",
       "      <td>0.0</td>\n",
       "      <td>0.0</td>\n",
       "      <td>...</td>\n",
       "      <td>8</td>\n",
       "      <td>1680</td>\n",
       "      <td>0.0</td>\n",
       "      <td>1987</td>\n",
       "      <td>0.0</td>\n",
       "      <td>98074</td>\n",
       "      <td>47.6168</td>\n",
       "      <td>-122.045</td>\n",
       "      <td>1800</td>\n",
       "      <td>7503</td>\n",
       "    </tr>\n",
       "  </tbody>\n",
       "</table>\n",
       "<p>5 rows × 21 columns</p>\n",
       "</div>"
      ],
      "text/plain": [
       "           id        date     price  bedrooms  bathrooms  sqft_living  \\\n",
       "0  7129300520  10/13/2014  221900.0         3       1.00         1180   \n",
       "1  6414100192   12/9/2014  538000.0         3       2.25         2570   \n",
       "2  5631500400   2/25/2015  180000.0         2       1.00          770   \n",
       "3  2487200875   12/9/2014  604000.0         4       3.00         1960   \n",
       "4  1954400510   2/18/2015  510000.0         3       2.00         1680   \n",
       "\n",
       "   sqft_lot  floors  waterfront  view     ...      grade  sqft_above  \\\n",
       "0      5650     1.0         NaN   0.0     ...          7        1180   \n",
       "1      7242     2.0         0.0   0.0     ...          7        2170   \n",
       "2     10000     1.0         0.0   0.0     ...          6         770   \n",
       "3      5000     1.0         0.0   0.0     ...          7        1050   \n",
       "4      8080     1.0         0.0   0.0     ...          8        1680   \n",
       "\n",
       "   sqft_basement yr_built  yr_renovated  zipcode      lat     long  \\\n",
       "0            0.0     1955           0.0    98178  47.5112 -122.257   \n",
       "1          400.0     1951        1991.0    98125  47.7210 -122.319   \n",
       "2            0.0     1933           NaN    98028  47.7379 -122.233   \n",
       "3          910.0     1965           0.0    98136  47.5208 -122.393   \n",
       "4            0.0     1987           0.0    98074  47.6168 -122.045   \n",
       "\n",
       "   sqft_living15  sqft_lot15  \n",
       "0           1340        5650  \n",
       "1           1690        7639  \n",
       "2           2720        8062  \n",
       "3           1360        5000  \n",
       "4           1800        7503  \n",
       "\n",
       "[5 rows x 21 columns]"
      ]
     },
     "execution_count": 194,
     "metadata": {},
     "output_type": "execute_result"
    }
   ],
   "source": [
    "# Let's take a look at the first few columns\n",
    "df.head()"
   ]
  },
  {
   "cell_type": "code",
   "execution_count": 195,
   "metadata": {},
   "outputs": [
    {
     "name": "stdout",
     "output_type": "stream",
     "text": [
      "id                 int64\n",
      "date              object\n",
      "price            float64\n",
      "bedrooms           int64\n",
      "bathrooms        float64\n",
      "sqft_living        int64\n",
      "sqft_lot           int64\n",
      "floors           float64\n",
      "waterfront       float64\n",
      "view             float64\n",
      "condition          int64\n",
      "grade              int64\n",
      "sqft_above         int64\n",
      "sqft_basement     object\n",
      "yr_built           int64\n",
      "yr_renovated     float64\n",
      "zipcode            int64\n",
      "lat              float64\n",
      "long             float64\n",
      "sqft_living15      int64\n",
      "sqft_lot15         int64\n",
      "dtype: object\n",
      "Dataframe shape (21597, 21)\n"
     ]
    }
   ],
   "source": [
    "# Let's look at the data types. Note that date and sqft_basement are string object.\n",
    "print(df.dtypes)\n",
    "print('Dataframe shape',df.shape)"
   ]
  },
  {
   "cell_type": "code",
   "execution_count": 196,
   "metadata": {},
   "outputs": [
    {
     "name": "stdout",
     "output_type": "stream",
     "text": [
      "Found 2376 \t NAs in column \twaterfront (11.00% of the data)\n",
      "Found 63 \t NAs in column \tview (0.29% of the data)\n",
      "Found 3842 \t NAs in column \tyr_renovated (17.79% of the data)\n"
     ]
    }
   ],
   "source": [
    "\"\"\"\n",
    "Get the number of NAs for a DataFrame, and the percentage of NAs in the data\n",
    "\"\"\"\n",
    "\n",
    "def print_NAs(dataframe):\n",
    "    for column in dataframe:\n",
    "        num_nas = dataframe[column].isna().sum()\n",
    "        if num_nas > 0:\n",
    "            print('Found {0} \\t NAs in column \\t{1} ({2:0.2f}% of the data)'.format(num_nas, column, 100.*num_nas/len(df)))\n",
    "\n",
    "print_NAs(df)"
   ]
  },
  {
   "cell_type": "markdown",
   "metadata": {},
   "source": [
    "# Plot the waterfront locations on a graph\n",
    "Not shown here because of library issues but include in powerpoint"
   ]
  },
  {
   "cell_type": "code",
   "execution_count": 197,
   "metadata": {},
   "outputs": [],
   "source": [
    "# From looking at the map, we found some waterfont properties labeled as NAs that had a water front view.\n",
    "# Correctly assigning the NAs, requires a deeper analysis. \n",
    "# Se decided to drop this column\n",
    "#df = df.drop(columns=[\"waterfront\"])"
   ]
  },
  {
   "cell_type": "code",
   "execution_count": 198,
   "metadata": {},
   "outputs": [
    {
     "name": "stdout",
     "output_type": "stream",
     "text": [
      "0.0\n"
     ]
    }
   ],
   "source": [
    "# \"view\" column has empty values, will fill with mode\n",
    "view_mode = df['view'].mode()\n",
    "print(view_mode[0])\n",
    "df['view'].fillna(value=view_mode[0],inplace=True)"
   ]
  },
  {
   "cell_type": "code",
   "execution_count": 199,
   "metadata": {},
   "outputs": [],
   "source": [
    "# year renovated is ~18% of the data, \n",
    "#Convert year renovated to renovated or not variable\n",
    "df['is_renovated'] = df['yr_renovated'].apply(lambda x: 1 if x>0 else 0)"
   ]
  },
  {
   "cell_type": "code",
   "execution_count": 200,
   "metadata": {},
   "outputs": [
    {
     "data": {
      "text/plain": [
       "0       0.0\n",
       "1     400.0\n",
       "2       0.0\n",
       "3     910.0\n",
       "4       0.0\n",
       "5    1530.0\n",
       "6         ?\n",
       "Name: sqft_basement, dtype: object"
      ]
     },
     "execution_count": 200,
     "metadata": {},
     "output_type": "execute_result"
    }
   ],
   "source": [
    "#sqft basement is a string and some values are missing '?'\n",
    "df['sqft_basement'].head(7) "
   ]
  },
  {
   "cell_type": "code",
   "execution_count": 201,
   "metadata": {},
   "outputs": [],
   "source": [
    "# the basement sqft can be calculated as the difference \n",
    "# between the living area and the above area\n",
    "df['sqft_basement'] = df['sqft_living'] - df['sqft_above']\n",
    "#"
   ]
  },
  {
   "cell_type": "code",
   "execution_count": 202,
   "metadata": {},
   "outputs": [],
   "source": [
    "# but since sqft_basement is dependent on two other variables, lets remove it and\n",
    "# let's convert it into a has basement or not\n",
    "df['has_basement'] = df['sqft_basement'].apply(lambda x: 1 if x>0 else 0)\n"
   ]
  },
  {
   "cell_type": "code",
   "execution_count": 203,
   "metadata": {},
   "outputs": [],
   "source": [
    "# Looking for outliers"
   ]
  },
  {
   "cell_type": "code",
   "execution_count": 204,
   "metadata": {},
   "outputs": [
    {
     "data": {
      "text/plain": [
       "array([ 3,  2,  4,  5,  1,  6,  7,  8,  9, 11, 10, 33])"
      ]
     },
     "execution_count": 204,
     "metadata": {},
     "output_type": "execute_result"
    }
   ],
   "source": [
    "df.bedrooms.unique()"
   ]
  },
  {
   "cell_type": "code",
   "execution_count": 205,
   "metadata": {},
   "outputs": [
    {
     "data": {
      "text/html": [
       "<div>\n",
       "<style scoped>\n",
       "    .dataframe tbody tr th:only-of-type {\n",
       "        vertical-align: middle;\n",
       "    }\n",
       "\n",
       "    .dataframe tbody tr th {\n",
       "        vertical-align: top;\n",
       "    }\n",
       "\n",
       "    .dataframe thead th {\n",
       "        text-align: right;\n",
       "    }\n",
       "</style>\n",
       "<table border=\"1\" class=\"dataframe\">\n",
       "  <thead>\n",
       "    <tr style=\"text-align: right;\">\n",
       "      <th></th>\n",
       "      <th>id</th>\n",
       "      <th>date</th>\n",
       "      <th>price</th>\n",
       "      <th>bedrooms</th>\n",
       "      <th>bathrooms</th>\n",
       "      <th>sqft_living</th>\n",
       "      <th>sqft_lot</th>\n",
       "      <th>floors</th>\n",
       "      <th>waterfront</th>\n",
       "      <th>view</th>\n",
       "      <th>...</th>\n",
       "      <th>sqft_basement</th>\n",
       "      <th>yr_built</th>\n",
       "      <th>yr_renovated</th>\n",
       "      <th>zipcode</th>\n",
       "      <th>lat</th>\n",
       "      <th>long</th>\n",
       "      <th>sqft_living15</th>\n",
       "      <th>sqft_lot15</th>\n",
       "      <th>is_renovated</th>\n",
       "      <th>has_basement</th>\n",
       "    </tr>\n",
       "  </thead>\n",
       "  <tbody>\n",
       "    <tr>\n",
       "      <th>15856</th>\n",
       "      <td>2402100895</td>\n",
       "      <td>6/25/2014</td>\n",
       "      <td>640000.0</td>\n",
       "      <td>33</td>\n",
       "      <td>1.75</td>\n",
       "      <td>1620</td>\n",
       "      <td>6000</td>\n",
       "      <td>1.0</td>\n",
       "      <td>0.0</td>\n",
       "      <td>0.0</td>\n",
       "      <td>...</td>\n",
       "      <td>580</td>\n",
       "      <td>1947</td>\n",
       "      <td>0.0</td>\n",
       "      <td>98103</td>\n",
       "      <td>47.6878</td>\n",
       "      <td>-122.331</td>\n",
       "      <td>1330</td>\n",
       "      <td>4700</td>\n",
       "      <td>0</td>\n",
       "      <td>1</td>\n",
       "    </tr>\n",
       "  </tbody>\n",
       "</table>\n",
       "<p>1 rows × 23 columns</p>\n",
       "</div>"
      ],
      "text/plain": [
       "               id       date     price  bedrooms  bathrooms  sqft_living  \\\n",
       "15856  2402100895  6/25/2014  640000.0        33       1.75         1620   \n",
       "\n",
       "       sqft_lot  floors  waterfront  view      ...       sqft_basement  \\\n",
       "15856      6000     1.0         0.0   0.0      ...                 580   \n",
       "\n",
       "       yr_built  yr_renovated  zipcode      lat     long  sqft_living15  \\\n",
       "15856      1947           0.0    98103  47.6878 -122.331           1330   \n",
       "\n",
       "       sqft_lot15  is_renovated  has_basement  \n",
       "15856        4700             0             1  \n",
       "\n",
       "[1 rows x 23 columns]"
      ]
     },
     "execution_count": 205,
     "metadata": {},
     "output_type": "execute_result"
    }
   ],
   "source": [
    "df[df.bedrooms>30]"
   ]
  },
  {
   "cell_type": "code",
   "execution_count": 206,
   "metadata": {},
   "outputs": [],
   "source": [
    "# The 33 bedroom house appears to be a typo as the property has only 1.75 bathrooms, removing..\n",
    "df = df[df.bedrooms<30]"
   ]
  },
  {
   "cell_type": "markdown",
   "metadata": {},
   "source": [
    "#### Most houses are sold on Tuesdays! Who is buying on a weekend?"
   ]
  },
  {
   "cell_type": "markdown",
   "metadata": {},
   "source": [
    "### New/Renovated Housing vs. Price\n",
    "Can how recently a house was built or renovated—it's \"newness\"—affect it's price per square foot?"
   ]
  },
  {
   "cell_type": "code",
   "execution_count": 207,
   "metadata": {},
   "outputs": [],
   "source": [
    "df[\"blt_or_renov\"] = df[\"yr_renovated\"]\n",
    "df.loc[df[df[\"blt_or_renov\"] == 0].index, \"blt_or_renov\"] = df[df[\"blt_or_renov\"] ==0][\"yr_built\"]\n",
    "df[\"blt_or_renov\"].fillna(value=df[\"yr_built\"], inplace=True)"
   ]
  },
  {
   "cell_type": "code",
   "execution_count": 208,
   "metadata": {},
   "outputs": [],
   "source": [
    "df[\"price_per_sqft\"] = df[\"price\"]/df[\"sqft_living\"]"
   ]
  },
  {
   "cell_type": "markdown",
   "metadata": {},
   "source": [
    "## Modelling whole data set"
   ]
  },
  {
   "cell_type": "code",
   "execution_count": 209,
   "metadata": {},
   "outputs": [],
   "source": [
    "columns_to_drop = ['id', 'date']\n",
    "#columns_to_drop = ['id', 'zipcode','lat','long',\\\n",
    "#                   'date', 'sqft_basement' , 'yr_renovated','price_per_sqft', 'blt_or_renov']\n",
    "# We are removing these columns as the seller is not is control of this variables\n"
   ]
  },
  {
   "cell_type": "code",
   "execution_count": 210,
   "metadata": {},
   "outputs": [],
   "source": [
    "df.drop(columns_to_drop, axis=1, inplace=True)"
   ]
  },
  {
   "cell_type": "code",
   "execution_count": 211,
   "metadata": {},
   "outputs": [
    {
     "data": {
      "text/html": [
       "<div>\n",
       "<style scoped>\n",
       "    .dataframe tbody tr th:only-of-type {\n",
       "        vertical-align: middle;\n",
       "    }\n",
       "\n",
       "    .dataframe tbody tr th {\n",
       "        vertical-align: top;\n",
       "    }\n",
       "\n",
       "    .dataframe thead th {\n",
       "        text-align: right;\n",
       "    }\n",
       "</style>\n",
       "<table border=\"1\" class=\"dataframe\">\n",
       "  <thead>\n",
       "    <tr style=\"text-align: right;\">\n",
       "      <th></th>\n",
       "      <th>price</th>\n",
       "      <th>bedrooms</th>\n",
       "      <th>bathrooms</th>\n",
       "      <th>sqft_living</th>\n",
       "      <th>sqft_lot</th>\n",
       "      <th>floors</th>\n",
       "      <th>waterfront</th>\n",
       "      <th>view</th>\n",
       "      <th>condition</th>\n",
       "      <th>grade</th>\n",
       "      <th>...</th>\n",
       "      <th>yr_renovated</th>\n",
       "      <th>zipcode</th>\n",
       "      <th>lat</th>\n",
       "      <th>long</th>\n",
       "      <th>sqft_living15</th>\n",
       "      <th>sqft_lot15</th>\n",
       "      <th>is_renovated</th>\n",
       "      <th>has_basement</th>\n",
       "      <th>blt_or_renov</th>\n",
       "      <th>price_per_sqft</th>\n",
       "    </tr>\n",
       "  </thead>\n",
       "  <tbody>\n",
       "    <tr>\n",
       "      <th>0</th>\n",
       "      <td>221900.0</td>\n",
       "      <td>3</td>\n",
       "      <td>1.00</td>\n",
       "      <td>1180</td>\n",
       "      <td>5650</td>\n",
       "      <td>1.0</td>\n",
       "      <td>NaN</td>\n",
       "      <td>0.0</td>\n",
       "      <td>3</td>\n",
       "      <td>7</td>\n",
       "      <td>...</td>\n",
       "      <td>0.0</td>\n",
       "      <td>98178</td>\n",
       "      <td>47.5112</td>\n",
       "      <td>-122.257</td>\n",
       "      <td>1340</td>\n",
       "      <td>5650</td>\n",
       "      <td>0</td>\n",
       "      <td>0</td>\n",
       "      <td>1955.0</td>\n",
       "      <td>188.050847</td>\n",
       "    </tr>\n",
       "    <tr>\n",
       "      <th>1</th>\n",
       "      <td>538000.0</td>\n",
       "      <td>3</td>\n",
       "      <td>2.25</td>\n",
       "      <td>2570</td>\n",
       "      <td>7242</td>\n",
       "      <td>2.0</td>\n",
       "      <td>0.0</td>\n",
       "      <td>0.0</td>\n",
       "      <td>3</td>\n",
       "      <td>7</td>\n",
       "      <td>...</td>\n",
       "      <td>1991.0</td>\n",
       "      <td>98125</td>\n",
       "      <td>47.7210</td>\n",
       "      <td>-122.319</td>\n",
       "      <td>1690</td>\n",
       "      <td>7639</td>\n",
       "      <td>1</td>\n",
       "      <td>1</td>\n",
       "      <td>1991.0</td>\n",
       "      <td>209.338521</td>\n",
       "    </tr>\n",
       "    <tr>\n",
       "      <th>2</th>\n",
       "      <td>180000.0</td>\n",
       "      <td>2</td>\n",
       "      <td>1.00</td>\n",
       "      <td>770</td>\n",
       "      <td>10000</td>\n",
       "      <td>1.0</td>\n",
       "      <td>0.0</td>\n",
       "      <td>0.0</td>\n",
       "      <td>3</td>\n",
       "      <td>6</td>\n",
       "      <td>...</td>\n",
       "      <td>NaN</td>\n",
       "      <td>98028</td>\n",
       "      <td>47.7379</td>\n",
       "      <td>-122.233</td>\n",
       "      <td>2720</td>\n",
       "      <td>8062</td>\n",
       "      <td>0</td>\n",
       "      <td>0</td>\n",
       "      <td>1933.0</td>\n",
       "      <td>233.766234</td>\n",
       "    </tr>\n",
       "    <tr>\n",
       "      <th>3</th>\n",
       "      <td>604000.0</td>\n",
       "      <td>4</td>\n",
       "      <td>3.00</td>\n",
       "      <td>1960</td>\n",
       "      <td>5000</td>\n",
       "      <td>1.0</td>\n",
       "      <td>0.0</td>\n",
       "      <td>0.0</td>\n",
       "      <td>5</td>\n",
       "      <td>7</td>\n",
       "      <td>...</td>\n",
       "      <td>0.0</td>\n",
       "      <td>98136</td>\n",
       "      <td>47.5208</td>\n",
       "      <td>-122.393</td>\n",
       "      <td>1360</td>\n",
       "      <td>5000</td>\n",
       "      <td>0</td>\n",
       "      <td>1</td>\n",
       "      <td>1965.0</td>\n",
       "      <td>308.163265</td>\n",
       "    </tr>\n",
       "    <tr>\n",
       "      <th>4</th>\n",
       "      <td>510000.0</td>\n",
       "      <td>3</td>\n",
       "      <td>2.00</td>\n",
       "      <td>1680</td>\n",
       "      <td>8080</td>\n",
       "      <td>1.0</td>\n",
       "      <td>0.0</td>\n",
       "      <td>0.0</td>\n",
       "      <td>3</td>\n",
       "      <td>8</td>\n",
       "      <td>...</td>\n",
       "      <td>0.0</td>\n",
       "      <td>98074</td>\n",
       "      <td>47.6168</td>\n",
       "      <td>-122.045</td>\n",
       "      <td>1800</td>\n",
       "      <td>7503</td>\n",
       "      <td>0</td>\n",
       "      <td>0</td>\n",
       "      <td>1987.0</td>\n",
       "      <td>303.571429</td>\n",
       "    </tr>\n",
       "  </tbody>\n",
       "</table>\n",
       "<p>5 rows × 23 columns</p>\n",
       "</div>"
      ],
      "text/plain": [
       "      price  bedrooms  bathrooms  sqft_living  sqft_lot  floors  waterfront  \\\n",
       "0  221900.0         3       1.00         1180      5650     1.0         NaN   \n",
       "1  538000.0         3       2.25         2570      7242     2.0         0.0   \n",
       "2  180000.0         2       1.00          770     10000     1.0         0.0   \n",
       "3  604000.0         4       3.00         1960      5000     1.0         0.0   \n",
       "4  510000.0         3       2.00         1680      8080     1.0         0.0   \n",
       "\n",
       "   view  condition  grade       ...        yr_renovated  zipcode      lat  \\\n",
       "0   0.0          3      7       ...                 0.0    98178  47.5112   \n",
       "1   0.0          3      7       ...              1991.0    98125  47.7210   \n",
       "2   0.0          3      6       ...                 NaN    98028  47.7379   \n",
       "3   0.0          5      7       ...                 0.0    98136  47.5208   \n",
       "4   0.0          3      8       ...                 0.0    98074  47.6168   \n",
       "\n",
       "      long  sqft_living15  sqft_lot15  is_renovated  has_basement  \\\n",
       "0 -122.257           1340        5650             0             0   \n",
       "1 -122.319           1690        7639             1             1   \n",
       "2 -122.233           2720        8062             0             0   \n",
       "3 -122.393           1360        5000             0             1   \n",
       "4 -122.045           1800        7503             0             0   \n",
       "\n",
       "   blt_or_renov  price_per_sqft  \n",
       "0        1955.0      188.050847  \n",
       "1        1991.0      209.338521  \n",
       "2        1933.0      233.766234  \n",
       "3        1965.0      308.163265  \n",
       "4        1987.0      303.571429  \n",
       "\n",
       "[5 rows x 23 columns]"
      ]
     },
     "execution_count": 211,
     "metadata": {},
     "output_type": "execute_result"
    }
   ],
   "source": [
    "df.head()"
   ]
  },
  {
   "cell_type": "code",
   "execution_count": 212,
   "metadata": {},
   "outputs": [],
   "source": [
    "# Dropping additional columns\n",
    "# year_bought is all effectively 2014 and 2015. \n",
    "# sqft_living15 and sqft_lot15 only has correlations to sqft, \n",
    "# which is a more representative variable\n",
    "#more_cols_to_drop = ['year_bought', 'sqft_lot15', 'sqft_living15']"
   ]
  },
  {
   "cell_type": "code",
   "execution_count": 213,
   "metadata": {},
   "outputs": [],
   "source": [
    "#df.drop(more_cols_to_drop, axis=1, inplace=True)"
   ]
  },
  {
   "cell_type": "markdown",
   "metadata": {},
   "source": [
    "# Standardize the data"
   ]
  },
  {
   "cell_type": "code",
   "execution_count": 214,
   "metadata": {},
   "outputs": [],
   "source": [
    "b = df['sqft_living']\n",
    "sqft_living_min = min(b)\n",
    "sqft_living_range = max(b)-min(b)\n",
    "df['sqft_living'] = (b-sqft_living_min)/sqft_living_range\n",
    "\n",
    "b = df['sqft_above']\n",
    "sqft_ab_min = min(b)\n",
    "sqft_ab_range = max(b)-min(b)\n",
    "df['sqft_above'] = (b-sqft_ab_min)/(sqft_ab_range)\n",
    "\n",
    "b = df['sqft_lot']\n",
    "sqft_lot_min = min(b)\n",
    "sqft_lot_range = max(b)-min(b)\n",
    "df['sqft_lot'] = (b-sqft_lot_min)/(sqft_lot_range)\n",
    "\n",
    "b = df['sqft_living15']\n",
    "sqft_living15_min = min(b)\n",
    "sqft_living15_range = max(b)-min(b)\n",
    "df['sqft_living15'] = (b-sqft_living15_min)/sqft_living15_range\n",
    "\n",
    "b = df['sqft_lot15']\n",
    "sqft_lot15_min = min(b)\n",
    "sqft_lot15_range = max(b)-min(b)\n",
    "df['sqft_lot15'] = (b-sqft_lot15_min)/sqft_lot15_range\n",
    "\n",
    "b = df['sqft_basement']\n",
    "sqft_basement_min = min(b)\n",
    "sqft_basement_range = max(b)-min(b)\n",
    "df['sqft_basement'] = (b-sqft_basement_min)/sqft_basement_range\n",
    "\n",
    "b = df['yr_built']                  \n",
    "yb_min = min(b)\n",
    "yb_range = max(b)-min(b)\n",
    "df['yr_built'] = (b-yb_min)/(yb_range)\n",
    "\n",
    "b = df['yr_renovated']                  \n",
    "yb_min = min(b)\n",
    "yb_range = max(b)-min(b)\n",
    "df['yr_renovated'] = (b-yb_min)/(yb_range)\n",
    "\n",
    "# standardization\n",
    "b = df['price']\n",
    "y = np.log(b)\n",
    "# price_mean = b.mean()\n",
    "# price_std = b.std()\n",
    "# y = (b-price_mean)/(price_std)\n"
   ]
  },
  {
   "cell_type": "code",
   "execution_count": 215,
   "metadata": {},
   "outputs": [],
   "source": [
    "zip_dummy = pd.get_dummies(df[\"zipcode\"], prefix=\"ZIP\")\n",
    "df = df.drop(columns=[\"zipcode\"],)\n",
    "df = pd.concat([df, zip_dummy], axis=1)\n",
    "df.drop(df.columns[-1], axis=1, inplace=True)"
   ]
  },
  {
   "cell_type": "code",
   "execution_count": 216,
   "metadata": {},
   "outputs": [],
   "source": [
    "wf_dummy = pd.get_dummies(df[\"waterfront\"], prefix=\"WF\")\n",
    "df = df.drop(columns=[\"waterfront\"],)\n",
    "df = pd.concat([df, wf_dummy], axis=1)"
   ]
  },
  {
   "cell_type": "code",
   "execution_count": 217,
   "metadata": {},
   "outputs": [],
   "source": [
    "view_dummy = pd.get_dummies(df[\"view\"], prefix=\"VIEW\")\n",
    "df = df.drop(columns=[\"view\"],)\n",
    "df = pd.concat([df, view_dummy], axis=1)\n",
    "df.drop(df.columns[-1], axis=1, inplace=True)"
   ]
  },
  {
   "cell_type": "code",
   "execution_count": 218,
   "metadata": {
    "scrolled": true
   },
   "outputs": [],
   "source": [
    "condition_dummy = pd.get_dummies(df[\"condition\"], prefix=\"COND\")\n",
    "df = df.drop(columns=[\"condition\"],)\n",
    "df = pd.concat([df, condition_dummy], axis=1)\n",
    "df.drop(df.columns[-1], axis=1, inplace=True)"
   ]
  },
  {
   "cell_type": "code",
   "execution_count": 219,
   "metadata": {},
   "outputs": [],
   "source": [
    "grade_dummy = pd.get_dummies(df[\"grade\"], prefix=\"GRADE\")\n",
    "df = df.drop(columns=[\"grade\"],)\n",
    "df = pd.concat([df, grade_dummy], axis=1)\n",
    "df.drop(df.columns[-1], axis=1, inplace=True)"
   ]
  },
  {
   "cell_type": "code",
   "execution_count": 220,
   "metadata": {},
   "outputs": [
    {
     "name": "stdout",
     "output_type": "stream",
     "text": [
      "Found 3842 \t NAs in column \tyr_renovated (17.79% of the data)\n"
     ]
    }
   ],
   "source": [
    "print_NAs(df)"
   ]
  },
  {
   "cell_type": "code",
   "execution_count": 221,
   "metadata": {},
   "outputs": [],
   "source": [
    "df.drop(\"yr_renovated\", axis=1, inplace=True)"
   ]
  },
  {
   "cell_type": "code",
   "execution_count": 57,
   "metadata": {},
   "outputs": [],
   "source": [
    "#from sklearn.cluster import SpectralClustering\n",
    "#model = SpectralClustering(n_clusters=10, affinity='nearest_neighbors',\n",
    "#                           assign_labels='kmeans')\n",
    "#labels = model.fit_predict(X)"
   ]
  },
  {
   "cell_type": "code",
   "execution_count": 222,
   "metadata": {},
   "outputs": [],
   "source": [
    "#Lets select our predictor data frame\n",
    "X = df.drop(columns=['price', \"price_per_sqft\"])"
   ]
  },
  {
   "cell_type": "code",
   "execution_count": 223,
   "metadata": {},
   "outputs": [
    {
     "name": "stdout",
     "output_type": "stream",
     "text": [
      "Train length  17276 17276\n",
      "Test length  4320 4320\n"
     ]
    }
   ],
   "source": [
    "# Let's split the data into train and test data sets\n",
    "X_train, X_test, y_train, y_test = train_test_split(X, y, test_size=0.20)\n",
    "print('Train length ',len(X_train), len(y_train))\n",
    "print('Test length ',len(X_test), len(y_test))"
   ]
  },
  {
   "cell_type": "code",
   "execution_count": 224,
   "metadata": {
    "scrolled": true
   },
   "outputs": [
    {
     "data": {
      "text/plain": [
       "Ridge(alpha=0.5, copy_X=True, fit_intercept=True, max_iter=None,\n",
       "   normalize=False, random_state=None, solver='auto', tol=0.001)"
      ]
     },
     "execution_count": 224,
     "metadata": {},
     "output_type": "execute_result"
    }
   ],
   "source": [
    "from sklearn.linear_model import Ridge\n",
    "linreg = Ridge(alpha=.5)\n",
    "linreg.fit(X_train, y_train)\n",
    "#model = sm.OLS(y_train, sm.add_constant(X_train[fields])).fit()\n",
    "#model = sm.OLS(y_train, sm.add_constant(X_train)).fit()"
   ]
  },
  {
   "cell_type": "code",
   "execution_count": 225,
   "metadata": {},
   "outputs": [
    {
     "data": {
      "text/plain": [
       "0.8803890832971175"
      ]
     },
     "execution_count": 225,
     "metadata": {},
     "output_type": "execute_result"
    }
   ],
   "source": [
    "linreg.score(X_train, y_train)"
   ]
  },
  {
   "cell_type": "code",
   "execution_count": 226,
   "metadata": {},
   "outputs": [],
   "source": [
    "r_squared = linreg.score(X_train, y_train)\n",
    "\n",
    "adj = r_adjusted(r_squared, X, y)"
   ]
  },
  {
   "cell_type": "code",
   "execution_count": 227,
   "metadata": {
    "scrolled": true
   },
   "outputs": [
    {
     "data": {
      "text/plain": [
       "0.879810257959204"
      ]
     },
     "execution_count": 227,
     "metadata": {},
     "output_type": "execute_result"
    }
   ],
   "source": [
    "adj"
   ]
  },
  {
   "cell_type": "code",
   "execution_count": 228,
   "metadata": {},
   "outputs": [],
   "source": [
    "from sklearn.metrics import r2_score\n",
    "y_predict = linreg.predict(X_test)"
   ]
  },
  {
   "cell_type": "code",
   "execution_count": 229,
   "metadata": {},
   "outputs": [
    {
     "name": "stderr",
     "output_type": "stream",
     "text": [
      "/Users/angelmanzur/anaconda3/lib/python3.6/site-packages/scipy/stats/stats.py:1713: FutureWarning: Using a non-tuple sequence for multidimensional indexing is deprecated; use `arr[tuple(seq)]` instead of `arr[seq]`. In the future this will be interpreted as an array index, `arr[np.array(seq)]`, which will result either in an error or a different result.\n",
      "  return np.add.reduce(sorted[indexer] * weights, axis=axis) / sumval\n"
     ]
    },
    {
     "data": {
      "text/plain": [
       "Text(0.5, 1.0, 'Predicted vs. measured price')"
      ]
     },
     "execution_count": 229,
     "metadata": {},
     "output_type": "execute_result"
    },
    {
     "data": {
      "image/png": "[encoded data removed]",
      "text/plain": [
       "<Figure size 576x432 with 1 Axes>"
      ]
     },
     "metadata": {
      "needs_background": "light"
     },
     "output_type": "display_data"
    }
   ],
   "source": [
    "fig = plt.figure(figsize=(8,6))\n",
    "sns.regplot(y_test, y_predict)\n",
    "plt.xlabel('log(price)', fontsize=16)\n",
    "plt.ylabel('Predicted log(price)',fontsize=16)\n",
    "plt.title('Predicted vs. measured price',fontsize=20)"
   ]
  },
  {
   "cell_type": "code",
   "execution_count": 230,
   "metadata": {},
   "outputs": [
    {
     "data": {
      "text/plain": [
       "0.8527972248345168"
      ]
     },
     "execution_count": 230,
     "metadata": {},
     "output_type": "execute_result"
    }
   ],
   "source": [
    "r2_score(y_predict, y_test)"
   ]
  },
  {
   "cell_type": "code",
   "execution_count": 231,
   "metadata": {},
   "outputs": [
    {
     "name": "stdout",
     "output_type": "stream",
     "text": [
      "0.8637353484826884\n",
      "0.8527972248345168\n"
     ]
    }
   ],
   "source": [
    "y_predict_train = linreg.predict(X_train)\n",
    "print(r2_score(y_predict_train, y_train))\n",
    "print(r2_score(y_predict, y_test))"
   ]
  },
  {
   "cell_type": "code",
   "execution_count": 232,
   "metadata": {
    "scrolled": false
   },
   "outputs": [
    {
     "name": "stdout",
     "output_type": "stream",
     "text": [
      "Train Mean Squarred Error: 0.033151077362593505\n",
      "Test Mean Squarred Error: 0.03465916497848277\n",
      "1.0454913606394869\n"
     ]
    }
   ],
   "source": [
    "y_predict_train = linreg.predict(X_train)\n",
    "train_mse = mean_squared_error(y_train, y_predict_train)\n",
    "test_mse = mean_squared_error(y_test, y_predict)\n",
    "print('Train Mean Squarred Error:', train_mse)\n",
    "print('Test Mean Squarred Error:', test_mse)\n",
    "print(test_mse/train_mse)"
   ]
  },
  {
   "cell_type": "code",
   "execution_count": 233,
   "metadata": {},
   "outputs": [],
   "source": [
    "model_results = []\n",
    "model_results.append([\"Ridge - alpha .5\", linreg.score(X_train, y_train), adj, train_mse, test_mse])"
   ]
  },
  {
   "cell_type": "code",
   "execution_count": 234,
   "metadata": {},
   "outputs": [
    {
     "data": {
      "text/plain": [
       "Lasso(alpha=1, copy_X=True, fit_intercept=True, max_iter=1000,\n",
       "   normalize=False, positive=False, precompute=False, random_state=None,\n",
       "   selection='cyclic', tol=0.0001, warm_start=False)"
      ]
     },
     "execution_count": 234,
     "metadata": {},
     "output_type": "execute_result"
    }
   ],
   "source": [
    "from sklearn.linear_model import Lasso\n",
    "lasso = Lasso(alpha=1)\n",
    "lasso.fit(X_train, y_train)"
   ]
  },
  {
   "cell_type": "code",
   "execution_count": 235,
   "metadata": {
    "scrolled": false
   },
   "outputs": [
    {
     "data": {
      "text/plain": [
       "0.01140596049312148"
      ]
     },
     "execution_count": 235,
     "metadata": {},
     "output_type": "execute_result"
    }
   ],
   "source": [
    "lasso.score(X_train, y_train)"
   ]
  },
  {
   "cell_type": "code",
   "execution_count": 236,
   "metadata": {},
   "outputs": [
    {
     "name": "stdout",
     "output_type": "stream",
     "text": [
      "Train Mean Squarred Error: 0.27399637413782585\n",
      "Test Mean Squarred Error: 0.03465916497848277\n",
      "0.12649497675851906\n"
     ]
    }
   ],
   "source": [
    "y_predict_train = lasso.predict(X_train)\n",
    "train_mse = mean_squared_error(y_train, y_predict_train)\n",
    "test_mse = mean_squared_error(y_test, y_predict)\n",
    "print('Train Mean Squarred Error:', train_mse)\n",
    "print('Test Mean Squarred Error:', test_mse)\n",
    "print(test_mse/train_mse)"
   ]
  },
  {
   "cell_type": "code",
   "execution_count": 237,
   "metadata": {},
   "outputs": [],
   "source": [
    "#adj = r_adjusted(lasso.score(X_train, y_train), X, y)\n",
    "#model_results.append([\"Lasso - alpha 1\", lasso.score(X_train, y_train), adj, train_mse, test_mse])"
   ]
  },
  {
   "cell_type": "code",
   "execution_count": 238,
   "metadata": {},
   "outputs": [
    {
     "data": {
      "text/plain": [
       "Lasso(alpha=0.001, copy_X=True, fit_intercept=True, max_iter=1000,\n",
       "   normalize=False, positive=False, precompute=False, random_state=None,\n",
       "   selection='cyclic', tol=0.0001, warm_start=False)"
      ]
     },
     "execution_count": 238,
     "metadata": {},
     "output_type": "execute_result"
    }
   ],
   "source": [
    "lasso = Lasso(alpha=.001)\n",
    "lasso.fit(X_train, y_train)"
   ]
  },
  {
   "cell_type": "code",
   "execution_count": 239,
   "metadata": {},
   "outputs": [
    {
     "data": {
      "text/plain": [
       "0.8475744804164979"
      ]
     },
     "execution_count": 239,
     "metadata": {},
     "output_type": "execute_result"
    }
   ],
   "source": [
    "lasso.score(X_train, y_train)"
   ]
  },
  {
   "cell_type": "code",
   "execution_count": 240,
   "metadata": {},
   "outputs": [
    {
     "data": {
      "text/plain": [
       "0.8527972248345168"
      ]
     },
     "execution_count": 240,
     "metadata": {},
     "output_type": "execute_result"
    }
   ],
   "source": [
    "r2_score(y_predict, y_test)"
   ]
  },
  {
   "cell_type": "code",
   "execution_count": 241,
   "metadata": {},
   "outputs": [],
   "source": [
    "from sklearn.linear_model import LassoCV\n",
    "from sklearn.linear_model import Lasso\n",
    "from sklearn.model_selection import KFold\n",
    "from sklearn.model_selection import GridSearchCV"
   ]
  },
  {
   "cell_type": "code",
   "execution_count": 242,
   "metadata": {},
   "outputs": [],
   "source": [
    "alphas = np.logspace(-4, -1, 30)\n",
    "\n",
    "tuned_parameters = [{'alpha': alphas}]\n",
    "n_folds = 3\n",
    "\n",
    "clf = GridSearchCV(lasso, tuned_parameters, cv=n_folds, refit=False)"
   ]
  },
  {
   "cell_type": "code",
   "execution_count": 243,
   "metadata": {},
   "outputs": [
    {
     "data": {
      "text/plain": [
       "GridSearchCV(cv=3, error_score='raise-deprecating',\n",
       "       estimator=Lasso(alpha=0.001, copy_X=True, fit_intercept=True, max_iter=1000,\n",
       "   normalize=False, positive=False, precompute=False, random_state=None,\n",
       "   selection='cyclic', tol=0.0001, warm_start=False),\n",
       "       fit_params=None, iid='warn', n_jobs=None,\n",
       "       param_grid=[{'alpha': array([0.0001 , 0.00013, 0.00016, 0.0002 , 0.00026, 0.00033, 0.00042,\n",
       "       0.00053, 0.00067, 0.00085, 0.00108, 0.00137, 0.00174, 0.00221,\n",
       "       0.00281, 0.00356, 0.00452, 0.00574, 0.00728, 0.00924, 0.01172,\n",
       "       0.01487, 0.01887, 0.02395, 0.03039, 0.03857, 0.04894, 0.0621 ,\n",
       "       0.0788 , 0.1    ])}],\n",
       "       pre_dispatch='2*n_jobs', refit=False, return_train_score='warn',\n",
       "       scoring=None, verbose=0)"
      ]
     },
     "execution_count": 243,
     "metadata": {},
     "output_type": "execute_result"
    }
   ],
   "source": [
    "clf.fit(X_train, y_train)"
   ]
  },
  {
   "cell_type": "code",
   "execution_count": 244,
   "metadata": {},
   "outputs": [
    {
     "data": {
      "text/plain": [
       "Text(0, 0.5, 'Scores')"
      ]
     },
     "execution_count": 244,
     "metadata": {},
     "output_type": "execute_result"
    },
    {
     "data": {
      "image/png": "[encoded data removed]",
      "text/plain": [
       "<Figure size 432x288 with 1 Axes>"
      ]
     },
     "metadata": {
      "needs_background": "light"
     },
     "output_type": "display_data"
    }
   ],
   "source": [
    "scores = clf.cv_results_['mean_test_score']\n",
    "scores_std = clf.cv_results_['std_test_score']\n",
    "plt.semilogx(alphas, scores)\n",
    "plt.xlabel(\"Alphas\")\n",
    "plt.ylabel(\"Scores\")"
   ]
  },
  {
   "cell_type": "code",
   "execution_count": 245,
   "metadata": {},
   "outputs": [
    {
     "data": {
      "text/plain": [
       "0.8789528379389232"
      ]
     },
     "execution_count": 245,
     "metadata": {},
     "output_type": "execute_result"
    }
   ],
   "source": [
    "lasso = Lasso(alpha=.0001)\n",
    "lasso.fit(X_train, y_train)\n",
    "lasso.score(X_train, y_train)"
   ]
  },
  {
   "cell_type": "code",
   "execution_count": 246,
   "metadata": {
    "scrolled": true
   },
   "outputs": [
    {
     "name": "stdout",
     "output_type": "stream",
     "text": [
      "Train Mean Squarred Error: 0.03354914371216786\n",
      "Test Mean Squarred Error: 0.03465916497848277\n",
      "1.033086426164502\n"
     ]
    }
   ],
   "source": [
    "from sklearn.metrics import mean_squared_error\n",
    "y_predict_train = lasso.predict(X_train)\n",
    "train_mse = mean_squared_error(y_train, y_predict_train)\n",
    "test_mse = mean_squared_error(y_test, y_predict)\n",
    "print('Train Mean Squarred Error:', train_mse)\n",
    "print('Test Mean Squarred Error:', test_mse)\n",
    "print(test_mse/train_mse)"
   ]
  },
  {
   "cell_type": "code",
   "execution_count": 247,
   "metadata": {},
   "outputs": [],
   "source": [
    "adj = r_adjusted(lasso.score(X_train, y_train), X_train, y_train)\n",
    "model_results.append([\"Lasso - alpha .0001\", lasso.score(X_train, y_train), adj, train_mse, test_mse])"
   ]
  },
  {
   "cell_type": "code",
   "execution_count": 248,
   "metadata": {},
   "outputs": [
    {
     "name": "stderr",
     "output_type": "stream",
     "text": [
      "/Users/angelmanzur/anaconda3/lib/python3.6/site-packages/sklearn/linear_model/coordinate_descent.py:492: ConvergenceWarning: Objective did not converge. You might want to increase the number of iterations. Fitting data with very small alpha may cause precision problems.\n",
      "  ConvergenceWarning)\n"
     ]
    },
    {
     "data": {
      "text/plain": [
       "ElasticNet(alpha=0.0001, copy_X=True, fit_intercept=True, l1_ratio=1e-05,\n",
       "      max_iter=1000, normalize=False, positive=False, precompute=False,\n",
       "      random_state=None, selection='cyclic', tol=0.0001, warm_start=False)"
      ]
     },
     "execution_count": 248,
     "metadata": {},
     "output_type": "execute_result"
    }
   ],
   "source": [
    "from sklearn.linear_model import ElasticNet\n",
    "elastic = ElasticNet(alpha=.0001, l1_ratio=.00001)\n",
    "elastic.fit(X_train, y_train)"
   ]
  },
  {
   "cell_type": "code",
   "execution_count": 249,
   "metadata": {},
   "outputs": [],
   "source": [
    "\n",
    "alphas = np.logspace(-3, -1, 30)\n",
    "\n",
    "tuned_parameters = [{'alpha': alphas}]\n",
    "n_folds = 3\n",
    "\n",
    "clf = GridSearchCV(elastic, tuned_parameters, cv=n_folds, refit=False)"
   ]
  },
  {
   "cell_type": "code",
   "execution_count": 250,
   "metadata": {},
   "outputs": [
    {
     "data": {
      "text/plain": [
       "GridSearchCV(cv=3, error_score='raise-deprecating',\n",
       "       estimator=ElasticNet(alpha=0.0001, copy_X=True, fit_intercept=True, l1_ratio=1e-05,\n",
       "      max_iter=1000, normalize=False, positive=False, precompute=False,\n",
       "      random_state=None, selection='cyclic', tol=0.0001, warm_start=False),\n",
       "       fit_params=None, iid='warn', n_jobs=None,\n",
       "       param_grid=[{'alpha': array([0.001  , 0.00117, 0.00137, 0.00161, 0.00189, 0.00221, 0.00259,\n",
       "       0.00304, 0.00356, 0.00418, 0.00489, 0.00574, 0.00672, 0.00788,\n",
       "       0.00924, 0.01083, 0.01269, 0.01487, 0.01743, 0.02043, 0.02395,\n",
       "       0.02807, 0.0329 , 0.03857, 0.0452 , 0.05298, 0.0621 , 0.07279,\n",
       "       0.08532, 0.1    ])}],\n",
       "       pre_dispatch='2*n_jobs', refit=False, return_train_score='warn',\n",
       "       scoring=None, verbose=0)"
      ]
     },
     "execution_count": 250,
     "metadata": {},
     "output_type": "execute_result"
    }
   ],
   "source": [
    "clf.fit(X_train, y_train)"
   ]
  },
  {
   "cell_type": "code",
   "execution_count": 251,
   "metadata": {},
   "outputs": [
    {
     "data": {
      "text/plain": [
       "Text(0, 0.5, 'Scores')"
      ]
     },
     "execution_count": 251,
     "metadata": {},
     "output_type": "execute_result"
    },
    {
     "data": {
      "image/png": "[encoded data removed]",
      "text/plain": [
       "<Figure size 432x288 with 1 Axes>"
      ]
     },
     "metadata": {
      "needs_background": "light"
     },
     "output_type": "display_data"
    }
   ],
   "source": [
    "scores = clf.cv_results_['mean_test_score']\n",
    "scores_std = clf.cv_results_['std_test_score']\n",
    "plt.semilogx(alphas, scores)\n",
    "plt.xlabel(\"Alphas\")\n",
    "plt.ylabel(\"Scores\")"
   ]
  },
  {
   "cell_type": "code",
   "execution_count": 252,
   "metadata": {},
   "outputs": [
    {
     "name": "stderr",
     "output_type": "stream",
     "text": [
      "/Users/angelmanzur/anaconda3/lib/python3.6/site-packages/sklearn/linear_model/coordinate_descent.py:492: ConvergenceWarning: Objective did not converge. You might want to increase the number of iterations. Fitting data with very small alpha may cause precision problems.\n",
      "  ConvergenceWarning)\n"
     ]
    },
    {
     "data": {
      "text/plain": [
       "ElasticNet(alpha=0.0001, copy_X=True, fit_intercept=True, l1_ratio=0.5,\n",
       "      max_iter=1000, normalize=False, positive=False, precompute=False,\n",
       "      random_state=None, selection='cyclic', tol=0.0001, warm_start=False)"
      ]
     },
     "execution_count": 252,
     "metadata": {},
     "output_type": "execute_result"
    }
   ],
   "source": [
    "from sklearn.linear_model import ElasticNet\n",
    "elastic = ElasticNet(alpha=.0001)\n",
    "elastic.fit(X_train, y_train)"
   ]
  },
  {
   "cell_type": "code",
   "execution_count": 253,
   "metadata": {},
   "outputs": [
    {
     "name": "stdout",
     "output_type": "stream",
     "text": [
      "Train Mean Squarred Error: 0.03339387974476995\n",
      "Test Mean Squarred Error: 0.03465916497848277\n",
      "1.0378897343879605\n"
     ]
    }
   ],
   "source": [
    "from sklearn.metrics import mean_squared_error\n",
    "y_predict_train = elastic.predict(X_train)\n",
    "train_mse = mean_squared_error(y_train, y_predict_train)\n",
    "test_mse = mean_squared_error(y_test, y_predict)\n",
    "print('Train Mean Squarred Error:', train_mse)\n",
    "print('Test Mean Squarred Error:', test_mse)\n",
    "print(test_mse/train_mse)"
   ]
  },
  {
   "cell_type": "code",
   "execution_count": 254,
   "metadata": {},
   "outputs": [
    {
     "data": {
      "text/plain": [
       "0.879513038902176"
      ]
     },
     "execution_count": 254,
     "metadata": {},
     "output_type": "execute_result"
    }
   ],
   "source": [
    "elastic.score(X_train, y_train)"
   ]
  },
  {
   "cell_type": "code",
   "execution_count": 255,
   "metadata": {},
   "outputs": [],
   "source": [
    "L1_ratios = np.linspace(0, 1, 3)\n",
    "\n",
    "tuned_parameters = [{'l1_ratio': L1_ratios}]\n",
    "n_folds = 3\n",
    "\n",
    "clf = GridSearchCV(elastic, tuned_parameters, cv=n_folds, refit=False)"
   ]
  },
  {
   "cell_type": "code",
   "execution_count": 256,
   "metadata": {},
   "outputs": [
    {
     "name": "stderr",
     "output_type": "stream",
     "text": [
      "/Users/angelmanzur/anaconda3/lib/python3.6/site-packages/sklearn/linear_model/coordinate_descent.py:492: ConvergenceWarning: Objective did not converge. You might want to increase the number of iterations. Fitting data with very small alpha may cause precision problems.\n",
      "  ConvergenceWarning)\n",
      "/Users/angelmanzur/anaconda3/lib/python3.6/site-packages/sklearn/linear_model/coordinate_descent.py:492: ConvergenceWarning: Objective did not converge. You might want to increase the number of iterations. Fitting data with very small alpha may cause precision problems.\n",
      "  ConvergenceWarning)\n",
      "/Users/angelmanzur/anaconda3/lib/python3.6/site-packages/sklearn/linear_model/coordinate_descent.py:492: ConvergenceWarning: Objective did not converge. You might want to increase the number of iterations. Fitting data with very small alpha may cause precision problems.\n",
      "  ConvergenceWarning)\n"
     ]
    },
    {
     "data": {
      "text/plain": [
       "GridSearchCV(cv=3, error_score='raise-deprecating',\n",
       "       estimator=ElasticNet(alpha=0.0001, copy_X=True, fit_intercept=True, l1_ratio=0.5,\n",
       "      max_iter=1000, normalize=False, positive=False, precompute=False,\n",
       "      random_state=None, selection='cyclic', tol=0.0001, warm_start=False),\n",
       "       fit_params=None, iid='warn', n_jobs=None,\n",
       "       param_grid=[{'l1_ratio': array([0. , 0.5, 1. ])}],\n",
       "       pre_dispatch='2*n_jobs', refit=False, return_train_score='warn',\n",
       "       scoring=None, verbose=0)"
      ]
     },
     "execution_count": 256,
     "metadata": {},
     "output_type": "execute_result"
    }
   ],
   "source": [
    "clf.fit(X_train, y_train)"
   ]
  },
  {
   "cell_type": "code",
   "execution_count": 104,
   "metadata": {},
   "outputs": [
    {
     "data": {
      "text/plain": [
       "Text(0, 0.5, 'Scores')"
      ]
     },
     "execution_count": 104,
     "metadata": {},
     "output_type": "execute_result"
    },
    {
     "data": {
      "image/png": "[encoded data removed]",
      "text/plain": [
       "<Figure size 432x288 with 1 Axes>"
      ]
     },
     "metadata": {
      "needs_background": "light"
     },
     "output_type": "display_data"
    }
   ],
   "source": [
    "scores = clf.cv_results_['mean_test_score']\n",
    "scores_std = clf.cv_results_['std_test_score']\n",
    "plt.semilogx(L1_ratios, scores)\n",
    "plt.xlabel(\"Alphas\")\n",
    "plt.ylabel(\"Scores\")"
   ]
  },
  {
   "cell_type": "code",
   "execution_count": 257,
   "metadata": {},
   "outputs": [
    {
     "name": "stderr",
     "output_type": "stream",
     "text": [
      "/Users/angelmanzur/anaconda3/lib/python3.6/site-packages/sklearn/linear_model/coordinate_descent.py:492: ConvergenceWarning: Objective did not converge. You might want to increase the number of iterations. Fitting data with very small alpha may cause precision problems.\n",
      "  ConvergenceWarning)\n"
     ]
    },
    {
     "data": {
      "text/plain": [
       "ElasticNet(alpha=0.0001, copy_X=True, fit_intercept=True, l1_ratio=1e-05,\n",
       "      max_iter=1000, normalize=False, positive=False, precompute=False,\n",
       "      random_state=None, selection='cyclic', tol=0.0001, warm_start=False)"
      ]
     },
     "execution_count": 257,
     "metadata": {},
     "output_type": "execute_result"
    }
   ],
   "source": [
    "from sklearn.linear_model import ElasticNet\n",
    "elastic = ElasticNet(alpha=.0001, l1_ratio=.00001)\n",
    "elastic.fit(X_train, y_train)"
   ]
  },
  {
   "cell_type": "code",
   "execution_count": 258,
   "metadata": {},
   "outputs": [
    {
     "data": {
      "text/plain": [
       "0.879945996149153"
      ]
     },
     "execution_count": 258,
     "metadata": {},
     "output_type": "execute_result"
    }
   ],
   "source": [
    "elastic.score(X_train, y_train)"
   ]
  },
  {
   "cell_type": "code",
   "execution_count": 259,
   "metadata": {},
   "outputs": [
    {
     "name": "stdout",
     "output_type": "stream",
     "text": [
      "Train Mean Squarred Error: 0.033273882343321334\n",
      "Test Mean Squarred Error: 0.03465916497848277\n",
      "1.0416327322693526\n"
     ]
    }
   ],
   "source": [
    "from sklearn.metrics import mean_squared_error\n",
    "y_predict_train = elastic.predict(X_train)\n",
    "train_mse = mean_squared_error(y_train, y_predict_train)\n",
    "test_mse = mean_squared_error(y_test, y_predict)\n",
    "print('Train Mean Squarred Error:', train_mse)\n",
    "print('Test Mean Squarred Error:', test_mse)\n",
    "print(test_mse/train_mse)"
   ]
  },
  {
   "cell_type": "code",
   "execution_count": 260,
   "metadata": {},
   "outputs": [],
   "source": [
    "cvs = cross_val_score(lasso, X_train, y_train, cv=20, scoring=\"neg_mean_squared_error\")"
   ]
  },
  {
   "cell_type": "code",
   "execution_count": 261,
   "metadata": {},
   "outputs": [
    {
     "data": {
      "text/plain": [
       "array([-0.03244956, -0.03132973, -0.03415875, -0.03775446, -0.03106247,\n",
       "       -0.03549044, -0.03360354, -0.03358137, -0.03188934, -0.03484737,\n",
       "       -0.03595807, -0.03329514, -0.03103544, -0.03204476, -0.03931689,\n",
       "       -0.03761678, -0.03386088, -0.03520486, -0.03392449, -0.03347775])"
      ]
     },
     "execution_count": 261,
     "metadata": {},
     "output_type": "execute_result"
    }
   ],
   "source": [
    "cvs"
   ]
  },
  {
   "cell_type": "code",
   "execution_count": 262,
   "metadata": {},
   "outputs": [],
   "source": [
    "cvs = cross_val_score(lasso, X_train, y_train, cv=20, scoring=\"r2\")"
   ]
  },
  {
   "cell_type": "code",
   "execution_count": 263,
   "metadata": {},
   "outputs": [
    {
     "name": "stdout",
     "output_type": "stream",
     "text": [
      "average score after CV: 0.877 std 0.008\n"
     ]
    }
   ],
   "source": [
    "print('average score after CV: {0:0.3f} std {1:0.3f}'.format(cvs.mean(), cvs.std()))"
   ]
  },
  {
   "cell_type": "code",
   "execution_count": 264,
   "metadata": {},
   "outputs": [
    {
     "data": {
      "text/plain": [
       "array([-1.29522764e-03,  4.15327964e-02,  1.22900051e+00,  7.93074326e-01,\n",
       "       -3.05340905e-02,  1.10502717e+00,  0.00000000e+00, -1.23009599e-01,\n",
       "        1.21334096e+00, -3.89542503e-01,  4.65679064e-01,  2.42694791e-02,\n",
       "        5.92358525e-02,  4.41190748e-02,  2.04553279e-04, -2.59875813e-01,\n",
       "       -2.55094599e-01, -2.72372989e-01,  4.54411081e-01,  9.26530960e-02,\n",
       "        9.10905525e-02,  3.22893732e-02,  4.72126236e-02,  3.01891951e-02,\n",
       "       -3.44937315e-01, -1.95384559e-01, -3.25660392e-01,  0.00000000e+00,\n",
       "       -3.41721972e-01, -0.00000000e+00,  5.73422428e-02, -3.94799867e-01,\n",
       "        9.91714904e-02, -2.50795713e-01, -2.76003897e-01, -3.65805934e-01,\n",
       "        7.25666531e-02, -2.08828058e-01, -7.71322778e-02,  5.37651802e-01,\n",
       "        2.82047580e-01, -2.16144783e-01,  5.03617250e-02, -4.14179963e-02,\n",
       "       -4.86032452e-02, -2.95541106e-01, -1.73192022e-01, -2.28222491e-01,\n",
       "       -1.11552871e-01,  0.00000000e+00, -1.12561025e-01, -2.60642950e-01,\n",
       "       -2.84237244e-02,  1.73797749e-02, -2.68780569e-01, -1.94055101e-01,\n",
       "        1.97019000e-01,  2.40472924e-02,  1.68255647e-01, -2.52557875e-01,\n",
       "        4.16756168e-02, -2.31570448e-01,  2.11409559e-01,  3.16422200e-01,\n",
       "        3.65368738e-02,  7.65387559e-02,  0.00000000e+00, -1.28488063e-01,\n",
       "        2.07387348e-01,  1.07477263e-01, -2.13530614e-01, -7.87910883e-02,\n",
       "       -3.66966223e-01,  4.24219100e-02,  5.87408499e-03, -2.56181996e-01,\n",
       "       -2.63377638e-01, -4.04775309e-01, -1.81938568e-01, -4.10788760e-01,\n",
       "       -2.58523205e-01, -3.36927606e-01, -3.40718360e-01, -3.28839513e-01,\n",
       "       -1.62742681e-03,  4.42919786e-01, -2.60801740e-01, -1.44810716e-01,\n",
       "       -1.48965276e-01, -7.45615002e-02, -2.43948009e-01, -1.98145128e-01,\n",
       "       -1.04951304e-01, -6.07969227e-02,  0.00000000e+00, -3.26204653e-01,\n",
       "       -3.23541934e-01, -2.27826781e-01, -1.00399545e-01, -0.00000000e+00,\n",
       "        1.06515185e-01,  1.63587834e-01,  1.69352144e-01,  1.69506177e-01])"
      ]
     },
     "execution_count": 264,
     "metadata": {},
     "output_type": "execute_result"
    }
   ],
   "source": [
    "lasso.coef_"
   ]
  },
  {
   "cell_type": "code",
   "execution_count": 265,
   "metadata": {},
   "outputs": [],
   "source": [
    "coefs = list(zip(lasso.coef_, X_train.columns))"
   ]
  },
  {
   "cell_type": "code",
   "execution_count": 266,
   "metadata": {},
   "outputs": [],
   "source": [
    "coefs = [x for x in coefs if \"ZIP\" in x[1]]"
   ]
  },
  {
   "cell_type": "code",
   "execution_count": 267,
   "metadata": {},
   "outputs": [],
   "source": [
    "coefs.sort(key=lambda x: x[0])"
   ]
  },
  {
   "cell_type": "code",
   "execution_count": 268,
   "metadata": {},
   "outputs": [
    {
     "data": {
      "text/plain": [
       "[(-0.4107887598091517, 'ZIP_98168'),\n",
       " (-0.404775309279981, 'ZIP_98155'),\n",
       " (-0.39479986651167764, 'ZIP_98028'),\n",
       " (-0.36696622305370724, 'ZIP_98133'),\n",
       " (-0.3658059343575576, 'ZIP_98032'),\n",
       " (-0.344937315152515, 'ZIP_98011'),\n",
       " (-0.34172197227146633, 'ZIP_98023'),\n",
       " (-0.3407183597652291, 'ZIP_98188'),\n",
       " (-0.33692760624739787, 'ZIP_98178'),\n",
       " (-0.32883951257136196, 'ZIP_98198'),\n",
       " (-0.3256603917854592, 'ZIP_98019'),\n",
       " (-0.29554110614198326, 'ZIP_98055'),\n",
       " (-0.27600389726969443, 'ZIP_98031'),\n",
       " (-0.27237298888663936, 'ZIP_98003'),\n",
       " (-0.26878056907272374, 'ZIP_98077'),\n",
       " (-0.26337763844195783, 'ZIP_98148'),\n",
       " (-0.26064295005741867, 'ZIP_98072'),\n",
       " (-0.2598758130882497, 'ZIP_98001'),\n",
       " (-0.25852320524916983, 'ZIP_98177'),\n",
       " (-0.2561819959773934, 'ZIP_98146'),\n",
       " (-0.25509459881753493, 'ZIP_98002'),\n",
       " (-0.2525578749650853, 'ZIP_98106'),\n",
       " (-0.25079571338819395, 'ZIP_98030'),\n",
       " (-0.23157044826197687, 'ZIP_98108'),\n",
       " (-0.22822249133352418, 'ZIP_98058'),\n",
       " (-0.21614478277620444, 'ZIP_98042'),\n",
       " (-0.21353061406945856, 'ZIP_98125'),\n",
       " (-0.20882805797016465, 'ZIP_98034'),\n",
       " (-0.195384558574625, 'ZIP_98014'),\n",
       " (-0.1940551006660162, 'ZIP_98092'),\n",
       " (-0.18193856777400597, 'ZIP_98166'),\n",
       " (-0.17319202180738485, 'ZIP_98056'),\n",
       " (-0.1284880630300326, 'ZIP_98118'),\n",
       " (-0.11256102468519903, 'ZIP_98070'),\n",
       " (-0.11155287069206472, 'ZIP_98059'),\n",
       " (-0.07879108828549934, 'ZIP_98126'),\n",
       " (-0.07713227775491269, 'ZIP_98038'),\n",
       " (-0.04860324517071197, 'ZIP_98053'),\n",
       " (-0.04141799625198375, 'ZIP_98052'),\n",
       " (-0.028423724428017338, 'ZIP_98074'),\n",
       " (0.0, 'ZIP_98022'),\n",
       " (-0.0, 'ZIP_98024'),\n",
       " (0.0, 'ZIP_98065'),\n",
       " (0.0, 'ZIP_98117'),\n",
       " (0.005874084993648274, 'ZIP_98144'),\n",
       " (0.017379774931813856, 'ZIP_98075'),\n",
       " (0.02404729243119786, 'ZIP_98103'),\n",
       " (0.030189195095154463, 'ZIP_98010'),\n",
       " (0.03228937319984828, 'ZIP_98007'),\n",
       " (0.03653687376897398, 'ZIP_98115'),\n",
       " (0.04167561679455189, 'ZIP_98107'),\n",
       " (0.04242191001667765, 'ZIP_98136'),\n",
       " (0.04721262362633085, 'ZIP_98008'),\n",
       " (0.05036172502218279, 'ZIP_98045'),\n",
       " (0.05734224280930558, 'ZIP_98027'),\n",
       " (0.07256665312409331, 'ZIP_98033'),\n",
       " (0.07653875593371426, 'ZIP_98116'),\n",
       " (0.09109055246074406, 'ZIP_98006'),\n",
       " (0.09265309597031533, 'ZIP_98005'),\n",
       " (0.0991714903970735, 'ZIP_98029'),\n",
       " (0.10747726283395555, 'ZIP_98122'),\n",
       " (0.1682556468386216, 'ZIP_98105'),\n",
       " (0.1970190004604624, 'ZIP_98102'),\n",
       " (0.20738734844928539, 'ZIP_98119'),\n",
       " (0.21140955949910212, 'ZIP_98109'),\n",
       " (0.28204758039812783, 'ZIP_98040'),\n",
       " (0.3164221996116713, 'ZIP_98112'),\n",
       " (0.45441108090614735, 'ZIP_98004'),\n",
       " (0.5376518019471728, 'ZIP_98039')]"
      ]
     },
     "execution_count": 268,
     "metadata": {},
     "output_type": "execute_result"
    }
   ],
   "source": [
    "coefs"
   ]
  },
  {
   "cell_type": "code",
   "execution_count": 269,
   "metadata": {},
   "outputs": [],
   "source": [
    "adj = r_adjusted(elastic.score(X_train, y_train), X_train, y_train)\n",
    "model_results.append([\"Elastic - alpha=.0001, l1_ratio=.00001\", elastic.score(X_train, y_train), adj, train_mse, test_mse])"
   ]
  },
  {
   "cell_type": "code",
   "execution_count": null,
   "metadata": {},
   "outputs": [],
   "source": []
  },
  {
   "cell_type": "code",
   "execution_count": 270,
   "metadata": {},
   "outputs": [
    {
     "data": {
      "text/plain": [
       "<matplotlib.axes._subplots.AxesSubplot at 0x1c2245df98>"
      ]
     },
     "execution_count": 270,
     "metadata": {},
     "output_type": "execute_result"
    },
    {
     "data": {
      "image/png": "[encoded data removed]",
      "text/plain": [
       "<Figure size 432x288 with 1 Axes>"
      ]
     },
     "metadata": {
      "needs_background": "light"
     },
     "output_type": "display_data"
    }
   ],
   "source": [
    "\n",
    "\n",
    "r2 = [x[1] for x in model_results]\n",
    "r2_adj = [x[2] for x in model_results]\n",
    "sns.scatterplot(r2, r2_adj)"
   ]
  },
  {
   "cell_type": "code",
   "execution_count": 271,
   "metadata": {},
   "outputs": [
    {
     "data": {
      "text/plain": [
       "LinearRegression(copy_X=True, fit_intercept=True, n_jobs=None,\n",
       "         normalize=False)"
      ]
     },
     "execution_count": 271,
     "metadata": {},
     "output_type": "execute_result"
    }
   ],
   "source": [
    "linreg = LinearRegression()\n",
    "linreg.fit(X_train, y_train)"
   ]
  },
  {
   "cell_type": "code",
   "execution_count": 272,
   "metadata": {},
   "outputs": [
    {
     "name": "stdout",
     "output_type": "stream",
     "text": [
      "Train Mean Squarred Error: 0.033273882343321334\n",
      "Test Mean Squarred Error: 0.03465916497848277\n",
      "1.0416327322693526\n"
     ]
    }
   ],
   "source": [
    "y_predict_train = elastic.predict(X_train)\n",
    "train_mse = mean_squared_error(y_train, y_predict_train)\n",
    "test_mse = mean_squared_error(y_test, y_predict)\n",
    "print('Train Mean Squarred Error:', train_mse)\n",
    "print('Test Mean Squarred Error:', test_mse)\n",
    "print(test_mse/train_mse)"
   ]
  },
  {
   "cell_type": "code",
   "execution_count": 273,
   "metadata": {},
   "outputs": [
    {
     "data": {
      "text/plain": [
       "0.8805064951878927"
      ]
     },
     "execution_count": 273,
     "metadata": {},
     "output_type": "execute_result"
    }
   ],
   "source": [
    "linreg.score(X_train, y_train)"
   ]
  },
  {
   "cell_type": "code",
   "execution_count": 274,
   "metadata": {},
   "outputs": [],
   "source": [
    "adj = r_adjusted(linreg.score(X_train, y_train), X_train, y_train)"
   ]
  },
  {
   "cell_type": "code",
   "execution_count": 275,
   "metadata": {},
   "outputs": [],
   "source": [
    "model_results.append([\"Linear Regression\", linreg.score(X_train, y_train), adj, train_mse, test_mse])"
   ]
  },
  {
   "cell_type": "code",
   "execution_count": 276,
   "metadata": {},
   "outputs": [
    {
     "data": {
      "image/png": "[encoded data removed]",
      "text/plain": [
       "<Figure size 864x864 with 1 Axes>"
      ]
     },
     "metadata": {
      "needs_background": "light"
     },
     "output_type": "display_data"
    }
   ],
   "source": [
    "\n",
    "\n",
    "r2 = [x[1] for x in model_results]\n",
    "r2_adj = [x[2] for x in model_results]\n",
    "fig, ax = plt.subplots(figsize=(12,12))\n",
    "ax.scatter(r2, r2_adj)\n",
    "\n",
    "for i, entry in enumerate(model_results):\n",
    "    ax.annotate(entry[0], (r2[i], r2_adj[i]))\n",
    "\n",
    "#ax.margins(x=0, y=-0.45)\n"
   ]
  },
  {
   "cell_type": "code",
   "execution_count": null,
   "metadata": {},
   "outputs": [],
   "source": []
  },
  {
   "cell_type": "code",
   "execution_count": 277,
   "metadata": {},
   "outputs": [
    {
     "data": {
      "text/plain": [
       "[['Ridge - alpha .5',\n",
       "  0.8803890832971175,\n",
       "  0.879810257959204,\n",
       "  0.033151077362593505,\n",
       "  0.03465916497848277],\n",
       " ['Lasso - alpha .0001',\n",
       "  0.8789528379389232,\n",
       "  0.8782196887423503,\n",
       "  0.03354914371216786,\n",
       "  0.03465916497848277],\n",
       " ['Elastic - alpha=.0001, l1_ratio=.00001',\n",
       "  0.879945996149153,\n",
       "  0.8792188622372965,\n",
       "  0.033273882343321334,\n",
       "  0.03465916497848277],\n",
       " ['Linear Regression',\n",
       "  0.8805064951878927,\n",
       "  0.8797827560637613,\n",
       "  0.033273882343321334,\n",
       "  0.03465916497848277]]"
      ]
     },
     "execution_count": 277,
     "metadata": {},
     "output_type": "execute_result"
    }
   ],
   "source": [
    "model_results"
   ]
  },
  {
   "cell_type": "code",
   "execution_count": 278,
   "metadata": {},
   "outputs": [
    {
     "name": "stdout",
     "output_type": "stream",
     "text": [
      "Ratio of MSEs\n"
     ]
    },
    {
     "data": {
      "text/plain": [
       "['Ridge - alpha .5 - 0.9564880568581059',\n",
       " 'Lasso - alpha .0001 - 0.9679732253502346',\n",
       " 'Elastic - alpha=.0001, l1_ratio=.00001 - 0.9600312749594095',\n",
       " 'Linear Regression - 0.9600312749594095']"
      ]
     },
     "execution_count": 278,
     "metadata": {},
     "output_type": "execute_result"
    }
   ],
   "source": [
    "print(\"Ratio of MSEs\")\n",
    "[\"%s - %s\" % (x[0], x[3]/x[4]) for x in model_results]"
   ]
  },
  {
   "cell_type": "code",
   "execution_count": null,
   "metadata": {},
   "outputs": [],
   "source": []
  },
  {
   "cell_type": "code",
   "execution_count": 279,
   "metadata": {},
   "outputs": [],
   "source": [
    "coefs = list(zip(lasso.coef_, X_train.columns))"
   ]
  },
  {
   "cell_type": "code",
   "execution_count": 280,
   "metadata": {},
   "outputs": [],
   "source": [
    "zero_coefs = [x for x in coefs if x[0]==0]"
   ]
  },
  {
   "cell_type": "code",
   "execution_count": 281,
   "metadata": {},
   "outputs": [
    {
     "data": {
      "text/plain": [
       "[(0.0, 'sqft_basement'),\n",
       " (0.0, 'ZIP_98022'),\n",
       " (-0.0, 'ZIP_98024'),\n",
       " (0.0, 'ZIP_98065'),\n",
       " (0.0, 'ZIP_98117'),\n",
       " (0.0, 'GRADE_3'),\n",
       " (-0.0, 'GRADE_8')]"
      ]
     },
     "execution_count": 281,
     "metadata": {},
     "output_type": "execute_result"
    }
   ],
   "source": [
    "zero_coefs"
   ]
  },
  {
   "cell_type": "code",
   "execution_count": 282,
   "metadata": {
    "scrolled": true
   },
   "outputs": [
    {
     "name": "stdout",
     "output_type": "stream",
     "text": [
      "Dropping parameter sqft_basement\n"
     ]
    },
    {
     "name": "stderr",
     "output_type": "stream",
     "text": [
      "/Users/angelmanzur/anaconda3/lib/python3.6/site-packages/pandas/core/frame.py:3697: SettingWithCopyWarning: \n",
      "A value is trying to be set on a copy of a slice from a DataFrame\n",
      "\n",
      "See the caveats in the documentation: http://pandas.pydata.org/pandas-docs/stable/indexing.html#indexing-view-versus-copy\n",
      "  errors=errors)\n"
     ]
    },
    {
     "name": "stdout",
     "output_type": "stream",
     "text": [
      "Dropping parameter ZIP_98022\n",
      "Dropping parameter ZIP_98024\n",
      "Dropping parameter ZIP_98065\n",
      "Dropping parameter ZIP_98117\n",
      "Dropping parameter GRADE_3\n",
      "Dropping parameter GRADE_8\n"
     ]
    }
   ],
   "source": [
    "for zero_coef in zero_coefs:\n",
    "    print('Dropping parameter ' + zero_coef[1])\n",
    "    X_train.drop(zero_coef[1], axis=1, inplace=True)\n",
    "    X_test.drop(zero_coef[1], axis=1, inplace=True)"
   ]
  },
  {
   "cell_type": "code",
   "execution_count": 287,
   "metadata": {},
   "outputs": [
    {
     "name": "stderr",
     "output_type": "stream",
     "text": [
      "/Users/angelmanzur/anaconda3/lib/python3.6/site-packages/pandas/core/frame.py:3697: SettingWithCopyWarning: \n",
      "A value is trying to be set on a copy of a slice from a DataFrame\n",
      "\n",
      "See the caveats in the documentation: http://pandas.pydata.org/pandas-docs/stable/indexing.html#indexing-view-versus-copy\n",
      "  errors=errors)\n"
     ]
    }
   ],
   "source": [
    "X_train.drop('lat', axis=1, inplace=True)\n",
    "X_train.drop('long', axis=1, inplace=True)"
   ]
  },
  {
   "cell_type": "code",
   "execution_count": 288,
   "metadata": {},
   "outputs": [
    {
     "data": {
      "text/plain": [
       "0.8608724592006242"
      ]
     },
     "execution_count": 288,
     "metadata": {},
     "output_type": "execute_result"
    }
   ],
   "source": [
    "lasso_reduced = Lasso(alpha=.0001)\n",
    "lasso_reduced.fit(X_train, y_train)\n",
    "lasso_reduced.score(X_train, y_train)"
   ]
  },
  {
   "cell_type": "code",
   "execution_count": 289,
   "metadata": {},
   "outputs": [
    {
     "data": {
      "text/plain": [
       "13.75843278363732"
      ]
     },
     "execution_count": 289,
     "metadata": {},
     "output_type": "execute_result"
    }
   ],
   "source": [
    "lasso_reduced.intercept_"
   ]
  },
  {
   "cell_type": "code",
   "execution_count": 290,
   "metadata": {},
   "outputs": [],
   "source": [
    "coefs_reduced = list(zip(lasso_reduced.coef_, X_train.columns))"
   ]
  },
  {
   "cell_type": "code",
   "execution_count": 321,
   "metadata": {},
   "outputs": [
    {
     "name": "stdout",
     "output_type": "stream",
     "text": [
      "changing from  4  to  5 is 2.0%\n",
      "changing from  4  to  6 is 13.8%\n",
      "changing from  4  to  7 is 31.8%\n",
      "changing from  4  to  8 is 48.2%\n",
      "changing from  4  to  9 is 67.4%\n",
      "changing from  4  to  10 is 80.4%\n",
      "changing from  4  to  11 is 84.8%\n",
      "changing from  4  to  12 is 86.5%\n",
      "changing from  5  to  6 is 11.6%\n",
      "changing from  5  to  7 is 29.1%\n",
      "changing from  5  to  8 is 45.3%\n",
      "changing from  5  to  9 is 64.1%\n",
      "changing from  5  to  10 is 76.8%\n",
      "changing from  5  to  11 is 81.1%\n",
      "changing from  5  to  12 is 82.8%\n",
      "changing from  6  to  7 is 15.7%\n",
      "changing from  6  to  8 is 30.2%\n",
      "changing from  6  to  9 is 47.1%\n",
      "changing from  6  to  10 is 58.5%\n",
      "changing from  6  to  11 is 62.4%\n",
      "changing from  6  to  12 is 63.9%\n",
      "changing from  7  to  9 is 27.1%\n",
      "changing from  7  to  10 is 36.9%\n",
      "changing from  7  to  11 is 40.3%\n",
      "changing from  7  to  12 is 41.6%\n",
      "changing from  9  to  8 is -11.5%\n",
      "changing from  9  to  10 is 7.8%\n",
      "changing from  9  to  11 is 10.4%\n",
      "changing from  9  to  12 is 11.4%\n",
      "changing from  10  to  8 is -17.9%\n",
      "changing from  10  to  11 is 2.4%\n",
      "changing from  10  to  12 is 3.4%\n",
      "changing from  11  to  8 is -19.8%\n",
      "changing from  11  to  12 is 0.9%\n",
      "changing from  12  to  8 is -20.6%\n"
     ]
    }
   ],
   "source": [
    "for coef in coefs_reduced:\n",
    "     if 'GRADE' in coef[1]:\n",
    "        gnum1 = coef[1].split('_')[-1]\n",
    "#         print(gnum1)\n",
    "        \n",
    "        for coef2 in coefs_reduced:\n",
    "            if 'GRADE' in coef2[1] and coef[1] != coef2[1]:\n",
    "                gnum2 = coef2[1].split('_')[-1]\n",
    "#                 print(gnum2)\n",
    "#                 continue\n",
    "                if int(gnum2)>int(gnum1):\n",
    "                \n",
    "    #                 print(coef[1],'\\t',coef2[1])\n",
    "                    delta_y = -coef[0]+coef2[0]\n",
    "                    price_change = (np.exp(delta_y)-1.0)*100\n",
    "                    print('changing from ', gnum1, ' to ', gnum2,'is {0:0.1f}%'.format(price_change))\n",
    "                if gnum2=='7': \n",
    "                    delta_y = -coef[0]\n",
    "                    price_change = (np.exp(delta_y)-1.0)*100\n",
    "                    print('changing from ', gnum1, ' to ', int(gnum2)+1,'is {0:0.1f}%'.format(price_change))\n"
   ]
  },
  {
   "cell_type": "code",
   "execution_count": 328,
   "metadata": {
    "scrolled": true
   },
   "outputs": [
    {
     "name": "stdout",
     "output_type": "stream",
     "text": [
      "changing from  0.0  to  1.0 is 13.2%\n",
      "changing from  0.0  to  2.0 is 10.2%\n",
      "changing from  0.0  to  3.0 is 18.1%\n",
      "changing from  0.0  to  4.0 is 29.1%\n",
      "changing from  1.0  to  2.0 is -2.7%\n",
      "changing from  1.0  to  3.0 is 4.3%\n",
      "changing from  1.0  to  4.0 is 14.0%\n",
      "changing from  2.0  to  3.0 is 7.2%\n",
      "changing from  2.0  to  4.0 is 17.2%\n"
     ]
    }
   ],
   "source": [
    "for coef in coefs_reduced:\n",
    "     if 'VIEW' in coef[1]:\n",
    "        gnum1 = coef[1].split('_')[-1]\n",
    "#         print(gnum1)\n",
    "        \n",
    "        for coef2 in coefs_reduced:\n",
    "            if 'VIEW' in coef2[1] and coef[1] != coef2[1]:\n",
    "                gnum2 = coef2[1].split('_')[-1]\n",
    "#                 print(gnum2)\n",
    "#                 continue\n",
    "                if float(gnum2)>float(gnum1):\n",
    "                \n",
    "    #                 print(coef[1],'\\t',coef2[1])\n",
    "                    delta_y = -coef[0]+coef2[0]\n",
    "                    price_change = (np.exp(delta_y)-1.0)*100\n",
    "                    print('changing from ', gnum1, ' to ', gnum2,'is {0:0.1f}%'.format(price_change))\n",
    "                if gnum2=='3.0': \n",
    "                    delta_y = -coef[0]\n",
    "                    price_change = (np.exp(delta_y)-1.0)*100\n",
    "                    print('changing from ', gnum1, ' to ', float(gnum2)+1,'is {0:0.1f}%'.format(price_change))"
   ]
  },
  {
   "cell_type": "code",
   "execution_count": 342,
   "metadata": {},
   "outputs": [
    {
     "name": "stdout",
     "output_type": "stream",
     "text": [
      "changing from  1  to  2 is 3.2%\n",
      "changing from  1  to  3 is 13.8%\n",
      "changing from  1  to  4 is 17.5%\n",
      "changing from  1  to  5 is 24.1%\n",
      "changing from  2  to  3 is 10.3%\n",
      "changing from  2  to  4 is 13.9%\n",
      "changing from  2  to  5 is 20.2%\n",
      "changing from  3  to  4 is 3.3%\n",
      "changing from  3  to  5 is 9.0%\n",
      "changing from  4  to  5 is 5.6%\n"
     ]
    }
   ],
   "source": [
    "for coef in coefs_reduced:\n",
    "     if 'COND' in coef[1]:\n",
    "        gnum1 = coef[1].split('_')[-1]\n",
    "#         print(gnum1)\n",
    "        \n",
    "        for coef2 in coefs_reduced:\n",
    "            if 'COND' in coef2[1] and coef[1] != coef2[1]:\n",
    "                gnum2 = coef2[1].split('_')[-1]\n",
    "#                 print(gnum2)\n",
    "#                 continue\n",
    "                if float(gnum2)>float(gnum1):\n",
    "                \n",
    "    #                 print(coef[1],'\\t',coef2[1])\n",
    "                    delta_y = -coef[0]+coef2[0]\n",
    "                    price_change = (np.exp(delta_y)-1.0)*100\n",
    "                    print('changing from ', gnum1, ' to ', gnum2,'is {0:0.1f}%'.format(price_change))\n",
    "                if gnum2=='4': \n",
    "                    delta_y = -coef[0]\n",
    "                    price_change = (np.exp(delta_y)-1.0)*100\n",
    "                    print('changing from ', gnum1, ' to ', int(gnum2)+1,'is {0:0.1f}%'.format(price_change))\n",
    "        if int(gnum1)==4:\n",
    "            delta_y = -coef[0]\n",
    "            price_change = (np.exp(delta_y)-1.0)*100\n",
    "            print('changing from ', gnum1, ' to ', int(gnum1)+1,'is {0:0.1f}%'.format(price_change))    "
   ]
  },
  {
   "cell_type": "code",
   "execution_count": 343,
   "metadata": {},
   "outputs": [
    {
     "name": "stdout",
     "output_type": "stream",
     "text": [
      "Added price after renovating 7.1%\n"
     ]
    }
   ],
   "source": [
    "# addet price if it has been renovated\n",
    "for coef in coefs_reduced:\n",
    "    if 'is_renovated' in coef[1]:\n",
    "#         print(coef[0])\n",
    "        delta_y = coef[0]\n",
    "        price_change = (np.exp(delta_y)-1.0)*100\n",
    "        print('Added price after renovating {0:0.1f}%'.format(price_change))"
   ]
  },
  {
   "cell_type": "code",
   "execution_count": 344,
   "metadata": {},
   "outputs": [
    {
     "data": {
      "text/plain": [
       "[(-0.004979838276101658, 'bedrooms'),\n",
       " (0.043880349453492, 'bathrooms'),\n",
       " (1.2535625258635665, 'sqft_living'),\n",
       " (0.2822971985713925, 'sqft_lot'),\n",
       " (-0.008266215890662558, 'floors'),\n",
       " (0.9761267358690179, 'sqft_above'),\n",
       " (-0.16247842435174192, 'yr_built'),\n",
       " (0.39362398082321737, 'sqft_living15'),\n",
       " (-0.0, 'sqft_lot15'),\n",
       " (0.06871366631369304, 'is_renovated'),\n",
       " (0.06621571582597892, 'has_basement'),\n",
       " (-0.000341615447304974, 'blt_or_renov'),\n",
       " (-0.5193496468154133, 'ZIP_98001'),\n",
       " (-0.5395790947075885, 'ZIP_98002'),\n",
       " (-0.5161868273833977, 'ZIP_98003'),\n",
       " (0.5261530779413159, 'ZIP_98004'),\n",
       " (0.14629972442261427, 'ZIP_98005'),\n",
       " (0.075299118683847, 'ZIP_98006'),\n",
       " (0.07532010354146122, 'ZIP_98007'),\n",
       " (0.08517994853381278, 'ZIP_98008'),\n",
       " (-0.24121025063618326, 'ZIP_98010'),\n",
       " (-0.0976742150361152, 'ZIP_98011'),\n",
       " (-0.14411976896330894, 'ZIP_98014'),\n",
       " (-0.1763054523809477, 'ZIP_98019'),\n",
       " (-0.5721906908220807, 'ZIP_98023'),\n",
       " (-0.02605559259361944, 'ZIP_98027'),\n",
       " (-0.13159695238847072, 'ZIP_98028'),\n",
       " (0.03194389991905333, 'ZIP_98029'),\n",
       " (-0.46843234934650646, 'ZIP_98030'),\n",
       " (-0.4530750332603668, 'ZIP_98031'),\n",
       " (-0.5570522389377396, 'ZIP_98032'),\n",
       " (0.22143369579143074, 'ZIP_98033'),\n",
       " (-0.0053344400513484205, 'ZIP_98034'),\n",
       " (-0.34138524342825416, 'ZIP_98038'),\n",
       " (0.6406779457252316, 'ZIP_98039'),\n",
       " (0.29464504312475953, 'ZIP_98040'),\n",
       " (-0.46000929056763606, 'ZIP_98042'),\n",
       " (-0.17868424040414274, 'ZIP_98045'),\n",
       " (0.07584957466105828, 'ZIP_98052'),\n",
       " (0.0529741088472706, 'ZIP_98053'),\n",
       " (-0.4119785906061573, 'ZIP_98055'),\n",
       " (-0.22573821724261886, 'ZIP_98056'),\n",
       " (-0.3715383490269528, 'ZIP_98058'),\n",
       " (-0.19106899075401762, 'ZIP_98059'),\n",
       " (-0.135093798787498, 'ZIP_98070'),\n",
       " (-0.03924832505764069, 'ZIP_98072'),\n",
       " (-0.0, 'ZIP_98074'),\n",
       " (0.004591798767654613, 'ZIP_98075'),\n",
       " (-0.06653571504053717, 'ZIP_98077'),\n",
       " (-0.4917577619457628, 'ZIP_98092'),\n",
       " (0.2872871721144412, 'ZIP_98102'),\n",
       " (0.18944500928550595, 'ZIP_98103'),\n",
       " (0.2943798629515982, 'ZIP_98105'),\n",
       " (-0.22949608084240694, 'ZIP_98106'),\n",
       " (0.21339726871748804, 'ZIP_98107'),\n",
       " (-0.22107181434611156, 'ZIP_98108'),\n",
       " (0.3198227515794646, 'ZIP_98109'),\n",
       " (0.3970606657658996, 'ZIP_98112'),\n",
       " (0.20160078691372288, 'ZIP_98115'),\n",
       " (0.14096731130967016, 'ZIP_98116'),\n",
       " (-0.136462683307084, 'ZIP_98118'),\n",
       " (0.32597569153604894, 'ZIP_98119'),\n",
       " (0.1713533124897815, 'ZIP_98122'),\n",
       " (-0.0, 'ZIP_98125'),\n",
       " (-0.047622232244153406, 'ZIP_98126'),\n",
       " (-0.10485397122562684, 'ZIP_98133'),\n",
       " (0.06733335688979339, 'ZIP_98136'),\n",
       " (0.05109908236382697, 'ZIP_98144'),\n",
       " (-0.26747394009987874, 'ZIP_98146'),\n",
       " (-0.3584371590046822, 'ZIP_98148'),\n",
       " (-0.12957882512183957, 'ZIP_98155'),\n",
       " (-0.24872247028580324, 'ZIP_98166'),\n",
       " (-0.4572168383114752, 'ZIP_98168'),\n",
       " (0.003976874981817208, 'ZIP_98177'),\n",
       " (-0.3959287799261203, 'ZIP_98178'),\n",
       " (-0.44349673228199404, 'ZIP_98188'),\n",
       " (-0.4819701537857727, 'ZIP_98198'),\n",
       " (-0.0038195419402194952, 'WF_0.0'),\n",
       " (0.429348987661082, 'WF_1.0'),\n",
       " (-0.2552442583416363, 'VIEW_0.0'),\n",
       " (-0.13117890037902316, 'VIEW_1.0'),\n",
       " (-0.15837424783310716, 'VIEW_2.0'),\n",
       " (-0.08876015621741887, 'VIEW_3.0'),\n",
       " (-0.21580049053974348, 'COND_1'),\n",
       " (-0.18405266253622476, 'COND_2'),\n",
       " (-0.08646761442532475, 'COND_3'),\n",
       " (-0.05425791444833482, 'COND_4'),\n",
       " (-0.3934444605109644, 'GRADE_4'),\n",
       " (-0.37328639489945525, 'GRADE_5'),\n",
       " (-0.2637719749854172, 'GRADE_6'),\n",
       " (-0.11766289687030013, 'GRADE_7'),\n",
       " (0.12193039809173667, 'GRADE_9'),\n",
       " (0.19667553143692862, 'GRADE_10'),\n",
       " (0.22083946418594996, 'GRADE_11'),\n",
       " (0.23005952331581553, 'GRADE_12')]"
      ]
     },
     "execution_count": 344,
     "metadata": {},
     "output_type": "execute_result"
    }
   ],
   "source": [
    "coefs_reduced"
   ]
  },
  {
   "cell_type": "code",
   "execution_count": null,
   "metadata": {},
   "outputs": [],
   "source": []
  }
 ],
 "metadata": {
  "kernelspec": {
   "display_name": "Python 3",
   "language": "python",
   "name": "python3"
  },
  "language_info": {
   "codemirror_mode": {
    "name": "ipython",
    "version": 3
   },
   "file_extension": ".py",
   "mimetype": "text/x-python",
   "name": "python",
   "nbconvert_exporter": "python",
   "pygments_lexer": "ipython3",
   "version": "3.6.8"
  },
  "latex_envs": {
   "LaTeX_envs_menu_present": true,
   "autoclose": false,
   "autocomplete": true,
   "bibliofile": "biblio.bib",
   "cite_by": "apalike",
   "current_citInitial": 1,
   "eqLabelWithNumbers": true,
   "eqNumInitial": 1,
   "hotkeys": {
    "equation": "Ctrl-E",
    "itemize": "Ctrl-I"
   },
   "labels_anchors": false,
   "latex_user_defs": false,
   "report_style_numbering": false,
   "user_envs_cfg": false
  },
  "toc": {
   "base_numbering": 1,
   "nav_menu": {},
   "number_sections": true,
   "sideBar": true,
   "skip_h1_title": false,
   "title_cell": "Table of Contents",
   "title_sidebar": "Contents",
   "toc_cell": false,
   "toc_position": {},
   "toc_section_display": true,
   "toc_window_display": false
  }
 },
 "nbformat": 4,
 "nbformat_minor": 2
}
