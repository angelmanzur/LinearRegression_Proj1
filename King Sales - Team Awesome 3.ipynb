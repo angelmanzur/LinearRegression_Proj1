{
 "cells": [
  {
   "cell_type": "markdown",
   "metadata": {},
   "source": [
    "# Project 1: Regression Modeling on King County Housing Data"
   ]
  },
  {
   "cell_type": "markdown",
   "metadata": {},
   "source": [
    "by: Angel Manzur, Llewellyn Jones, Filis Coba"
   ]
  },
  {
   "cell_type": "code",
   "execution_count": 1,
   "metadata": {},
   "outputs": [],
   "source": [
    "import pandas as pd\n",
    "import numpy as np\n",
    "import matplotlib.pyplot as plt\n",
    "import seaborn as sns\n",
    "%matplotlib inline\n",
    "import statsmodels.api as sm\n",
    "from datetime import datetime, timedelta\n",
    "\n",
    "from sklearn.model_selection import train_test_split, cross_val_score\n",
    "from sklearn.metrics import mean_squared_error\n",
    "from sklearn.linear_model import LinearRegression \n",
    "from sklearn.preprocessing import StandardScaler\n",
    "import warnings\n",
    "warnings.filterwarnings('ignore')"
   ]
  },
  {
   "cell_type": "code",
   "execution_count": 2,
   "metadata": {},
   "outputs": [],
   "source": [
    "def r_adjusted(r_squared, X, y):\n",
    "    return 1 - (1-r_squared)*(len(y)-1)/(len(y)-X.shape[1]-1)"
   ]
  },
  {
   "cell_type": "markdown",
   "metadata": {},
   "source": [
    "# Initial Inspection"
   ]
  },
  {
   "cell_type": "code",
   "execution_count": 3,
   "metadata": {},
   "outputs": [],
   "source": [
    "# Read in the csv file which contains data\n",
    "df = pd.read_csv('kc_house_data.csv')"
   ]
  },
  {
   "cell_type": "code",
   "execution_count": 4,
   "metadata": {},
   "outputs": [
    {
     "data": {
      "text/html": [
       "<div>\n",
       "<style scoped>\n",
       "    .dataframe tbody tr th:only-of-type {\n",
       "        vertical-align: middle;\n",
       "    }\n",
       "\n",
       "    .dataframe tbody tr th {\n",
       "        vertical-align: top;\n",
       "    }\n",
       "\n",
       "    .dataframe thead th {\n",
       "        text-align: right;\n",
       "    }\n",
       "</style>\n",
       "<table border=\"1\" class=\"dataframe\">\n",
       "  <thead>\n",
       "    <tr style=\"text-align: right;\">\n",
       "      <th></th>\n",
       "      <th>id</th>\n",
       "      <th>date</th>\n",
       "      <th>price</th>\n",
       "      <th>bedrooms</th>\n",
       "      <th>bathrooms</th>\n",
       "      <th>sqft_living</th>\n",
       "      <th>sqft_lot</th>\n",
       "      <th>floors</th>\n",
       "      <th>waterfront</th>\n",
       "      <th>view</th>\n",
       "      <th>...</th>\n",
       "      <th>grade</th>\n",
       "      <th>sqft_above</th>\n",
       "      <th>sqft_basement</th>\n",
       "      <th>yr_built</th>\n",
       "      <th>yr_renovated</th>\n",
       "      <th>zipcode</th>\n",
       "      <th>lat</th>\n",
       "      <th>long</th>\n",
       "      <th>sqft_living15</th>\n",
       "      <th>sqft_lot15</th>\n",
       "    </tr>\n",
       "  </thead>\n",
       "  <tbody>\n",
       "    <tr>\n",
       "      <th>0</th>\n",
       "      <td>7129300520</td>\n",
       "      <td>10/13/2014</td>\n",
       "      <td>221900.0</td>\n",
       "      <td>3</td>\n",
       "      <td>1.00</td>\n",
       "      <td>1180</td>\n",
       "      <td>5650</td>\n",
       "      <td>1.0</td>\n",
       "      <td>NaN</td>\n",
       "      <td>0.0</td>\n",
       "      <td>...</td>\n",
       "      <td>7</td>\n",
       "      <td>1180</td>\n",
       "      <td>0.0</td>\n",
       "      <td>1955</td>\n",
       "      <td>0.0</td>\n",
       "      <td>98178</td>\n",
       "      <td>47.5112</td>\n",
       "      <td>-122.257</td>\n",
       "      <td>1340</td>\n",
       "      <td>5650</td>\n",
       "    </tr>\n",
       "    <tr>\n",
       "      <th>1</th>\n",
       "      <td>6414100192</td>\n",
       "      <td>12/9/2014</td>\n",
       "      <td>538000.0</td>\n",
       "      <td>3</td>\n",
       "      <td>2.25</td>\n",
       "      <td>2570</td>\n",
       "      <td>7242</td>\n",
       "      <td>2.0</td>\n",
       "      <td>0.0</td>\n",
       "      <td>0.0</td>\n",
       "      <td>...</td>\n",
       "      <td>7</td>\n",
       "      <td>2170</td>\n",
       "      <td>400.0</td>\n",
       "      <td>1951</td>\n",
       "      <td>1991.0</td>\n",
       "      <td>98125</td>\n",
       "      <td>47.7210</td>\n",
       "      <td>-122.319</td>\n",
       "      <td>1690</td>\n",
       "      <td>7639</td>\n",
       "    </tr>\n",
       "    <tr>\n",
       "      <th>2</th>\n",
       "      <td>5631500400</td>\n",
       "      <td>2/25/2015</td>\n",
       "      <td>180000.0</td>\n",
       "      <td>2</td>\n",
       "      <td>1.00</td>\n",
       "      <td>770</td>\n",
       "      <td>10000</td>\n",
       "      <td>1.0</td>\n",
       "      <td>0.0</td>\n",
       "      <td>0.0</td>\n",
       "      <td>...</td>\n",
       "      <td>6</td>\n",
       "      <td>770</td>\n",
       "      <td>0.0</td>\n",
       "      <td>1933</td>\n",
       "      <td>NaN</td>\n",
       "      <td>98028</td>\n",
       "      <td>47.7379</td>\n",
       "      <td>-122.233</td>\n",
       "      <td>2720</td>\n",
       "      <td>8062</td>\n",
       "    </tr>\n",
       "    <tr>\n",
       "      <th>3</th>\n",
       "      <td>2487200875</td>\n",
       "      <td>12/9/2014</td>\n",
       "      <td>604000.0</td>\n",
       "      <td>4</td>\n",
       "      <td>3.00</td>\n",
       "      <td>1960</td>\n",
       "      <td>5000</td>\n",
       "      <td>1.0</td>\n",
       "      <td>0.0</td>\n",
       "      <td>0.0</td>\n",
       "      <td>...</td>\n",
       "      <td>7</td>\n",
       "      <td>1050</td>\n",
       "      <td>910.0</td>\n",
       "      <td>1965</td>\n",
       "      <td>0.0</td>\n",
       "      <td>98136</td>\n",
       "      <td>47.5208</td>\n",
       "      <td>-122.393</td>\n",
       "      <td>1360</td>\n",
       "      <td>5000</td>\n",
       "    </tr>\n",
       "    <tr>\n",
       "      <th>4</th>\n",
       "      <td>1954400510</td>\n",
       "      <td>2/18/2015</td>\n",
       "      <td>510000.0</td>\n",
       "      <td>3</td>\n",
       "      <td>2.00</td>\n",
       "      <td>1680</td>\n",
       "      <td>8080</td>\n",
       "      <td>1.0</td>\n",
       "      <td>0.0</td>\n",
       "      <td>0.0</td>\n",
       "      <td>...</td>\n",
       "      <td>8</td>\n",
       "      <td>1680</td>\n",
       "      <td>0.0</td>\n",
       "      <td>1987</td>\n",
       "      <td>0.0</td>\n",
       "      <td>98074</td>\n",
       "      <td>47.6168</td>\n",
       "      <td>-122.045</td>\n",
       "      <td>1800</td>\n",
       "      <td>7503</td>\n",
       "    </tr>\n",
       "  </tbody>\n",
       "</table>\n",
       "<p>5 rows × 21 columns</p>\n",
       "</div>"
      ],
      "text/plain": [
       "           id        date     price  bedrooms  bathrooms  sqft_living  \\\n",
       "0  7129300520  10/13/2014  221900.0         3       1.00         1180   \n",
       "1  6414100192   12/9/2014  538000.0         3       2.25         2570   \n",
       "2  5631500400   2/25/2015  180000.0         2       1.00          770   \n",
       "3  2487200875   12/9/2014  604000.0         4       3.00         1960   \n",
       "4  1954400510   2/18/2015  510000.0         3       2.00         1680   \n",
       "\n",
       "   sqft_lot  floors  waterfront  view     ...      grade  sqft_above  \\\n",
       "0      5650     1.0         NaN   0.0     ...          7        1180   \n",
       "1      7242     2.0         0.0   0.0     ...          7        2170   \n",
       "2     10000     1.0         0.0   0.0     ...          6         770   \n",
       "3      5000     1.0         0.0   0.0     ...          7        1050   \n",
       "4      8080     1.0         0.0   0.0     ...          8        1680   \n",
       "\n",
       "   sqft_basement yr_built  yr_renovated  zipcode      lat     long  \\\n",
       "0            0.0     1955           0.0    98178  47.5112 -122.257   \n",
       "1          400.0     1951        1991.0    98125  47.7210 -122.319   \n",
       "2            0.0     1933           NaN    98028  47.7379 -122.233   \n",
       "3          910.0     1965           0.0    98136  47.5208 -122.393   \n",
       "4            0.0     1987           0.0    98074  47.6168 -122.045   \n",
       "\n",
       "   sqft_living15  sqft_lot15  \n",
       "0           1340        5650  \n",
       "1           1690        7639  \n",
       "2           2720        8062  \n",
       "3           1360        5000  \n",
       "4           1800        7503  \n",
       "\n",
       "[5 rows x 21 columns]"
      ]
     },
     "execution_count": 4,
     "metadata": {},
     "output_type": "execute_result"
    }
   ],
   "source": [
    "# Let's take a look at the first few columns\n",
    "df.head()"
   ]
  },
  {
   "cell_type": "code",
   "execution_count": 5,
   "metadata": {},
   "outputs": [
    {
     "name": "stdout",
     "output_type": "stream",
     "text": [
      "id                 int64\n",
      "date              object\n",
      "price            float64\n",
      "bedrooms           int64\n",
      "bathrooms        float64\n",
      "sqft_living        int64\n",
      "sqft_lot           int64\n",
      "floors           float64\n",
      "waterfront       float64\n",
      "view             float64\n",
      "condition          int64\n",
      "grade              int64\n",
      "sqft_above         int64\n",
      "sqft_basement     object\n",
      "yr_built           int64\n",
      "yr_renovated     float64\n",
      "zipcode            int64\n",
      "lat              float64\n",
      "long             float64\n",
      "sqft_living15      int64\n",
      "sqft_lot15         int64\n",
      "dtype: object\n",
      "Dataframe shape (21597, 21)\n"
     ]
    }
   ],
   "source": [
    "# Let's look at the data types. Note that date and sqft_basement are string object.\n",
    "print(df.dtypes)\n",
    "print('Dataframe shape',df.shape)"
   ]
  },
  {
   "cell_type": "code",
   "execution_count": 6,
   "metadata": {},
   "outputs": [
    {
     "name": "stdout",
     "output_type": "stream",
     "text": [
      "Found 2376 \t NAs in column \twaterfront (11.00% of the data)\n",
      "Found 63 \t NAs in column \tview (0.29% of the data)\n",
      "Found 3842 \t NAs in column \tyr_renovated (17.79% of the data)\n"
     ]
    }
   ],
   "source": [
    "'''\n",
    "Get the number of NAs for a DataFrame, and the percentage of NAs in the data\n",
    "'''\n",
    "\n",
    "def print_NAs(dataframe):\n",
    "    for column in dataframe:\n",
    "        num_nas = dataframe[column].isna().sum()\n",
    "        if num_nas > 0:\n",
    "            print('Found {0} \\t NAs in column \\t{1} ({2:0.2f}% of the data)'.format(num_nas, column, 100.*num_nas/len(df)))\n",
    "\n",
    "print_NAs(df)"
   ]
  },
  {
   "cell_type": "markdown",
   "metadata": {},
   "source": [
    "# Plot the waterfront locations on a graph\n",
    "Not shown here because of library issues but include in powerpoint"
   ]
  },
  {
   "cell_type": "code",
   "execution_count": 7,
   "metadata": {},
   "outputs": [
    {
     "name": "stdout",
     "output_type": "stream",
     "text": [
      "0.0\n"
     ]
    }
   ],
   "source": [
    "# \"view\" column has empty values, will fill with mode\n",
    "view_mode = df['view'].mode()\n",
    "print(view_mode[0])\n",
    "df['view'].fillna(value=view_mode[0],inplace=True)"
   ]
  },
  {
   "cell_type": "code",
   "execution_count": 8,
   "metadata": {},
   "outputs": [],
   "source": [
    "# year renovated is ~18% of the data, \n",
    "#Convert year renovated to renovated or not variable\n",
    "df['is_renovated'] = df['yr_renovated'].apply(lambda x: 1 if x>0 else 0)"
   ]
  },
  {
   "cell_type": "code",
   "execution_count": 9,
   "metadata": {},
   "outputs": [
    {
     "data": {
      "text/plain": [
       "0       0.0\n",
       "1     400.0\n",
       "2       0.0\n",
       "3     910.0\n",
       "4       0.0\n",
       "5    1530.0\n",
       "6         ?\n",
       "Name: sqft_basement, dtype: object"
      ]
     },
     "execution_count": 9,
     "metadata": {},
     "output_type": "execute_result"
    }
   ],
   "source": [
    "#sqft basement is a string and some values are missing '?'\n",
    "df['sqft_basement'].head(7) "
   ]
  },
  {
   "cell_type": "code",
   "execution_count": 10,
   "metadata": {},
   "outputs": [],
   "source": [
    "# the basement sqft can be calculated as the difference \n",
    "# between the living area and the above area\n",
    "df['sqft_basement'] = df['sqft_living'] - df['sqft_above']\n",
    "#"
   ]
  },
  {
   "cell_type": "code",
   "execution_count": 11,
   "metadata": {},
   "outputs": [],
   "source": [
    "# but since sqft_basement is dependent on two other variables, lets remove it and\n",
    "# let's convert it into a has basement or not\n",
    "df['has_basement'] = df['sqft_basement'].apply(lambda x: 1 if x>0 else 0)\n"
   ]
  },
  {
   "cell_type": "markdown",
   "metadata": {},
   "source": [
    "# Looking for outliers"
   ]
  },
  {
   "cell_type": "code",
   "execution_count": 12,
   "metadata": {},
   "outputs": [
    {
     "data": {
      "text/plain": [
       "array([ 3,  2,  4,  5,  1,  6,  7,  8,  9, 11, 10, 33])"
      ]
     },
     "execution_count": 12,
     "metadata": {},
     "output_type": "execute_result"
    }
   ],
   "source": [
    "df.bedrooms.unique()"
   ]
  },
  {
   "cell_type": "code",
   "execution_count": 13,
   "metadata": {},
   "outputs": [
    {
     "data": {
      "text/html": [
       "<div>\n",
       "<style scoped>\n",
       "    .dataframe tbody tr th:only-of-type {\n",
       "        vertical-align: middle;\n",
       "    }\n",
       "\n",
       "    .dataframe tbody tr th {\n",
       "        vertical-align: top;\n",
       "    }\n",
       "\n",
       "    .dataframe thead th {\n",
       "        text-align: right;\n",
       "    }\n",
       "</style>\n",
       "<table border=\"1\" class=\"dataframe\">\n",
       "  <thead>\n",
       "    <tr style=\"text-align: right;\">\n",
       "      <th></th>\n",
       "      <th>id</th>\n",
       "      <th>date</th>\n",
       "      <th>price</th>\n",
       "      <th>bedrooms</th>\n",
       "      <th>bathrooms</th>\n",
       "      <th>sqft_living</th>\n",
       "      <th>sqft_lot</th>\n",
       "      <th>floors</th>\n",
       "      <th>waterfront</th>\n",
       "      <th>view</th>\n",
       "      <th>...</th>\n",
       "      <th>sqft_basement</th>\n",
       "      <th>yr_built</th>\n",
       "      <th>yr_renovated</th>\n",
       "      <th>zipcode</th>\n",
       "      <th>lat</th>\n",
       "      <th>long</th>\n",
       "      <th>sqft_living15</th>\n",
       "      <th>sqft_lot15</th>\n",
       "      <th>is_renovated</th>\n",
       "      <th>has_basement</th>\n",
       "    </tr>\n",
       "  </thead>\n",
       "  <tbody>\n",
       "    <tr>\n",
       "      <th>15856</th>\n",
       "      <td>2402100895</td>\n",
       "      <td>6/25/2014</td>\n",
       "      <td>640000.0</td>\n",
       "      <td>33</td>\n",
       "      <td>1.75</td>\n",
       "      <td>1620</td>\n",
       "      <td>6000</td>\n",
       "      <td>1.0</td>\n",
       "      <td>0.0</td>\n",
       "      <td>0.0</td>\n",
       "      <td>...</td>\n",
       "      <td>580</td>\n",
       "      <td>1947</td>\n",
       "      <td>0.0</td>\n",
       "      <td>98103</td>\n",
       "      <td>47.6878</td>\n",
       "      <td>-122.331</td>\n",
       "      <td>1330</td>\n",
       "      <td>4700</td>\n",
       "      <td>0</td>\n",
       "      <td>1</td>\n",
       "    </tr>\n",
       "  </tbody>\n",
       "</table>\n",
       "<p>1 rows × 23 columns</p>\n",
       "</div>"
      ],
      "text/plain": [
       "               id       date     price  bedrooms  bathrooms  sqft_living  \\\n",
       "15856  2402100895  6/25/2014  640000.0        33       1.75         1620   \n",
       "\n",
       "       sqft_lot  floors  waterfront  view      ...       sqft_basement  \\\n",
       "15856      6000     1.0         0.0   0.0      ...                 580   \n",
       "\n",
       "       yr_built  yr_renovated  zipcode      lat     long  sqft_living15  \\\n",
       "15856      1947           0.0    98103  47.6878 -122.331           1330   \n",
       "\n",
       "       sqft_lot15  is_renovated  has_basement  \n",
       "15856        4700             0             1  \n",
       "\n",
       "[1 rows x 23 columns]"
      ]
     },
     "execution_count": 13,
     "metadata": {},
     "output_type": "execute_result"
    }
   ],
   "source": [
    "df[df.bedrooms>30]"
   ]
  },
  {
   "cell_type": "code",
   "execution_count": 14,
   "metadata": {},
   "outputs": [],
   "source": [
    "# The 33 bedroom house appears to be a typo as the property has only 1.75 bathrooms, removing..\n",
    "df = df[df.bedrooms<30]"
   ]
  },
  {
   "cell_type": "markdown",
   "metadata": {},
   "source": [
    "## Modelling whole data set"
   ]
  },
  {
   "cell_type": "code",
   "execution_count": 15,
   "metadata": {},
   "outputs": [],
   "source": [
    "columns_to_drop = ['id', 'date']"
   ]
  },
  {
   "cell_type": "code",
   "execution_count": 16,
   "metadata": {},
   "outputs": [],
   "source": [
    "df.drop(columns_to_drop, axis=1, inplace=True)"
   ]
  },
  {
   "cell_type": "code",
   "execution_count": 17,
   "metadata": {},
   "outputs": [
    {
     "data": {
      "text/html": [
       "<div>\n",
       "<style scoped>\n",
       "    .dataframe tbody tr th:only-of-type {\n",
       "        vertical-align: middle;\n",
       "    }\n",
       "\n",
       "    .dataframe tbody tr th {\n",
       "        vertical-align: top;\n",
       "    }\n",
       "\n",
       "    .dataframe thead th {\n",
       "        text-align: right;\n",
       "    }\n",
       "</style>\n",
       "<table border=\"1\" class=\"dataframe\">\n",
       "  <thead>\n",
       "    <tr style=\"text-align: right;\">\n",
       "      <th></th>\n",
       "      <th>price</th>\n",
       "      <th>bedrooms</th>\n",
       "      <th>bathrooms</th>\n",
       "      <th>sqft_living</th>\n",
       "      <th>sqft_lot</th>\n",
       "      <th>floors</th>\n",
       "      <th>waterfront</th>\n",
       "      <th>view</th>\n",
       "      <th>condition</th>\n",
       "      <th>grade</th>\n",
       "      <th>...</th>\n",
       "      <th>sqft_basement</th>\n",
       "      <th>yr_built</th>\n",
       "      <th>yr_renovated</th>\n",
       "      <th>zipcode</th>\n",
       "      <th>lat</th>\n",
       "      <th>long</th>\n",
       "      <th>sqft_living15</th>\n",
       "      <th>sqft_lot15</th>\n",
       "      <th>is_renovated</th>\n",
       "      <th>has_basement</th>\n",
       "    </tr>\n",
       "  </thead>\n",
       "  <tbody>\n",
       "    <tr>\n",
       "      <th>0</th>\n",
       "      <td>221900.0</td>\n",
       "      <td>3</td>\n",
       "      <td>1.00</td>\n",
       "      <td>1180</td>\n",
       "      <td>5650</td>\n",
       "      <td>1.0</td>\n",
       "      <td>NaN</td>\n",
       "      <td>0.0</td>\n",
       "      <td>3</td>\n",
       "      <td>7</td>\n",
       "      <td>...</td>\n",
       "      <td>0</td>\n",
       "      <td>1955</td>\n",
       "      <td>0.0</td>\n",
       "      <td>98178</td>\n",
       "      <td>47.5112</td>\n",
       "      <td>-122.257</td>\n",
       "      <td>1340</td>\n",
       "      <td>5650</td>\n",
       "      <td>0</td>\n",
       "      <td>0</td>\n",
       "    </tr>\n",
       "    <tr>\n",
       "      <th>1</th>\n",
       "      <td>538000.0</td>\n",
       "      <td>3</td>\n",
       "      <td>2.25</td>\n",
       "      <td>2570</td>\n",
       "      <td>7242</td>\n",
       "      <td>2.0</td>\n",
       "      <td>0.0</td>\n",
       "      <td>0.0</td>\n",
       "      <td>3</td>\n",
       "      <td>7</td>\n",
       "      <td>...</td>\n",
       "      <td>400</td>\n",
       "      <td>1951</td>\n",
       "      <td>1991.0</td>\n",
       "      <td>98125</td>\n",
       "      <td>47.7210</td>\n",
       "      <td>-122.319</td>\n",
       "      <td>1690</td>\n",
       "      <td>7639</td>\n",
       "      <td>1</td>\n",
       "      <td>1</td>\n",
       "    </tr>\n",
       "    <tr>\n",
       "      <th>2</th>\n",
       "      <td>180000.0</td>\n",
       "      <td>2</td>\n",
       "      <td>1.00</td>\n",
       "      <td>770</td>\n",
       "      <td>10000</td>\n",
       "      <td>1.0</td>\n",
       "      <td>0.0</td>\n",
       "      <td>0.0</td>\n",
       "      <td>3</td>\n",
       "      <td>6</td>\n",
       "      <td>...</td>\n",
       "      <td>0</td>\n",
       "      <td>1933</td>\n",
       "      <td>NaN</td>\n",
       "      <td>98028</td>\n",
       "      <td>47.7379</td>\n",
       "      <td>-122.233</td>\n",
       "      <td>2720</td>\n",
       "      <td>8062</td>\n",
       "      <td>0</td>\n",
       "      <td>0</td>\n",
       "    </tr>\n",
       "    <tr>\n",
       "      <th>3</th>\n",
       "      <td>604000.0</td>\n",
       "      <td>4</td>\n",
       "      <td>3.00</td>\n",
       "      <td>1960</td>\n",
       "      <td>5000</td>\n",
       "      <td>1.0</td>\n",
       "      <td>0.0</td>\n",
       "      <td>0.0</td>\n",
       "      <td>5</td>\n",
       "      <td>7</td>\n",
       "      <td>...</td>\n",
       "      <td>910</td>\n",
       "      <td>1965</td>\n",
       "      <td>0.0</td>\n",
       "      <td>98136</td>\n",
       "      <td>47.5208</td>\n",
       "      <td>-122.393</td>\n",
       "      <td>1360</td>\n",
       "      <td>5000</td>\n",
       "      <td>0</td>\n",
       "      <td>1</td>\n",
       "    </tr>\n",
       "    <tr>\n",
       "      <th>4</th>\n",
       "      <td>510000.0</td>\n",
       "      <td>3</td>\n",
       "      <td>2.00</td>\n",
       "      <td>1680</td>\n",
       "      <td>8080</td>\n",
       "      <td>1.0</td>\n",
       "      <td>0.0</td>\n",
       "      <td>0.0</td>\n",
       "      <td>3</td>\n",
       "      <td>8</td>\n",
       "      <td>...</td>\n",
       "      <td>0</td>\n",
       "      <td>1987</td>\n",
       "      <td>0.0</td>\n",
       "      <td>98074</td>\n",
       "      <td>47.6168</td>\n",
       "      <td>-122.045</td>\n",
       "      <td>1800</td>\n",
       "      <td>7503</td>\n",
       "      <td>0</td>\n",
       "      <td>0</td>\n",
       "    </tr>\n",
       "  </tbody>\n",
       "</table>\n",
       "<p>5 rows × 21 columns</p>\n",
       "</div>"
      ],
      "text/plain": [
       "      price  bedrooms  bathrooms  sqft_living  sqft_lot  floors  waterfront  \\\n",
       "0  221900.0         3       1.00         1180      5650     1.0         NaN   \n",
       "1  538000.0         3       2.25         2570      7242     2.0         0.0   \n",
       "2  180000.0         2       1.00          770     10000     1.0         0.0   \n",
       "3  604000.0         4       3.00         1960      5000     1.0         0.0   \n",
       "4  510000.0         3       2.00         1680      8080     1.0         0.0   \n",
       "\n",
       "   view  condition  grade      ...       sqft_basement  yr_built  \\\n",
       "0   0.0          3      7      ...                   0      1955   \n",
       "1   0.0          3      7      ...                 400      1951   \n",
       "2   0.0          3      6      ...                   0      1933   \n",
       "3   0.0          5      7      ...                 910      1965   \n",
       "4   0.0          3      8      ...                   0      1987   \n",
       "\n",
       "   yr_renovated  zipcode      lat     long  sqft_living15  sqft_lot15  \\\n",
       "0           0.0    98178  47.5112 -122.257           1340        5650   \n",
       "1        1991.0    98125  47.7210 -122.319           1690        7639   \n",
       "2           NaN    98028  47.7379 -122.233           2720        8062   \n",
       "3           0.0    98136  47.5208 -122.393           1360        5000   \n",
       "4           0.0    98074  47.6168 -122.045           1800        7503   \n",
       "\n",
       "   is_renovated  has_basement  \n",
       "0             0             0  \n",
       "1             1             1  \n",
       "2             0             0  \n",
       "3             0             1  \n",
       "4             0             0  \n",
       "\n",
       "[5 rows x 21 columns]"
      ]
     },
     "execution_count": 17,
     "metadata": {},
     "output_type": "execute_result"
    }
   ],
   "source": [
    "df.head()"
   ]
  },
  {
   "cell_type": "markdown",
   "metadata": {},
   "source": [
    "# Standardize the data"
   ]
  },
  {
   "cell_type": "code",
   "execution_count": 18,
   "metadata": {},
   "outputs": [],
   "source": [
    "b = df['sqft_living']\n",
    "sqft_living_min = min(b)\n",
    "sqft_living_range = max(b)-min(b)\n",
    "df['sqft_living'] = (b-sqft_living_min)/sqft_living_range\n",
    "\n",
    "b = df['sqft_above']\n",
    "sqft_ab_min = min(b)\n",
    "sqft_ab_range = max(b)-min(b)\n",
    "df['sqft_above'] = (b-sqft_ab_min)/(sqft_ab_range)\n",
    "\n",
    "b = df['sqft_lot']\n",
    "sqft_lot_min = min(b)\n",
    "sqft_lot_range = max(b)-min(b)\n",
    "df['sqft_lot'] = (b-sqft_lot_min)/(sqft_lot_range)\n",
    "\n",
    "b = df['sqft_living15']\n",
    "sqft_living15_min = min(b)\n",
    "sqft_living15_range = max(b)-min(b)\n",
    "df['sqft_living15'] = (b-sqft_living15_min)/sqft_living15_range\n",
    "\n",
    "b = df['sqft_lot15']\n",
    "sqft_lot15_min = min(b)\n",
    "sqft_lot15_range = max(b)-min(b)\n",
    "df['sqft_lot15'] = (b-sqft_lot15_min)/sqft_lot15_range\n",
    "\n",
    "b = df['sqft_basement']\n",
    "sqft_basement_min = min(b)\n",
    "sqft_basement_range = max(b)-min(b)\n",
    "df['sqft_basement'] = (b-sqft_basement_min)/sqft_basement_range\n",
    "\n",
    "b = df['yr_built']                  \n",
    "yb_min = min(b)\n",
    "yb_range = max(b)-min(b)\n",
    "df['yr_built'] = (b-yb_min)/(yb_range)\n",
    "\n",
    "b = df['yr_renovated']                  \n",
    "yb_min = min(b)\n",
    "yb_range = max(b)-min(b)\n",
    "df['yr_renovated'] = (b-yb_min)/(yb_range)\n",
    "\n",
    "# standardization\n",
    "b = df['price']\n",
    "y = np.log(b)\n"
   ]
  },
  {
   "cell_type": "code",
   "execution_count": 19,
   "metadata": {},
   "outputs": [],
   "source": [
    "zip_dummy = pd.get_dummies(df[\"zipcode\"], prefix=\"ZIP\")\n",
    "df = df.drop(columns=[\"zipcode\"],)\n",
    "df = pd.concat([df, zip_dummy], axis=1)\n",
    "df.drop(df.columns[-1], axis=1, inplace=True)"
   ]
  },
  {
   "cell_type": "code",
   "execution_count": 20,
   "metadata": {},
   "outputs": [],
   "source": [
    "wf_dummy = pd.get_dummies(df[\"waterfront\"], prefix=\"WF\")\n",
    "df = df.drop(columns=[\"waterfront\"],)\n",
    "df = pd.concat([df, wf_dummy], axis=1)"
   ]
  },
  {
   "cell_type": "code",
   "execution_count": 21,
   "metadata": {},
   "outputs": [],
   "source": [
    "view_dummy = pd.get_dummies(df[\"view\"], prefix=\"VIEW\")\n",
    "df = df.drop(columns=[\"view\"],)\n",
    "df = pd.concat([df, view_dummy], axis=1)\n",
    "df.drop(df.columns[-1], axis=1, inplace=True)"
   ]
  },
  {
   "cell_type": "code",
   "execution_count": 22,
   "metadata": {
    "scrolled": true
   },
   "outputs": [],
   "source": [
    "condition_dummy = pd.get_dummies(df[\"condition\"], prefix=\"COND\")\n",
    "df = df.drop(columns=[\"condition\"],)\n",
    "df = pd.concat([df, condition_dummy], axis=1)\n",
    "df.drop(df.columns[-1], axis=1, inplace=True)"
   ]
  },
  {
   "cell_type": "code",
   "execution_count": 23,
   "metadata": {},
   "outputs": [],
   "source": [
    "grade_dummy = pd.get_dummies(df[\"grade\"], prefix=\"GRADE\")\n",
    "df = df.drop(columns=[\"grade\"],)\n",
    "df = pd.concat([df, grade_dummy], axis=1)\n",
    "df.drop(df.columns[-1], axis=1, inplace=True)"
   ]
  },
  {
   "cell_type": "code",
   "execution_count": 24,
   "metadata": {},
   "outputs": [
    {
     "name": "stdout",
     "output_type": "stream",
     "text": [
      "Found 3842 \t NAs in column \tyr_renovated (17.79% of the data)\n"
     ]
    }
   ],
   "source": [
    "print_NAs(df)"
   ]
  },
  {
   "cell_type": "code",
   "execution_count": 25,
   "metadata": {},
   "outputs": [],
   "source": [
    "df.drop(\"yr_renovated\", axis=1, inplace=True)"
   ]
  },
  {
   "cell_type": "code",
   "execution_count": 27,
   "metadata": {},
   "outputs": [],
   "source": [
    "#Lets select our predictor data frame\n",
    "X = df.drop(columns=['price'])"
   ]
  },
  {
   "cell_type": "code",
   "execution_count": 28,
   "metadata": {},
   "outputs": [
    {
     "name": "stdout",
     "output_type": "stream",
     "text": [
      "Train length  17276 17276\n",
      "Test length  4320 4320\n"
     ]
    }
   ],
   "source": [
    "# Let's split the data into train and test data sets\n",
    "X_train, X_test, y_train, y_test = train_test_split(X, y, test_size=0.20)\n",
    "print('Train length ',len(X_train), len(y_train))\n",
    "print('Test length ',len(X_test), len(y_test))"
   ]
  },
  {
   "cell_type": "code",
   "execution_count": 29,
   "metadata": {
    "scrolled": true
   },
   "outputs": [
    {
     "data": {
      "text/plain": [
       "Ridge(alpha=0.5, copy_X=True, fit_intercept=True, max_iter=None,\n",
       "   normalize=False, random_state=None, solver='auto', tol=0.001)"
      ]
     },
     "execution_count": 29,
     "metadata": {},
     "output_type": "execute_result"
    }
   ],
   "source": [
    "from sklearn.linear_model import Ridge\n",
    "linreg = Ridge(alpha=.5)\n",
    "linreg.fit(X_train, y_train)"
   ]
  },
  {
   "cell_type": "code",
   "execution_count": 30,
   "metadata": {},
   "outputs": [
    {
     "data": {
      "text/plain": [
       "0.8786043226918095"
      ]
     },
     "execution_count": 30,
     "metadata": {},
     "output_type": "execute_result"
    }
   ],
   "source": [
    "linreg.score(X_train, y_train)"
   ]
  },
  {
   "cell_type": "code",
   "execution_count": 31,
   "metadata": {},
   "outputs": [],
   "source": [
    "r_squared = linreg.score(X_train, y_train)\n",
    "\n",
    "adj = r_adjusted(r_squared, X, y)"
   ]
  },
  {
   "cell_type": "code",
   "execution_count": 32,
   "metadata": {
    "scrolled": true
   },
   "outputs": [
    {
     "data": {
      "text/plain": [
       "0.878022536224159"
      ]
     },
     "execution_count": 32,
     "metadata": {},
     "output_type": "execute_result"
    }
   ],
   "source": [
    "adj"
   ]
  },
  {
   "cell_type": "code",
   "execution_count": 33,
   "metadata": {},
   "outputs": [],
   "source": [
    "from sklearn.metrics import r2_score\n",
    "y_predict = linreg.predict(X_test)"
   ]
  },
  {
   "cell_type": "code",
   "execution_count": 35,
   "metadata": {},
   "outputs": [
    {
     "data": {
      "text/plain": [
       "Text(0, 0.5, 'Predicted Price')"
      ]
     },
     "execution_count": 35,
     "metadata": {},
     "output_type": "execute_result"
    },
    {
     "data": {
      "image/png": "[encoded data removed]",
      "text/plain": [
       "<Figure size 432x288 with 1 Axes>"
      ]
     },
     "metadata": {
      "needs_background": "light"
     },
     "output_type": "display_data"
    }
   ],
   "source": [
    "sns.regplot(np.exp(y_test), np.exp(y_predict))\n",
    "plt.xlabel('Known Price', fontsize=16)\n",
    "plt.ylabel('Predicted Price', fontsize=16)"
   ]
  },
  {
   "cell_type": "code",
   "execution_count": 37,
   "metadata": {},
   "outputs": [
    {
     "name": "stdout",
     "output_type": "stream",
     "text": [
      "0.8614207727254627\n",
      "0.86553742250074\n"
     ]
    }
   ],
   "source": [
    "y_predict_train = linreg.predict(X_train)\n",
    "print(r2_score(y_predict_train, y_train))\n",
    "print(r2_score(y_predict, y_test))"
   ]
  },
  {
   "cell_type": "code",
   "execution_count": 38,
   "metadata": {
    "scrolled": false
   },
   "outputs": [
    {
     "name": "stdout",
     "output_type": "stream",
     "text": [
      "Train Mean Squarred Error: 0.033479524944495194\n",
      "Test Mean Squarred Error: 0.03329736169147085\n",
      "0.9945589654176292\n"
     ]
    }
   ],
   "source": [
    "y_predict_train = linreg.predict(X_train)\n",
    "train_mse = mean_squared_error(y_train, y_predict_train)\n",
    "test_mse = mean_squared_error(y_test, y_predict)\n",
    "print('Train Mean Squarred Error:', train_mse)\n",
    "print('Test Mean Squarred Error:', test_mse)\n",
    "print(test_mse/train_mse)"
   ]
  },
  {
   "cell_type": "code",
   "execution_count": 39,
   "metadata": {},
   "outputs": [],
   "source": [
    "model_results = []\n",
    "model_results.append([\"Ridge - alpha .5\", linreg.score(X_train, y_train), adj, train_mse, test_mse])"
   ]
  },
  {
   "cell_type": "code",
   "execution_count": 40,
   "metadata": {},
   "outputs": [
    {
     "data": {
      "text/plain": [
       "Lasso(alpha=1, copy_X=True, fit_intercept=True, max_iter=1000,\n",
       "   normalize=False, positive=False, precompute=False, random_state=None,\n",
       "   selection='cyclic', tol=0.0001, warm_start=False)"
      ]
     },
     "execution_count": 40,
     "metadata": {},
     "output_type": "execute_result"
    }
   ],
   "source": [
    "from sklearn.linear_model import Lasso\n",
    "lasso = Lasso(alpha=1)\n",
    "lasso.fit(X_train, y_train)"
   ]
  },
  {
   "cell_type": "code",
   "execution_count": 41,
   "metadata": {
    "scrolled": false
   },
   "outputs": [
    {
     "data": {
      "text/plain": [
       "0.0"
      ]
     },
     "execution_count": 41,
     "metadata": {},
     "output_type": "execute_result"
    }
   ],
   "source": [
    "lasso.score(X_train, y_train)"
   ]
  },
  {
   "cell_type": "code",
   "execution_count": 42,
   "metadata": {},
   "outputs": [
    {
     "name": "stdout",
     "output_type": "stream",
     "text": [
      "Train Mean Squarred Error: 0.2757884439286896\n",
      "Test Mean Squarred Error: 0.03329736169147085\n",
      "0.12073515922980631\n"
     ]
    }
   ],
   "source": [
    "y_predict_train = lasso.predict(X_train)\n",
    "train_mse = mean_squared_error(y_train, y_predict_train)\n",
    "test_mse = mean_squared_error(y_test, y_predict)\n",
    "print('Train Mean Squarred Error:', train_mse)\n",
    "print('Test Mean Squarred Error:', test_mse)\n",
    "print(test_mse/train_mse)"
   ]
  },
  {
   "cell_type": "code",
   "execution_count": 45,
   "metadata": {},
   "outputs": [],
   "source": [
    "from sklearn.linear_model import LassoCV\n",
    "from sklearn.linear_model import Lasso\n",
    "from sklearn.model_selection import KFold\n",
    "from sklearn.model_selection import GridSearchCV"
   ]
  },
  {
   "cell_type": "code",
   "execution_count": 46,
   "metadata": {},
   "outputs": [],
   "source": [
    "alphas = np.logspace(-3, -1, 30)\n",
    "\n",
    "tuned_parameters = [{'alpha': alphas}]\n",
    "n_folds = 3\n",
    "\n",
    "clf = GridSearchCV(lasso, tuned_parameters, cv=n_folds, refit=False)"
   ]
  },
  {
   "cell_type": "code",
   "execution_count": 47,
   "metadata": {},
   "outputs": [
    {
     "data": {
      "text/plain": [
       "GridSearchCV(cv=3, error_score='raise-deprecating',\n",
       "       estimator=Lasso(alpha=0.001, copy_X=True, fit_intercept=True, max_iter=1000,\n",
       "   normalize=False, positive=False, precompute=False, random_state=None,\n",
       "   selection='cyclic', tol=0.0001, warm_start=False),\n",
       "       fit_params=None, iid='warn', n_jobs=None,\n",
       "       param_grid=[{'alpha': array([0.001  , 0.00117, 0.00137, 0.00161, 0.00189, 0.00221, 0.00259,\n",
       "       0.00304, 0.00356, 0.00418, 0.00489, 0.00574, 0.00672, 0.00788,\n",
       "       0.00924, 0.01083, 0.01269, 0.01487, 0.01743, 0.02043, 0.02395,\n",
       "       0.02807, 0.0329 , 0.03857, 0.0452 , 0.05298, 0.0621 , 0.07279,\n",
       "       0.08532, 0.1    ])}],\n",
       "       pre_dispatch='2*n_jobs', refit=False, return_train_score='warn',\n",
       "       scoring=None, verbose=0)"
      ]
     },
     "execution_count": 47,
     "metadata": {},
     "output_type": "execute_result"
    }
   ],
   "source": [
    "clf.fit(X_train, y_train)"
   ]
  },
  {
   "cell_type": "code",
   "execution_count": 48,
   "metadata": {},
   "outputs": [
    {
     "data": {
      "text/plain": [
       "Text(0, 0.5, 'Scores')"
      ]
     },
     "execution_count": 48,
     "metadata": {},
     "output_type": "execute_result"
    },
    {
     "data": {
      "image/png": "[encoded data removed]",
      "text/plain": [
       "<Figure size 432x288 with 1 Axes>"
      ]
     },
     "metadata": {
      "needs_background": "light"
     },
     "output_type": "display_data"
    }
   ],
   "source": [
    "scores = clf.cv_results_['mean_test_score']\n",
    "scores_std = clf.cv_results_['std_test_score']\n",
    "plt.semilogx(alphas, scores)\n",
    "plt.xlabel(\"Alphas\")\n",
    "plt.ylabel(\"Scores\")"
   ]
  },
  {
   "cell_type": "code",
   "execution_count": 49,
   "metadata": {},
   "outputs": [
    {
     "data": {
      "text/plain": [
       "0.8772270648002293"
      ]
     },
     "execution_count": 49,
     "metadata": {},
     "output_type": "execute_result"
    }
   ],
   "source": [
    "lasso = Lasso(alpha=.0001)\n",
    "lasso.fit(X_train, y_train)\n",
    "lasso.score(X_train, y_train)"
   ]
  },
  {
   "cell_type": "code",
   "execution_count": 50,
   "metadata": {
    "scrolled": true
   },
   "outputs": [
    {
     "name": "stdout",
     "output_type": "stream",
     "text": [
      "Train Mean Squarred Error: 0.0338593567553026\n",
      "Test Mean Squarred Error: 0.03329736169147085\n",
      "0.9834020750041645\n"
     ]
    }
   ],
   "source": [
    "from sklearn.metrics import mean_squared_error\n",
    "y_predict_train = lasso.predict(X_train)\n",
    "train_mse = mean_squared_error(y_train, y_predict_train)\n",
    "test_mse = mean_squared_error(y_test, y_predict)\n",
    "print('Train Mean Squarred Error:', train_mse)\n",
    "print('Test Mean Squarred Error:', test_mse)\n",
    "print(test_mse/train_mse)"
   ]
  },
  {
   "cell_type": "code",
   "execution_count": 51,
   "metadata": {},
   "outputs": [],
   "source": [
    "adj = r_adjusted(lasso.score(X_train, y_train), X_train, y_train)\n",
    "model_results.append([\"Lasso - alpha .0001\", lasso.score(X_train, y_train), adj, train_mse, test_mse])"
   ]
  },
  {
   "cell_type": "code",
   "execution_count": 52,
   "metadata": {},
   "outputs": [
    {
     "data": {
      "text/plain": [
       "ElasticNet(alpha=0.0001, copy_X=True, fit_intercept=True, l1_ratio=1e-05,\n",
       "      max_iter=1000, normalize=False, positive=False, precompute=False,\n",
       "      random_state=None, selection='cyclic', tol=0.0001, warm_start=False)"
      ]
     },
     "execution_count": 52,
     "metadata": {},
     "output_type": "execute_result"
    }
   ],
   "source": [
    "from sklearn.linear_model import ElasticNet\n",
    "elastic = ElasticNet(alpha=.0001, l1_ratio=.00001)\n",
    "elastic.fit(X_train, y_train)"
   ]
  },
  {
   "cell_type": "code",
   "execution_count": 53,
   "metadata": {},
   "outputs": [],
   "source": [
    "\n",
    "alphas = np.logspace(-3, -1, 30)\n",
    "\n",
    "tuned_parameters = [{'alpha': alphas}]\n",
    "n_folds = 3\n",
    "\n",
    "clf = GridSearchCV(elastic, tuned_parameters, cv=n_folds, refit=False)"
   ]
  },
  {
   "cell_type": "code",
   "execution_count": 54,
   "metadata": {},
   "outputs": [
    {
     "data": {
      "text/plain": [
       "GridSearchCV(cv=3, error_score='raise-deprecating',\n",
       "       estimator=ElasticNet(alpha=0.0001, copy_X=True, fit_intercept=True, l1_ratio=1e-05,\n",
       "      max_iter=1000, normalize=False, positive=False, precompute=False,\n",
       "      random_state=None, selection='cyclic', tol=0.0001, warm_start=False),\n",
       "       fit_params=None, iid='warn', n_jobs=None,\n",
       "       param_grid=[{'alpha': array([0.001  , 0.00117, 0.00137, 0.00161, 0.00189, 0.00221, 0.00259,\n",
       "       0.00304, 0.00356, 0.00418, 0.00489, 0.00574, 0.00672, 0.00788,\n",
       "       0.00924, 0.01083, 0.01269, 0.01487, 0.01743, 0.02043, 0.02395,\n",
       "       0.02807, 0.0329 , 0.03857, 0.0452 , 0.05298, 0.0621 , 0.07279,\n",
       "       0.08532, 0.1    ])}],\n",
       "       pre_dispatch='2*n_jobs', refit=False, return_train_score='warn',\n",
       "       scoring=None, verbose=0)"
      ]
     },
     "execution_count": 54,
     "metadata": {},
     "output_type": "execute_result"
    }
   ],
   "source": [
    "clf.fit(X_train, y_train)"
   ]
  },
  {
   "cell_type": "code",
   "execution_count": 55,
   "metadata": {},
   "outputs": [
    {
     "data": {
      "text/plain": [
       "Text(0, 0.5, 'Scores')"
      ]
     },
     "execution_count": 55,
     "metadata": {},
     "output_type": "execute_result"
    },
    {
     "data": {
      "image/png": "[encoded data removed]",
      "text/plain": [
       "<Figure size 432x288 with 1 Axes>"
      ]
     },
     "metadata": {
      "needs_background": "light"
     },
     "output_type": "display_data"
    }
   ],
   "source": [
    "scores = clf.cv_results_['mean_test_score']\n",
    "scores_std = clf.cv_results_['std_test_score']\n",
    "plt.semilogx(alphas, scores)\n",
    "plt.xlabel(\"Alphas\")\n",
    "plt.ylabel(\"Scores\")"
   ]
  },
  {
   "cell_type": "code",
   "execution_count": 56,
   "metadata": {},
   "outputs": [
    {
     "data": {
      "text/plain": [
       "ElasticNet(alpha=0.0001, copy_X=True, fit_intercept=True, l1_ratio=0.5,\n",
       "      max_iter=1000, normalize=False, positive=False, precompute=False,\n",
       "      random_state=None, selection='cyclic', tol=0.0001, warm_start=False)"
      ]
     },
     "execution_count": 56,
     "metadata": {},
     "output_type": "execute_result"
    }
   ],
   "source": [
    "from sklearn.linear_model import ElasticNet\n",
    "elastic = ElasticNet(alpha=.0001)\n",
    "elastic.fit(X_train, y_train)"
   ]
  },
  {
   "cell_type": "code",
   "execution_count": 57,
   "metadata": {},
   "outputs": [
    {
     "name": "stdout",
     "output_type": "stream",
     "text": [
      "Train Mean Squarred Error: 0.033711309264609204\n",
      "Test Mean Squarred Error: 0.03329736169147085\n",
      "0.9877208099546307\n"
     ]
    }
   ],
   "source": [
    "from sklearn.metrics import mean_squared_error\n",
    "y_predict_train = elastic.predict(X_train)\n",
    "train_mse = mean_squared_error(y_train, y_predict_train)\n",
    "test_mse = mean_squared_error(y_test, y_predict)\n",
    "print('Train Mean Squarred Error:', train_mse)\n",
    "print('Test Mean Squarred Error:', test_mse)\n",
    "print(test_mse/train_mse)"
   ]
  },
  {
   "cell_type": "code",
   "execution_count": 58,
   "metadata": {},
   "outputs": [
    {
     "data": {
      "text/plain": [
       "0.8777638802250688"
      ]
     },
     "execution_count": 58,
     "metadata": {},
     "output_type": "execute_result"
    }
   ],
   "source": [
    "elastic.score(X_train, y_train)"
   ]
  },
  {
   "cell_type": "code",
   "execution_count": 59,
   "metadata": {},
   "outputs": [],
   "source": [
    "L1_ratios = np.linspace(0, 1, 3)\n",
    "\n",
    "tuned_parameters = [{'l1_ratio': L1_ratios}]\n",
    "n_folds = 3\n",
    "\n",
    "clf = GridSearchCV(elastic, tuned_parameters, cv=n_folds, refit=False)"
   ]
  },
  {
   "cell_type": "code",
   "execution_count": 60,
   "metadata": {},
   "outputs": [
    {
     "data": {
      "text/plain": [
       "GridSearchCV(cv=3, error_score='raise-deprecating',\n",
       "       estimator=ElasticNet(alpha=0.0001, copy_X=True, fit_intercept=True, l1_ratio=0.5,\n",
       "      max_iter=1000, normalize=False, positive=False, precompute=False,\n",
       "      random_state=None, selection='cyclic', tol=0.0001, warm_start=False),\n",
       "       fit_params=None, iid='warn', n_jobs=None,\n",
       "       param_grid=[{'l1_ratio': array([0. , 0.5, 1. ])}],\n",
       "       pre_dispatch='2*n_jobs', refit=False, return_train_score='warn',\n",
       "       scoring=None, verbose=0)"
      ]
     },
     "execution_count": 60,
     "metadata": {},
     "output_type": "execute_result"
    }
   ],
   "source": [
    "clf.fit(X_train, y_train)"
   ]
  },
  {
   "cell_type": "code",
   "execution_count": 61,
   "metadata": {},
   "outputs": [
    {
     "data": {
      "text/plain": [
       "Text(0, 0.5, 'Scores')"
      ]
     },
     "execution_count": 61,
     "metadata": {},
     "output_type": "execute_result"
    },
    {
     "data": {
      "image/png": "[encoded data removed]",
      "text/plain": [
       "<Figure size 432x288 with 1 Axes>"
      ]
     },
     "metadata": {
      "needs_background": "light"
     },
     "output_type": "display_data"
    }
   ],
   "source": [
    "scores = clf.cv_results_['mean_test_score']\n",
    "scores_std = clf.cv_results_['std_test_score']\n",
    "plt.semilogx(L1_ratios, scores)\n",
    "plt.xlabel(\"Alphas\")\n",
    "plt.ylabel(\"Scores\")"
   ]
  },
  {
   "cell_type": "code",
   "execution_count": 62,
   "metadata": {},
   "outputs": [
    {
     "data": {
      "text/plain": [
       "ElasticNet(alpha=0.0001, copy_X=True, fit_intercept=True, l1_ratio=1e-05,\n",
       "      max_iter=1000, normalize=False, positive=False, precompute=False,\n",
       "      random_state=None, selection='cyclic', tol=0.0001, warm_start=False)"
      ]
     },
     "execution_count": 62,
     "metadata": {},
     "output_type": "execute_result"
    }
   ],
   "source": [
    "from sklearn.linear_model import ElasticNet\n",
    "elastic = ElasticNet(alpha=.0001, l1_ratio=.00001)\n",
    "elastic.fit(X_train, y_train)"
   ]
  },
  {
   "cell_type": "code",
   "execution_count": 63,
   "metadata": {},
   "outputs": [
    {
     "data": {
      "text/plain": [
       "0.8781737076796576"
      ]
     },
     "execution_count": 63,
     "metadata": {},
     "output_type": "execute_result"
    }
   ],
   "source": [
    "elastic.score(X_train, y_train)"
   ]
  },
  {
   "cell_type": "code",
   "execution_count": 64,
   "metadata": {},
   "outputs": [
    {
     "name": "stdout",
     "output_type": "stream",
     "text": [
      "Train Mean Squarred Error: 0.03359828358862892\n",
      "Test Mean Squarred Error: 0.03329736169147085\n",
      "0.9910435336268214\n"
     ]
    }
   ],
   "source": [
    "from sklearn.metrics import mean_squared_error\n",
    "y_predict_train = elastic.predict(X_train)\n",
    "train_mse = mean_squared_error(y_train, y_predict_train)\n",
    "test_mse = mean_squared_error(y_test, y_predict)\n",
    "print('Train Mean Squarred Error:', train_mse)\n",
    "print('Test Mean Squarred Error:', test_mse)\n",
    "print(test_mse/train_mse)"
   ]
  },
  {
   "cell_type": "code",
   "execution_count": 67,
   "metadata": {},
   "outputs": [],
   "source": [
    "cvs = cross_val_score(lasso, X_train, y_train, cv=20, scoring=\"r2\")"
   ]
  },
  {
   "cell_type": "code",
   "execution_count": 71,
   "metadata": {},
   "outputs": [
    {
     "name": "stdout",
     "output_type": "stream",
     "text": [
      "0.8749011898002378 0.00967287129994385\n"
     ]
    }
   ],
   "source": [
    "print(cvs.mean(),cvs.std())"
   ]
  },
  {
   "cell_type": "code",
   "execution_count": 70,
   "metadata": {},
   "outputs": [],
   "source": [
    "# lasso.coef_"
   ]
  },
  {
   "cell_type": "markdown",
   "metadata": {},
   "source": [
    "Printing out a list of the coefficients"
   ]
  },
  {
   "cell_type": "code",
   "execution_count": 73,
   "metadata": {},
   "outputs": [],
   "source": [
    "# list(zip(lasso.coef_, X_train.columns))"
   ]
  },
  {
   "cell_type": "code",
   "execution_count": 75,
   "metadata": {},
   "outputs": [],
   "source": [
    "coefs = list(zip(lasso.coef_, X_train.columns))"
   ]
  },
  {
   "cell_type": "code",
   "execution_count": 76,
   "metadata": {},
   "outputs": [
    {
     "data": {
      "text/plain": [
       "[(1.2455739346607302, 'sqft_living'),\n",
       " (1.2056823466384468, 'lat'),\n",
       " (1.0806918481799308, 'sqft_above'),\n",
       " (0.8690733651705043, 'sqft_lot'),\n",
       " (0.5505731352029665, 'ZIP_98039')]"
      ]
     },
     "execution_count": 76,
     "metadata": {},
     "output_type": "execute_result"
    }
   ],
   "source": [
    "coefs.sort(key=lambda x : x[0], reverse=True)\n",
    "coefs[0:5]"
   ]
  },
  {
   "cell_type": "code",
   "execution_count": 77,
   "metadata": {},
   "outputs": [],
   "source": [
    "coefs = [x for x in coefs if \"ZIP\" in x[1]]"
   ]
  },
  {
   "cell_type": "code",
   "execution_count": 80,
   "metadata": {},
   "outputs": [],
   "source": [
    "# coefs.sort(key=lambda x: x[0])"
   ]
  },
  {
   "cell_type": "code",
   "execution_count": 81,
   "metadata": {},
   "outputs": [],
   "source": [
    "# coefs"
   ]
  },
  {
   "cell_type": "code",
   "execution_count": 82,
   "metadata": {},
   "outputs": [],
   "source": [
    "adj = r_adjusted(elastic.score(X_train, y_train), X_train, y_train)\n",
    "model_results.append([\"Elastic - alpha=.0001, l1_ratio=.00001\", elastic.score(X_train, y_train), adj, train_mse, test_mse])"
   ]
  },
  {
   "cell_type": "code",
   "execution_count": 83,
   "metadata": {},
   "outputs": [
    {
     "data": {
      "text/plain": [
       "LinearRegression(copy_X=True, fit_intercept=True, n_jobs=None,\n",
       "         normalize=False)"
      ]
     },
     "execution_count": 83,
     "metadata": {},
     "output_type": "execute_result"
    }
   ],
   "source": [
    "linreg = LinearRegression()\n",
    "linreg.fit(X_train, y_train)"
   ]
  },
  {
   "cell_type": "code",
   "execution_count": 84,
   "metadata": {},
   "outputs": [
    {
     "name": "stdout",
     "output_type": "stream",
     "text": [
      "Train Mean Squarred Error: 0.03359828358862892\n",
      "Test Mean Squarred Error: 0.03329736169147085\n",
      "0.9910435336268214\n"
     ]
    }
   ],
   "source": [
    "y_predict_train = elastic.predict(X_train)\n",
    "train_mse = mean_squared_error(y_train, y_predict_train)\n",
    "test_mse = mean_squared_error(y_test, y_predict)\n",
    "print('Train Mean Squarred Error:', train_mse)\n",
    "print('Test Mean Squarred Error:', test_mse)\n",
    "print(test_mse/train_mse)"
   ]
  },
  {
   "cell_type": "code",
   "execution_count": 85,
   "metadata": {},
   "outputs": [
    {
     "data": {
      "text/plain": [
       "0.8787146197951747"
      ]
     },
     "execution_count": 85,
     "metadata": {},
     "output_type": "execute_result"
    }
   ],
   "source": [
    "linreg.score(X_train, y_train)"
   ]
  },
  {
   "cell_type": "code",
   "execution_count": 86,
   "metadata": {},
   "outputs": [
    {
     "data": {
      "text/plain": [
       "0.8779871335290964"
      ]
     },
     "execution_count": 86,
     "metadata": {},
     "output_type": "execute_result"
    }
   ],
   "source": [
    "adj = r_adjusted(linreg.score(X_train, y_train), X_train, y_train)\n",
    "adj"
   ]
  },
  {
   "cell_type": "code",
   "execution_count": 87,
   "metadata": {},
   "outputs": [],
   "source": [
    "model_results.append([\"Linear Regression\", linreg.score(X_train, y_train), adj, train_mse, test_mse])"
   ]
  },
  {
   "cell_type": "code",
   "execution_count": 89,
   "metadata": {},
   "outputs": [
    {
     "name": "stdout",
     "output_type": "stream",
     "text": [
      "Ratio of MSEs\n"
     ]
    },
    {
     "data": {
      "text/plain": [
       "['Ridge - alpha .5 - 1.0054708014019924',\n",
       " 'Lasso - alpha .0001 - 1.0168780658671737',\n",
       " 'Elastic - alpha=.0001, l1_ratio=.00001 - 1.0090374096286179',\n",
       " 'Linear Regression - 1.0090374096286179']"
      ]
     },
     "execution_count": 89,
     "metadata": {},
     "output_type": "execute_result"
    }
   ],
   "source": [
    "print(\"Ratio of MSEs\")\n",
    "[\"%s - %s\" % (x[0], x[3]/x[4]) for x in model_results]"
   ]
  },
  {
   "cell_type": "markdown",
   "metadata": {},
   "source": [
    "# Model Comparison Plot"
   ]
  },
  {
   "cell_type": "code",
   "execution_count": 91,
   "metadata": {},
   "outputs": [
    {
     "data": {
      "image/png": "[encoded data removed]",
      "text/plain": [
       "<Figure size 720x576 with 1 Axes>"
      ]
     },
     "metadata": {},
     "output_type": "display_data"
    }
   ],
   "source": [
    "plt.style.use('dark_background')\n",
    "plt.rc('text',usetex=False)\n",
    "plt.rcParams.update({'font.size':20})\n",
    "fig = plt.figure(figsize=(10,8))\n",
    "plt.grid(color='r', linestyle=':', linewidth=2)\n",
    "\n",
    "x = model_results[3][1]\n",
    "y = model_results[3][2]\n",
    "plt.scatter(x,y,marker = 'D', s=230, label = 'Linear')\n",
    "\n",
    "x = model_results[0][1]\n",
    "y = model_results[0][2]\n",
    "plt.scatter(x,y, marker = 'o', s=250, label = r'Ridge $\\alpha = 0.5$')\n",
    "\n",
    "x = model_results[1][1]\n",
    "y = model_results[1][2]\n",
    "plt.scatter(x,y,marker = 's',s=250, label = r'Lasso $\\alpha = 10^{-4}$')\n",
    "\n",
    "\n",
    "x = model_results[2][1]\n",
    "y = model_results[2][2]\n",
    "plt.scatter(x,y,marker = '^', s=250, label = r'Elastic $\\alpha = 10^{-4}$ $\\ell1_{ratio}=10^{-4}$')\n",
    "plt.legend(frameon=True)\n",
    "\n",
    "plt.xlim([0.875,0.885])\n",
    "plt.ylim([0.875,0.885])\n",
    "\n",
    "plt.xlabel(r'$R^{2}$', fontsize=18,labelpad=20)\n",
    "plt.ylabel(r'$R^{2}$ adjusted', fontsize=18,labelpad=20 )\n",
    "plt.tight_layout()\n",
    "plt.savefig('model-comparison.png')\n",
    "\n"
   ]
  },
  {
   "cell_type": "markdown",
   "metadata": {},
   "source": [
    "## Interpreting the Model"
   ]
  },
  {
   "cell_type": "code",
   "execution_count": 92,
   "metadata": {},
   "outputs": [],
   "source": [
    "zero_coefs = [x for x in coefs if x[0]==0]"
   ]
  },
  {
   "cell_type": "code",
   "execution_count": 93,
   "metadata": {},
   "outputs": [
    {
     "name": "stdout",
     "output_type": "stream",
     "text": [
      "Dropping parameter ZIP_98022\n",
      "Dropping parameter ZIP_98024\n"
     ]
    }
   ],
   "source": [
    "for zero_coef in zero_coefs:\n",
    "    print('Dropping parameter ' + zero_coef[1])\n",
    "    X_train.drop(zero_coef[1], axis=1, inplace=True)\n",
    "    X_test.drop(zero_coef[1], axis=1, inplace=True)"
   ]
  },
  {
   "cell_type": "code",
   "execution_count": 94,
   "metadata": {},
   "outputs": [
    {
     "data": {
      "text/plain": [
       "0.8772307003492005"
      ]
     },
     "execution_count": 94,
     "metadata": {},
     "output_type": "execute_result"
    }
   ],
   "source": [
    "lasso_reduced = Lasso(alpha=.0001)\n",
    "lasso_reduced.fit(X_train, y_train)\n",
    "lasso_reduced.score(X_train, y_train)"
   ]
  },
  {
   "cell_type": "code",
   "execution_count": 95,
   "metadata": {},
   "outputs": [],
   "source": [
    "coefs_reduced = list(zip(lasso_reduced.coef_, X_train.columns))"
   ]
  },
  {
   "cell_type": "code",
   "execution_count": 99,
   "metadata": {},
   "outputs": [
    {
     "name": "stdout",
     "output_type": "stream",
     "text": [
      "changing from  4  to  5 is -7.2%\n",
      "changing from  4  to  6 is 2.5%\n",
      "changing from  4  to  7 is 16.2%\n",
      "changing from  4  to  8 is 28.5%\n",
      "changing from  4  to  9 is 42.5%\n",
      "changing from  4  to  10 is 50.6%\n",
      "changing from  4  to  11 is 52.9%\n",
      "changing from  4  to  12 is 53.8%\n",
      "changing from  4  to 13 is 33.3%\n",
      "changing from  5  to  6 is 10.5%\n",
      "changing from  5  to  7 is 25.3%\n",
      "changing from  5  to  8 is 38.5%\n",
      "changing from  5  to  9 is 53.5%\n",
      "changing from  5  to  10 is 62.4%\n",
      "changing from  5  to  11 is 64.8%\n",
      "changing from  5  to  12 is 65.8%\n",
      "changing from  5  to 13 is 43.7%\n",
      "changing from  6  to  7 is 13.4%\n",
      "changing from  6  to  8 is 25.4%\n",
      "changing from  6  to  9 is 39.0%\n",
      "changing from  6  to  10 is 47.0%\n",
      "changing from  6  to  11 is 49.2%\n",
      "changing from  6  to  12 is 50.1%\n",
      "changing from  6  to 13 is 30.1%\n",
      "changing from  7  to  8 is 10.6%\n",
      "changing from  7  to  9 is 22.6%\n",
      "changing from  7  to  10 is 29.6%\n",
      "changing from  7  to  11 is 31.5%\n",
      "changing from  7  to  12 is 32.3%\n",
      "changing from  7  to 13 is 14.7%\n",
      "changing from  8  to  9 is 10.9%\n",
      "changing from  8  to  10 is 17.2%\n",
      "changing from  8  to  11 is 19.0%\n",
      "changing from  8  to  12 is 19.7%\n",
      "changing from  8  to 13 is 3.7%\n",
      "changing from  9  to  10 is 5.8%\n",
      "changing from  9  to  11 is 7.3%\n",
      "changing from  9  to  12 is 8.0%\n",
      "changing from  9  to 13 is -6.4%\n",
      "changing from  10  to  11 is 1.5%\n",
      "changing from  10  to  12 is 2.1%\n",
      "changing from  10  to 13 is -11.5%\n",
      "changing from  11  to  12 is 0.6%\n",
      "changing from  11  to 13 is -12.8%\n",
      "changing from  12  to 13 is -13.3%\n"
     ]
    }
   ],
   "source": [
    "for coef in coefs_reduced:\n",
    "     if 'GRADE' in coef[1]:\n",
    "        gnum1 = coef[1].split('_')[-1]\n",
    "        if int(gnum1)==3: continue\n",
    "#         print(gnum1)\n",
    "        \n",
    "        for coef2 in coefs_reduced:\n",
    "            if 'GRADE' in coef2[1] and coef[1] != coef2[1]:\n",
    "                gnum2 = coef2[1].split('_')[-1]\n",
    "#                 print(gnum2)\n",
    "#                 continue\n",
    "                if int(gnum2)>int(gnum1):\n",
    "                \n",
    "    #                 print(coef[1],'\\t',coef2[1])\n",
    "                    delta_y = -coef[0]+coef2[0]\n",
    "                    price_change = (np.exp(delta_y)-1.0)*100\n",
    "                    print('changing from ', gnum1, ' to ', gnum2,'is {0:0.1f}%'.format(price_change))\n",
    "        # going to grade 13\n",
    "        delta_y = -coef[0]\n",
    "        price_change = (np.exp(delta_y)-1.0)*100\n",
    "        print('changing from ', gnum1,' to 13 is {0:0.1f}%'.format(price_change))"
   ]
  },
  {
   "cell_type": "code",
   "execution_count": 97,
   "metadata": {
    "collapsed": true
   },
   "outputs": [
    {
     "data": {
      "text/plain": [
       "[(-0.0037000265024937887, 'bedrooms'),\n",
       " (0.04343132032717252, 'bathrooms'),\n",
       " (1.247060795146874, 'sqft_living'),\n",
       " (0.8689811123190413, 'sqft_lot'),\n",
       " (-0.022905191059802536, 'floors'),\n",
       " (1.079586456995072, 'sqft_above'),\n",
       " (0.0, 'sqft_basement'),\n",
       " (-0.11259464991220051, 'yr_built'),\n",
       " (1.2037464116265162, 'lat'),\n",
       " (-0.38724989486344724, 'long'),\n",
       " (0.4740907770547238, 'sqft_living15'),\n",
       " (0.026037092296016202, 'sqft_lot15'),\n",
       " (0.06729982254272569, 'is_renovated'),\n",
       " (0.04593726925641741, 'has_basement'),\n",
       " (-0.25567955256846947, 'ZIP_98001'),\n",
       " (-0.2525556397360121, 'ZIP_98002'),\n",
       " (-0.2777658186950558, 'ZIP_98003'),\n",
       " (0.47058250008040803, 'ZIP_98004'),\n",
       " (0.11696962604769957, 'ZIP_98005'),\n",
       " (0.08870789682905186, 'ZIP_98006'),\n",
       " (0.0451206625914884, 'ZIP_98007'),\n",
       " (0.05200387029628387, 'ZIP_98008'),\n",
       " (0.06341389119736336, 'ZIP_98010'),\n",
       " (-0.33068133332789046, 'ZIP_98011'),\n",
       " (-0.20742942904771963, 'ZIP_98014'),\n",
       " (-0.31768683444197654, 'ZIP_98019'),\n",
       " (-0.33444501141657496, 'ZIP_98023'),\n",
       " (0.049294058421988626, 'ZIP_98027'),\n",
       " (-0.38364176014459955, 'ZIP_98028'),\n",
       " (0.11251943749672438, 'ZIP_98029'),\n",
       " (-0.24028758344606507, 'ZIP_98030'),\n",
       " (-0.2774464941497102, 'ZIP_98031'),\n",
       " (-0.3672599431887934, 'ZIP_98032'),\n",
       " (0.07514906193006378, 'ZIP_98033'),\n",
       " (-0.20436252044017064, 'ZIP_98034'),\n",
       " (-0.07552357333286966, 'ZIP_98038'),\n",
       " (0.55065191283806, 'ZIP_98039'),\n",
       " (0.27573682443397624, 'ZIP_98040'),\n",
       " (-0.20134568620259902, 'ZIP_98042'),\n",
       " (0.05535959308274919, 'ZIP_98045'),\n",
       " (-0.03183543720483394, 'ZIP_98052'),\n",
       " (-0.03360626175561017, 'ZIP_98053'),\n",
       " (-0.2838700664154725, 'ZIP_98055'),\n",
       " (-0.1633759999252839, 'ZIP_98056'),\n",
       " (-0.21646330120571342, 'ZIP_98058'),\n",
       " (-0.09125599086137587, 'ZIP_98059'),\n",
       " (0.002974554842753958, 'ZIP_98065'),\n",
       " (-0.12442155177747674, 'ZIP_98070'),\n",
       " (-0.25450787757079046, 'ZIP_98072'),\n",
       " (-0.011519504584469618, 'ZIP_98074'),\n",
       " (0.030150282825565113, 'ZIP_98075'),\n",
       " (-0.24692756493267518, 'ZIP_98077'),\n",
       " (-0.18046632020321052, 'ZIP_98092'),\n",
       " (0.2073614392859517, 'ZIP_98102'),\n",
       " (0.04218897612392076, 'ZIP_98103'),\n",
       " (0.1687831598995912, 'ZIP_98105'),\n",
       " (-0.24828799338076735, 'ZIP_98106'),\n",
       " (0.050886854473248644, 'ZIP_98107'),\n",
       " (-0.21454043922202704, 'ZIP_98108'),\n",
       " (0.224502274399133, 'ZIP_98109'),\n",
       " (0.3094337882246931, 'ZIP_98112'),\n",
       " (0.04328908760168246, 'ZIP_98115'),\n",
       " (0.07069129608639046, 'ZIP_98116'),\n",
       " (0.006795343573381845, 'ZIP_98117'),\n",
       " (-0.10325283302016304, 'ZIP_98118'),\n",
       " (0.2036608144774266, 'ZIP_98119'),\n",
       " (0.11432605486627954, 'ZIP_98122'),\n",
       " (-0.21580305106258524, 'ZIP_98125'),\n",
       " (-0.06275216337556243, 'ZIP_98126'),\n",
       " (-0.3647143247152238, 'ZIP_98133'),\n",
       " (0.033797589514598915, 'ZIP_98136'),\n",
       " (0.01094063732063973, 'ZIP_98144'),\n",
       " (-0.25986420569214747, 'ZIP_98146'),\n",
       " (-0.24966588775269077, 'ZIP_98148'),\n",
       " (-0.39789306775149297, 'ZIP_98155'),\n",
       " (-0.17546225211879637, 'ZIP_98166'),\n",
       " (-0.42685002454447546, 'ZIP_98168'),\n",
       " (-0.25909765679274704, 'ZIP_98177'),\n",
       " (-0.34993503737114995, 'ZIP_98178'),\n",
       " (-0.32825623854701924, 'ZIP_98188'),\n",
       " (-0.3237553506922067, 'ZIP_98198'),\n",
       " (0.001172135133480155, 'WF_0.0'),\n",
       " (0.4593122122261782, 'WF_1.0'),\n",
       " (-0.2647728966784509, 'VIEW_0.0'),\n",
       " (-0.13994809012228296, 'VIEW_1.0'),\n",
       " (-0.1546400181837299, 'VIEW_2.0'),\n",
       " (-0.0803727149593483, 'VIEW_3.0'),\n",
       " (-0.2981515228115487, 'COND_1'),\n",
       " (-0.21740345022711377, 'COND_2'),\n",
       " (-0.1031429162809326, 'COND_3'),\n",
       " (-0.05503180517044631, 'COND_4'),\n",
       " (0.0, 'GRADE_3'),\n",
       " (-0.2873675747385941, 'GRADE_4'),\n",
       " (-0.36237228401306554, 'GRADE_5'),\n",
       " (-0.262898864340847, 'GRADE_6'),\n",
       " (-0.13719126274510648, 'GRADE_7'),\n",
       " (-0.03673863839501459, 'GRADE_8'),\n",
       " (0.06646754414573512, 'GRADE_9'),\n",
       " (0.12238663388069644, 'GRADE_10'),\n",
       " (0.13692414588070265, 'GRADE_11'),\n",
       " (0.14300194697630242, 'GRADE_12')]"
      ]
     },
     "execution_count": 97,
     "metadata": {},
     "output_type": "execute_result"
    }
   ],
   "source": [
    "coefs_reduced"
   ]
  },
  {
   "cell_type": "code",
   "execution_count": 103,
   "metadata": {},
   "outputs": [
    {
     "name": "stdout",
     "output_type": "stream",
     "text": [
      "changing from  0.0  to  1.0 is 13.3%\n",
      "changing from  0.0  to  2.0 is 11.6%\n",
      "changing from  0.0  to  3.0 is 20.2%\n",
      "changing from  0.0  to  4.0 is 30.3%\n",
      "changing from  1.0  to  2.0 is -1.5%\n",
      "changing from  1.0  to  3.0 is 6.1%\n",
      "changing from  1.0  to  4.0 is 15.0%\n",
      "changing from  2.0  to  3.0 is 7.7%\n",
      "changing from  2.0  to  4.0 is 16.7%\n",
      "changing from  3.0  to  4.0 is 8.4%\n"
     ]
    }
   ],
   "source": [
    "for coef in coefs_reduced:\n",
    "     if 'VIEW' in coef[1]:\n",
    "        gnum1 = coef[1].split('_')[-1]\n",
    "#         print(gnum1)\n",
    "        \n",
    "        for coef2 in coefs_reduced:\n",
    "            if 'VIEW' in coef2[1] and coef[1] != coef2[1]:\n",
    "                gnum2 = coef2[1].split('_')[-1]\n",
    "#                 print(gnum2)\n",
    "#                 continue\n",
    "                if float(gnum2)>float(gnum1):\n",
    "                \n",
    "    #                 print(coef[1],'\\t',coef2[1])\n",
    "                    delta_y = -coef[0]+coef2[0]\n",
    "                    price_change = (np.exp(delta_y)-1.0)*100\n",
    "                    print('changing from ', gnum1, ' to ', gnum2,'is {0:0.1f}%'.format(price_change))\n",
    "     # going to VIEW 4\n",
    "        delta_y = -coef[0]\n",
    "        price_change = (np.exp(delta_y)-1.0)*100\n",
    "        print('changing from ', gnum1,' to ','4.0 is {0:0.1f}%'.format(price_change))\n"
   ]
  },
  {
   "cell_type": "code",
   "execution_count": 107,
   "metadata": {},
   "outputs": [
    {
     "name": "stdout",
     "output_type": "stream",
     "text": [
      "changing from  1  to  2 is 8.4%\n",
      "changing from  1  to  3 is 21.5%\n",
      "changing from  1  to  4 is 27.5%\n",
      "changing from  1  to  5 is 34.7%\n",
      "changing from  2  to  3 is 12.1%\n",
      "changing from  2  to  4 is 17.6%\n",
      "changing from  2  to  5 is 24.3%\n",
      "changing from  3  to  4 is 4.9%\n",
      "changing from  3  to  5 is 10.9%\n",
      "changing from  4  to  5 is 5.7%\n"
     ]
    }
   ],
   "source": [
    "for coef in coefs_reduced:\n",
    "     if 'COND' in coef[1]:\n",
    "        gnum1 = coef[1].split('_')[-1]\n",
    "#         print(gnum1)\n",
    "        \n",
    "        for coef2 in coefs_reduced:\n",
    "            if 'COND' in coef2[1] and coef[1] != coef2[1]:\n",
    "                gnum2 = coef2[1].split('_')[-1]\n",
    "                if float(gnum2)>float(gnum1):\n",
    "                \n",
    "                    delta_y = -coef[0]+coef2[0]\n",
    "                    price_change = (np.exp(delta_y)-1.0)*100\n",
    "                    print('changing from ', gnum1, ' to ', gnum2,'is {0:0.1f}%'.format(price_change))\n",
    "#      going to COND 5\n",
    "        delta_y = -coef[0]\n",
    "        price_change = (np.exp(delta_y)-1.0)*100\n",
    "        print('changing from ', gnum1,' to ','5 is {0:0.1f}%'.format(price_change))\n"
   ]
  },
  {
   "cell_type": "code",
   "execution_count": 106,
   "metadata": {},
   "outputs": [
    {
     "name": "stdout",
     "output_type": "stream",
     "text": [
      "Added price after renovating 7.0%\n"
     ]
    }
   ],
   "source": [
    "# addet price if it has been renovated\n",
    "for coef in coefs_reduced:\n",
    "    if 'is_renovated' in coef[1]:\n",
    "#         print(coef[0])\n",
    "        delta_y = coef[0]\n",
    "        price_change = (np.exp(delta_y)-1.0)*100\n",
    "        print('Added price after renovating {0:0.1f}%'.format(price_change))"
   ]
  },
  {
   "cell_type": "code",
   "execution_count": 123,
   "metadata": {},
   "outputs": [
    {
     "name": "stdout",
     "output_type": "stream",
     "text": [
      "For every 100 Sq. ft. added, the price goes up by 1.0%\n"
     ]
    },
    {
     "data": {
      "image/png": "[encoded data removed]",
      "text/plain": [
       "<Figure size 432x288 with 1 Axes>"
      ]
     },
     "metadata": {},
     "output_type": "display_data"
    }
   ],
   "source": [
    "price_change = []\n",
    "sqft = []\n",
    "for i in range(370,1280):\n",
    "    sqft.append(i-370)\n",
    "    convert_one_sqft = (i-sqft_living_min)/sqft_living_range\n",
    "    delta_per_price = (np.exp(coefs_reduced[2][0]*convert_one_sqft) - 1)\n",
    "    price_change.append(delta_per_price*100)\n",
    "    convert_one_sqft = (i-sqft_living_min)/sqft_living_range\n",
    "#     price_change.append(convert_one_sqft)\n",
    "plt.plot(sqft, price_change)\n",
    "plt.xlabel(\"added sq ft to living area\",fontsize=16)\n",
    "plt.ylabel('Change in price [%]',fontsize=16)\n",
    "plt.title('Price Change vs adding sq.ft. living area')\n",
    "sqft_living_range-sqft_living_min\n",
    "\n",
    "slope = (price_change[-1]-price_change[0])/(sqft[-1]-sqft[0])\n",
    "print('For every 100 Sq. ft. added, the price goes up by {0:0.1f}%'.format(slope*100))\n",
    "\n",
    "plt.savefig('Price Increase per Sq.ft.')\n"
   ]
  },
  {
   "cell_type": "code",
   "execution_count": 115,
   "metadata": {},
   "outputs": [
    {
     "data": {
      "text/plain": [
       "1.247060795146874"
      ]
     },
     "execution_count": 115,
     "metadata": {},
     "output_type": "execute_result"
    }
   ],
   "source": [
    "coefs_reduced[2][0]"
   ]
  },
  {
   "cell_type": "code",
   "execution_count": null,
   "metadata": {},
   "outputs": [],
   "source": []
  }
 ],
 "metadata": {
  "kernelspec": {
   "display_name": "Python 3",
   "language": "python",
   "name": "python3"
  },
  "language_info": {
   "codemirror_mode": {
    "name": "ipython",
    "version": 3
   },
   "file_extension": ".py",
   "mimetype": "text/x-python",
   "name": "python",
   "nbconvert_exporter": "python",
   "pygments_lexer": "ipython3",
   "version": "3.6.6"
  },
  "latex_envs": {
   "LaTeX_envs_menu_present": true,
   "autoclose": false,
   "autocomplete": true,
   "bibliofile": "biblio.bib",
   "cite_by": "apalike",
   "current_citInitial": 1,
   "eqLabelWithNumbers": true,
   "eqNumInitial": 1,
   "hotkeys": {
    "equation": "Ctrl-E",
    "itemize": "Ctrl-I"
   },
   "labels_anchors": false,
   "latex_user_defs": false,
   "report_style_numbering": false,
   "user_envs_cfg": false
  },
  "toc": {
   "base_numbering": 1,
   "nav_menu": {},
   "number_sections": true,
   "sideBar": true,
   "skip_h1_title": false,
   "title_cell": "Table of Contents",
   "title_sidebar": "Contents",
   "toc_cell": false,
   "toc_position": {},
   "toc_section_display": true,
   "toc_window_display": false
  }
 },
 "nbformat": 4,
 "nbformat_minor": 2
}
